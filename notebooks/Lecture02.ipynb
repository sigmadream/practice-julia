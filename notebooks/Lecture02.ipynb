{
 "cells": [
  {
   "cell_type": "markdown",
   "id": "2a3aeaa7",
   "metadata": {},
   "source": [
    "# Julia Overview"
   ]
  },
  {
   "cell_type": "markdown",
   "id": "2b4da9f3",
   "metadata": {},
   "source": [
    "## Contents\n",
    "- [Primitive Data Types](#Primitive-Data-Types)  \n",
    "- [Iterating](#Iterating)  \n",
    "- [Comparisons and Logical Operators](#Comparisons-and-Logical-Operators)  \n",
    "- [User-Defined Functions](#User-Defined-Functions)  \n",
    "- [Broadcasting](#Broadcasting)  \n",
    "- [Scoping and Closures](#Scoping-and-Closures)  \n",
    "- [Exercises](#Exercises)  \n",
    "- [Solutions](#Solutions)  "
   ]
  },
  {
   "cell_type": "code",
   "execution_count": 22,
   "id": "c65b2de6",
   "metadata": {
    "hide-output": false,
    "tags": []
   },
   "outputs": [],
   "source": [
    "using LinearAlgebra, Statistics, Plots"
   ]
  },
  {
   "cell_type": "markdown",
   "id": "be828e42",
   "metadata": {},
   "source": [
    "## Primitive Data Types\n",
    "간단한 데이터 유형은 'true' 또는 'false'를 표현하는 Bool이 있습니다."
   ]
  },
  {
   "cell_type": "code",
   "execution_count": 23,
   "id": "937c68dc",
   "metadata": {
    "hide-output": false,
    "tags": []
   },
   "outputs": [
    {
     "data": {
      "text/plain": [
       "true"
      ]
     },
     "execution_count": 23,
     "metadata": {},
     "output_type": "execute_result"
    }
   ],
   "source": [
    "x = true"
   ]
  },
  {
   "cell_type": "code",
   "execution_count": 24,
   "id": "826c93fb",
   "metadata": {
    "hide-output": false,
    "tags": []
   },
   "outputs": [
    {
     "data": {
      "text/plain": [
       "Bool"
      ]
     },
     "execution_count": 24,
     "metadata": {},
     "output_type": "execute_result"
    }
   ],
   "source": [
    "typeof(x)"
   ]
  },
  {
   "cell_type": "code",
   "execution_count": 25,
   "id": "664f3172",
   "metadata": {
    "hide-output": false,
    "tags": []
   },
   "outputs": [
    {
     "data": {
      "text/plain": [
       "false"
      ]
     },
     "execution_count": 25,
     "metadata": {},
     "output_type": "execute_result"
    }
   ],
   "source": [
    "y = 1 > 2  # y = false"
   ]
  },
  {
   "cell_type": "markdown",
   "id": "2e6587f4",
   "metadata": {},
   "source": [
    "대표적인 2가지 숫자 유형은 '정수'와 '실수' 입니다."
   ]
  },
  {
   "cell_type": "code",
   "execution_count": 26,
   "id": "ef19e21b",
   "metadata": {
    "hide-output": false,
    "tags": []
   },
   "outputs": [
    {
     "data": {
      "text/plain": [
       "Float64"
      ]
     },
     "execution_count": 26,
     "metadata": {},
     "output_type": "execute_result"
    }
   ],
   "source": [
    "typeof(1.0)"
   ]
  },
  {
   "cell_type": "code",
   "execution_count": 27,
   "id": "c0369f76",
   "metadata": {
    "hide-output": false,
    "tags": []
   },
   "outputs": [
    {
     "data": {
      "text/plain": [
       "Int64"
      ]
     },
     "execution_count": 27,
     "metadata": {},
     "output_type": "execute_result"
    }
   ],
   "source": [
    "typeof(1)"
   ]
  },
  {
   "cell_type": "markdown",
   "id": "97d6a7c3",
   "metadata": {},
   "source": [
    "32비트 시스템을 실행 중인 경우 여전히 `Float64`로 표시되지만, 정수의 경우 `Int64` 대신 `Int32`가 표시됩니다([정수 유형에 대한 섹션](https://docs.julialang.org/en/v1.1/manual/integers-and-floating-point-numbers/#Integers-1)을 Julia 공식 사이트에서 참조하세요)."
   ]
  },
  {
   "cell_type": "code",
   "execution_count": 28,
   "id": "07c71e0a",
   "metadata": {
    "hide-output": false,
    "tags": []
   },
   "outputs": [],
   "source": [
    "x = 2; y = 1.0;"
   ]
  },
  {
   "cell_type": "markdown",
   "id": "4c4237de",
   "metadata": {},
   "source": [
    "`;`는 한 줄의 코드에서 출력을 억제하거나 두 줄의 코드를 함께 결합하는 데 사용하는데 주로 사용됩니다"
   ]
  },
  {
   "cell_type": "code",
   "execution_count": 39,
   "id": "436302a1",
   "metadata": {
    "hide-output": false,
    "tags": []
   },
   "outputs": [
    {
     "data": {
      "text/plain": [
       "5 + 0im"
      ]
     },
     "execution_count": 39,
     "metadata": {},
     "output_type": "execute_result"
    }
   ],
   "source": [
    "x * y"
   ]
  },
  {
   "cell_type": "code",
   "execution_count": 40,
   "id": "67037062",
   "metadata": {
    "hide-output": false,
    "tags": []
   },
   "outputs": [
    {
     "data": {
      "text/plain": [
       "-3 + 4im"
      ]
     },
     "execution_count": 40,
     "metadata": {},
     "output_type": "execute_result"
    }
   ],
   "source": [
    "x^2"
   ]
  },
  {
   "cell_type": "code",
   "execution_count": 41,
   "id": "2c52664d",
   "metadata": {
    "hide-output": false,
    "tags": []
   },
   "outputs": [
    {
     "data": {
      "text/plain": [
       "-0.6 - 0.8im"
      ]
     },
     "execution_count": 41,
     "metadata": {},
     "output_type": "execute_result"
    }
   ],
   "source": [
    "y / x"
   ]
  },
  {
   "cell_type": "markdown",
   "id": "de11bfc0",
   "metadata": {},
   "source": [
    "숫자 리터럴과 변수 간의 곱셈에서는 `*`를 생략할 수 있습니다."
   ]
  },
  {
   "cell_type": "code",
   "execution_count": 42,
   "id": "39be8ae8",
   "metadata": {
    "hide-output": false,
    "tags": []
   },
   "outputs": [
    {
     "data": {
      "text/plain": [
       "-1 + 10im"
      ]
     },
     "execution_count": 42,
     "metadata": {},
     "output_type": "execute_result"
    }
   ],
   "source": [
    "2x - 3y"
   ]
  },
  {
   "cell_type": "markdown",
   "id": "50a7690b",
   "metadata": {},
   "source": [
    "`@show`는 식과 결과를 함께 출력하는데 유용합니다."
   ]
  },
  {
   "cell_type": "code",
   "execution_count": 43,
   "id": "3b986601",
   "metadata": {
    "hide-output": false,
    "tags": []
   },
   "outputs": [
    {
     "name": "stdout",
     "output_type": "stream",
     "text": [
      "2x - 3y = -1 + 10im\n",
      "x + y = 2 + 0im\n"
     ]
    }
   ],
   "source": [
    "@show 2x - 3y;\n",
    "@show x + y;"
   ]
  },
  {
   "cell_type": "code",
   "execution_count": 44,
   "id": "b332aca5",
   "metadata": {
    "hide-output": false,
    "tags": []
   },
   "outputs": [
    {
     "data": {
      "text/plain": [
       "1 + 2im"
      ]
     },
     "execution_count": 44,
     "metadata": {},
     "output_type": "execute_result"
    }
   ],
   "source": [
    "x = 1 + 2im"
   ]
  },
  {
   "cell_type": "code",
   "execution_count": 45,
   "id": "443a6a4c",
   "metadata": {
    "hide-output": false,
    "tags": []
   },
   "outputs": [
    {
     "data": {
      "text/plain": [
       "1 - 2im"
      ]
     },
     "execution_count": 45,
     "metadata": {},
     "output_type": "execute_result"
    }
   ],
   "source": [
    "y = 1 - 2im"
   ]
  },
  {
   "cell_type": "code",
   "execution_count": 46,
   "id": "65eefa06",
   "metadata": {
    "hide-output": false,
    "tags": []
   },
   "outputs": [
    {
     "data": {
      "text/plain": [
       "5 + 0im"
      ]
     },
     "execution_count": 46,
     "metadata": {},
     "output_type": "execute_result"
    }
   ],
   "source": [
    "x * y  # complex multiplication"
   ]
  },
  {
   "cell_type": "markdown",
   "id": "37fee8bc",
   "metadata": {},
   "source": [
    "## Strings"
   ]
  },
  {
   "cell_type": "code",
   "execution_count": 47,
   "id": "d9137370",
   "metadata": {
    "hide-output": false,
    "tags": []
   },
   "outputs": [
    {
     "data": {
      "text/plain": [
       "\"foobar\""
      ]
     },
     "execution_count": 47,
     "metadata": {},
     "output_type": "execute_result"
    }
   ],
   "source": [
    "x = \"foobar\""
   ]
  },
  {
   "cell_type": "code",
   "execution_count": 48,
   "id": "c9df06b5",
   "metadata": {
    "hide-output": false,
    "tags": []
   },
   "outputs": [
    {
     "data": {
      "text/plain": [
       "String"
      ]
     },
     "execution_count": 48,
     "metadata": {},
     "output_type": "execute_result"
    }
   ],
   "source": [
    "typeof(x)"
   ]
  },
  {
   "cell_type": "code",
   "execution_count": 49,
   "id": "6709f968",
   "metadata": {
    "hide-output": false,
    "tags": []
   },
   "outputs": [
    {
     "data": {
      "text/plain": [
       "20"
      ]
     },
     "execution_count": 49,
     "metadata": {},
     "output_type": "execute_result"
    }
   ],
   "source": [
    "x = 10; y = 20"
   ]
  },
  {
   "cell_type": "markdown",
   "id": "5c27f6e3",
   "metadata": {},
   "source": [
    "`\\$`는 문자열 보간에 활용됩니다."
   ]
  },
  {
   "cell_type": "code",
   "execution_count": 50,
   "id": "2ded0fb2",
   "metadata": {
    "hide-output": false,
    "tags": []
   },
   "outputs": [
    {
     "data": {
      "text/plain": [
       "\"x = 10\""
      ]
     },
     "execution_count": 50,
     "metadata": {},
     "output_type": "execute_result"
    }
   ],
   "source": [
    "\"x = $x\""
   ]
  },
  {
   "cell_type": "markdown",
   "id": "a0f53ddb",
   "metadata": {},
   "source": [
    "Julia는 문자열과 관련된 다양한 기능을 제공합니다."
   ]
  },
  {
   "cell_type": "code",
   "execution_count": 51,
   "id": "417e12c0",
   "metadata": {
    "hide-output": false,
    "tags": []
   },
   "outputs": [
    {
     "data": {
      "text/plain": [
       "\"x + y = 30\""
      ]
     },
     "execution_count": 51,
     "metadata": {},
     "output_type": "execute_result"
    }
   ],
   "source": [
    "\"x + y = $(x + y)\""
   ]
  },
  {
   "cell_type": "markdown",
   "id": "11537202",
   "metadata": {},
   "source": [
    "To concatenate strings use `*`"
   ]
  },
  {
   "cell_type": "code",
   "execution_count": 52,
   "id": "941bd867",
   "metadata": {
    "hide-output": false,
    "tags": []
   },
   "outputs": [
    {
     "data": {
      "text/plain": [
       "\"foobar\""
      ]
     },
     "execution_count": 52,
     "metadata": {},
     "output_type": "execute_result"
    }
   ],
   "source": [
    "\"foo\" * \"bar\""
   ]
  },
  {
   "cell_type": "markdown",
   "id": "ae612a58",
   "metadata": {},
   "source": [
    "Julia는 문자열 작업을 위한 많은 기능을 제공합니다."
   ]
  },
  {
   "cell_type": "code",
   "execution_count": 53,
   "id": "0ac2ba5d",
   "metadata": {
    "hide-output": false,
    "tags": []
   },
   "outputs": [
    {
     "data": {
      "text/plain": [
       "\"Charlie don't surf\""
      ]
     },
     "execution_count": 53,
     "metadata": {},
     "output_type": "execute_result"
    }
   ],
   "source": [
    "s = \"Charlie don't surf\""
   ]
  },
  {
   "cell_type": "code",
   "execution_count": 54,
   "id": "7b22c569",
   "metadata": {
    "hide-output": false,
    "tags": []
   },
   "outputs": [
    {
     "data": {
      "text/plain": [
       "3-element Vector{SubString{String}}:\n",
       " \"Charlie\"\n",
       " \"don't\"\n",
       " \"surf\""
      ]
     },
     "execution_count": 54,
     "metadata": {},
     "output_type": "execute_result"
    }
   ],
   "source": [
    "split(s)"
   ]
  },
  {
   "cell_type": "code",
   "execution_count": 55,
   "id": "3deeac55",
   "metadata": {
    "hide-output": false,
    "tags": []
   },
   "outputs": [
    {
     "data": {
      "text/plain": [
       "\"Charlie don't ski\""
      ]
     },
     "execution_count": 55,
     "metadata": {},
     "output_type": "execute_result"
    }
   ],
   "source": [
    "replace(s, \"surf\" => \"ski\")"
   ]
  },
  {
   "cell_type": "code",
   "execution_count": 58,
   "id": "f34d1a08",
   "metadata": {
    "hide-output": false,
    "tags": []
   },
   "outputs": [
    {
     "data": {
      "text/plain": [
       "3-element Vector{SubString{String}}:\n",
       " \"fee\"\n",
       " \"fi\"\n",
       " \"fo\""
      ]
     },
     "execution_count": 58,
     "metadata": {},
     "output_type": "execute_result"
    }
   ],
   "source": [
    "split(\"fee,fi,fo\", \",\")"
   ]
  },
  {
   "cell_type": "code",
   "execution_count": 60,
   "id": "c9c09471",
   "metadata": {
    "hide-output": false,
    "tags": []
   },
   "outputs": [
    {
     "data": {
      "text/plain": [
       "\"foobar\""
      ]
     },
     "execution_count": 60,
     "metadata": {},
     "output_type": "execute_result"
    }
   ],
   "source": [
    "strip(\" foobar \")  # remove whitespace"
   ]
  },
  {
   "cell_type": "markdown",
   "id": "8ad82f04",
   "metadata": {},
   "source": [
    "문자열 검색 및 조작에 관한 자세한 사항은 [regular expressions](https://en.wikipedia.org/wiki/Regular_expression) ([see regular expressions documentation](https://docs.julialang.org/en/v1/manual/strings/#Regular-Expressions-1)을 참고하세요."
   ]
  },
  {
   "cell_type": "code",
   "execution_count": 62,
   "id": "c117e478",
   "metadata": {
    "hide-output": false,
    "tags": []
   },
   "outputs": [
    {
     "data": {
      "text/plain": [
       "RegexMatch(\"10\", 1=\"10\")"
      ]
     },
     "execution_count": 62,
     "metadata": {},
     "output_type": "execute_result"
    }
   ],
   "source": [
    "match(r\"(\\d+)\", \"Top 10\")  # 숫자를 검색"
   ]
  },
  {
   "cell_type": "markdown",
   "id": "69e6ba03",
   "metadata": {},
   "source": [
    "## Containers"
   ]
  },
  {
   "cell_type": "markdown",
   "id": "a631dc86-2cc8-4595-9837-47c2c1106844",
   "metadata": {
    "tags": []
   },
   "source": [
    "### Referencing Items\n",
    "\n",
    "시퀀스 유형의 마지막 요소는 `end` 키워드로 액세스할 수 있습니다."
   ]
  },
  {
   "cell_type": "code",
   "execution_count": 77,
   "id": "b4094e04",
   "metadata": {
    "hide-output": false,
    "tags": []
   },
   "outputs": [
    {
     "data": {
      "text/plain": [
       "4-element Vector{Int64}:\n",
       " 10\n",
       " 20\n",
       " 30\n",
       " 40"
      ]
     },
     "execution_count": 77,
     "metadata": {},
     "output_type": "execute_result"
    }
   ],
   "source": [
    "x = [10, 20, 30, 40]"
   ]
  },
  {
   "cell_type": "code",
   "execution_count": 78,
   "id": "9823b05e",
   "metadata": {
    "hide-output": false,
    "tags": []
   },
   "outputs": [
    {
     "data": {
      "text/plain": [
       "40"
      ]
     },
     "execution_count": 78,
     "metadata": {},
     "output_type": "execute_result"
    }
   ],
   "source": [
    "x[end]"
   ]
  },
  {
   "cell_type": "code",
   "execution_count": 79,
   "id": "43cea104",
   "metadata": {
    "hide-output": false,
    "tags": []
   },
   "outputs": [
    {
     "data": {
      "text/plain": [
       "30"
      ]
     },
     "execution_count": 79,
     "metadata": {},
     "output_type": "execute_result"
    }
   ],
   "source": [
    "x[end-1]"
   ]
  },
  {
   "cell_type": "markdown",
   "id": "cffc8676-d92c-4523-9ddb-0726a3ad69d4",
   "metadata": {},
   "source": [
    "배열 또는 튜플의 여러 요소에 액세스하려면 슬라이스 표기법을 사용할 수 있습니다."
   ]
  },
  {
   "cell_type": "code",
   "execution_count": 80,
   "id": "d13d29af",
   "metadata": {
    "hide-output": false,
    "tags": []
   },
   "outputs": [
    {
     "data": {
      "text/plain": [
       "3-element Vector{Int64}:\n",
       " 10\n",
       " 20\n",
       " 30"
      ]
     },
     "execution_count": 80,
     "metadata": {},
     "output_type": "execute_result"
    }
   ],
   "source": [
    "x[1:3]"
   ]
  },
  {
   "cell_type": "code",
   "execution_count": 81,
   "id": "c986916d",
   "metadata": {
    "hide-output": false,
    "tags": []
   },
   "outputs": [
    {
     "data": {
      "text/plain": [
       "3-element Vector{Int64}:\n",
       " 20\n",
       " 30\n",
       " 40"
      ]
     },
     "execution_count": 81,
     "metadata": {},
     "output_type": "execute_result"
    }
   ],
   "source": [
    "x[2:end]"
   ]
  },
  {
   "cell_type": "markdown",
   "id": "29cba740-8af3-4e39-9195-34f2f446607a",
   "metadata": {},
   "source": [
    "동일한 슬라이스 표기법이 문자열에서 작동합니다."
   ]
  },
  {
   "cell_type": "code",
   "execution_count": 82,
   "id": "3a23a0c8",
   "metadata": {
    "hide-output": false,
    "tags": []
   },
   "outputs": [
    {
     "data": {
      "text/plain": [
       "\"obar\""
      ]
     },
     "execution_count": 82,
     "metadata": {},
     "output_type": "execute_result"
    }
   ],
   "source": [
    "\"foobar\"[3:end]"
   ]
  },
  {
   "cell_type": "markdown",
   "id": "798591ca-ce07-4146-b542-bbc5490ba235",
   "metadata": {},
   "source": [
    "### Tuples"
   ]
  },
  {
   "cell_type": "code",
   "execution_count": 63,
   "id": "e4017c18",
   "metadata": {
    "hide-output": false,
    "tags": []
   },
   "outputs": [
    {
     "data": {
      "text/plain": [
       "(\"foo\", 2)"
      ]
     },
     "execution_count": 63,
     "metadata": {},
     "output_type": "execute_result"
    }
   ],
   "source": [
    "x = (\"foo\", \"bar\")\n",
    "y = (\"foo\", 2)"
   ]
  },
  {
   "cell_type": "code",
   "execution_count": 64,
   "id": "6c9607fb",
   "metadata": {
    "hide-output": false,
    "tags": []
   },
   "outputs": [
    {
     "data": {
      "text/plain": [
       "(Tuple{String, String}, Tuple{String, Int64})"
      ]
     },
     "execution_count": 64,
     "metadata": {},
     "output_type": "execute_result"
    }
   ],
   "source": [
    "typeof(x), typeof(y)"
   ]
  },
  {
   "cell_type": "markdown",
   "id": "89bd3712",
   "metadata": {},
   "source": [
    "\n",
    "An immutable value는 메모리에서 해당 값을 변경할 수 없습니다. 그래서 tuples은 재할당을 진행할 수 없습니다(i.e. `x[1] = \"test\"` would fail). tuples은 괄호와 상관없이 사용할 수 있습니다."
   ]
  },
  {
   "cell_type": "code",
   "execution_count": 65,
   "id": "2408bd32",
   "metadata": {
    "hide-output": false,
    "tags": []
   },
   "outputs": [
    {
     "data": {
      "text/plain": [
       "(\"foo\", 1)"
      ]
     },
     "execution_count": 65,
     "metadata": {},
     "output_type": "execute_result"
    }
   ],
   "source": [
    "x = \"foo\", 1"
   ]
  },
  {
   "cell_type": "code",
   "execution_count": 66,
   "id": "6c6991e8",
   "metadata": {
    "hide-output": false,
    "tags": []
   },
   "outputs": [
    {
     "data": {
      "text/plain": [
       "(\"foo\", 1)"
      ]
     },
     "execution_count": 66,
     "metadata": {},
     "output_type": "execute_result"
    }
   ],
   "source": [
    "function f()\n",
    "    return \"foo\", 1\n",
    "end\n",
    "f()"
   ]
  },
  {
   "cell_type": "markdown",
   "id": "843bfdbc",
   "metadata": {},
   "source": [
    "Tuples can also be unpacked directly into variables."
   ]
  },
  {
   "cell_type": "code",
   "execution_count": 67,
   "id": "62e7c36f",
   "metadata": {
    "hide-output": false,
    "tags": []
   },
   "outputs": [
    {
     "data": {
      "text/plain": [
       "(\"foo\", 1)"
      ]
     },
     "execution_count": 67,
     "metadata": {},
     "output_type": "execute_result"
    }
   ],
   "source": [
    "x = (\"foo\", 1)"
   ]
  },
  {
   "cell_type": "code",
   "execution_count": 68,
   "id": "3339ba45",
   "metadata": {
    "hide-output": false,
    "tags": []
   },
   "outputs": [
    {
     "name": "stdout",
     "output_type": "stream",
     "text": [
      "word = foo, val = 1\n"
     ]
    }
   ],
   "source": [
    "word, val = x\n",
    "println(\"word = $word, val = $val\")"
   ]
  },
  {
   "cell_type": "code",
   "execution_count": 70,
   "id": "f4f5fd64",
   "metadata": {
    "hide-output": false,
    "tags": []
   },
   "outputs": [
    {
     "data": {
      "text/plain": [
       "(Tuple{String, Int64}, Tuple{String})"
      ]
     },
     "execution_count": 70,
     "metadata": {},
     "output_type": "execute_result"
    }
   ],
   "source": [
    "x = (\"foo\", 1,)\n",
    "y = (\"foo\",) # 튜플을 생성하는 간단한 방법\n",
    "typeof(x), typeof(y)"
   ]
  },
  {
   "cell_type": "markdown",
   "id": "e5b7a13a",
   "metadata": {},
   "source": [
    "### Dictionaries\n",
    "언급할 가치가 있는 또 다른 컨테이너 유형은 dictionaries입니다.\n",
    "dictionaries은 항목에 번호가 매겨지는 대신 이름이 지정된다는 점을 제외하면 배열과 같습니다."
   ]
  },
  {
   "cell_type": "code",
   "execution_count": 84,
   "id": "6d4fb63c",
   "metadata": {
    "hide-output": false,
    "tags": []
   },
   "outputs": [
    {
     "data": {
      "text/plain": [
       "Dict{String, Any} with 2 entries:\n",
       "  \"name\" => \"Frodo\"\n",
       "  \"age\"  => 33"
      ]
     },
     "execution_count": 84,
     "metadata": {},
     "output_type": "execute_result"
    }
   ],
   "source": [
    "d = Dict(\"name\" => \"Frodo\", \"age\" => 33)"
   ]
  },
  {
   "cell_type": "code",
   "execution_count": 85,
   "id": "da48b085",
   "metadata": {
    "hide-output": false,
    "tags": []
   },
   "outputs": [
    {
     "data": {
      "text/plain": [
       "33"
      ]
     },
     "execution_count": 85,
     "metadata": {},
     "output_type": "execute_result"
    }
   ],
   "source": [
    "d[\"age\"]"
   ]
  },
  {
   "cell_type": "markdown",
   "id": "d697f513",
   "metadata": {},
   "source": [
    "`name`과 `age`를 **keys**라고 하고, 키과 연결된 것을 **values** (in this case `\"Frodo\"` and `33`)라 하니다. `keys(d)` 와 `values(d)`를 사용해서 접근할 수 있습니다."
   ]
  },
  {
   "cell_type": "markdown",
   "id": "3d66a92c",
   "metadata": {},
   "source": [
    "## Iterating"
   ]
  },
  {
   "cell_type": "markdown",
   "id": "319b999a",
   "metadata": {},
   "source": [
    "### Iterables"
   ]
  },
  {
   "cell_type": "code",
   "execution_count": 86,
   "id": "b2fdeef6",
   "metadata": {
    "hide-output": false,
    "tags": []
   },
   "outputs": [
    {
     "name": "stdout",
     "output_type": "stream",
     "text": [
      "Charlie doesn't surf\n",
      "Charlie doesn't ski\n"
     ]
    }
   ],
   "source": [
    "actions = [\"surf\", \"ski\"]\n",
    "for action in actions\n",
    "    println(\"Charlie doesn't $action\")\n",
    "end"
   ]
  },
  {
   "cell_type": "code",
   "execution_count": 87,
   "id": "22e3ab03",
   "metadata": {
    "hide-output": false,
    "tags": []
   },
   "outputs": [
    {
     "name": "stdout",
     "output_type": "stream",
     "text": [
      "123"
     ]
    }
   ],
   "source": [
    "for i in 1:3\n",
    "    print(i)\n",
    "end"
   ]
  },
  {
   "cell_type": "code",
   "execution_count": 88,
   "id": "14b9dada",
   "metadata": {
    "hide-output": false,
    "tags": []
   },
   "outputs": [
    {
     "data": {
      "text/plain": [
       "Dict{String, Any} with 2 entries:\n",
       "  \"name\" => \"Frodo\"\n",
       "  \"age\"  => 33"
      ]
     },
     "execution_count": 88,
     "metadata": {},
     "output_type": "execute_result"
    }
   ],
   "source": [
    "d = Dict(\"name\" => \"Frodo\", \"age\" => 33)"
   ]
  },
  {
   "cell_type": "code",
   "execution_count": 89,
   "id": "d1478713",
   "metadata": {
    "hide-output": false,
    "tags": []
   },
   "outputs": [
    {
     "data": {
      "text/plain": [
       "KeySet for a Dict{String, Any} with 2 entries. Keys:\n",
       "  \"name\"\n",
       "  \"age\""
      ]
     },
     "execution_count": 89,
     "metadata": {},
     "output_type": "execute_result"
    }
   ],
   "source": [
    "keys(d)"
   ]
  },
  {
   "cell_type": "code",
   "execution_count": 90,
   "id": "78300022",
   "metadata": {
    "hide-output": false,
    "tags": []
   },
   "outputs": [
    {
     "data": {
      "text/plain": [
       "2-element Vector{String}:\n",
       " \"name\"\n",
       " \"age\""
      ]
     },
     "execution_count": 90,
     "metadata": {},
     "output_type": "execute_result"
    }
   ],
   "source": [
    "collect(keys(d))"
   ]
  },
  {
   "cell_type": "markdown",
   "id": "5ff8476c",
   "metadata": {},
   "source": [
    "### Looping without Indices"
   ]
  },
  {
   "cell_type": "code",
   "execution_count": 91,
   "id": "87f56519",
   "metadata": {
    "hide-output": false,
    "tags": []
   },
   "outputs": [
    {
     "data": {
      "text/plain": [
       "1:5"
      ]
     },
     "execution_count": 91,
     "metadata": {},
     "output_type": "execute_result"
    }
   ],
   "source": [
    "x_values = 1:5"
   ]
  },
  {
   "cell_type": "code",
   "execution_count": 92,
   "id": "355dda9e",
   "metadata": {
    "hide-output": false,
    "tags": []
   },
   "outputs": [
    {
     "name": "stdout",
     "output_type": "stream",
     "text": [
      "1\n",
      "4\n",
      "9\n",
      "16\n",
      "25\n"
     ]
    }
   ],
   "source": [
    "for x in x_values\n",
    "    println(x * x)\n",
    "end"
   ]
  },
  {
   "cell_type": "code",
   "execution_count": 93,
   "id": "d5d0c554",
   "metadata": {
    "hide-output": false,
    "tags": []
   },
   "outputs": [
    {
     "name": "stdout",
     "output_type": "stream",
     "text": [
      "1\n",
      "4\n",
      "9\n",
      "16\n",
      "25\n"
     ]
    }
   ],
   "source": [
    "for i in eachindex(x_values)\n",
    "    println(x_values[i] * x_values[i])\n",
    "end"
   ]
  },
  {
   "cell_type": "code",
   "execution_count": 94,
   "id": "793d1d22",
   "metadata": {
    "hide-output": false,
    "tags": []
   },
   "outputs": [
    {
     "name": "stdout",
     "output_type": "stream",
     "text": [
      "The capital of Japan is Tokyo\n",
      "The capital of Korea is Seoul\n",
      "The capital of China is Beijing\n"
     ]
    }
   ],
   "source": [
    "countries = (\"Japan\", \"Korea\", \"China\")\n",
    "cities = (\"Tokyo\", \"Seoul\", \"Beijing\")\n",
    "for (country, city) in zip(countries, cities)\n",
    "    println(\"The capital of $country is $city\")\n",
    "end"
   ]
  },
  {
   "cell_type": "code",
   "execution_count": 95,
   "id": "ce0f20ae",
   "metadata": {
    "hide-output": false,
    "tags": []
   },
   "outputs": [
    {
     "name": "stdout",
     "output_type": "stream",
     "text": [
      "The capital of Japan is Tokyo\n",
      "The capital of Korea is Seoul\n",
      "The capital of China is Beijing\n"
     ]
    }
   ],
   "source": [
    "countries = (\"Japan\", \"Korea\", \"China\")\n",
    "cities = (\"Tokyo\", \"Seoul\", \"Beijing\")\n",
    "for (i, country) in enumerate(countries)\n",
    "    city = cities[i]\n",
    "    println(\"The capital of $country is $city\")\n",
    "end"
   ]
  },
  {
   "cell_type": "markdown",
   "id": "f3b63c64",
   "metadata": {},
   "source": [
    "### Comprehensions"
   ]
  },
  {
   "cell_type": "code",
   "execution_count": 96,
   "id": "c40ca991",
   "metadata": {
    "hide-output": false,
    "tags": []
   },
   "outputs": [
    {
     "data": {
      "text/plain": [
       "4-element Vector{Int64}:\n",
       " 2\n",
       " 4\n",
       " 6\n",
       " 8"
      ]
     },
     "execution_count": 96,
     "metadata": {},
     "output_type": "execute_result"
    }
   ],
   "source": [
    "doubles = [ 2i for i in 1:4 ]"
   ]
  },
  {
   "cell_type": "code",
   "execution_count": 97,
   "id": "b4717393",
   "metadata": {
    "hide-output": false,
    "tags": []
   },
   "outputs": [],
   "source": [
    "animals = [\"dog\", \"cat\", \"bird\"];   # Semicolon suppresses output"
   ]
  },
  {
   "cell_type": "code",
   "execution_count": 98,
   "id": "0d8308c7",
   "metadata": {
    "hide-output": false,
    "tags": []
   },
   "outputs": [
    {
     "data": {
      "text/plain": [
       "3-element Vector{String}:\n",
       " \"dogs\"\n",
       " \"cats\"\n",
       " \"birds\""
      ]
     },
     "execution_count": 98,
     "metadata": {},
     "output_type": "execute_result"
    }
   ],
   "source": [
    "plurals = [ animal * \"s\" for animal in animals ]"
   ]
  },
  {
   "cell_type": "code",
   "execution_count": 99,
   "id": "a3ab89b2",
   "metadata": {
    "hide-output": false,
    "tags": []
   },
   "outputs": [
    {
     "data": {
      "text/plain": [
       "3×3 Matrix{Int64}:\n",
       " 5  6  7\n",
       " 6  7  8\n",
       " 7  8  9"
      ]
     },
     "execution_count": 99,
     "metadata": {},
     "output_type": "execute_result"
    }
   ],
   "source": [
    "[ i + j for i in 1:3, j in 4:6 ]"
   ]
  },
  {
   "cell_type": "code",
   "execution_count": 100,
   "id": "5e42625f",
   "metadata": {
    "hide-output": false,
    "tags": []
   },
   "outputs": [
    {
     "data": {
      "text/plain": [
       "3×3×3 Array{Int64, 3}:\n",
       "[:, :, 1] =\n",
       " 12  13  14\n",
       " 13  14  15\n",
       " 14  15  16\n",
       "\n",
       "[:, :, 2] =\n",
       " 13  14  15\n",
       " 14  15  16\n",
       " 15  16  17\n",
       "\n",
       "[:, :, 3] =\n",
       " 14  15  16\n",
       " 15  16  17\n",
       " 16  17  18"
      ]
     },
     "execution_count": 100,
     "metadata": {},
     "output_type": "execute_result"
    }
   ],
   "source": [
    "[ i + j + k for i in 1:3, j in 4:6, k in 7:9 ]"
   ]
  },
  {
   "cell_type": "code",
   "execution_count": 101,
   "id": "991ad254",
   "metadata": {
    "hide-output": false,
    "tags": []
   },
   "outputs": [
    {
     "data": {
      "text/plain": [
       "2×3 Matrix{Tuple{Int64, String}}:\n",
       " (1, \"dog\")  (1, \"cat\")  (1, \"bird\")\n",
       " (2, \"dog\")  (2, \"cat\")  (2, \"bird\")"
      ]
     },
     "execution_count": 101,
     "metadata": {},
     "output_type": "execute_result"
    }
   ],
   "source": [
    "[ (i, j) for i in 1:2, j in animals]"
   ]
  },
  {
   "cell_type": "code",
   "execution_count": 102,
   "id": "cf5b0267",
   "metadata": {
    "hide-output": false,
    "tags": []
   },
   "outputs": [
    {
     "data": {
      "text/plain": [
       "2×3 Matrix{NamedTuple{(:num, :animal), Tuple{Int64, String}}}:\n",
       " (num = 1, animal = \"dog\")  …  (num = 1, animal = \"bird\")\n",
       " (num = 2, animal = \"dog\")     (num = 2, animal = \"bird\")"
      ]
     },
     "execution_count": 102,
     "metadata": {},
     "output_type": "execute_result"
    }
   ],
   "source": [
    "[ (num = i, animal = j) for i in 1:2, j in animals]"
   ]
  },
  {
   "cell_type": "markdown",
   "id": "f2b7bb07",
   "metadata": {},
   "source": [
    "### Generators"
   ]
  },
  {
   "cell_type": "code",
   "execution_count": 103,
   "id": "62f2f237",
   "metadata": {
    "hide-output": false,
    "tags": []
   },
   "outputs": [
    {
     "data": {
      "text/plain": [
       "333383335000"
      ]
     },
     "execution_count": 103,
     "metadata": {},
     "output_type": "execute_result"
    }
   ],
   "source": [
    "xs = 1:10000\n",
    "f(x) = x^2\n",
    "f_x = f.(xs)\n",
    "sum(f_x)"
   ]
  },
  {
   "cell_type": "code",
   "execution_count": null,
   "id": "e0729b38",
   "metadata": {
    "hide-output": false
   },
   "outputs": [
    {
     "name": "stdout",
     "output_type": "stream",
     "text": [
      "sum(f_x2) = 333383335000\n",
      "sum([f(x) for x = xs]) = 333383335000\n"
     ]
    }
   ],
   "source": [
    "f_x2 = [f(x) for x in xs]\n",
    "@show sum(f_x2)\n",
    "@show sum([f(x) for x in xs]); # still allocates temporary"
   ]
  },
  {
   "cell_type": "code",
   "execution_count": 105,
   "id": "20209a49",
   "metadata": {
    "hide-output": false,
    "tags": []
   },
   "outputs": [
    {
     "data": {
      "text/plain": [
       "333383335000"
      ]
     },
     "execution_count": 105,
     "metadata": {},
     "output_type": "execute_result"
    }
   ],
   "source": [
    "sum(f(x) for x in xs)"
   ]
  },
  {
   "cell_type": "code",
   "execution_count": 106,
   "id": "6d7e9bcf",
   "metadata": {
    "hide-output": false,
    "tags": []
   },
   "outputs": [
    {
     "name": "stderr",
     "output_type": "stream",
     "text": [
      "\u001b[36m\u001b[1m[ \u001b[22m\u001b[39m\u001b[36m\u001b[1mInfo: \u001b[22m\u001b[39mPrecompiling BenchmarkTools [6e4b80f9-dd63-53aa-95a3-0cdb28fa8baf]\n"
     ]
    },
    {
     "name": "stdout",
     "output_type": "stream",
     "text": [
      "  3.917 μs (2 allocations: 78.17 KiB)\n",
      "  4.060 μs (2 allocations: 78.17 KiB)\n",
      "  3.300 ns (0 allocations: 0 bytes)\n"
     ]
    }
   ],
   "source": [
    "using BenchmarkTools\n",
    "@btime sum([f(x) for x in $xs])\n",
    "@btime sum(f.($xs))\n",
    "@btime sum(f(x) for x in $xs);"
   ]
  },
  {
   "cell_type": "markdown",
   "id": "ef65a381",
   "metadata": {},
   "source": [
    "## Comparisons and Logical Operators"
   ]
  },
  {
   "cell_type": "markdown",
   "id": "160015b4",
   "metadata": {},
   "source": [
    "### Comparisons"
   ]
  },
  {
   "cell_type": "code",
   "execution_count": 107,
   "id": "212c493c",
   "metadata": {
    "hide-output": false,
    "tags": []
   },
   "outputs": [
    {
     "data": {
      "text/plain": [
       "1"
      ]
     },
     "execution_count": 107,
     "metadata": {},
     "output_type": "execute_result"
    }
   ],
   "source": [
    "x = 1"
   ]
  },
  {
   "cell_type": "code",
   "execution_count": 108,
   "id": "3fd35508",
   "metadata": {
    "hide-output": false,
    "tags": []
   },
   "outputs": [
    {
     "data": {
      "text/plain": [
       "false"
      ]
     },
     "execution_count": 108,
     "metadata": {},
     "output_type": "execute_result"
    }
   ],
   "source": [
    "x == 2"
   ]
  },
  {
   "cell_type": "markdown",
   "id": "e3adbf73",
   "metadata": {},
   "source": [
    "For “not equal” use `!=` or `≠` (`\\ne<TAB>`)."
   ]
  },
  {
   "cell_type": "code",
   "execution_count": 109,
   "id": "8252179c",
   "metadata": {
    "hide-output": false,
    "tags": []
   },
   "outputs": [
    {
     "data": {
      "text/plain": [
       "true"
      ]
     },
     "execution_count": 109,
     "metadata": {},
     "output_type": "execute_result"
    }
   ],
   "source": [
    "x != 3"
   ]
  },
  {
   "cell_type": "markdown",
   "id": "4a1759cb",
   "metadata": {},
   "source": [
    "Julia can also test approximate equality with `≈` (`\\approx<TAB>`)."
   ]
  },
  {
   "cell_type": "code",
   "execution_count": 110,
   "id": "1271b037",
   "metadata": {
    "hide-output": false,
    "tags": []
   },
   "outputs": [
    {
     "data": {
      "text/plain": [
       "true"
      ]
     },
     "execution_count": 110,
     "metadata": {},
     "output_type": "execute_result"
    }
   ],
   "source": [
    "1 + 1E-8 ≈ 1"
   ]
  },
  {
   "cell_type": "markdown",
   "id": "9976f74f",
   "metadata": {},
   "source": [
    "### Combining Expressions\n",
    "\n",
    "Here are the standard logical connectives (conjunction, disjunction)"
   ]
  },
  {
   "cell_type": "code",
   "execution_count": null,
   "id": "1f9aefdf",
   "metadata": {
    "hide-output": false
   },
   "outputs": [
    {
     "data": {
      "text/plain": [
       "false"
      ]
     },
     "execution_count": 111,
     "metadata": {},
     "output_type": "execute_result"
    }
   ],
   "source": [
    "true && false"
   ]
  },
  {
   "cell_type": "code",
   "execution_count": null,
   "id": "9b23cbe9",
   "metadata": {
    "hide-output": false
   },
   "outputs": [
    {
     "data": {
      "text/plain": [
       "true"
      ]
     },
     "execution_count": 112,
     "metadata": {},
     "output_type": "execute_result"
    }
   ],
   "source": [
    "true || false"
   ]
  },
  {
   "cell_type": "markdown",
   "id": "daf4a7e6",
   "metadata": {},
   "source": [
    "Remember\n",
    "\n",
    "- `P && Q` is `true` if both are `true`, otherwise it’s `false`.  \n",
    "- `P || Q` is `false` if both are `false`, otherwise it’s `true`.  "
   ]
  },
  {
   "cell_type": "markdown",
   "id": "836908cb",
   "metadata": {},
   "source": [
    "## User-Defined Functions"
   ]
  },
  {
   "cell_type": "markdown",
   "id": "68f48de9",
   "metadata": {},
   "source": [
    "### Return Statement"
   ]
  },
  {
   "cell_type": "code",
   "execution_count": null,
   "id": "560b48fc",
   "metadata": {
    "hide-output": false,
    "tags": []
   },
   "outputs": [
    {
     "data": {
      "text/plain": [
       "f2 (generic function with 1 method)"
      ]
     },
     "execution_count": 114,
     "metadata": {},
     "output_type": "execute_result"
    }
   ],
   "source": [
    "function f1(a, b)\n",
    "    return a * b\n",
    "end\n",
    "\n",
    "function f2(a, b)\n",
    "    a * b\n",
    "end"
   ]
  },
  {
   "cell_type": "code",
   "execution_count": 116,
   "id": "4e8e86d5",
   "metadata": {
    "hide-output": false,
    "tags": []
   },
   "outputs": [
    {
     "data": {
      "text/plain": [
       "foo (generic function with 1 method)"
      ]
     },
     "execution_count": 116,
     "metadata": {},
     "output_type": "execute_result"
    }
   ],
   "source": [
    "function foo(x)\n",
    "    if x > 0\n",
    "        return \"positive\"\n",
    "    end\n",
    "    return \"nonpositive\"\n",
    "end"
   ]
  },
  {
   "cell_type": "markdown",
   "id": "155bd426",
   "metadata": {},
   "source": [
    "### Other Syntax for Defining Functions"
   ]
  },
  {
   "cell_type": "code",
   "execution_count": 117,
   "id": "4687692b",
   "metadata": {
    "hide-output": false,
    "tags": []
   },
   "outputs": [
    {
     "data": {
      "text/plain": [
       "f (generic function with 2 methods)"
      ]
     },
     "execution_count": 117,
     "metadata": {},
     "output_type": "execute_result"
    }
   ],
   "source": [
    "f(x) = sin(1 / x)"
   ]
  },
  {
   "cell_type": "markdown",
   "id": "a11baf38",
   "metadata": {},
   "source": [
    "Let’s check that it works"
   ]
  },
  {
   "cell_type": "code",
   "execution_count": 118,
   "id": "50d64399",
   "metadata": {
    "hide-output": false,
    "tags": []
   },
   "outputs": [
    {
     "data": {
      "text/plain": [
       "1.2246467991473532e-16"
      ]
     },
     "execution_count": 118,
     "metadata": {},
     "output_type": "execute_result"
    }
   ],
   "source": [
    "f(1 / pi)"
   ]
  },
  {
   "cell_type": "code",
   "execution_count": 119,
   "id": "8dc52891",
   "metadata": {
    "hide-output": false,
    "tags": []
   },
   "outputs": [
    {
     "data": {
      "text/plain": [
       "3-element Vector{Float64}:\n",
       " -0.5573899087546227\n",
       "  0.771493558732343\n",
       " -0.6994205928388028"
      ]
     },
     "execution_count": 119,
     "metadata": {},
     "output_type": "execute_result"
    }
   ],
   "source": [
    "map(x -> sin(1 / x), randn(3))  # apply function to each element"
   ]
  },
  {
   "cell_type": "markdown",
   "id": "0bbd8ad3",
   "metadata": {},
   "source": [
    "### Optional and Keyword Arguments"
   ]
  },
  {
   "cell_type": "code",
   "execution_count": 120,
   "id": "472270b3",
   "metadata": {
    "hide-output": false,
    "tags": []
   },
   "outputs": [
    {
     "data": {
      "text/plain": [
       "f (generic function with 3 methods)"
      ]
     },
     "execution_count": 120,
     "metadata": {},
     "output_type": "execute_result"
    }
   ],
   "source": [
    "f(x, a = 1) = exp(cos(a * x))"
   ]
  },
  {
   "cell_type": "markdown",
   "id": "914e637b",
   "metadata": {},
   "source": [
    "If the argument is not supplied, the default value is substituted."
   ]
  },
  {
   "cell_type": "code",
   "execution_count": 121,
   "id": "21b3a437",
   "metadata": {
    "hide-output": false,
    "tags": []
   },
   "outputs": [
    {
     "data": {
      "text/plain": [
       "0.36787944117144233"
      ]
     },
     "execution_count": 121,
     "metadata": {},
     "output_type": "execute_result"
    }
   ],
   "source": [
    "f(pi)"
   ]
  },
  {
   "cell_type": "code",
   "execution_count": 122,
   "id": "f5a7060b",
   "metadata": {
    "hide-output": false,
    "tags": []
   },
   "outputs": [
    {
     "data": {
      "text/plain": [
       "2.718281828459045"
      ]
     },
     "execution_count": 122,
     "metadata": {},
     "output_type": "execute_result"
    }
   ],
   "source": [
    "f(pi, 2)"
   ]
  },
  {
   "cell_type": "code",
   "execution_count": 123,
   "id": "a91587de",
   "metadata": {
    "hide-output": false,
    "tags": []
   },
   "outputs": [
    {
     "data": {
      "text/plain": [
       "2.718281828459045"
      ]
     },
     "execution_count": 123,
     "metadata": {},
     "output_type": "execute_result"
    }
   ],
   "source": [
    "f(x; a = 1) = exp(cos(a * x))  # note the ; in the definition\n",
    "\n",
    "f(pi; a = 2)"
   ]
  },
  {
   "cell_type": "code",
   "execution_count": 125,
   "id": "ad5c3a34",
   "metadata": {
    "hide-output": false,
    "tags": []
   },
   "outputs": [
    {
     "data": {
      "text/plain": [
       "2.718281828459045"
      ]
     },
     "execution_count": 125,
     "metadata": {},
     "output_type": "execute_result"
    }
   ],
   "source": [
    "a = 2\n",
    "f(pi; a) # equivalent to f(pi; a = a)"
   ]
  },
  {
   "cell_type": "code",
   "execution_count": 126,
   "id": "171050ba",
   "metadata": {
    "hide-output": false
   },
   "outputs": [
    {
     "data": {
      "text/plain": [
       "2.718281828459045"
      ]
     },
     "execution_count": 126,
     "metadata": {},
     "output_type": "execute_result"
    }
   ],
   "source": [
    "nt = (;a = 2, b = 10)\n",
    "f(pi; nt.a) # equivalent to f(pi; a = nt.a)"
   ]
  },
  {
   "cell_type": "markdown",
   "id": "88fa691e",
   "metadata": {},
   "source": [
    "## Broadcasting"
   ]
  },
  {
   "cell_type": "code",
   "execution_count": 128,
   "id": "eff7e34a",
   "metadata": {
    "hide-output": false,
    "tags": []
   },
   "outputs": [],
   "source": [
    "x_vec = [2.0, 4.0, 6.0, 8.0]\n",
    "y_vec = similar(x_vec)\n",
    "for (i, x) in enumerate(x_vec)\n",
    "    y_vec[i] = sin(x)\n",
    "end"
   ]
  },
  {
   "cell_type": "code",
   "execution_count": 129,
   "id": "c47814ad",
   "metadata": {
    "hide-output": false,
    "tags": []
   },
   "outputs": [],
   "source": [
    "x_vec = [2.0, 4.0, 6.0, 8.0]\n",
    "y_vec = similar(x_vec)\n",
    "for i in eachindex(x_vec)\n",
    "    y_vec[i] = sin(x_vec[i])\n",
    "end"
   ]
  },
  {
   "cell_type": "code",
   "execution_count": 130,
   "id": "30f84fff",
   "metadata": {
    "hide-output": false,
    "tags": []
   },
   "outputs": [
    {
     "data": {
      "text/plain": [
       "4-element Vector{Float64}:\n",
       "  0.9092974268256817\n",
       " -0.7568024953079282\n",
       " -0.27941549819892586\n",
       "  0.9893582466233818"
      ]
     },
     "execution_count": 130,
     "metadata": {},
     "output_type": "execute_result"
    }
   ],
   "source": [
    "y_vec = sin.(x_vec)"
   ]
  },
  {
   "cell_type": "code",
   "execution_count": 131,
   "id": "9975651f",
   "metadata": {
    "hide-output": false,
    "tags": []
   },
   "outputs": [
    {
     "data": {
      "text/plain": [
       "chisq (generic function with 1 method)"
      ]
     },
     "execution_count": 131,
     "metadata": {},
     "output_type": "execute_result"
    }
   ],
   "source": [
    "function chisq(k)\n",
    "    @assert k > 0\n",
    "    z = randn(k)\n",
    "    return sum(z -> z^2, z)  # same as `sum(x^2 for x in z)`\n",
    "end"
   ]
  },
  {
   "cell_type": "code",
   "execution_count": 132,
   "id": "318d55bd",
   "metadata": {
    "hide-output": false,
    "tags": []
   },
   "outputs": [
    {
     "data": {
      "text/plain": [
       "3.267144069979388"
      ]
     },
     "execution_count": 132,
     "metadata": {},
     "output_type": "execute_result"
    }
   ],
   "source": [
    "chisq(3)"
   ]
  },
  {
   "cell_type": "code",
   "execution_count": 133,
   "id": "39fc8dfb",
   "metadata": {
    "hide-output": false,
    "tags": []
   },
   "outputs": [
    {
     "ename": "LoadError",
     "evalue": "AssertionError: k > 0",
     "output_type": "error",
     "traceback": [
      "AssertionError: k > 0",
      "",
      "Stacktrace:",
      " [1] chisq(k::Int64)",
      "   @ Main .\\In[131]:2",
      " [2] top-level scope",
      "   @ In[133]:1"
     ]
    }
   ],
   "source": [
    "chisq(-2)"
   ]
  },
  {
   "cell_type": "code",
   "execution_count": 134,
   "id": "4725bddf",
   "metadata": {
    "hide-output": false,
    "tags": []
   },
   "outputs": [
    {
     "data": {
      "text/plain": [
       "3-element Vector{Float64}:\n",
       " 0.9170821918126786\n",
       " 2.751192519514051\n",
       " 3.448623870300631"
      ]
     },
     "execution_count": 134,
     "metadata": {},
     "output_type": "execute_result"
    }
   ],
   "source": [
    "chisq.([2, 4, 6])"
   ]
  },
  {
   "cell_type": "code",
   "execution_count": 148,
   "id": "d7283386",
   "metadata": {
    "hide-output": false,
    "tags": []
   },
   "outputs": [
    {
     "data": {
      "text/plain": [
       "5-element Vector{Float64}:\n",
       "  2.1585290151921033\n",
       "  5.090702573174318\n",
       "  7.858879991940133\n",
       " 10.756802495307928\n",
       " 13.958924274663138"
      ]
     },
     "execution_count": 148,
     "metadata": {},
     "output_type": "execute_result"
    }
   ],
   "source": [
    "x = 1.0:1.0:5.0\n",
    "y = [2.0, 4.0, 5.0, 6.0, 8.0]\n",
    "z = similar(y)\n",
    "z .= x .+ y .- sin.(x) # generates efficient code instead of many temporaries"
   ]
  },
  {
   "cell_type": "markdown",
   "id": "dda4603d",
   "metadata": {},
   "source": [
    "A convenience macro for adding broadcasting on every function call is `@.`"
   ]
  },
  {
   "cell_type": "code",
   "execution_count": 149,
   "id": "cb81b7f5",
   "metadata": {
    "hide-output": false,
    "tags": []
   },
   "outputs": [
    {
     "data": {
      "text/plain": [
       "5-element Vector{Float64}:\n",
       "  2.1585290151921033\n",
       "  5.090702573174318\n",
       "  7.858879991940133\n",
       " 10.756802495307928\n",
       " 13.958924274663138"
      ]
     },
     "execution_count": 149,
     "metadata": {},
     "output_type": "execute_result"
    }
   ],
   "source": [
    "@. z = x + y - sin(x)"
   ]
  },
  {
   "cell_type": "code",
   "execution_count": 138,
   "id": "9dd9f523",
   "metadata": {
    "hide-output": false,
    "tags": []
   },
   "outputs": [
    {
     "name": "stdout",
     "output_type": "stream",
     "text": [
      "f.(a, b) = [5 7 9]\n",
      "f.(a, 2) = [3 4 5]\n"
     ]
    }
   ],
   "source": [
    "f(a, b) = a + b # bivariate function\n",
    "a = [1 2 3]\n",
    "b = [4 5 6]\n",
    "@show f.(a, b) # across both\n",
    "@show f.(a, 2); # fix scalar for second"
   ]
  },
  {
   "cell_type": "code",
   "execution_count": 150,
   "id": "ac98868c",
   "metadata": {
    "hide-output": false,
    "tags": []
   },
   "outputs": [
    {
     "data": {
      "text/plain": [
       "2-element Vector{Int64}:\n",
       " 28\n",
       " 29"
      ]
     },
     "execution_count": 150,
     "metadata": {},
     "output_type": "execute_result"
    }
   ],
   "source": [
    "f(x, y) = [1, 2, 3] ⋅ x + y   # \"⋅\" can be typed by \\cdot<tab>\n",
    "f([3, 4, 5], 2)   # uses vector as first parameter\n",
    "f.(Ref([3, 4, 5]), [2, 3])   # broadcasting over 2nd parameter, fixing first"
   ]
  },
  {
   "cell_type": "markdown",
   "id": "7f28e0e5",
   "metadata": {},
   "source": [
    "## Scoping and Closures"
   ]
  },
  {
   "cell_type": "markdown",
   "id": "d4094504",
   "metadata": {},
   "source": [
    "### Functions"
   ]
  },
  {
   "cell_type": "code",
   "execution_count": 151,
   "id": "640fa48f",
   "metadata": {
    "hide-output": false,
    "tags": []
   },
   "outputs": [
    {
     "data": {
      "text/plain": [
       "25"
      ]
     },
     "execution_count": 151,
     "metadata": {},
     "output_type": "execute_result"
    }
   ],
   "source": [
    "f(x) = x^2  # local `x` in scope\n",
    "\n",
    "# x is not bound to anything in this outer scope\n",
    "y = 5\n",
    "f(y)"
   ]
  },
  {
   "cell_type": "code",
   "execution_count": 152,
   "id": "ad3ab1e9",
   "metadata": {
    "hide-output": false,
    "tags": []
   },
   "outputs": [
    {
     "data": {
      "text/plain": [
       "25"
      ]
     },
     "execution_count": 152,
     "metadata": {},
     "output_type": "execute_result"
    }
   ],
   "source": [
    "function g() # scope within the `g` function\n",
    "\n",
    "    f(x) = x^2 # local `x` in scope\n",
    "\n",
    "    # x is not bound to anything in this outer scope\n",
    "    y = 5\n",
    "    f(y)\n",
    "end\n",
    "g() # run the function"
   ]
  },
  {
   "cell_type": "code",
   "execution_count": 153,
   "id": "1eb88ec2",
   "metadata": {
    "hide-output": false,
    "tags": []
   },
   "outputs": [
    {
     "data": {
      "text/plain": [
       "25"
      ]
     },
     "execution_count": 153,
     "metadata": {},
     "output_type": "execute_result"
    }
   ],
   "source": [
    "f(x) = x^2  # local `x` in scope\n",
    "\n",
    "# x is not bound to anything in this outer scope\n",
    "x = 5   # a different `x` than the local variable name\n",
    "f(x)    # calling `f` with `x`"
   ]
  },
  {
   "cell_type": "code",
   "execution_count": 154,
   "id": "a6a18cf3",
   "metadata": {
    "hide-output": false,
    "tags": []
   },
   "outputs": [
    {
     "data": {
      "text/plain": [
       "2.1"
      ]
     },
     "execution_count": 154,
     "metadata": {},
     "output_type": "execute_result"
    }
   ],
   "source": [
    "f(x; y = 1) = x + y  # `x` and `y` are names local to the `f` function\n",
    "xval = 0.1\n",
    "yval = 2\n",
    "f(xval; y = yval)"
   ]
  },
  {
   "cell_type": "markdown",
   "id": "35d2603e",
   "metadata": {},
   "source": [
    "Due to scoping, you could write this as"
   ]
  },
  {
   "cell_type": "code",
   "execution_count": 155,
   "id": "26ddc8ce",
   "metadata": {
    "hide-output": false,
    "tags": []
   },
   "outputs": [
    {
     "data": {
      "text/plain": [
       "2.1"
      ]
     },
     "execution_count": 155,
     "metadata": {},
     "output_type": "execute_result"
    }
   ],
   "source": [
    "f(x; y = 1) = x + y  # `x` and `y` are names local to the `f` function\n",
    "x = 0.1\n",
    "y = 2\n",
    "f(x; y) # the type and value of y taken from scope"
   ]
  },
  {
   "cell_type": "code",
   "execution_count": 156,
   "id": "0f9ff151",
   "metadata": {
    "hide-output": false,
    "tags": []
   },
   "outputs": [
    {
     "name": "stdout",
     "output_type": "stream",
     "text": [
      "(; x = xval, y = yval) = (x = 0.1, y = 2)\n",
      "(; x = x, y = y) = (x = 0.1, y = 2)\n",
      "(; x, y) = (x = 0.1, y = 2)\n"
     ]
    }
   ],
   "source": [
    "xval = 0.1\n",
    "yval = 2\n",
    "@show (;x = xval, y = yval)  # named tuple with names `x` and `y`\n",
    "\n",
    "x = 0.1\n",
    "y = 2\n",
    "\n",
    "# create a named tuple with names `x` and `y` local to the tuple\n",
    "@show (;x = x, y = y)\n",
    "\n",
    "# better yet\n",
    "@show (;x, y);"
   ]
  },
  {
   "cell_type": "markdown",
   "id": "f6799e24",
   "metadata": {},
   "source": [
    "As you use Julia, you will find that scoping is very natural and that there is no reason to avoid using `x` and `y` in both places.\n",
    "\n",
    "In fact, it frequently leads to clear code closer to the math when you don’t need to specify intermediaries.\n",
    "\n",
    "Another example is with broadcasting"
   ]
  },
  {
   "cell_type": "code",
   "execution_count": 157,
   "id": "e19998c9",
   "metadata": {
    "hide-output": false,
    "tags": []
   },
   "outputs": [
    {
     "data": {
      "text/plain": [
       "5-element Vector{Int64}:\n",
       "  1\n",
       "  4\n",
       "  9\n",
       " 16\n",
       " 25"
      ]
     },
     "execution_count": 157,
     "metadata": {},
     "output_type": "execute_result"
    }
   ],
   "source": [
    "f(x) = x^2  # local `x` in scope\n",
    "\n",
    "x = 1:5     # not an integer\n",
    "\n",
    "f.(x)       # broadcasts the x^2 function over the vector"
   ]
  },
  {
   "cell_type": "markdown",
   "id": "725e73ef",
   "metadata": {},
   "source": [
    "### Closures"
   ]
  },
  {
   "cell_type": "code",
   "execution_count": 161,
   "id": "7e38270d",
   "metadata": {
    "hide-output": false,
    "tags": []
   },
   "outputs": [
    {
     "data": {
      "text/plain": [
       "0.2"
      ]
     },
     "execution_count": 161,
     "metadata": {},
     "output_type": "execute_result"
    }
   ],
   "source": [
    "f(x, a) = a * x^2\n",
    "\n",
    "f(1, 0.2)"
   ]
  },
  {
   "cell_type": "code",
   "execution_count": 162,
   "id": "866e5b35",
   "metadata": {
    "hide-output": false,
    "tags": []
   },
   "outputs": [
    {
     "data": {
      "text/plain": [
       "0.2"
      ]
     },
     "execution_count": 162,
     "metadata": {},
     "output_type": "execute_result"
    }
   ],
   "source": [
    "a = 0.2\n",
    "f(x) = a * x^2     # refers to the `a` in the outer scope\n",
    "f(1)               # univariate function"
   ]
  },
  {
   "cell_type": "code",
   "execution_count": 163,
   "id": "655b208e",
   "metadata": {
    "hide-output": false,
    "tags": []
   },
   "outputs": [
    {
     "data": {
      "text/plain": [
       "0.2"
      ]
     },
     "execution_count": 163,
     "metadata": {},
     "output_type": "execute_result"
    }
   ],
   "source": [
    "function g(a)\n",
    "    f(x) = a * x^2  # refers to the `a` passed in the function\n",
    "    f(1)            # univariate function\n",
    "end\n",
    "g(0.2)"
   ]
  },
  {
   "cell_type": "code",
   "execution_count": 164,
   "id": "e170d1b5",
   "metadata": {
    "hide-output": false,
    "tags": []
   },
   "outputs": [
    {
     "data": {
      "text/plain": [
       "(a = 0.010000000000000002, b = 0.020000000000000004, c = 0.030000000000000006)"
      ]
     },
     "execution_count": 164,
     "metadata": {},
     "output_type": "execute_result"
    }
   ],
   "source": [
    "function solvemodel(x)\n",
    "    a = x^2\n",
    "    b = 2 * a\n",
    "    c = a + b\n",
    "    return (;a, b, c)  # note local scope of tuples!\n",
    "end\n",
    "\n",
    "solvemodel(0.1)"
   ]
  },
  {
   "cell_type": "code",
   "execution_count": 165,
   "id": "19e97298",
   "metadata": {
    "hide-output": false,
    "tags": []
   },
   "outputs": [
    {
     "name": "stdout",
     "output_type": "stream",
     "text": [
      "a = 0.010000000000000002, b = 0.020000000000000004, c = 0.030000000000000006\n"
     ]
    }
   ],
   "source": [
    "(;a, b, c) = solvemodel(0.1)\n",
    "println(\"a = $a, b = $b, c = $c\")"
   ]
  },
  {
   "cell_type": "markdown",
   "id": "d5b38808",
   "metadata": {},
   "source": [
    "### Higher-Order Functions"
   ]
  },
  {
   "cell_type": "code",
   "execution_count": 166,
   "id": "00b419ad",
   "metadata": {
    "hide-output": false,
    "tags": []
   },
   "outputs": [
    {
     "name": "stdout",
     "output_type": "stream",
     "text": [
      "twice(f, 2.0) = 16.0\n",
      "twice(g, 2.0) = 50.0\n"
     ]
    }
   ],
   "source": [
    "twice(f, x) = f(f(x))  # applies f to itself twice\n",
    "f(x) = x^2\n",
    "@show twice(f, 2.0)\n",
    "\n",
    "twice(x -> x^2, 2.0)\n",
    "a = 5\n",
    "g(x) = a * x\n",
    "@show twice(g, 2.0);   # using a closure"
   ]
  },
  {
   "cell_type": "code",
   "execution_count": 167,
   "id": "bdfdde75",
   "metadata": {
    "hide-output": false,
    "tags": []
   },
   "outputs": [
    {
     "data": {
      "text/plain": [
       "8.0"
      ]
     },
     "execution_count": 167,
     "metadata": {},
     "output_type": "execute_result"
    }
   ],
   "source": [
    "function multiplyit(a, g)\n",
    "    return x -> a * g(x) # function with `g` used in the closure\n",
    "end\n",
    "\n",
    "f(x) = x^2\n",
    "h = multiplyit(2.0, f) # returns function which doubles the result\n",
    "h(2)     # returned function is like any other function"
   ]
  },
  {
   "cell_type": "code",
   "execution_count": 168,
   "id": "f81ad44f",
   "metadata": {
    "hide-output": false,
    "tags": []
   },
   "outputs": [
    {
     "data": {
      "image/svg+xml": [
       "<?xml version=\"1.0\" encoding=\"utf-8\"?>\n",
       "<svg xmlns=\"http://www.w3.org/2000/svg\" xmlns:xlink=\"http://www.w3.org/1999/xlink\" width=\"600\" height=\"400\" viewBox=\"0 0 2400 1600\">\n",
       "<defs>\n",
       "  <clipPath id=\"clip720\">\n",
       "    <rect x=\"0\" y=\"0\" width=\"2400\" height=\"1600\"/>\n",
       "  </clipPath>\n",
       "</defs>\n",
       "<path clip-path=\"url(#clip720)\" d=\"M0 1600 L2400 1600 L2400 0 L0 0  Z\" fill=\"#ffffff\" fill-rule=\"evenodd\" fill-opacity=\"1\"/>\n",
       "<defs>\n",
       "  <clipPath id=\"clip721\">\n",
       "    <rect x=\"480\" y=\"0\" width=\"1681\" height=\"1600\"/>\n",
       "  </clipPath>\n",
       "</defs>\n",
       "<path clip-path=\"url(#clip720)\" d=\"M112.177 1486.45 L2352.76 1486.45 L2352.76 47.2441 L112.177 47.2441  Z\" fill=\"#ffffff\" fill-rule=\"evenodd\" fill-opacity=\"1\"/>\n",
       "<defs>\n",
       "  <clipPath id=\"clip722\">\n",
       "    <rect x=\"112\" y=\"47\" width=\"2242\" height=\"1440\"/>\n",
       "  </clipPath>\n",
       "</defs>\n",
       "<polyline clip-path=\"url(#clip722)\" style=\"stroke:#000000; stroke-linecap:round; stroke-linejoin:round; stroke-width:2; stroke-opacity:0.1; fill:none\" points=\"175.59,1486.45 175.59,47.2441 \"/>\n",
       "<polyline clip-path=\"url(#clip722)\" style=\"stroke:#000000; stroke-linecap:round; stroke-linejoin:round; stroke-width:2; stroke-opacity:0.1; fill:none\" points=\"880.174,1486.45 880.174,47.2441 \"/>\n",
       "<polyline clip-path=\"url(#clip722)\" style=\"stroke:#000000; stroke-linecap:round; stroke-linejoin:round; stroke-width:2; stroke-opacity:0.1; fill:none\" points=\"1584.76,1486.45 1584.76,47.2441 \"/>\n",
       "<polyline clip-path=\"url(#clip722)\" style=\"stroke:#000000; stroke-linecap:round; stroke-linejoin:round; stroke-width:2; stroke-opacity:0.1; fill:none\" points=\"2289.34,1486.45 2289.34,47.2441 \"/>\n",
       "<polyline clip-path=\"url(#clip720)\" style=\"stroke:#000000; stroke-linecap:round; stroke-linejoin:round; stroke-width:4; stroke-opacity:1; fill:none\" points=\"112.177,1486.45 2352.76,1486.45 \"/>\n",
       "<polyline clip-path=\"url(#clip720)\" style=\"stroke:#000000; stroke-linecap:round; stroke-linejoin:round; stroke-width:4; stroke-opacity:1; fill:none\" points=\"175.59,1486.45 175.59,1467.55 \"/>\n",
       "<polyline clip-path=\"url(#clip720)\" style=\"stroke:#000000; stroke-linecap:round; stroke-linejoin:round; stroke-width:4; stroke-opacity:1; fill:none\" points=\"880.174,1486.45 880.174,1467.55 \"/>\n",
       "<polyline clip-path=\"url(#clip720)\" style=\"stroke:#000000; stroke-linecap:round; stroke-linejoin:round; stroke-width:4; stroke-opacity:1; fill:none\" points=\"1584.76,1486.45 1584.76,1467.55 \"/>\n",
       "<polyline clip-path=\"url(#clip720)\" style=\"stroke:#000000; stroke-linecap:round; stroke-linejoin:round; stroke-width:4; stroke-opacity:1; fill:none\" points=\"2289.34,1486.45 2289.34,1467.55 \"/>\n",
       "<path clip-path=\"url(#clip720)\" d=\"M175.59 1517.37 Q171.979 1517.37 170.15 1520.93 Q168.344 1524.47 168.344 1531.6 Q168.344 1538.71 170.15 1542.27 Q171.979 1545.82 175.59 1545.82 Q179.224 1545.82 181.03 1542.27 Q182.858 1538.71 182.858 1531.6 Q182.858 1524.47 181.03 1520.93 Q179.224 1517.37 175.59 1517.37 M175.59 1513.66 Q181.4 1513.66 184.455 1518.27 Q187.534 1522.85 187.534 1531.6 Q187.534 1540.33 184.455 1544.94 Q181.4 1549.52 175.59 1549.52 Q169.78 1549.52 166.701 1544.94 Q163.645 1540.33 163.645 1531.6 Q163.645 1522.85 166.701 1518.27 Q169.78 1513.66 175.59 1513.66 Z\" fill=\"#000000\" fill-rule=\"evenodd\" fill-opacity=\"1\" /><path clip-path=\"url(#clip720)\" d=\"M870.556 1544.91 L878.195 1544.91 L878.195 1518.55 L869.885 1520.21 L869.885 1515.95 L878.149 1514.29 L882.825 1514.29 L882.825 1544.91 L890.464 1544.91 L890.464 1548.85 L870.556 1548.85 L870.556 1544.91 Z\" fill=\"#000000\" fill-rule=\"evenodd\" fill-opacity=\"1\" /><path clip-path=\"url(#clip720)\" d=\"M1579.41 1544.91 L1595.73 1544.91 L1595.73 1548.85 L1573.79 1548.85 L1573.79 1544.91 Q1576.45 1542.16 1581.03 1537.53 Q1585.64 1532.88 1586.82 1531.53 Q1589.06 1529.01 1589.94 1527.27 Q1590.85 1525.51 1590.85 1523.82 Q1590.85 1521.07 1588.9 1519.33 Q1586.98 1517.6 1583.88 1517.6 Q1581.68 1517.6 1579.23 1518.36 Q1576.8 1519.13 1574.02 1520.68 L1574.02 1515.95 Q1576.84 1514.82 1579.3 1514.24 Q1581.75 1513.66 1583.79 1513.66 Q1589.16 1513.66 1592.35 1516.35 Q1595.55 1519.03 1595.55 1523.52 Q1595.55 1525.65 1594.74 1527.57 Q1593.95 1529.47 1591.84 1532.07 Q1591.26 1532.74 1588.16 1535.95 Q1585.06 1539.15 1579.41 1544.91 Z\" fill=\"#000000\" fill-rule=\"evenodd\" fill-opacity=\"1\" /><path clip-path=\"url(#clip720)\" d=\"M2293.59 1530.21 Q2296.95 1530.93 2298.82 1533.2 Q2300.72 1535.47 2300.72 1538.8 Q2300.72 1543.92 2297.2 1546.72 Q2293.68 1549.52 2287.2 1549.52 Q2285.03 1549.52 2282.71 1549.08 Q2280.42 1548.66 2277.97 1547.81 L2277.97 1543.29 Q2279.91 1544.43 2282.23 1545.01 Q2284.54 1545.58 2287.06 1545.58 Q2291.46 1545.58 2293.75 1543.85 Q2296.07 1542.11 2296.07 1538.8 Q2296.07 1535.75 2293.92 1534.03 Q2291.79 1532.3 2287.97 1532.3 L2283.94 1532.3 L2283.94 1528.45 L2288.15 1528.45 Q2291.6 1528.45 2293.43 1527.09 Q2295.26 1525.7 2295.26 1523.11 Q2295.26 1520.45 2293.36 1519.03 Q2291.48 1517.6 2287.97 1517.6 Q2286.04 1517.6 2283.85 1518.01 Q2281.65 1518.43 2279.01 1519.31 L2279.01 1515.14 Q2281.67 1514.4 2283.98 1514.03 Q2286.32 1513.66 2288.38 1513.66 Q2293.71 1513.66 2296.81 1516.09 Q2299.91 1518.5 2299.91 1522.62 Q2299.91 1525.49 2298.27 1527.48 Q2296.62 1529.45 2293.59 1530.21 Z\" fill=\"#000000\" fill-rule=\"evenodd\" fill-opacity=\"1\" /><polyline clip-path=\"url(#clip722)\" style=\"stroke:#000000; stroke-linecap:round; stroke-linejoin:round; stroke-width:2; stroke-opacity:0.1; fill:none\" points=\"112.177,1445.72 2352.76,1445.72 \"/>\n",
       "<polyline clip-path=\"url(#clip722)\" style=\"stroke:#000000; stroke-linecap:round; stroke-linejoin:round; stroke-width:2; stroke-opacity:0.1; fill:none\" points=\"112.177,1174.17 2352.76,1174.17 \"/>\n",
       "<polyline clip-path=\"url(#clip722)\" style=\"stroke:#000000; stroke-linecap:round; stroke-linejoin:round; stroke-width:2; stroke-opacity:0.1; fill:none\" points=\"112.177,902.62 2352.76,902.62 \"/>\n",
       "<polyline clip-path=\"url(#clip722)\" style=\"stroke:#000000; stroke-linecap:round; stroke-linejoin:round; stroke-width:2; stroke-opacity:0.1; fill:none\" points=\"112.177,631.072 2352.76,631.072 \"/>\n",
       "<polyline clip-path=\"url(#clip722)\" style=\"stroke:#000000; stroke-linecap:round; stroke-linejoin:round; stroke-width:2; stroke-opacity:0.1; fill:none\" points=\"112.177,359.524 2352.76,359.524 \"/>\n",
       "<polyline clip-path=\"url(#clip722)\" style=\"stroke:#000000; stroke-linecap:round; stroke-linejoin:round; stroke-width:2; stroke-opacity:0.1; fill:none\" points=\"112.177,87.9763 2352.76,87.9763 \"/>\n",
       "<polyline clip-path=\"url(#clip720)\" style=\"stroke:#000000; stroke-linecap:round; stroke-linejoin:round; stroke-width:4; stroke-opacity:1; fill:none\" points=\"112.177,1486.45 112.177,47.2441 \"/>\n",
       "<polyline clip-path=\"url(#clip720)\" style=\"stroke:#000000; stroke-linecap:round; stroke-linejoin:round; stroke-width:4; stroke-opacity:1; fill:none\" points=\"112.177,1445.72 131.075,1445.72 \"/>\n",
       "<polyline clip-path=\"url(#clip720)\" style=\"stroke:#000000; stroke-linecap:round; stroke-linejoin:round; stroke-width:4; stroke-opacity:1; fill:none\" points=\"112.177,1174.17 131.075,1174.17 \"/>\n",
       "<polyline clip-path=\"url(#clip720)\" style=\"stroke:#000000; stroke-linecap:round; stroke-linejoin:round; stroke-width:4; stroke-opacity:1; fill:none\" points=\"112.177,902.62 131.075,902.62 \"/>\n",
       "<polyline clip-path=\"url(#clip720)\" style=\"stroke:#000000; stroke-linecap:round; stroke-linejoin:round; stroke-width:4; stroke-opacity:1; fill:none\" points=\"112.177,631.072 131.075,631.072 \"/>\n",
       "<polyline clip-path=\"url(#clip720)\" style=\"stroke:#000000; stroke-linecap:round; stroke-linejoin:round; stroke-width:4; stroke-opacity:1; fill:none\" points=\"112.177,359.524 131.075,359.524 \"/>\n",
       "<polyline clip-path=\"url(#clip720)\" style=\"stroke:#000000; stroke-linecap:round; stroke-linejoin:round; stroke-width:4; stroke-opacity:1; fill:none\" points=\"112.177,87.9763 131.075,87.9763 \"/>\n",
       "<path clip-path=\"url(#clip720)\" d=\"M66.5939 1432.51 L54.7884 1450.96 L66.5939 1450.96 L66.5939 1432.51 M65.367 1428.44 L71.2466 1428.44 L71.2466 1450.96 L76.1772 1450.96 L76.1772 1454.85 L71.2466 1454.85 L71.2466 1463 L66.5939 1463 L66.5939 1454.85 L50.9921 1454.85 L50.9921 1450.33 L65.367 1428.44 Z\" fill=\"#000000\" fill-rule=\"evenodd\" fill-opacity=\"1\" /><path clip-path=\"url(#clip720)\" d=\"M55.2745 1156.89 L73.6309 1156.89 L73.6309 1160.82 L59.5569 1160.82 L59.5569 1169.3 Q60.5754 1168.95 61.5939 1168.79 Q62.6124 1168.6 63.6309 1168.6 Q69.418 1168.6 72.7976 1171.77 Q76.1772 1174.94 76.1772 1180.36 Q76.1772 1185.94 72.705 1189.04 Q69.2328 1192.12 62.9134 1192.12 Q60.7374 1192.12 58.4689 1191.75 Q56.2236 1191.38 53.8162 1190.64 L53.8162 1185.94 Q55.8995 1187.07 58.1217 1187.63 Q60.3439 1188.18 62.8208 1188.18 Q66.8254 1188.18 69.1633 1186.08 Q71.5013 1183.97 71.5013 1180.36 Q71.5013 1176.75 69.1633 1174.64 Q66.8254 1172.54 62.8208 1172.54 Q60.9458 1172.54 59.0708 1172.95 Q57.2189 1173.37 55.2745 1174.25 L55.2745 1156.89 Z\" fill=\"#000000\" fill-rule=\"evenodd\" fill-opacity=\"1\" /><path clip-path=\"url(#clip720)\" d=\"M64.6495 900.757 Q61.5013 900.757 59.6495 902.909 Q57.8208 905.062 57.8208 908.812 Q57.8208 912.539 59.6495 914.715 Q61.5013 916.868 64.6495 916.868 Q67.7976 916.868 69.6263 914.715 Q71.4781 912.539 71.4781 908.812 Q71.4781 905.062 69.6263 902.909 Q67.7976 900.757 64.6495 900.757 M73.9318 886.104 L73.9318 890.363 Q72.1726 889.53 70.367 889.09 Q68.5846 888.65 66.8254 888.65 Q62.1958 888.65 59.7421 891.775 Q57.3115 894.9 56.9643 901.219 Q58.33 899.206 60.3902 898.141 Q62.4504 897.053 64.9272 897.053 Q70.1355 897.053 73.1448 900.224 Q76.1772 903.372 76.1772 908.812 Q76.1772 914.136 73.029 917.354 Q69.8809 920.571 64.6495 920.571 Q58.6541 920.571 55.4828 915.988 Q52.3116 911.381 52.3116 902.655 Q52.3116 894.46 56.2004 889.599 Q60.0893 884.715 66.6402 884.715 Q68.3994 884.715 70.1818 885.062 Q71.9874 885.409 73.9318 886.104 Z\" fill=\"#000000\" fill-rule=\"evenodd\" fill-opacity=\"1\" /><path clip-path=\"url(#clip720)\" d=\"M53.9551 613.792 L76.1772 613.792 L76.1772 615.783 L63.6309 648.352 L58.7467 648.352 L70.5522 617.727 L53.9551 617.727 L53.9551 613.792 Z\" fill=\"#000000\" fill-rule=\"evenodd\" fill-opacity=\"1\" /><path clip-path=\"url(#clip720)\" d=\"M64.3254 360.392 Q60.9921 360.392 59.0708 362.175 Q57.1726 363.957 57.1726 367.082 Q57.1726 370.207 59.0708 371.989 Q60.9921 373.772 64.3254 373.772 Q67.6587 373.772 69.58 371.989 Q71.5013 370.184 71.5013 367.082 Q71.5013 363.957 69.58 362.175 Q67.6819 360.392 64.3254 360.392 M59.6495 358.401 Q56.6402 357.661 54.9504 355.601 Q53.2838 353.54 53.2838 350.577 Q53.2838 346.434 56.2236 344.027 Q59.1865 341.619 64.3254 341.619 Q69.4874 341.619 72.4272 344.027 Q75.367 346.434 75.367 350.577 Q75.367 353.54 73.6772 355.601 Q72.0105 357.661 69.0244 358.401 Q72.404 359.189 74.279 361.48 Q76.1772 363.772 76.1772 367.082 Q76.1772 372.105 73.0985 374.79 Q70.0429 377.475 64.3254 377.475 Q58.6078 377.475 55.5291 374.79 Q52.4736 372.105 52.4736 367.082 Q52.4736 363.772 54.3717 361.48 Q56.2699 359.189 59.6495 358.401 M57.9365 351.017 Q57.9365 353.702 59.6032 355.207 Q61.293 356.712 64.3254 356.712 Q67.3346 356.712 69.0244 355.207 Q70.7374 353.702 70.7374 351.017 Q70.7374 348.332 69.0244 346.827 Q67.3346 345.323 64.3254 345.323 Q61.293 345.323 59.6032 346.827 Q57.9365 348.332 57.9365 351.017 Z\" fill=\"#000000\" fill-rule=\"evenodd\" fill-opacity=\"1\" /><path clip-path=\"url(#clip720)\" d=\"M54.5569 104.539 L54.5569 100.279 Q56.3162 101.113 58.1217 101.553 Q59.9273 101.992 61.6634 101.992 Q66.293 101.992 68.7235 98.8906 Q71.1772 95.7656 71.5244 89.423 Q70.1818 91.4138 68.1217 92.4786 Q66.0615 93.5434 63.5615 93.5434 Q58.3763 93.5434 55.344 90.4184 Q52.3347 87.2703 52.3347 81.8305 Q52.3347 76.5064 55.4828 73.2889 Q58.631 70.0713 63.8624 70.0713 Q69.8578 70.0713 73.0059 74.6777 Q76.1772 79.261 76.1772 88.011 Q76.1772 96.1823 72.2883 101.066 Q68.4226 105.928 61.8717 105.928 Q60.1124 105.928 58.3069 105.58 Q56.5014 105.233 54.5569 104.539 M63.8624 89.886 Q67.0106 89.886 68.8393 87.7332 Q70.6911 85.5805 70.6911 81.8305 Q70.6911 78.1036 68.8393 75.9509 Q67.0106 73.775 63.8624 73.775 Q60.7143 73.775 58.8625 75.9509 Q57.0338 78.1036 57.0338 81.8305 Q57.0338 85.5805 58.8625 87.7332 Q60.7143 89.886 63.8624 89.886 Z\" fill=\"#000000\" fill-rule=\"evenodd\" fill-opacity=\"1\" /><polyline clip-path=\"url(#clip722)\" style=\"stroke:#009af9; stroke-linecap:round; stroke-linejoin:round; stroke-width:4; stroke-opacity:1; fill:none\" points=\"175.59,1445.72 246.048,1445.72 316.507,1445.72 386.965,1445.72 457.424,1445.72 527.882,1445.72 598.34,1445.72 668.799,1445.72 739.257,1445.72 809.716,1445.72 880.174,1445.72 950.633,1445.72 1021.09,1445.72 1091.55,1445.72 1162.01,1445.72 1232.47,1445.72 1302.92,1445.72 1373.38,1445.72 1443.84,1445.72 1514.3,1445.72 1584.76,1445.72 1655.22,1334.38 1725.68,1217.62 1796.13,1095.42 1866.59,967.791 1937.05,834.733 2007.51,696.244 2077.97,552.323 2148.43,402.972 2218.88,248.19 2289.34,87.9763 \"/>\n",
       "<path clip-path=\"url(#clip720)\" d=\"M186.863 198.898 L463.351 198.898 L463.351 95.2176 L186.863 95.2176  Z\" fill=\"#ffffff\" fill-rule=\"evenodd\" fill-opacity=\"1\"/>\n",
       "<polyline clip-path=\"url(#clip720)\" style=\"stroke:#000000; stroke-linecap:round; stroke-linejoin:round; stroke-width:4; stroke-opacity:1; fill:none\" points=\"186.863,198.898 463.351,198.898 463.351,95.2176 186.863,95.2176 186.863,198.898 \"/>\n",
       "<polyline clip-path=\"url(#clip720)\" style=\"stroke:#009af9; stroke-linecap:round; stroke-linejoin:round; stroke-width:4; stroke-opacity:1; fill:none\" points=\"211.758,147.058 361.13,147.058 \"/>\n",
       "<path clip-path=\"url(#clip720)\" d=\"M399.868 166.745 Q398.063 171.375 396.35 172.787 Q394.637 174.199 391.766 174.199 L388.364 174.199 L388.364 170.634 L390.864 170.634 Q392.623 170.634 393.595 169.8 Q394.567 168.967 395.748 165.865 L396.512 163.921 L386.026 138.412 L390.54 138.412 L398.641 158.689 L406.743 138.412 L411.257 138.412 L399.868 166.745 Z\" fill=\"#000000\" fill-rule=\"evenodd\" fill-opacity=\"1\" /><path clip-path=\"url(#clip720)\" d=\"M418.549 160.402 L426.188 160.402 L426.188 134.037 L417.877 135.703 L417.877 131.444 L426.141 129.778 L430.817 129.778 L430.817 160.402 L438.456 160.402 L438.456 164.338 L418.549 164.338 L418.549 160.402 Z\" fill=\"#000000\" fill-rule=\"evenodd\" fill-opacity=\"1\" /></svg>\n"
      ]
     },
     "execution_count": 168,
     "metadata": {},
     "output_type": "execute_result"
    }
   ],
   "source": [
    "function snapabove2(g, a)\n",
    "    return x -> x > a ? g(x) : g(a) # returns a closure\n",
    "end\n",
    "plot(snapabove2(f, 2.0), 0.0:0.1:3.0)"
   ]
  },
  {
   "cell_type": "markdown",
   "id": "7bf66060",
   "metadata": {},
   "source": [
    "### Loops"
   ]
  },
  {
   "cell_type": "code",
   "execution_count": 169,
   "id": "98211d0d",
   "metadata": {
    "hide-output": false,
    "tags": []
   },
   "outputs": [
    {
     "name": "stdout",
     "output_type": "stream",
     "text": [
      "1\n",
      "2\n",
      "1\n",
      "2\n"
     ]
    }
   ],
   "source": [
    "for i in 1:2  # introduces local i\n",
    "    dval1 = i\n",
    "    println(i)\n",
    "end\n",
    "\n",
    "# @show (i, dval1)  # would fail as neither exists in this scope\n",
    "\n",
    "for i in 1:2  # introduces a different local i\n",
    "    println(i)\n",
    "end"
   ]
  },
  {
   "cell_type": "code",
   "execution_count": 170,
   "id": "c62efd07",
   "metadata": {
    "hide-output": false,
    "tags": []
   },
   "outputs": [
    {
     "data": {
      "text/plain": [
       "2"
      ]
     },
     "execution_count": 170,
     "metadata": {},
     "output_type": "execute_result"
    }
   ],
   "source": [
    "dval2 = 0  # introduces variables\n",
    "for i in 1:2   # introduces local i\n",
    "    dval2 = i  # refers to outer variable\n",
    "end\n",
    "\n",
    "dval2 # still can't refer to `i`"
   ]
  },
  {
   "cell_type": "markdown",
   "id": "8f22e216",
   "metadata": {},
   "source": [
    "Similarly, for while loops"
   ]
  },
  {
   "cell_type": "code",
   "execution_count": 171,
   "id": "63497508",
   "metadata": {
    "hide-output": false,
    "tags": []
   },
   "outputs": [
    {
     "name": "stdout",
     "output_type": "stream",
     "text": [
      "val = 0.001953125\n"
     ]
    }
   ],
   "source": [
    "val = 1.0\n",
    "tol = 0.002\n",
    "while val > tol\n",
    "    old = val\n",
    "    val = val / 2\n",
    "    difference = val - old\n",
    "end\n",
    "\n",
    "@show val;\n",
    "# @show difference fails, not in scope"
   ]
  },
  {
   "cell_type": "markdown",
   "id": "987d8cc3",
   "metadata": {},
   "source": [
    "### A Quick Check for Scoping Design"
   ]
  },
  {
   "cell_type": "code",
   "execution_count": 172,
   "id": "0dad5951",
   "metadata": {
    "hide-output": false,
    "tags": []
   },
   "outputs": [
    {
     "name": "stdout",
     "output_type": "stream",
     "text": [
      "z = 12.0\n"
     ]
    }
   ],
   "source": [
    "x = 2.0\n",
    "f(y) = x + y\n",
    "z = f(4.0)\n",
    "\n",
    "for i in 1:3\n",
    "    z += i\n",
    "end\n",
    "\n",
    "println(\"z = $z\")"
   ]
  },
  {
   "cell_type": "markdown",
   "id": "580d42db",
   "metadata": {},
   "source": []
  },
  {
   "cell_type": "code",
   "execution_count": 173,
   "id": "224707f0",
   "metadata": {
    "hide-output": false,
    "tags": []
   },
   "outputs": [
    {
     "name": "stdout",
     "output_type": "stream",
     "text": [
      "z = 12.0\n"
     ]
    }
   ],
   "source": [
    "function wrapped()\n",
    "    x = 2.0\n",
    "    f(y) = x + y\n",
    "    z = f(4.0)\n",
    "\n",
    "    for i in 1:3\n",
    "        z += i\n",
    "    end\n",
    "\n",
    "    println(\"z = $z\")\n",
    "end\n",
    "\n",
    "wrapped()"
   ]
  },
  {
   "cell_type": "markdown",
   "id": "942fed6d",
   "metadata": {},
   "source": [
    "## Exercises\n",
    "\n",
    "\n",
    "<a id='pyess-ex1'></a>"
   ]
  },
  {
   "cell_type": "markdown",
   "id": "7f591679",
   "metadata": {},
   "source": [
    "### Exercise 1\n",
    "\n",
    "Part 1: Given two numeric arrays or tuples `x_vals` and `y_vals` of equal length, compute\n",
    "their inner product using `zip()`.\n",
    "\n",
    "Part 2: Using a comprehension, count the number of even numbers between 0 and 99.\n",
    "\n",
    "- Hint: `iseven` returns `true` for even numbers and `false` for odds.  \n",
    "\n",
    "\n",
    "Part 3: Using a comprehension, take `my_pairs = ((2, 5), (4, 2), (9, 8), (12, 10))` and count the number of pairs `(a, b)` such that both `a` and `b` are even.\n",
    "\n",
    "\n",
    "<a id='pyess-ex2'></a>"
   ]
  },
  {
   "cell_type": "markdown",
   "id": "edc13611",
   "metadata": {},
   "source": [
    "### Exercise 2\n",
    "\n",
    "Consider the polynomial\n",
    "\n",
    "\n",
    "<a id='equation-polynom0'></a>\n",
    "$$\n",
    "p(x)\n",
    "= a_0 + a_1 x + a_2 x^2 + \\cdots a_n x^n\n",
    "= \\sum_{i=0}^n a_i x^i \\tag{3.1}\n",
    "$$\n",
    "\n",
    "Using `enumerate()` in your loop, write a function `p` such that `p(x, coeff)` computes the value in [(3.1)](#equation-polynom0) given a point `x` and an array of coefficients `coeff`.\n",
    "\n",
    "\n",
    "<a id='pyess-ex3'></a>"
   ]
  },
  {
   "cell_type": "markdown",
   "id": "e4498458",
   "metadata": {},
   "source": [
    "### Exercise 3\n",
    "\n",
    "Write a function that takes a string as an argument and returns the number of capital letters in the string.\n",
    "\n",
    "Hint: `uppercase(\"foo\")` returns `\"FOO\"`.\n",
    "\n",
    "\n",
    "<a id='pyess-ex4'></a>"
   ]
  },
  {
   "cell_type": "markdown",
   "id": "117d3b04",
   "metadata": {},
   "source": [
    "### Exercise 4\n",
    "\n",
    "Write a function that takes two sequences `seq_a` and `seq_b` as arguments and\n",
    "returns `true` if every element in `seq_a` is also an element of `seq_b`, else\n",
    "`false`.\n",
    "\n",
    "- By “sequence” we mean an array, tuple or string.  \n",
    "\n",
    "\n",
    "\n",
    "<a id='pyess-ex5'></a>"
   ]
  },
  {
   "cell_type": "markdown",
   "id": "019710ba",
   "metadata": {},
   "source": [
    "### Exercise 5\n",
    "\n",
    "The Julia libraries include functions for interpolation and approximation.\n",
    "\n",
    "Nevertheless, let’s write our own function approximation routine as an exercise.\n",
    "\n",
    "In particular, write a function `linapprox` that takes as arguments\n",
    "\n",
    "- A function `f` mapping some interval $ [a, b] $ into $ \\mathbb R $.  \n",
    "- two scalars `a` and `b` providing the limits of this interval.  \n",
    "- An integer `n` determining the number of grid points.  \n",
    "- A number `x` satisfying `a ≤ x ≤ b`.  \n",
    "\n",
    "\n",
    "and returns the [piecewise linear interpolation](https://en.wikipedia.org/wiki/Linear_interpolation) of `f` at `x`, based on `n` evenly spaced grid points `a = point[1] < point[2] < ... < point[n] = b`.\n",
    "\n",
    "Aim for clarity, not efficiency.\n",
    "\n",
    "Hint: use the function `range` to linearly space numbers."
   ]
  },
  {
   "cell_type": "markdown",
   "id": "f932db5c",
   "metadata": {},
   "source": [
    "### Exercise 6\n",
    "\n",
    "The following data lists US cities and their populations.\n",
    "\n",
    "Copy this text into a text file called `us_cities.txt` and save it in your present working directory.\n",
    "\n",
    "- That is, save it in the location Julia returns when you call `pwd()`.  \n",
    "\n",
    "\n",
    "This can also be achieved by running the following Julia code:"
   ]
  },
  {
   "cell_type": "code",
   "execution_count": null,
   "id": "c79b7a18",
   "metadata": {
    "hide-output": false
   },
   "outputs": [],
   "source": [
    "open(\"us_cities.txt\", \"w\") do f\n",
    "  write(f,\n",
    "\"new york: 8244910\n",
    "los angeles: 3819702\n",
    "chicago: 2707120\n",
    "houston: 2145146\n",
    "philadelphia: 1536471\n",
    "phoenix: 1469471\n",
    "san antonio: 1359758\n",
    "san diego: 1326179\n",
    "dallas: 1223229\")\n",
    "end"
   ]
  },
  {
   "cell_type": "markdown",
   "id": "9054775c",
   "metadata": {},
   "source": [
    "Write a program to calculate total population across these cities.\n",
    "\n",
    "Hints:\n",
    "\n",
    "- If `f` is a file type then `eachline(f)` provides an iterable that steps you through the lines in the file.  \n",
    "- `parse(Int, \"100\")` converts the string `\"100\"` into an integer.  \n",
    "\n",
    "\n",
    "\n",
    "<a id='pyess-ex7'></a>"
   ]
  },
  {
   "cell_type": "markdown",
   "id": "59948958",
   "metadata": {},
   "source": [
    "### Exercise 7\n",
    "\n",
    "Redo Exercise 5 except\n",
    "\n",
    "1. Pass in a range instead of the `a, b,` and `n`.  Test with a range such as `nodes = -1.0:0.5:1.0`.  \n",
    "1. Instead of the `while` used in the solution to Exercise 5, find a better way to efficiently bracket the `x` in the nodes.  \n",
    "\n",
    "\n",
    "Hints:\n",
    "\n",
    "- Rather than the signature as `function linapprox(f, a, b, n, x)`, it should be called as `function linapprox(f, nodes, x)`.  \n",
    "- `step(nodes), length(nodes), nodes[1]`, and `nodes[end]` may be useful.  \n",
    "- Type `?÷` into jupyter to explore quotients from Euclidean division for more efficient bracketing.  "
   ]
  },
  {
   "cell_type": "markdown",
   "id": "5cb4413d",
   "metadata": {},
   "source": [
    "## Solutions"
   ]
  },
  {
   "cell_type": "markdown",
   "id": "f17b66fe",
   "metadata": {},
   "source": [
    "### Exercise 1\n",
    "\n",
    "Part 1 solution:\n",
    "\n",
    "Here’s one possible solution"
   ]
  },
  {
   "cell_type": "code",
   "execution_count": null,
   "id": "95750ebe",
   "metadata": {
    "hide-output": false
   },
   "outputs": [],
   "source": [
    "x_vals = [1, 2, 3]\n",
    "y_vals = [1, 1, 1]\n",
    "sum(x * y for (x, y) in zip(x_vals, y_vals))"
   ]
  },
  {
   "cell_type": "markdown",
   "id": "a9f91820",
   "metadata": {},
   "source": [
    "Part 2 solution:\n",
    "\n",
    "One solution is"
   ]
  },
  {
   "cell_type": "code",
   "execution_count": null,
   "id": "bded418b",
   "metadata": {
    "hide-output": false
   },
   "outputs": [],
   "source": [
    "sum(iseven, 0:99)"
   ]
  },
  {
   "cell_type": "markdown",
   "id": "1d525b73",
   "metadata": {},
   "source": [
    "Part 3 solution:\n",
    "\n",
    "Here’s one possibility"
   ]
  },
  {
   "cell_type": "code",
   "execution_count": null,
   "id": "1b171b3e",
   "metadata": {
    "hide-output": false
   },
   "outputs": [],
   "source": [
    "pairs = ((2, 5), (4, 2), (9, 8), (12, 10))\n",
    "sum(xy -> all(iseven, xy), pairs)"
   ]
  },
  {
   "cell_type": "markdown",
   "id": "e711e40e",
   "metadata": {},
   "source": [
    "### Exercise 2"
   ]
  },
  {
   "cell_type": "code",
   "execution_count": null,
   "id": "ebfd2073",
   "metadata": {
    "hide-output": false
   },
   "outputs": [],
   "source": [
    "p(x, coeff) = sum(a * x^(i-1) for (i, a) in enumerate(coeff))"
   ]
  },
  {
   "cell_type": "code",
   "execution_count": null,
   "id": "5fdd4f14",
   "metadata": {
    "hide-output": false
   },
   "outputs": [],
   "source": [
    "p(1, (2, 4))"
   ]
  },
  {
   "cell_type": "markdown",
   "id": "41f31566",
   "metadata": {},
   "source": [
    "### Exercise 3\n",
    "\n",
    "Here’s one solutions:"
   ]
  },
  {
   "cell_type": "code",
   "execution_count": null,
   "id": "f312eeda",
   "metadata": {
    "hide-output": false
   },
   "outputs": [],
   "source": [
    "function f_ex3(string)\n",
    "    count = 0\n",
    "    for letter in string\n",
    "        if (letter == uppercase(letter)) && isletter(letter)\n",
    "            count += 1\n",
    "        end\n",
    "    end\n",
    "    return count\n",
    "end\n",
    "\n",
    "f_ex3(\"The Rain in Spain\")"
   ]
  },
  {
   "cell_type": "markdown",
   "id": "23f09eb7",
   "metadata": {},
   "source": [
    "### Exercise 4\n",
    "\n",
    "Here’s one solutions:"
   ]
  },
  {
   "cell_type": "code",
   "execution_count": null,
   "id": "4be0a590",
   "metadata": {
    "hide-output": false
   },
   "outputs": [],
   "source": [
    "function f_ex4(seq_a, seq_b)\n",
    "    is_subset = true\n",
    "    for a in seq_a\n",
    "        if a ∉ seq_b\n",
    "            is_subset = false\n",
    "        end\n",
    "    end\n",
    "    return is_subset\n",
    "end\n",
    "\n",
    "# test\n",
    "println(f_ex4([1, 2], [1, 2, 3]))\n",
    "println(f_ex4([1, 2, 3], [1, 2]))"
   ]
  },
  {
   "cell_type": "markdown",
   "id": "b4fb676b",
   "metadata": {},
   "source": [
    "if we use the Set data type then the solution is easier"
   ]
  },
  {
   "cell_type": "code",
   "execution_count": null,
   "id": "a5749790",
   "metadata": {
    "hide-output": false
   },
   "outputs": [],
   "source": [
    "f_ex4_2(seq_a, seq_b) = Set(seq_a) ⊆ Set(seq_b) # \\subseteq (⊆) is unicode for `issubset`\n",
    "\n",
    "println(f_ex4_2([1, 2], [1, 2, 3]))\n",
    "println(f_ex4_2([1, 2, 3], [1, 2]))"
   ]
  },
  {
   "cell_type": "markdown",
   "id": "c64ae43e",
   "metadata": {},
   "source": [
    "### Exercise 5"
   ]
  },
  {
   "cell_type": "code",
   "execution_count": null,
   "id": "0ee2756b",
   "metadata": {
    "hide-output": false
   },
   "outputs": [],
   "source": [
    "function linapprox(f, a, b, n, x)\n",
    "    # evaluates the piecewise linear interpolant of f at x,\n",
    "    # on the interval [a, b], with n evenly spaced grid points.\n",
    "\n",
    "    length_of_interval = b - a\n",
    "    num_subintervals = n - 1\n",
    "    step = length_of_interval / num_subintervals\n",
    "\n",
    "    # find first grid point larger than x\n",
    "    point = a\n",
    "    while point ≤ x\n",
    "        point += step\n",
    "    end\n",
    "\n",
    "    # x must lie between the gridpoints (point - step) and point\n",
    "    u, v = point - step, point\n",
    "\n",
    "    return f(u) + (x - u) * (f(v) - f(u)) / (v - u)\n",
    "end"
   ]
  },
  {
   "cell_type": "markdown",
   "id": "fe639d44",
   "metadata": {},
   "source": [
    "Let’s test it"
   ]
  },
  {
   "cell_type": "code",
   "execution_count": null,
   "id": "58dd3e2b",
   "metadata": {
    "hide-output": false
   },
   "outputs": [],
   "source": [
    "f_ex5(x) = x^2\n",
    "g_ex5(x) = linapprox(f_ex5, -1, 1, 3, x)"
   ]
  },
  {
   "cell_type": "code",
   "execution_count": null,
   "id": "c163f9a4",
   "metadata": {
    "hide-output": false
   },
   "outputs": [],
   "source": [
    "x_grid = range(-1.0, 1.0, length = 100)\n",
    "y_vals = f_ex5.(x_grid)\n",
    "y = g_ex5.(x_grid)\n",
    "plot(x_grid, y_vals, label = \"true\")\n",
    "plot!(x_grid, y, label = \"approximation\")"
   ]
  },
  {
   "cell_type": "markdown",
   "id": "33227869",
   "metadata": {},
   "source": [
    "### Exercise 6"
   ]
  },
  {
   "cell_type": "code",
   "execution_count": null,
   "id": "206cff89",
   "metadata": {
    "hide-output": false
   },
   "outputs": [],
   "source": [
    "f_ex6 = open(\"us_cities.txt\", \"r\")\n",
    "total_pop = 0\n",
    "for line in eachline(f_ex6)\n",
    "    city, population = split(line, ':')  # tuple unpacking\n",
    "    total_pop += parse(Int, population)\n",
    "end\n",
    "close(f_ex6)\n",
    "println(\"Total population = $total_pop\")"
   ]
  }
 ],
 "metadata": {
  "date": 1674536743.7348366,
  "filename": "julia_essentials.md",
  "kernelspec": {
   "display_name": "Julia 1.8.5",
   "language": "julia",
   "name": "julia-1.8"
  },
  "language_info": {
   "file_extension": ".jl",
   "mimetype": "application/julia",
   "name": "julia",
   "version": "1.8.5"
  },
  "title": "Julia Essentials"
 },
 "nbformat": 4,
 "nbformat_minor": 5
}
