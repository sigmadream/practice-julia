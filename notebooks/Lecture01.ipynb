{
 "cells": [
  {
   "cell_type": "markdown",
   "id": "85cb79b1-9528-4b2a-8471-2dd28227e7a9",
   "metadata": {},
   "source": [
    "# Intro\n",
    "* Julia 공식 튜토리얼(추천) : https://julialang.org/learning/tutorials/\n",
    "* 강의\n",
    "    * https://juliaacademy.com/p/intro-to-julia\n",
    "    * https://www.youtube.com/playlist?list=PLhQ2JMBcfAsi_3g2AFJ6B84d8c5jw5kXp\n",
    "    * https://www.youtube.com/playlist?list=PLP8iPy9hna6Qpx0MgGyElJ5qFlaIXYf1R"
   ]
  },
  {
   "cell_type": "markdown",
   "id": "5639049f-398e-4f94-9861-6034256beeff",
   "metadata": {},
   "source": [
    "## Check!\n",
    "- 우리의 개발 환경이 올바르게 구성되어 있는지 확인"
   ]
  },
  {
   "cell_type": "code",
   "execution_count": 1,
   "id": "df93e835-59df-4f44-9e4e-68543dbe417b",
   "metadata": {
    "tags": []
   },
   "outputs": [
    {
     "data": {
      "image/svg+xml": [
       "<?xml version=\"1.0\" encoding=\"utf-8\"?>\n",
       "<svg xmlns=\"http://www.w3.org/2000/svg\" xmlns:xlink=\"http://www.w3.org/1999/xlink\" width=\"600\" height=\"400\" viewBox=\"0 0 2400 1600\">\n",
       "<defs>\n",
       "  <clipPath id=\"clip200\">\n",
       "    <rect x=\"0\" y=\"0\" width=\"2400\" height=\"1600\"/>\n",
       "  </clipPath>\n",
       "</defs>\n",
       "<path clip-path=\"url(#clip200)\" d=\"M0 1600 L2400 1600 L2400 0 L0 0  Z\" fill=\"#ffffff\" fill-rule=\"evenodd\" fill-opacity=\"1\"/>\n",
       "<defs>\n",
       "  <clipPath id=\"clip201\">\n",
       "    <rect x=\"480\" y=\"0\" width=\"1681\" height=\"1600\"/>\n",
       "  </clipPath>\n",
       "</defs>\n",
       "<path clip-path=\"url(#clip200)\" d=\"M193.936 1486.45 L2352.76 1486.45 L2352.76 47.2441 L193.936 47.2441  Z\" fill=\"#ffffff\" fill-rule=\"evenodd\" fill-opacity=\"1\"/>\n",
       "<defs>\n",
       "  <clipPath id=\"clip202\">\n",
       "    <rect x=\"193\" y=\"47\" width=\"2160\" height=\"1440\"/>\n",
       "  </clipPath>\n",
       "</defs>\n",
       "<polyline clip-path=\"url(#clip202)\" style=\"stroke:#000000; stroke-linecap:round; stroke-linejoin:round; stroke-width:2; stroke-opacity:0.1; fill:none\" points=\"463,1486.45 463,47.2441 \"/>\n",
       "<polyline clip-path=\"url(#clip202)\" style=\"stroke:#000000; stroke-linecap:round; stroke-linejoin:round; stroke-width:2; stroke-opacity:0.1; fill:none\" points=\"868.173,1486.45 868.173,47.2441 \"/>\n",
       "<polyline clip-path=\"url(#clip202)\" style=\"stroke:#000000; stroke-linecap:round; stroke-linejoin:round; stroke-width:2; stroke-opacity:0.1; fill:none\" points=\"1273.35,1486.45 1273.35,47.2441 \"/>\n",
       "<polyline clip-path=\"url(#clip202)\" style=\"stroke:#000000; stroke-linecap:round; stroke-linejoin:round; stroke-width:2; stroke-opacity:0.1; fill:none\" points=\"1678.52,1486.45 1678.52,47.2441 \"/>\n",
       "<polyline clip-path=\"url(#clip202)\" style=\"stroke:#000000; stroke-linecap:round; stroke-linejoin:round; stroke-width:2; stroke-opacity:0.1; fill:none\" points=\"2083.69,1486.45 2083.69,47.2441 \"/>\n",
       "<polyline clip-path=\"url(#clip200)\" style=\"stroke:#000000; stroke-linecap:round; stroke-linejoin:round; stroke-width:4; stroke-opacity:1; fill:none\" points=\"193.936,1486.45 2352.76,1486.45 \"/>\n",
       "<polyline clip-path=\"url(#clip200)\" style=\"stroke:#000000; stroke-linecap:round; stroke-linejoin:round; stroke-width:4; stroke-opacity:1; fill:none\" points=\"463,1486.45 463,1467.55 \"/>\n",
       "<polyline clip-path=\"url(#clip200)\" style=\"stroke:#000000; stroke-linecap:round; stroke-linejoin:round; stroke-width:4; stroke-opacity:1; fill:none\" points=\"868.173,1486.45 868.173,1467.55 \"/>\n",
       "<polyline clip-path=\"url(#clip200)\" style=\"stroke:#000000; stroke-linecap:round; stroke-linejoin:round; stroke-width:4; stroke-opacity:1; fill:none\" points=\"1273.35,1486.45 1273.35,1467.55 \"/>\n",
       "<polyline clip-path=\"url(#clip200)\" style=\"stroke:#000000; stroke-linecap:round; stroke-linejoin:round; stroke-width:4; stroke-opacity:1; fill:none\" points=\"1678.52,1486.45 1678.52,1467.55 \"/>\n",
       "<polyline clip-path=\"url(#clip200)\" style=\"stroke:#000000; stroke-linecap:round; stroke-linejoin:round; stroke-width:4; stroke-opacity:1; fill:none\" points=\"2083.69,1486.45 2083.69,1467.55 \"/>\n",
       "<path clip-path=\"url(#clip200)\" d=\"M409.528 1532.02 L439.203 1532.02 L439.203 1535.95 L409.528 1535.95 L409.528 1532.02 Z\" fill=\"#000000\" fill-rule=\"evenodd\" fill-opacity=\"1\" /><path clip-path=\"url(#clip200)\" d=\"M449.342 1514.29 L467.699 1514.29 L467.699 1518.22 L453.625 1518.22 L453.625 1526.7 Q454.643 1526.35 455.662 1526.19 Q456.68 1526 457.699 1526 Q463.486 1526 466.865 1529.17 Q470.245 1532.34 470.245 1537.76 Q470.245 1543.34 466.773 1546.44 Q463.301 1549.52 456.981 1549.52 Q454.805 1549.52 452.537 1549.15 Q450.291 1548.78 447.884 1548.04 L447.884 1543.34 Q449.967 1544.47 452.189 1545.03 Q454.412 1545.58 456.889 1545.58 Q460.893 1545.58 463.231 1543.48 Q465.569 1541.37 465.569 1537.76 Q465.569 1534.15 463.231 1532.04 Q460.893 1529.94 456.889 1529.94 Q455.014 1529.94 453.139 1530.35 Q451.287 1530.77 449.342 1531.65 L449.342 1514.29 Z\" fill=\"#000000\" fill-rule=\"evenodd\" fill-opacity=\"1\" /><path clip-path=\"url(#clip200)\" d=\"M479.458 1542.97 L484.342 1542.97 L484.342 1548.85 L479.458 1548.85 L479.458 1542.97 Z\" fill=\"#000000\" fill-rule=\"evenodd\" fill-opacity=\"1\" /><path clip-path=\"url(#clip200)\" d=\"M504.527 1517.37 Q500.916 1517.37 499.087 1520.93 Q497.282 1524.47 497.282 1531.6 Q497.282 1538.71 499.087 1542.27 Q500.916 1545.82 504.527 1545.82 Q508.161 1545.82 509.967 1542.27 Q511.796 1538.71 511.796 1531.6 Q511.796 1524.47 509.967 1520.93 Q508.161 1517.37 504.527 1517.37 M504.527 1513.66 Q510.337 1513.66 513.393 1518.27 Q516.472 1522.85 516.472 1531.6 Q516.472 1540.33 513.393 1544.94 Q510.337 1549.52 504.527 1549.52 Q498.717 1549.52 495.638 1544.94 Q492.583 1540.33 492.583 1531.6 Q492.583 1522.85 495.638 1518.27 Q498.717 1513.66 504.527 1513.66 Z\" fill=\"#000000\" fill-rule=\"evenodd\" fill-opacity=\"1\" /><path clip-path=\"url(#clip200)\" d=\"M815.199 1532.02 L844.874 1532.02 L844.874 1535.95 L815.199 1535.95 L815.199 1532.02 Z\" fill=\"#000000\" fill-rule=\"evenodd\" fill-opacity=\"1\" /><path clip-path=\"url(#clip200)\" d=\"M858.995 1544.91 L875.314 1544.91 L875.314 1548.85 L853.37 1548.85 L853.37 1544.91 Q856.032 1542.16 860.615 1537.53 Q865.221 1532.88 866.402 1531.53 Q868.647 1529.01 869.527 1527.27 Q870.43 1525.51 870.43 1523.82 Q870.43 1521.07 868.485 1519.33 Q866.564 1517.6 863.462 1517.6 Q861.263 1517.6 858.809 1518.36 Q856.379 1519.13 853.601 1520.68 L853.601 1515.95 Q856.425 1514.82 858.879 1514.24 Q861.333 1513.66 863.37 1513.66 Q868.74 1513.66 871.934 1516.35 Q875.129 1519.03 875.129 1523.52 Q875.129 1525.65 874.319 1527.57 Q873.532 1529.47 871.425 1532.07 Q870.846 1532.74 867.745 1535.95 Q864.643 1539.15 858.995 1544.91 Z\" fill=\"#000000\" fill-rule=\"evenodd\" fill-opacity=\"1\" /><path clip-path=\"url(#clip200)\" d=\"M885.129 1542.97 L890.013 1542.97 L890.013 1548.85 L885.129 1548.85 L885.129 1542.97 Z\" fill=\"#000000\" fill-rule=\"evenodd\" fill-opacity=\"1\" /><path clip-path=\"url(#clip200)\" d=\"M900.244 1514.29 L918.601 1514.29 L918.601 1518.22 L904.527 1518.22 L904.527 1526.7 Q905.545 1526.35 906.564 1526.19 Q907.582 1526 908.601 1526 Q914.388 1526 917.767 1529.17 Q921.147 1532.34 921.147 1537.76 Q921.147 1543.34 917.675 1546.44 Q914.203 1549.52 907.883 1549.52 Q905.707 1549.52 903.439 1549.15 Q901.193 1548.78 898.786 1548.04 L898.786 1543.34 Q900.869 1544.47 903.092 1545.03 Q905.314 1545.58 907.791 1545.58 Q911.795 1545.58 914.133 1543.48 Q916.471 1541.37 916.471 1537.76 Q916.471 1534.15 914.133 1532.04 Q911.795 1529.94 907.791 1529.94 Q905.916 1529.94 904.041 1530.35 Q902.189 1530.77 900.244 1531.65 L900.244 1514.29 Z\" fill=\"#000000\" fill-rule=\"evenodd\" fill-opacity=\"1\" /><path clip-path=\"url(#clip200)\" d=\"M1250.73 1517.37 Q1247.12 1517.37 1245.29 1520.93 Q1243.49 1524.47 1243.49 1531.6 Q1243.49 1538.71 1245.29 1542.27 Q1247.12 1545.82 1250.73 1545.82 Q1254.36 1545.82 1256.17 1542.27 Q1258 1538.71 1258 1531.6 Q1258 1524.47 1256.17 1520.93 Q1254.36 1517.37 1250.73 1517.37 M1250.73 1513.66 Q1256.54 1513.66 1259.6 1518.27 Q1262.67 1522.85 1262.67 1531.6 Q1262.67 1540.33 1259.6 1544.94 Q1256.54 1549.52 1250.73 1549.52 Q1244.92 1549.52 1241.84 1544.94 Q1238.79 1540.33 1238.79 1531.6 Q1238.79 1522.85 1241.84 1518.27 Q1244.92 1513.66 1250.73 1513.66 Z\" fill=\"#000000\" fill-rule=\"evenodd\" fill-opacity=\"1\" /><path clip-path=\"url(#clip200)\" d=\"M1270.89 1542.97 L1275.78 1542.97 L1275.78 1548.85 L1270.89 1548.85 L1270.89 1542.97 Z\" fill=\"#000000\" fill-rule=\"evenodd\" fill-opacity=\"1\" /><path clip-path=\"url(#clip200)\" d=\"M1295.96 1517.37 Q1292.35 1517.37 1290.52 1520.93 Q1288.72 1524.47 1288.72 1531.6 Q1288.72 1538.71 1290.52 1542.27 Q1292.35 1545.82 1295.96 1545.82 Q1299.6 1545.82 1301.4 1542.27 Q1303.23 1538.71 1303.23 1531.6 Q1303.23 1524.47 1301.4 1520.93 Q1299.6 1517.37 1295.96 1517.37 M1295.96 1513.66 Q1301.77 1513.66 1304.83 1518.27 Q1307.91 1522.85 1307.91 1531.6 Q1307.91 1540.33 1304.83 1544.94 Q1301.77 1549.52 1295.96 1549.52 Q1290.15 1549.52 1287.07 1544.94 Q1284.02 1540.33 1284.02 1531.6 Q1284.02 1522.85 1287.07 1518.27 Q1290.15 1513.66 1295.96 1513.66 Z\" fill=\"#000000\" fill-rule=\"evenodd\" fill-opacity=\"1\" /><path clip-path=\"url(#clip200)\" d=\"M1650.26 1544.91 L1666.57 1544.91 L1666.57 1548.85 L1644.63 1548.85 L1644.63 1544.91 Q1647.29 1542.16 1651.88 1537.53 Q1656.48 1532.88 1657.66 1531.53 Q1659.91 1529.01 1660.79 1527.27 Q1661.69 1525.51 1661.69 1523.82 Q1661.69 1521.07 1659.75 1519.33 Q1657.82 1517.6 1654.72 1517.6 Q1652.52 1517.6 1650.07 1518.36 Q1647.64 1519.13 1644.86 1520.68 L1644.86 1515.95 Q1647.69 1514.82 1650.14 1514.24 Q1652.59 1513.66 1654.63 1513.66 Q1660 1513.66 1663.2 1516.35 Q1666.39 1519.03 1666.39 1523.52 Q1666.39 1525.65 1665.58 1527.57 Q1664.79 1529.47 1662.69 1532.07 Q1662.11 1532.74 1659.01 1535.95 Q1655.9 1539.15 1650.26 1544.91 Z\" fill=\"#000000\" fill-rule=\"evenodd\" fill-opacity=\"1\" /><path clip-path=\"url(#clip200)\" d=\"M1676.39 1542.97 L1681.27 1542.97 L1681.27 1548.85 L1676.39 1548.85 L1676.39 1542.97 Z\" fill=\"#000000\" fill-rule=\"evenodd\" fill-opacity=\"1\" /><path clip-path=\"url(#clip200)\" d=\"M1691.51 1514.29 L1709.86 1514.29 L1709.86 1518.22 L1695.79 1518.22 L1695.79 1526.7 Q1696.81 1526.35 1697.82 1526.19 Q1698.84 1526 1699.86 1526 Q1705.65 1526 1709.03 1529.17 Q1712.41 1532.34 1712.41 1537.76 Q1712.41 1543.34 1708.94 1546.44 Q1705.46 1549.52 1699.14 1549.52 Q1696.97 1549.52 1694.7 1549.15 Q1692.45 1548.78 1690.05 1548.04 L1690.05 1543.34 Q1692.13 1544.47 1694.35 1545.03 Q1696.57 1545.58 1699.05 1545.58 Q1703.06 1545.58 1705.39 1543.48 Q1707.73 1541.37 1707.73 1537.76 Q1707.73 1534.15 1705.39 1532.04 Q1703.06 1529.94 1699.05 1529.94 Q1697.18 1529.94 1695.3 1530.35 Q1693.45 1530.77 1691.51 1531.65 L1691.51 1514.29 Z\" fill=\"#000000\" fill-rule=\"evenodd\" fill-opacity=\"1\" /><path clip-path=\"url(#clip200)\" d=\"M2050.86 1514.29 L2069.21 1514.29 L2069.21 1518.22 L2055.14 1518.22 L2055.14 1526.7 Q2056.16 1526.35 2057.18 1526.19 Q2058.19 1526 2059.21 1526 Q2065 1526 2068.38 1529.17 Q2071.76 1532.34 2071.76 1537.76 Q2071.76 1543.34 2068.29 1546.44 Q2064.82 1549.52 2058.5 1549.52 Q2056.32 1549.52 2054.05 1549.15 Q2051.81 1548.78 2049.4 1548.04 L2049.4 1543.34 Q2051.48 1544.47 2053.7 1545.03 Q2055.93 1545.58 2058.4 1545.58 Q2062.41 1545.58 2064.75 1543.48 Q2067.08 1541.37 2067.08 1537.76 Q2067.08 1534.15 2064.75 1532.04 Q2062.41 1529.94 2058.4 1529.94 Q2056.53 1529.94 2054.65 1530.35 Q2052.8 1530.77 2050.86 1531.65 L2050.86 1514.29 Z\" fill=\"#000000\" fill-rule=\"evenodd\" fill-opacity=\"1\" /><path clip-path=\"url(#clip200)\" d=\"M2080.97 1542.97 L2085.86 1542.97 L2085.86 1548.85 L2080.97 1548.85 L2080.97 1542.97 Z\" fill=\"#000000\" fill-rule=\"evenodd\" fill-opacity=\"1\" /><path clip-path=\"url(#clip200)\" d=\"M2106.04 1517.37 Q2102.43 1517.37 2100.6 1520.93 Q2098.8 1524.47 2098.8 1531.6 Q2098.8 1538.71 2100.6 1542.27 Q2102.43 1545.82 2106.04 1545.82 Q2109.68 1545.82 2111.48 1542.27 Q2113.31 1538.71 2113.31 1531.6 Q2113.31 1524.47 2111.48 1520.93 Q2109.68 1517.37 2106.04 1517.37 M2106.04 1513.66 Q2111.85 1513.66 2114.91 1518.27 Q2117.99 1522.85 2117.99 1531.6 Q2117.99 1540.33 2114.91 1544.94 Q2111.85 1549.52 2106.04 1549.52 Q2100.23 1549.52 2097.15 1544.94 Q2094.1 1540.33 2094.1 1531.6 Q2094.1 1522.85 2097.15 1518.27 Q2100.23 1513.66 2106.04 1513.66 Z\" fill=\"#000000\" fill-rule=\"evenodd\" fill-opacity=\"1\" /><polyline clip-path=\"url(#clip202)\" style=\"stroke:#000000; stroke-linecap:round; stroke-linejoin:round; stroke-width:2; stroke-opacity:0.1; fill:none\" points=\"193.936,1445.73 2352.76,1445.73 \"/>\n",
       "<polyline clip-path=\"url(#clip202)\" style=\"stroke:#000000; stroke-linecap:round; stroke-linejoin:round; stroke-width:2; stroke-opacity:0.1; fill:none\" points=\"193.936,1106.29 2352.76,1106.29 \"/>\n",
       "<polyline clip-path=\"url(#clip202)\" style=\"stroke:#000000; stroke-linecap:round; stroke-linejoin:round; stroke-width:2; stroke-opacity:0.1; fill:none\" points=\"193.936,766.845 2352.76,766.845 \"/>\n",
       "<polyline clip-path=\"url(#clip202)\" style=\"stroke:#000000; stroke-linecap:round; stroke-linejoin:round; stroke-width:2; stroke-opacity:0.1; fill:none\" points=\"193.936,427.405 2352.76,427.405 \"/>\n",
       "<polyline clip-path=\"url(#clip202)\" style=\"stroke:#000000; stroke-linecap:round; stroke-linejoin:round; stroke-width:2; stroke-opacity:0.1; fill:none\" points=\"193.936,87.965 2352.76,87.965 \"/>\n",
       "<polyline clip-path=\"url(#clip200)\" style=\"stroke:#000000; stroke-linecap:round; stroke-linejoin:round; stroke-width:4; stroke-opacity:1; fill:none\" points=\"193.936,1486.45 193.936,47.2441 \"/>\n",
       "<polyline clip-path=\"url(#clip200)\" style=\"stroke:#000000; stroke-linecap:round; stroke-linejoin:round; stroke-width:4; stroke-opacity:1; fill:none\" points=\"193.936,1445.73 212.834,1445.73 \"/>\n",
       "<polyline clip-path=\"url(#clip200)\" style=\"stroke:#000000; stroke-linecap:round; stroke-linejoin:round; stroke-width:4; stroke-opacity:1; fill:none\" points=\"193.936,1106.29 212.834,1106.29 \"/>\n",
       "<polyline clip-path=\"url(#clip200)\" style=\"stroke:#000000; stroke-linecap:round; stroke-linejoin:round; stroke-width:4; stroke-opacity:1; fill:none\" points=\"193.936,766.845 212.834,766.845 \"/>\n",
       "<polyline clip-path=\"url(#clip200)\" style=\"stroke:#000000; stroke-linecap:round; stroke-linejoin:round; stroke-width:4; stroke-opacity:1; fill:none\" points=\"193.936,427.405 212.834,427.405 \"/>\n",
       "<polyline clip-path=\"url(#clip200)\" style=\"stroke:#000000; stroke-linecap:round; stroke-linejoin:round; stroke-width:4; stroke-opacity:1; fill:none\" points=\"193.936,87.965 212.834,87.965 \"/>\n",
       "<path clip-path=\"url(#clip200)\" d=\"M50.9921 1446.18 L80.6679 1446.18 L80.6679 1450.11 L50.9921 1450.11 L50.9921 1446.18 Z\" fill=\"#000000\" fill-rule=\"evenodd\" fill-opacity=\"1\" /><path clip-path=\"url(#clip200)\" d=\"M91.5706 1459.07 L99.2095 1459.07 L99.2095 1432.7 L90.8993 1434.37 L90.8993 1430.11 L99.1632 1428.45 L103.839 1428.45 L103.839 1459.07 L111.478 1459.07 L111.478 1463.01 L91.5706 1463.01 L91.5706 1459.07 Z\" fill=\"#000000\" fill-rule=\"evenodd\" fill-opacity=\"1\" /><path clip-path=\"url(#clip200)\" d=\"M120.922 1457.13 L125.807 1457.13 L125.807 1463.01 L120.922 1463.01 L120.922 1457.13 Z\" fill=\"#000000\" fill-rule=\"evenodd\" fill-opacity=\"1\" /><path clip-path=\"url(#clip200)\" d=\"M145.992 1431.52 Q142.381 1431.52 140.552 1435.09 Q138.746 1438.63 138.746 1445.76 Q138.746 1452.87 140.552 1456.43 Q142.381 1459.97 145.992 1459.97 Q149.626 1459.97 151.431 1456.43 Q153.26 1452.87 153.26 1445.76 Q153.26 1438.63 151.431 1435.09 Q149.626 1431.52 145.992 1431.52 M145.992 1427.82 Q151.802 1427.82 154.857 1432.43 Q157.936 1437.01 157.936 1445.76 Q157.936 1454.49 154.857 1459.09 Q151.802 1463.68 145.992 1463.68 Q140.181 1463.68 137.103 1459.09 Q134.047 1454.49 134.047 1445.76 Q134.047 1437.01 137.103 1432.43 Q140.181 1427.82 145.992 1427.82 Z\" fill=\"#000000\" fill-rule=\"evenodd\" fill-opacity=\"1\" /><path clip-path=\"url(#clip200)\" d=\"M51.9875 1106.74 L81.6633 1106.74 L81.6633 1110.67 L51.9875 1110.67 L51.9875 1106.74 Z\" fill=\"#000000\" fill-rule=\"evenodd\" fill-opacity=\"1\" /><path clip-path=\"url(#clip200)\" d=\"M101.756 1092.08 Q98.1447 1092.08 96.316 1095.65 Q94.5104 1099.19 94.5104 1106.32 Q94.5104 1113.43 96.316 1116.99 Q98.1447 1120.53 101.756 1120.53 Q105.39 1120.53 107.196 1116.99 Q109.024 1113.43 109.024 1106.32 Q109.024 1099.19 107.196 1095.65 Q105.39 1092.08 101.756 1092.08 M101.756 1088.38 Q107.566 1088.38 110.621 1092.99 Q113.7 1097.57 113.7 1106.32 Q113.7 1115.05 110.621 1119.65 Q107.566 1124.24 101.756 1124.24 Q95.9456 1124.24 92.8669 1119.65 Q89.8114 1115.05 89.8114 1106.32 Q89.8114 1097.57 92.8669 1092.99 Q95.9456 1088.38 101.756 1088.38 Z\" fill=\"#000000\" fill-rule=\"evenodd\" fill-opacity=\"1\" /><path clip-path=\"url(#clip200)\" d=\"M121.918 1117.69 L126.802 1117.69 L126.802 1123.57 L121.918 1123.57 L121.918 1117.69 Z\" fill=\"#000000\" fill-rule=\"evenodd\" fill-opacity=\"1\" /><path clip-path=\"url(#clip200)\" d=\"M137.033 1089.01 L155.39 1089.01 L155.39 1092.94 L141.316 1092.94 L141.316 1101.41 Q142.334 1101.07 143.353 1100.9 Q144.371 1100.72 145.39 1100.72 Q151.177 1100.72 154.556 1103.89 Q157.936 1107.06 157.936 1112.48 Q157.936 1118.06 154.464 1121.16 Q150.992 1124.24 144.672 1124.24 Q142.496 1124.24 140.228 1123.87 Q137.982 1123.5 135.575 1122.76 L135.575 1118.06 Q137.658 1119.19 139.881 1119.75 Q142.103 1120.3 144.58 1120.3 Q148.584 1120.3 150.922 1118.2 Q153.26 1116.09 153.26 1112.48 Q153.26 1108.87 150.922 1106.76 Q148.584 1104.65 144.58 1104.65 Q142.705 1104.65 140.83 1105.07 Q138.978 1105.49 137.033 1106.37 L137.033 1089.01 Z\" fill=\"#000000\" fill-rule=\"evenodd\" fill-opacity=\"1\" /><path clip-path=\"url(#clip200)\" d=\"M100.76 752.644 Q97.1493 752.644 95.3206 756.209 Q93.515 759.75 93.515 766.88 Q93.515 773.986 95.3206 777.551 Q97.1493 781.093 100.76 781.093 Q104.395 781.093 106.2 777.551 Q108.029 773.986 108.029 766.88 Q108.029 759.75 106.2 756.209 Q104.395 752.644 100.76 752.644 M100.76 748.94 Q106.571 748.94 109.626 753.547 Q112.705 758.13 112.705 766.88 Q112.705 775.607 109.626 780.213 Q106.571 784.797 100.76 784.797 Q94.9502 784.797 91.8715 780.213 Q88.816 775.607 88.816 766.88 Q88.816 758.13 91.8715 753.547 Q94.9502 748.94 100.76 748.94 Z\" fill=\"#000000\" fill-rule=\"evenodd\" fill-opacity=\"1\" /><path clip-path=\"url(#clip200)\" d=\"M120.922 778.246 L125.807 778.246 L125.807 784.125 L120.922 784.125 L120.922 778.246 Z\" fill=\"#000000\" fill-rule=\"evenodd\" fill-opacity=\"1\" /><path clip-path=\"url(#clip200)\" d=\"M145.992 752.644 Q142.381 752.644 140.552 756.209 Q138.746 759.75 138.746 766.88 Q138.746 773.986 140.552 777.551 Q142.381 781.093 145.992 781.093 Q149.626 781.093 151.431 777.551 Q153.26 773.986 153.26 766.88 Q153.26 759.75 151.431 756.209 Q149.626 752.644 145.992 752.644 M145.992 748.94 Q151.802 748.94 154.857 753.547 Q157.936 758.13 157.936 766.88 Q157.936 775.607 154.857 780.213 Q151.802 784.797 145.992 784.797 Q140.181 784.797 137.103 780.213 Q134.047 775.607 134.047 766.88 Q134.047 758.13 137.103 753.547 Q140.181 748.94 145.992 748.94 Z\" fill=\"#000000\" fill-rule=\"evenodd\" fill-opacity=\"1\" /><path clip-path=\"url(#clip200)\" d=\"M101.756 413.204 Q98.1447 413.204 96.316 416.769 Q94.5104 420.31 94.5104 427.44 Q94.5104 434.546 96.316 438.111 Q98.1447 441.653 101.756 441.653 Q105.39 441.653 107.196 438.111 Q109.024 434.546 109.024 427.44 Q109.024 420.31 107.196 416.769 Q105.39 413.204 101.756 413.204 M101.756 409.5 Q107.566 409.5 110.621 414.107 Q113.7 418.69 113.7 427.44 Q113.7 436.167 110.621 440.773 Q107.566 445.356 101.756 445.356 Q95.9456 445.356 92.8669 440.773 Q89.8114 436.167 89.8114 427.44 Q89.8114 418.69 92.8669 414.107 Q95.9456 409.5 101.756 409.5 Z\" fill=\"#000000\" fill-rule=\"evenodd\" fill-opacity=\"1\" /><path clip-path=\"url(#clip200)\" d=\"M121.918 438.805 L126.802 438.805 L126.802 444.685 L121.918 444.685 L121.918 438.805 Z\" fill=\"#000000\" fill-rule=\"evenodd\" fill-opacity=\"1\" /><path clip-path=\"url(#clip200)\" d=\"M137.033 410.125 L155.39 410.125 L155.39 414.06 L141.316 414.06 L141.316 422.532 Q142.334 422.185 143.353 422.023 Q144.371 421.838 145.39 421.838 Q151.177 421.838 154.556 425.009 Q157.936 428.181 157.936 433.597 Q157.936 439.176 154.464 442.278 Q150.992 445.356 144.672 445.356 Q142.496 445.356 140.228 444.986 Q137.982 444.616 135.575 443.875 L135.575 439.176 Q137.658 440.31 139.881 440.866 Q142.103 441.421 144.58 441.421 Q148.584 441.421 150.922 439.315 Q153.26 437.208 153.26 433.597 Q153.26 429.986 150.922 427.88 Q148.584 425.773 144.58 425.773 Q142.705 425.773 140.83 426.19 Q138.978 426.606 137.033 427.486 L137.033 410.125 Z\" fill=\"#000000\" fill-rule=\"evenodd\" fill-opacity=\"1\" /><path clip-path=\"url(#clip200)\" d=\"M91.5706 101.31 L99.2095 101.31 L99.2095 74.9442 L90.8993 76.6108 L90.8993 72.3516 L99.1632 70.685 L103.839 70.685 L103.839 101.31 L111.478 101.31 L111.478 105.245 L91.5706 105.245 L91.5706 101.31 Z\" fill=\"#000000\" fill-rule=\"evenodd\" fill-opacity=\"1\" /><path clip-path=\"url(#clip200)\" d=\"M120.922 99.3654 L125.807 99.3654 L125.807 105.245 L120.922 105.245 L120.922 99.3654 Z\" fill=\"#000000\" fill-rule=\"evenodd\" fill-opacity=\"1\" /><path clip-path=\"url(#clip200)\" d=\"M145.992 73.7636 Q142.381 73.7636 140.552 77.3284 Q138.746 80.8701 138.746 87.9997 Q138.746 95.1061 140.552 98.6709 Q142.381 102.213 145.992 102.213 Q149.626 102.213 151.431 98.6709 Q153.26 95.1061 153.26 87.9997 Q153.26 80.8701 151.431 77.3284 Q149.626 73.7636 145.992 73.7636 M145.992 70.06 Q151.802 70.06 154.857 74.6664 Q157.936 79.2497 157.936 87.9997 Q157.936 96.7265 154.857 101.333 Q151.802 105.916 145.992 105.916 Q140.181 105.916 137.103 101.333 Q134.047 96.7265 134.047 87.9997 Q134.047 79.2497 137.103 74.6664 Q140.181 70.06 145.992 70.06 Z\" fill=\"#000000\" fill-rule=\"evenodd\" fill-opacity=\"1\" /><polyline clip-path=\"url(#clip202)\" style=\"stroke:#009af9; stroke-linecap:round; stroke-linejoin:round; stroke-width:4; stroke-opacity:1; fill:none\" points=\"255.035,766.845 258.35,752.961 261.664,739.082 264.979,725.215 268.294,711.365 283.62,647.728 298.945,585.154 314.27,524.204 329.596,465.422 337.259,437.009 344.921,409.334 352.584,382.457 360.247,356.439 367.91,331.339 375.572,307.212 383.235,284.113 390.898,262.092 400.108,237.122 409.318,213.862 418.527,192.387 427.737,172.768 436.947,155.066 446.157,139.339 455.367,125.638 464.577,114.007 472.364,105.816 480.151,99.151 487.938,94.027 495.725,90.4559 503.512,88.4459 511.299,88.0017 519.085,89.1243 526.872,91.8111 535.331,96.4949 543.79,103.004 552.249,111.322 560.707,121.424 569.166,133.284 577.625,146.87 586.084,162.144 594.542,179.066 602.341,196.084 610.139,214.425 617.937,234.044 625.735,254.896 633.533,276.933 641.332,300.104 649.13,324.356 656.928,349.632 665.289,377.801 673.649,407.006 682.01,437.168 690.37,468.207 707.091,532.584 723.812,599.452 762.558,760.008 801.304,920.953 818.52,990.186 835.737,1056.9 844.345,1089.08 852.953,1120.35 861.561,1150.62 870.17,1179.81 877.718,1204.45 885.267,1228.14 892.815,1250.83 900.364,1272.47 907.913,1293.01 915.461,1312.41 923.01,1330.63 930.558,1347.63 938.788,1364.72 947.018,1380.28 955.248,1394.25 963.478,1406.6 971.708,1417.31 979.938,1426.33 988.168,1433.66 996.398,1439.27 1004.68,1443.16 1012.96,1445.29 1021.24,1445.65 1029.51,1444.23 1037.79,1441.05 1046.07,1436.11 1054.35,1429.43 1062.63,1421.02 1071.78,1409.73 1080.94,1396.39 1090.09,1381.04 1099.24,1363.74 1108.4,1344.53 1117.55,1323.48 1126.7,1300.65 1135.86,1276.13 1144.57,1251.28 1153.28,1225.04 1161.98,1197.47 1170.69,1168.66 1179.4,1138.69 1188.11,1107.64 1196.82,1075.61 1205.53,1042.69 1223.64,971.797 1241.75,898.344 1259.86,823.251 1277.98,747.454 1293.22,683.798 1308.47,620.877 1323.71,559.246 1338.96,499.451 1348.27,464.078 1357.57,429.704 1366.88,396.442 1376.19,364.4 1385.49,333.685 1394.8,304.398 1404.11,276.635 1413.41,250.489 1421.94,228.029 1430.46,207.06 1438.99,187.639 1447.51,169.821 1456.04,153.655 1464.57,139.184 1473.09,126.451 1481.62,115.489 1489.49,106.965 1497.36,99.998 1505.24,94.6048 1513.11,90.7982 1520.99,88.5869 1528.86,87.9763 1536.73,88.9677 1544.61,91.559 1552.58,95.8085 1560.56,101.683 1568.54,109.168 1576.51,118.246 1584.49,128.894 1592.46,141.087 1600.44,154.796 1608.42,169.986 1617.36,188.726 1626.29,209.225 1635.23,231.419 1644.17,255.241 1653.11,280.62 1662.05,307.477 1670.99,335.732 1679.93,365.297 1688.03,393.145 1696.13,421.927 1704.23,451.57 1712.33,482 1728.53,544.917 1744.73,610.05 1781.83,764.012 1818.92,918.121 1836.1,987.271 1853.27,1053.95 1861.86,1086.13 1870.44,1117.41 1879.03,1147.7 1887.62,1176.93 1896.08,1204.62 1904.55,1231.11 1913.01,1256.34 1921.48,1280.23 1929.95,1302.72 1938.41,1323.75 1946.88,1343.27 1955.34,1361.2 1963.56,1377.07 1971.78,1391.37 1980,1404.06 1988.22,1415.11 1996.44,1424.5 2004.66,1432.19 2012.88,1438.17 2021.1,1442.43 2029.53,1444.99 2037.95,1445.72 2046.38,1444.61 2054.8,1441.67 2063.23,1436.91 2071.66,1430.33 2080.08,1421.97 2088.51,1411.83 2097.74,1398.73 2106.97,1383.57 2116.2,1366.41 2125.44,1347.31 2134.67,1326.33 2143.9,1303.53 2153.13,1278.99 2162.36,1252.79 2175.77,1211.95 2189.18,1168.06 2202.59,1121.42 2216,1072.36 2229.42,1021.2 2242.83,968.309 2256.24,914.037 2269.65,858.757 2275.15,835.872 2280.65,812.907 2286.15,789.89 2291.66,766.845 \"/>\n",
       "<path clip-path=\"url(#clip200)\" d=\"M1938.59 198.898 L2280.8 198.898 L2280.8 95.2176 L1938.59 95.2176  Z\" fill=\"#ffffff\" fill-rule=\"evenodd\" fill-opacity=\"1\"/>\n",
       "<polyline clip-path=\"url(#clip200)\" style=\"stroke:#000000; stroke-linecap:round; stroke-linejoin:round; stroke-width:4; stroke-opacity:1; fill:none\" points=\"1938.59,198.898 2280.8,198.898 2280.8,95.2176 1938.59,95.2176 1938.59,198.898 \"/>\n",
       "<polyline clip-path=\"url(#clip200)\" style=\"stroke:#009af9; stroke-linecap:round; stroke-linejoin:round; stroke-width:4; stroke-opacity:1; fill:none\" points=\"1962.58,147.058 2106.5,147.058 \"/>\n",
       "<path clip-path=\"url(#clip200)\" d=\"M2148.92 139.176 L2148.92 143.203 Q2147.11 142.277 2145.17 141.815 Q2143.22 141.352 2141.14 141.352 Q2137.97 141.352 2136.37 142.324 Q2134.8 143.296 2134.8 145.24 Q2134.8 146.722 2135.93 147.578 Q2137.06 148.412 2140.49 149.176 L2141.95 149.5 Q2146.48 150.472 2148.38 152.254 Q2150.3 154.014 2150.3 157.185 Q2150.3 160.796 2147.43 162.902 Q2144.59 165.009 2139.59 165.009 Q2137.5 165.009 2135.23 164.592 Q2132.99 164.199 2130.49 163.388 L2130.49 158.99 Q2132.85 160.217 2135.14 160.842 Q2137.43 161.444 2139.68 161.444 Q2142.69 161.444 2144.31 160.426 Q2145.93 159.384 2145.93 157.509 Q2145.93 155.773 2144.75 154.847 Q2143.59 153.921 2139.63 153.064 L2138.15 152.717 Q2134.19 151.884 2132.43 150.171 Q2130.67 148.435 2130.67 145.426 Q2130.67 141.768 2133.27 139.778 Q2135.86 137.787 2140.63 137.787 Q2142.99 137.787 2145.07 138.134 Q2147.16 138.481 2148.92 139.176 Z\" fill=\"#000000\" fill-rule=\"evenodd\" fill-opacity=\"1\" /><path clip-path=\"url(#clip200)\" d=\"M2157.09 138.412 L2161.35 138.412 L2161.35 164.338 L2157.09 164.338 L2157.09 138.412 M2157.09 128.319 L2161.35 128.319 L2161.35 133.713 L2157.09 133.713 L2157.09 128.319 Z\" fill=\"#000000\" fill-rule=\"evenodd\" fill-opacity=\"1\" /><path clip-path=\"url(#clip200)\" d=\"M2191.81 148.689 L2191.81 164.338 L2187.55 164.338 L2187.55 148.828 Q2187.55 145.148 2186.11 143.319 Q2184.68 141.49 2181.81 141.49 Q2178.36 141.49 2176.37 143.69 Q2174.38 145.889 2174.38 149.685 L2174.38 164.338 L2170.1 164.338 L2170.1 138.412 L2174.38 138.412 L2174.38 142.44 Q2175.91 140.102 2177.97 138.944 Q2180.05 137.787 2182.76 137.787 Q2187.23 137.787 2189.52 140.565 Q2191.81 143.319 2191.81 148.689 Z\" fill=\"#000000\" fill-rule=\"evenodd\" fill-opacity=\"1\" /><path clip-path=\"url(#clip200)\" d=\"M2210.54 128.366 Q2207.43 133.69 2205.93 138.898 Q2204.42 144.106 2204.42 149.453 Q2204.42 154.801 2205.93 160.055 Q2207.46 165.287 2210.54 170.588 L2206.83 170.588 Q2203.36 165.148 2201.62 159.893 Q2199.91 154.639 2199.91 149.453 Q2199.91 144.291 2201.62 139.06 Q2203.34 133.828 2206.83 128.366 L2210.54 128.366 Z\" fill=\"#000000\" fill-rule=\"evenodd\" fill-opacity=\"1\" /><path clip-path=\"url(#clip200)\" d=\"M2240.35 138.412 L2230.98 151.027 L2240.84 164.338 L2235.81 164.338 L2228.27 154.152 L2220.72 164.338 L2215.7 164.338 L2225.77 150.773 L2216.55 138.412 L2221.58 138.412 L2228.45 147.648 L2235.33 138.412 L2240.35 138.412 Z\" fill=\"#000000\" fill-rule=\"evenodd\" fill-opacity=\"1\" /><path clip-path=\"url(#clip200)\" d=\"M2246.18 128.366 L2249.89 128.366 Q2253.36 133.828 2255.07 139.06 Q2256.81 144.291 2256.81 149.453 Q2256.81 154.639 2255.07 159.893 Q2253.36 165.148 2249.89 170.588 L2246.18 170.588 Q2249.26 165.287 2250.77 160.055 Q2252.29 154.801 2252.29 149.453 Q2252.29 144.106 2250.77 138.898 Q2249.26 133.69 2246.18 128.366 Z\" fill=\"#000000\" fill-rule=\"evenodd\" fill-opacity=\"1\" /></svg>\n"
      ]
     },
     "execution_count": 1,
     "metadata": {},
     "output_type": "execute_result"
    }
   ],
   "source": [
    "using Plots\n",
    "plot(sin, -2π, 2π, label=\"sin(x)\")"
   ]
  },
  {
   "cell_type": "markdown",
   "id": "d931aa56-836b-4a95-bc02-f5cfb0bad2a7",
   "metadata": {},
   "source": [
    "## Help!"
   ]
  },
  {
   "cell_type": "code",
   "execution_count": 2,
   "id": "e1ceaf4e-d3ef-4ee6-95b8-74f1d1400a91",
   "metadata": {
    "tags": []
   },
   "outputs": [
    {
     "name": "stdout",
     "output_type": "stream",
     "text": [
      "search: \u001b[0m\u001b[1mp\u001b[22m\u001b[0m\u001b[1ml\u001b[22m\u001b[0m\u001b[1mo\u001b[22m\u001b[0m\u001b[1mt\u001b[22m \u001b[0m\u001b[1mp\u001b[22m\u001b[0m\u001b[1ml\u001b[22m\u001b[0m\u001b[1mo\u001b[22m\u001b[0m\u001b[1mt\u001b[22m! \u001b[0m\u001b[1mp\u001b[22m\u001b[0m\u001b[1ml\u001b[22m\u001b[0m\u001b[1mo\u001b[22m\u001b[0m\u001b[1mt\u001b[22mly \u001b[0m\u001b[1mp\u001b[22m\u001b[0m\u001b[1ml\u001b[22m\u001b[0m\u001b[1mo\u001b[22m\u001b[0m\u001b[1mt\u001b[22m3d \u001b[0m\u001b[1mP\u001b[22m\u001b[0m\u001b[1ml\u001b[22m\u001b[0m\u001b[1mo\u001b[22m\u001b[0m\u001b[1mt\u001b[22ms \u001b[0m\u001b[1mp\u001b[22m\u001b[0m\u001b[1ml\u001b[22m\u001b[0m\u001b[1mo\u001b[22m\u001b[0m\u001b[1mt\u001b[22m3d! \u001b[0m\u001b[1mp\u001b[22m\u001b[0m\u001b[1ml\u001b[22m\u001b[0m\u001b[1mo\u001b[22m\u001b[0m\u001b[1mt\u001b[22mlyjs \u001b[0m\u001b[1mp\u001b[22m\u001b[0m\u001b[1ml\u001b[22m\u001b[0m\u001b[1mo\u001b[22m\u001b[0m\u001b[1mt\u001b[22mattr \u001b[0m\u001b[1mp\u001b[22m\u001b[0m\u001b[1ml\u001b[22m\u001b[0m\u001b[1mo\u001b[22m\u001b[0m\u001b[1mt\u001b[22marea\n",
      "\n"
     ]
    },
    {
     "data": {
      "text/markdown": [
       "The main plot command. Use `plot` to create a new plot object, and `plot!` to add to an existing one:\n",
       "\n",
       "```\n",
       "    plot(args...; kw...)                  # creates a new plot window, and sets it to be the current\n",
       "    plot!(args...; kw...)                 # adds to the `current`\n",
       "    plot!(plotobj, args...; kw...)        # adds to the plot `plotobj`\n",
       "```\n",
       "\n",
       "There are lots of ways to pass in data, and lots of keyword arguments... just try it and it will likely work as expected. When you pass in matrices, it splits by columns. To see the list of available attributes, use the `plotattr(attr)` function, where `attr` is the symbol `:Series`, `:Subplot`, `:Plot`, or `:Axis`. Pass any attribute to `plotattr` as a String to look up its docstring, e.g., `plotattr(\"seriestype\")`.\n",
       "\n",
       "---\n",
       "\n",
       "Extract a subplot from an existing plot.\n",
       "\n",
       "# Examples\n",
       "\n",
       "```julia-repl\n",
       "julia> p1, p2 = plot(1:2), plot(10:20)\n",
       "julia> pl = plot(p1, p2)  # plot containing 2 subplots\n",
       "\n",
       "julia> plot(pl.subplots[1])  # extract 1st subplot as a standalone plot\n",
       "julia> plot(pl.subplots[2])  # extract 2nd subplot as a standalone plot\n",
       "```\n",
       "\n",
       "---\n",
       "\n",
       "REPL.Message(\"Extended help is available with `??`\", (color = :cyan, bold = true))\n"
      ],
      "text/plain": [
       "  The main plot command. Use \u001b[36mplot\u001b[39m to create a new plot object, and \u001b[36mplot!\u001b[39m to\n",
       "  add to an existing one:\n",
       "\n",
       "\u001b[36m      plot(args...; kw...)                  # creates a new plot window, and sets it to be the current\u001b[39m\n",
       "\u001b[36m      plot!(args...; kw...)                 # adds to the `current`\u001b[39m\n",
       "\u001b[36m      plot!(plotobj, args...; kw...)        # adds to the plot `plotobj`\u001b[39m\n",
       "\n",
       "  There are lots of ways to pass in data, and lots of keyword arguments...\n",
       "  just try it and it will likely work as expected. When you pass in matrices,\n",
       "  it splits by columns. To see the list of available attributes, use the\n",
       "  \u001b[36mplotattr(attr)\u001b[39m function, where \u001b[36mattr\u001b[39m is the symbol \u001b[36m:Series\u001b[39m, \u001b[36m:Subplot\u001b[39m, \u001b[36m:Plot\u001b[39m,\n",
       "  or \u001b[36m:Axis\u001b[39m. Pass any attribute to \u001b[36mplotattr\u001b[39m as a String to look up its\n",
       "  docstring, e.g., \u001b[36mplotattr(\"seriestype\")\u001b[39m.\n",
       "\n",
       "  ────────────────────────────────────────────────────────────────────────────\n",
       "\n",
       "  Extract a subplot from an existing plot.\n",
       "\n",
       "\u001b[1m  Examples\u001b[22m\n",
       "\u001b[1m  ≡≡≡≡≡≡≡≡≡≡\u001b[22m\n",
       "\n",
       "\u001b[36m  julia> p1, p2 = plot(1:2), plot(10:20)\u001b[39m\n",
       "\u001b[36m  julia> pl = plot(p1, p2)  # plot containing 2 subplots\u001b[39m\n",
       "\u001b[36m  \u001b[39m\n",
       "\u001b[36m  julia> plot(pl.subplots[1])  # extract 1st subplot as a standalone plot\u001b[39m\n",
       "\u001b[36m  julia> plot(pl.subplots[2])  # extract 2nd subplot as a standalone plot\u001b[39m\n",
       "\n",
       "  ────────────────────────────────────────────────────────────────────────────\n",
       "\n",
       "\u001b[36m\u001b[1mExtended help is available with `??`\u001b[22m\u001b[39m"
      ]
     },
     "execution_count": 2,
     "metadata": {},
     "output_type": "execute_result"
    }
   ],
   "source": [
    "?plot"
   ]
  },
  {
   "cell_type": "markdown",
   "id": "a32c9280-be70-4534-8b78-b91c4acef1d7",
   "metadata": {},
   "source": [
    "## LaTeX!\n",
    "- `$$ \\exp(i \\pi) = -1 $$`와 같은 명령어가 어색하다면 https://www.overleaf.com/learn/latex/Tutorials 을 먼저 확인하세요.\n",
    "\n",
    "**Euler found that**\n",
    "\n",
    "$$ \\exp(i \\pi) = -1 $$"
   ]
  },
  {
   "cell_type": "markdown",
   "id": "69d50fab-b721-424e-a63b-3667f1b961dd",
   "metadata": {},
   "source": [
    "## @show 매크로"
   ]
  },
  {
   "cell_type": "code",
   "execution_count": 3,
   "id": "6f80cdb4-5fe1-40f7-a712-41ad7cb2abc1",
   "metadata": {
    "tags": []
   },
   "outputs": [
    {
     "name": "stdout",
     "output_type": "stream",
     "text": [
      "dot(x, y) = 11\n",
      "x ⋅ y = 11\n"
     ]
    }
   ],
   "source": [
    "using LinearAlgebra\n",
    "x = [1,2]\n",
    "y = [3,4]\n",
    "@show dot(x, y);\n",
    "@show x⋅y;"
   ]
  },
  {
   "cell_type": "code",
   "execution_count": 4,
   "id": "f9f6cdfe-4fb7-4cee-a65c-96ee52277f17",
   "metadata": {
    "tags": []
   },
   "outputs": [
    {
     "name": "stdout",
     "output_type": "stream",
     "text": [
      "f(1) = 2\n",
      "f(2) = 3\n",
      "f(3) = 4\n"
     ]
    }
   ],
   "source": [
    "f(x) = x + 1\n",
    "[@eval(@show(f($x))) for x = 1:3];"
   ]
  },
  {
   "cell_type": "markdown",
   "id": "8d585579-27e2-4b16-a62a-0078e4814833",
   "metadata": {},
   "source": [
    "# Tutorial 1 : Plotting a White Noise Process"
   ]
  },
  {
   "cell_type": "code",
   "execution_count": 5,
   "id": "27f5b366-7f20-42bc-9ae1-bede04418ee9",
   "metadata": {
    "tags": []
   },
   "outputs": [],
   "source": [
    "using LinearAlgebra, Statistics, LaTeXStrings, Plots"
   ]
  },
  {
   "cell_type": "code",
   "execution_count": 6,
   "id": "19d948d9-0e1d-4881-b652-aaf9bd9ad93f",
   "metadata": {
    "tags": []
   },
   "outputs": [
    {
     "data": {
      "text/plain": [
       "-0.016271961270662005"
      ]
     },
     "execution_count": 6,
     "metadata": {},
     "output_type": "execute_result"
    }
   ],
   "source": [
    "randn()"
   ]
  },
  {
   "cell_type": "code",
   "execution_count": 7,
   "id": "21ddabc6-3306-4b4c-a317-fb847453018e",
   "metadata": {
    "tags": []
   },
   "outputs": [
    {
     "name": "stdout",
     "output_type": "stream",
     "text": [
      "search: \u001b[0m\u001b[1mr\u001b[22m\u001b[0m\u001b[1ma\u001b[22m\u001b[0m\u001b[1mn\u001b[22m\u001b[0m\u001b[1md\u001b[22m\u001b[0m\u001b[1mn\u001b[22m low\u001b[0m\u001b[1mr\u001b[22m\u001b[0m\u001b[1ma\u001b[22m\u001b[0m\u001b[1mn\u001b[22mk\u001b[0m\u001b[1md\u001b[22mow\u001b[0m\u001b[1mn\u001b[22mdate low\u001b[0m\u001b[1mr\u001b[22m\u001b[0m\u001b[1ma\u001b[22m\u001b[0m\u001b[1mn\u001b[22mk\u001b[0m\u001b[1md\u001b[22mow\u001b[0m\u001b[1mn\u001b[22mdate! \u001b[0m\u001b[1mR\u001b[22m\u001b[0m\u001b[1ma\u001b[22m\u001b[0m\u001b[1mn\u001b[22mk\u001b[0m\u001b[1mD\u001b[22meficie\u001b[0m\u001b[1mn\u001b[22mtException \u001b[0m\u001b[1mr\u001b[22m\u001b[0m\u001b[1ma\u001b[22m\u001b[0m\u001b[1mn\u001b[22m\u001b[0m\u001b[1md\u001b[22m\n",
      "\n"
     ]
    },
    {
     "data": {
      "text/latex": [
       "\\begin{verbatim}\n",
       "randn([rng=GLOBAL_RNG], [T=Float64], [dims...])\n",
       "\\end{verbatim}\n",
       "Generate a normally-distributed random number of type \\texttt{T} with mean 0 and standard deviation 1. Optionally generate an array of normally-distributed random numbers. The \\texttt{Base} module currently provides an implementation for the types \\href{@ref}{\\texttt{Float16}}, \\href{@ref}{\\texttt{Float32}}, and \\href{@ref}{\\texttt{Float64}} (the default), and their \\href{@ref}{\\texttt{Complex}} counterparts. When the type argument is complex, the values are drawn from the circularly symmetric complex normal distribution of variance 1 (corresponding to real and imaginary part having independent normal distribution with mean zero and variance \\texttt{1/2}).\n",
       "\n",
       "\\section{Examples}\n",
       "\\begin{verbatim}\n",
       "julia> using Random\n",
       "\n",
       "julia> rng = MersenneTwister(1234);\n",
       "\n",
       "julia> randn(rng, ComplexF64)\n",
       "0.6133070881429037 - 0.6376291670853887im\n",
       "\n",
       "julia> randn(rng, ComplexF32, (2, 3))\n",
       "2×3 Matrix{ComplexF32}:\n",
       " -0.349649-0.638457im  0.376756-0.192146im  -0.396334-0.0136413im\n",
       "  0.611224+1.56403im   0.355204-0.365563im  0.0905552+1.31012im\n",
       "\\end{verbatim}\n"
      ],
      "text/markdown": [
       "```\n",
       "randn([rng=GLOBAL_RNG], [T=Float64], [dims...])\n",
       "```\n",
       "\n",
       "Generate a normally-distributed random number of type `T` with mean 0 and standard deviation 1. Optionally generate an array of normally-distributed random numbers. The `Base` module currently provides an implementation for the types [`Float16`](@ref), [`Float32`](@ref), and [`Float64`](@ref) (the default), and their [`Complex`](@ref) counterparts. When the type argument is complex, the values are drawn from the circularly symmetric complex normal distribution of variance 1 (corresponding to real and imaginary part having independent normal distribution with mean zero and variance `1/2`).\n",
       "\n",
       "# Examples\n",
       "\n",
       "```jldoctest\n",
       "julia> using Random\n",
       "\n",
       "julia> rng = MersenneTwister(1234);\n",
       "\n",
       "julia> randn(rng, ComplexF64)\n",
       "0.6133070881429037 - 0.6376291670853887im\n",
       "\n",
       "julia> randn(rng, ComplexF32, (2, 3))\n",
       "2×3 Matrix{ComplexF32}:\n",
       " -0.349649-0.638457im  0.376756-0.192146im  -0.396334-0.0136413im\n",
       "  0.611224+1.56403im   0.355204-0.365563im  0.0905552+1.31012im\n",
       "```\n"
      ],
      "text/plain": [
       "\u001b[36m  randn([rng=GLOBAL_RNG], [T=Float64], [dims...])\u001b[39m\n",
       "\n",
       "  Generate a normally-distributed random number of type \u001b[36mT\u001b[39m with mean 0 and\n",
       "  standard deviation 1. Optionally generate an array of normally-distributed\n",
       "  random numbers. The \u001b[36mBase\u001b[39m module currently provides an implementation for the\n",
       "  types \u001b[36mFloat16\u001b[39m, \u001b[36mFloat32\u001b[39m, and \u001b[36mFloat64\u001b[39m (the default), and their \u001b[36mComplex\u001b[39m\n",
       "  counterparts. When the type argument is complex, the values are drawn from\n",
       "  the circularly symmetric complex normal distribution of variance 1\n",
       "  (corresponding to real and imaginary part having independent normal\n",
       "  distribution with mean zero and variance \u001b[36m1/2\u001b[39m).\n",
       "\n",
       "\u001b[1m  Examples\u001b[22m\n",
       "\u001b[1m  ≡≡≡≡≡≡≡≡≡≡\u001b[22m\n",
       "\n",
       "\u001b[36m  julia> using Random\u001b[39m\n",
       "\u001b[36m  \u001b[39m\n",
       "\u001b[36m  julia> rng = MersenneTwister(1234);\u001b[39m\n",
       "\u001b[36m  \u001b[39m\n",
       "\u001b[36m  julia> randn(rng, ComplexF64)\u001b[39m\n",
       "\u001b[36m  0.6133070881429037 - 0.6376291670853887im\u001b[39m\n",
       "\u001b[36m  \u001b[39m\n",
       "\u001b[36m  julia> randn(rng, ComplexF32, (2, 3))\u001b[39m\n",
       "\u001b[36m  2×3 Matrix{ComplexF32}:\u001b[39m\n",
       "\u001b[36m   -0.349649-0.638457im  0.376756-0.192146im  -0.396334-0.0136413im\u001b[39m\n",
       "\u001b[36m    0.611224+1.56403im   0.355204-0.365563im  0.0905552+1.31012im\u001b[39m"
      ]
     },
     "execution_count": 7,
     "metadata": {},
     "output_type": "execute_result"
    }
   ],
   "source": [
    "?randn"
   ]
  },
  {
   "cell_type": "code",
   "execution_count": 8,
   "id": "d548ff00-1fd0-4523-8a87-eb818067f4fe",
   "metadata": {
    "tags": []
   },
   "outputs": [
    {
     "data": {
      "text/plain": [
       "5-element Vector{Float64}:\n",
       "  0.2718652527416143\n",
       " -0.2257372777755309\n",
       " -0.22504001567994827\n",
       "  0.7493227050522112\n",
       "  1.1765336598283607"
      ]
     },
     "execution_count": 8,
     "metadata": {},
     "output_type": "execute_result"
    }
   ],
   "source": [
    "randn(5)"
   ]
  },
  {
   "cell_type": "code",
   "execution_count": 9,
   "id": "f248b16e-58f3-4bb7-94c1-6a98381d0a93",
   "metadata": {
    "tags": []
   },
   "outputs": [
    {
     "data": {
      "image/svg+xml": [
       "<?xml version=\"1.0\" encoding=\"utf-8\"?>\n",
       "<svg xmlns=\"http://www.w3.org/2000/svg\" xmlns:xlink=\"http://www.w3.org/1999/xlink\" width=\"600\" height=\"400\" viewBox=\"0 0 2400 1600\">\n",
       "<defs>\n",
       "  <clipPath id=\"clip240\">\n",
       "    <rect x=\"0\" y=\"0\" width=\"2400\" height=\"1600\"/>\n",
       "  </clipPath>\n",
       "</defs>\n",
       "<path clip-path=\"url(#clip240)\" d=\"M0 1600 L2400 1600 L2400 0 L0 0  Z\" fill=\"#ffffff\" fill-rule=\"evenodd\" fill-opacity=\"1\"/>\n",
       "<defs>\n",
       "  <clipPath id=\"clip241\">\n",
       "    <rect x=\"480\" y=\"0\" width=\"1681\" height=\"1600\"/>\n",
       "  </clipPath>\n",
       "</defs>\n",
       "<path clip-path=\"url(#clip240)\" d=\"M148.057 1486.45 L2352.76 1486.45 L2352.76 47.2441 L148.057 47.2441  Z\" fill=\"#ffffff\" fill-rule=\"evenodd\" fill-opacity=\"1\"/>\n",
       "<defs>\n",
       "  <clipPath id=\"clip242\">\n",
       "    <rect x=\"148\" y=\"47\" width=\"2206\" height=\"1440\"/>\n",
       "  </clipPath>\n",
       "</defs>\n",
       "<polyline clip-path=\"url(#clip242)\" style=\"stroke:#000000; stroke-linecap:round; stroke-linejoin:round; stroke-width:2; stroke-opacity:0.1; fill:none\" points=\"189.445,1486.45 189.445,47.2441 \"/>\n",
       "<polyline clip-path=\"url(#clip242)\" style=\"stroke:#000000; stroke-linecap:round; stroke-linejoin:round; stroke-width:2; stroke-opacity:0.1; fill:none\" points=\"714.673,1486.45 714.673,47.2441 \"/>\n",
       "<polyline clip-path=\"url(#clip242)\" style=\"stroke:#000000; stroke-linecap:round; stroke-linejoin:round; stroke-width:2; stroke-opacity:0.1; fill:none\" points=\"1239.9,1486.45 1239.9,47.2441 \"/>\n",
       "<polyline clip-path=\"url(#clip242)\" style=\"stroke:#000000; stroke-linecap:round; stroke-linejoin:round; stroke-width:2; stroke-opacity:0.1; fill:none\" points=\"1765.13,1486.45 1765.13,47.2441 \"/>\n",
       "<polyline clip-path=\"url(#clip242)\" style=\"stroke:#000000; stroke-linecap:round; stroke-linejoin:round; stroke-width:2; stroke-opacity:0.1; fill:none\" points=\"2290.36,1486.45 2290.36,47.2441 \"/>\n",
       "<polyline clip-path=\"url(#clip240)\" style=\"stroke:#000000; stroke-linecap:round; stroke-linejoin:round; stroke-width:4; stroke-opacity:1; fill:none\" points=\"148.057,1486.45 2352.76,1486.45 \"/>\n",
       "<polyline clip-path=\"url(#clip240)\" style=\"stroke:#000000; stroke-linecap:round; stroke-linejoin:round; stroke-width:4; stroke-opacity:1; fill:none\" points=\"189.445,1486.45 189.445,1467.55 \"/>\n",
       "<polyline clip-path=\"url(#clip240)\" style=\"stroke:#000000; stroke-linecap:round; stroke-linejoin:round; stroke-width:4; stroke-opacity:1; fill:none\" points=\"714.673,1486.45 714.673,1467.55 \"/>\n",
       "<polyline clip-path=\"url(#clip240)\" style=\"stroke:#000000; stroke-linecap:round; stroke-linejoin:round; stroke-width:4; stroke-opacity:1; fill:none\" points=\"1239.9,1486.45 1239.9,1467.55 \"/>\n",
       "<polyline clip-path=\"url(#clip240)\" style=\"stroke:#000000; stroke-linecap:round; stroke-linejoin:round; stroke-width:4; stroke-opacity:1; fill:none\" points=\"1765.13,1486.45 1765.13,1467.55 \"/>\n",
       "<polyline clip-path=\"url(#clip240)\" style=\"stroke:#000000; stroke-linecap:round; stroke-linejoin:round; stroke-width:4; stroke-opacity:1; fill:none\" points=\"2290.36,1486.45 2290.36,1467.55 \"/>\n",
       "<path clip-path=\"url(#clip240)\" d=\"M189.445 1517.37 Q185.834 1517.37 184.005 1520.93 Q182.199 1524.47 182.199 1531.6 Q182.199 1538.71 184.005 1542.27 Q185.834 1545.82 189.445 1545.82 Q193.079 1545.82 194.884 1542.27 Q196.713 1538.71 196.713 1531.6 Q196.713 1524.47 194.884 1520.93 Q193.079 1517.37 189.445 1517.37 M189.445 1513.66 Q195.255 1513.66 198.31 1518.27 Q201.389 1522.85 201.389 1531.6 Q201.389 1540.33 198.31 1544.94 Q195.255 1549.52 189.445 1549.52 Q183.634 1549.52 180.556 1544.94 Q177.5 1540.33 177.5 1531.6 Q177.5 1522.85 180.556 1518.27 Q183.634 1513.66 189.445 1513.66 Z\" fill=\"#000000\" fill-rule=\"evenodd\" fill-opacity=\"1\" /><path clip-path=\"url(#clip240)\" d=\"M693.944 1544.91 L710.263 1544.91 L710.263 1548.85 L688.319 1548.85 L688.319 1544.91 Q690.981 1542.16 695.564 1537.53 Q700.171 1532.88 701.351 1531.53 Q703.597 1529.01 704.476 1527.27 Q705.379 1525.51 705.379 1523.82 Q705.379 1521.07 703.435 1519.33 Q701.514 1517.6 698.412 1517.6 Q696.213 1517.6 693.759 1518.36 Q691.328 1519.13 688.551 1520.68 L688.551 1515.95 Q691.375 1514.82 693.828 1514.24 Q696.282 1513.66 698.319 1513.66 Q703.689 1513.66 706.884 1516.35 Q710.078 1519.03 710.078 1523.52 Q710.078 1525.65 709.268 1527.57 Q708.481 1529.47 706.375 1532.07 Q705.796 1532.74 702.694 1535.95 Q699.592 1539.15 693.944 1544.91 Z\" fill=\"#000000\" fill-rule=\"evenodd\" fill-opacity=\"1\" /><path clip-path=\"url(#clip240)\" d=\"M720.125 1514.29 L738.481 1514.29 L738.481 1518.22 L724.407 1518.22 L724.407 1526.7 Q725.425 1526.35 726.444 1526.19 Q727.462 1526 728.481 1526 Q734.268 1526 737.648 1529.17 Q741.027 1532.34 741.027 1537.76 Q741.027 1543.34 737.555 1546.44 Q734.083 1549.52 727.763 1549.52 Q725.587 1549.52 723.319 1549.15 Q721.074 1548.78 718.666 1548.04 L718.666 1543.34 Q720.75 1544.47 722.972 1545.03 Q725.194 1545.58 727.671 1545.58 Q731.675 1545.58 734.013 1543.48 Q736.351 1541.37 736.351 1537.76 Q736.351 1534.15 734.013 1532.04 Q731.675 1529.94 727.671 1529.94 Q725.796 1529.94 723.921 1530.35 Q722.069 1530.77 720.125 1531.65 L720.125 1514.29 Z\" fill=\"#000000\" fill-rule=\"evenodd\" fill-opacity=\"1\" /><path clip-path=\"url(#clip240)\" d=\"M1214.6 1514.29 L1232.96 1514.29 L1232.96 1518.22 L1218.88 1518.22 L1218.88 1526.7 Q1219.9 1526.35 1220.92 1526.19 Q1221.94 1526 1222.96 1526 Q1228.74 1526 1232.12 1529.17 Q1235.5 1532.34 1235.5 1537.76 Q1235.5 1543.34 1232.03 1546.44 Q1228.56 1549.52 1222.24 1549.52 Q1220.06 1549.52 1217.8 1549.15 Q1215.55 1548.78 1213.14 1548.04 L1213.14 1543.34 Q1215.23 1544.47 1217.45 1545.03 Q1219.67 1545.58 1222.15 1545.58 Q1226.15 1545.58 1228.49 1543.48 Q1230.83 1541.37 1230.83 1537.76 Q1230.83 1534.15 1228.49 1532.04 Q1226.15 1529.94 1222.15 1529.94 Q1220.27 1529.94 1218.4 1530.35 Q1216.55 1530.77 1214.6 1531.65 L1214.6 1514.29 Z\" fill=\"#000000\" fill-rule=\"evenodd\" fill-opacity=\"1\" /><path clip-path=\"url(#clip240)\" d=\"M1254.72 1517.37 Q1251.11 1517.37 1249.28 1520.93 Q1247.47 1524.47 1247.47 1531.6 Q1247.47 1538.71 1249.28 1542.27 Q1251.11 1545.82 1254.72 1545.82 Q1258.35 1545.82 1260.16 1542.27 Q1261.98 1538.71 1261.98 1531.6 Q1261.98 1524.47 1260.16 1520.93 Q1258.35 1517.37 1254.72 1517.37 M1254.72 1513.66 Q1260.53 1513.66 1263.58 1518.27 Q1266.66 1522.85 1266.66 1531.6 Q1266.66 1540.33 1263.58 1544.94 Q1260.53 1549.52 1254.72 1549.52 Q1248.91 1549.52 1245.83 1544.94 Q1242.77 1540.33 1242.77 1531.6 Q1242.77 1522.85 1245.83 1518.27 Q1248.91 1513.66 1254.72 1513.66 Z\" fill=\"#000000\" fill-rule=\"evenodd\" fill-opacity=\"1\" /><path clip-path=\"url(#clip240)\" d=\"M1738.98 1514.29 L1761.21 1514.29 L1761.21 1516.28 L1748.66 1548.85 L1743.78 1548.85 L1755.58 1518.22 L1738.98 1518.22 L1738.98 1514.29 Z\" fill=\"#000000\" fill-rule=\"evenodd\" fill-opacity=\"1\" /><path clip-path=\"url(#clip240)\" d=\"M1770.37 1514.29 L1788.73 1514.29 L1788.73 1518.22 L1774.66 1518.22 L1774.66 1526.7 Q1775.67 1526.35 1776.69 1526.19 Q1777.71 1526 1778.73 1526 Q1784.52 1526 1787.9 1529.17 Q1791.28 1532.34 1791.28 1537.76 Q1791.28 1543.34 1787.8 1546.44 Q1784.33 1549.52 1778.01 1549.52 Q1775.84 1549.52 1773.57 1549.15 Q1771.32 1548.78 1768.91 1548.04 L1768.91 1543.34 Q1771 1544.47 1773.22 1545.03 Q1775.44 1545.58 1777.92 1545.58 Q1781.92 1545.58 1784.26 1543.48 Q1786.6 1541.37 1786.6 1537.76 Q1786.6 1534.15 1784.26 1532.04 Q1781.92 1529.94 1777.92 1529.94 Q1776.04 1529.94 1774.17 1530.35 Q1772.32 1530.77 1770.37 1531.65 L1770.37 1514.29 Z\" fill=\"#000000\" fill-rule=\"evenodd\" fill-opacity=\"1\" /><path clip-path=\"url(#clip240)\" d=\"M2249.97 1544.91 L2257.6 1544.91 L2257.6 1518.55 L2249.29 1520.21 L2249.29 1515.95 L2257.56 1514.29 L2262.23 1514.29 L2262.23 1544.91 L2269.87 1544.91 L2269.87 1548.85 L2249.97 1548.85 L2249.97 1544.91 Z\" fill=\"#000000\" fill-rule=\"evenodd\" fill-opacity=\"1\" /><path clip-path=\"url(#clip240)\" d=\"M2289.32 1517.37 Q2285.71 1517.37 2283.88 1520.93 Q2282.07 1524.47 2282.07 1531.6 Q2282.07 1538.71 2283.88 1542.27 Q2285.71 1545.82 2289.32 1545.82 Q2292.95 1545.82 2294.76 1542.27 Q2296.59 1538.71 2296.59 1531.6 Q2296.59 1524.47 2294.76 1520.93 Q2292.95 1517.37 2289.32 1517.37 M2289.32 1513.66 Q2295.13 1513.66 2298.18 1518.27 Q2301.26 1522.85 2301.26 1531.6 Q2301.26 1540.33 2298.18 1544.94 Q2295.13 1549.52 2289.32 1549.52 Q2283.51 1549.52 2280.43 1544.94 Q2277.37 1540.33 2277.37 1531.6 Q2277.37 1522.85 2280.43 1518.27 Q2283.51 1513.66 2289.32 1513.66 Z\" fill=\"#000000\" fill-rule=\"evenodd\" fill-opacity=\"1\" /><path clip-path=\"url(#clip240)\" d=\"M2319.48 1517.37 Q2315.87 1517.37 2314.04 1520.93 Q2312.23 1524.47 2312.23 1531.6 Q2312.23 1538.71 2314.04 1542.27 Q2315.87 1545.82 2319.48 1545.82 Q2323.11 1545.82 2324.92 1542.27 Q2326.75 1538.71 2326.75 1531.6 Q2326.75 1524.47 2324.92 1520.93 Q2323.11 1517.37 2319.48 1517.37 M2319.48 1513.66 Q2325.29 1513.66 2328.34 1518.27 Q2331.42 1522.85 2331.42 1531.6 Q2331.42 1540.33 2328.34 1544.94 Q2325.29 1549.52 2319.48 1549.52 Q2313.67 1549.52 2310.59 1544.94 Q2307.53 1540.33 2307.53 1531.6 Q2307.53 1522.85 2310.59 1518.27 Q2313.67 1513.66 2319.48 1513.66 Z\" fill=\"#000000\" fill-rule=\"evenodd\" fill-opacity=\"1\" /><polyline clip-path=\"url(#clip242)\" style=\"stroke:#000000; stroke-linecap:round; stroke-linejoin:round; stroke-width:2; stroke-opacity:0.1; fill:none\" points=\"148.057,1377.76 2352.76,1377.76 \"/>\n",
       "<polyline clip-path=\"url(#clip242)\" style=\"stroke:#000000; stroke-linecap:round; stroke-linejoin:round; stroke-width:2; stroke-opacity:0.1; fill:none\" points=\"148.057,1136.5 2352.76,1136.5 \"/>\n",
       "<polyline clip-path=\"url(#clip242)\" style=\"stroke:#000000; stroke-linecap:round; stroke-linejoin:round; stroke-width:2; stroke-opacity:0.1; fill:none\" points=\"148.057,895.228 2352.76,895.228 \"/>\n",
       "<polyline clip-path=\"url(#clip242)\" style=\"stroke:#000000; stroke-linecap:round; stroke-linejoin:round; stroke-width:2; stroke-opacity:0.1; fill:none\" points=\"148.057,653.96 2352.76,653.96 \"/>\n",
       "<polyline clip-path=\"url(#clip242)\" style=\"stroke:#000000; stroke-linecap:round; stroke-linejoin:round; stroke-width:2; stroke-opacity:0.1; fill:none\" points=\"148.057,412.692 2352.76,412.692 \"/>\n",
       "<polyline clip-path=\"url(#clip242)\" style=\"stroke:#000000; stroke-linecap:round; stroke-linejoin:round; stroke-width:2; stroke-opacity:0.1; fill:none\" points=\"148.057,171.424 2352.76,171.424 \"/>\n",
       "<polyline clip-path=\"url(#clip240)\" style=\"stroke:#000000; stroke-linecap:round; stroke-linejoin:round; stroke-width:4; stroke-opacity:1; fill:none\" points=\"148.057,1486.45 148.057,47.2441 \"/>\n",
       "<polyline clip-path=\"url(#clip240)\" style=\"stroke:#000000; stroke-linecap:round; stroke-linejoin:round; stroke-width:4; stroke-opacity:1; fill:none\" points=\"148.057,1377.76 166.954,1377.76 \"/>\n",
       "<polyline clip-path=\"url(#clip240)\" style=\"stroke:#000000; stroke-linecap:round; stroke-linejoin:round; stroke-width:4; stroke-opacity:1; fill:none\" points=\"148.057,1136.5 166.954,1136.5 \"/>\n",
       "<polyline clip-path=\"url(#clip240)\" style=\"stroke:#000000; stroke-linecap:round; stroke-linejoin:round; stroke-width:4; stroke-opacity:1; fill:none\" points=\"148.057,895.228 166.954,895.228 \"/>\n",
       "<polyline clip-path=\"url(#clip240)\" style=\"stroke:#000000; stroke-linecap:round; stroke-linejoin:round; stroke-width:4; stroke-opacity:1; fill:none\" points=\"148.057,653.96 166.954,653.96 \"/>\n",
       "<polyline clip-path=\"url(#clip240)\" style=\"stroke:#000000; stroke-linecap:round; stroke-linejoin:round; stroke-width:4; stroke-opacity:1; fill:none\" points=\"148.057,412.692 166.954,412.692 \"/>\n",
       "<polyline clip-path=\"url(#clip240)\" style=\"stroke:#000000; stroke-linecap:round; stroke-linejoin:round; stroke-width:4; stroke-opacity:1; fill:none\" points=\"148.057,171.424 166.954,171.424 \"/>\n",
       "<path clip-path=\"url(#clip240)\" d=\"M50.9921 1378.22 L80.6679 1378.22 L80.6679 1382.15 L50.9921 1382.15 L50.9921 1378.22 Z\" fill=\"#000000\" fill-rule=\"evenodd\" fill-opacity=\"1\" /><path clip-path=\"url(#clip240)\" d=\"M104.927 1376.41 Q108.283 1377.13 110.158 1379.4 Q112.057 1381.66 112.057 1385 Q112.057 1390.11 108.538 1392.91 Q105.02 1395.72 98.5382 1395.72 Q96.3623 1395.72 94.0475 1395.28 Q91.7558 1394.86 89.3021 1394 L89.3021 1389.49 Q91.2465 1390.62 93.5613 1391.2 Q95.8761 1391.78 98.3993 1391.78 Q102.797 1391.78 105.089 1390.04 Q107.404 1388.31 107.404 1385 Q107.404 1381.94 105.251 1380.23 Q103.121 1378.49 99.3021 1378.49 L95.2743 1378.49 L95.2743 1374.65 L99.4872 1374.65 Q102.936 1374.65 104.765 1373.29 Q106.594 1371.9 106.594 1369.3 Q106.594 1366.64 104.696 1365.23 Q102.821 1363.79 99.3021 1363.79 Q97.3808 1363.79 95.1817 1364.21 Q92.9826 1364.63 90.3438 1365.51 L90.3438 1361.34 Q93.0058 1360.6 95.3206 1360.23 Q97.6585 1359.86 99.7187 1359.86 Q105.043 1359.86 108.145 1362.29 Q111.246 1364.7 111.246 1368.82 Q111.246 1371.69 109.603 1373.68 Q107.959 1375.65 104.927 1376.41 Z\" fill=\"#000000\" fill-rule=\"evenodd\" fill-opacity=\"1\" /><path clip-path=\"url(#clip240)\" d=\"M51.9412 1136.95 L81.617 1136.95 L81.617 1140.88 L51.9412 1140.88 L51.9412 1136.95 Z\" fill=\"#000000\" fill-rule=\"evenodd\" fill-opacity=\"1\" /><path clip-path=\"url(#clip240)\" d=\"M95.7373 1149.84 L112.057 1149.84 L112.057 1153.78 L90.1123 1153.78 L90.1123 1149.84 Q92.7743 1147.09 97.3576 1142.46 Q101.964 1137.8 103.145 1136.46 Q105.39 1133.94 106.27 1132.2 Q107.172 1130.44 107.172 1128.75 Q107.172 1126 105.228 1124.26 Q103.307 1122.53 100.205 1122.53 Q98.0058 1122.53 95.5521 1123.29 Q93.1215 1124.05 90.3438 1125.61 L90.3438 1120.88 Q93.1678 1119.75 95.6215 1119.17 Q98.0752 1118.59 100.112 1118.59 Q105.483 1118.59 108.677 1121.28 Q111.871 1123.96 111.871 1128.45 Q111.871 1130.58 111.061 1132.5 Q110.274 1134.4 108.168 1136.99 Q107.589 1137.67 104.487 1140.88 Q101.385 1144.08 95.7373 1149.84 Z\" fill=\"#000000\" fill-rule=\"evenodd\" fill-opacity=\"1\" /><path clip-path=\"url(#clip240)\" d=\"M51.5708 895.679 L81.2466 895.679 L81.2466 899.615 L51.5708 899.615 L51.5708 895.679 Z\" fill=\"#000000\" fill-rule=\"evenodd\" fill-opacity=\"1\" /><path clip-path=\"url(#clip240)\" d=\"M92.1493 908.573 L99.7882 908.573 L99.7882 882.207 L91.478 883.874 L91.478 879.615 L99.7419 877.948 L104.418 877.948 L104.418 908.573 L112.057 908.573 L112.057 912.508 L92.1493 912.508 L92.1493 908.573 Z\" fill=\"#000000\" fill-rule=\"evenodd\" fill-opacity=\"1\" /><path clip-path=\"url(#clip240)\" d=\"M100.112 639.759 Q96.5011 639.759 94.6724 643.323 Q92.8669 646.865 92.8669 653.995 Q92.8669 661.101 94.6724 664.666 Q96.5011 668.208 100.112 668.208 Q103.746 668.208 105.552 664.666 Q107.381 661.101 107.381 653.995 Q107.381 646.865 105.552 643.323 Q103.746 639.759 100.112 639.759 M100.112 636.055 Q105.922 636.055 108.978 640.661 Q112.057 645.245 112.057 653.995 Q112.057 662.721 108.978 667.328 Q105.922 671.911 100.112 671.911 Q94.3021 671.911 91.2234 667.328 Q88.1679 662.721 88.1679 653.995 Q88.1679 645.245 91.2234 640.661 Q94.3021 636.055 100.112 636.055 Z\" fill=\"#000000\" fill-rule=\"evenodd\" fill-opacity=\"1\" /><path clip-path=\"url(#clip240)\" d=\"M92.1493 426.037 L99.7882 426.037 L99.7882 399.671 L91.478 401.338 L91.478 397.078 L99.7419 395.412 L104.418 395.412 L104.418 426.037 L112.057 426.037 L112.057 429.972 L92.1493 429.972 L92.1493 426.037 Z\" fill=\"#000000\" fill-rule=\"evenodd\" fill-opacity=\"1\" /><path clip-path=\"url(#clip240)\" d=\"M95.7373 184.768 L112.057 184.768 L112.057 188.704 L90.1123 188.704 L90.1123 184.768 Q92.7743 182.014 97.3576 177.384 Q101.964 172.731 103.145 171.389 Q105.39 168.866 106.27 167.13 Q107.172 165.37 107.172 163.68 Q107.172 160.926 105.228 159.19 Q103.307 157.454 100.205 157.454 Q98.0058 157.454 95.5521 158.218 Q93.1215 158.981 90.3438 160.532 L90.3438 155.81 Q93.1678 154.676 95.6215 154.097 Q98.0752 153.519 100.112 153.519 Q105.483 153.519 108.677 156.204 Q111.871 158.889 111.871 163.38 Q111.871 165.509 111.061 167.43 Q110.274 169.329 108.168 171.921 Q107.589 172.592 104.487 175.81 Q101.385 179.004 95.7373 184.768 Z\" fill=\"#000000\" fill-rule=\"evenodd\" fill-opacity=\"1\" /><polyline clip-path=\"url(#clip242)\" style=\"stroke:#009af9; stroke-linecap:round; stroke-linejoin:round; stroke-width:4; stroke-opacity:1; fill:none\" points=\"210.454,674.888 231.463,898.326 252.472,465.791 273.481,595.339 294.49,635.947 315.499,457.104 336.509,448.33 357.518,500.043 378.527,785.63 399.536,851.486 420.545,715.627 441.554,644.024 462.563,423.457 483.573,749.042 504.582,469.592 525.591,814.697 546.6,958.398 567.609,858.508 588.618,707.816 609.627,688.505 630.637,638.178 651.646,837.846 672.655,819.042 693.664,507.483 714.673,589.547 735.682,734.963 756.691,696.036 777.701,422.394 798.71,436.628 819.719,519.933 840.728,915.226 861.737,856.451 882.746,380.026 903.755,637.45 924.765,1108.49 945.774,585.022 966.783,578.341 987.792,722.845 1008.8,749.744 1029.81,720.645 1050.82,639.026 1071.83,797.545 1092.84,806.172 1113.85,402.932 1134.86,395.945 1155.87,517.429 1176.87,874.038 1197.88,281.799 1218.89,132.649 1239.9,489.814 1260.91,1135.34 1281.92,604.938 1302.93,841.388 1323.94,897.98 1344.95,309.285 1365.96,1059.92 1386.97,747.869 1407.97,676.214 1428.98,521.484 1449.99,839.395 1471,194.665 1492.01,1264.58 1513.02,136.599 1534.03,167.226 1555.04,509.313 1576.05,691.833 1597.06,572.409 1618.07,972.018 1639.08,583.392 1660.08,437.527 1681.09,403.514 1702.1,213.398 1723.11,563.709 1744.12,1445.72 1765.13,778.457 1786.14,145.071 1807.15,484.583 1828.16,573.818 1849.17,733.824 1870.18,518.884 1891.19,480.923 1912.19,958.874 1933.2,87.9763 1954.21,615.644 1975.22,623.833 1996.23,629.901 2017.24,465.144 2038.25,868.922 2059.26,847.932 2080.27,714.043 2101.28,307.974 2122.29,1119.84 2143.29,654.795 2164.3,667.576 2185.31,1116.69 2206.32,1294.23 2227.33,355.715 2248.34,604.962 2269.35,461.833 2290.36,1120.75 \"/>\n",
       "<path clip-path=\"url(#clip240)\" d=\"M221.547 198.898 L494.447 198.898 L494.447 95.2176 L221.547 95.2176  Z\" fill=\"#ffffff\" fill-rule=\"evenodd\" fill-opacity=\"1\"/>\n",
       "<polyline clip-path=\"url(#clip240)\" style=\"stroke:#000000; stroke-linecap:round; stroke-linejoin:round; stroke-width:4; stroke-opacity:1; fill:none\" points=\"221.547,198.898 494.447,198.898 494.447,95.2176 221.547,95.2176 221.547,198.898 \"/>\n",
       "<polyline clip-path=\"url(#clip240)\" style=\"stroke:#009af9; stroke-linecap:round; stroke-linejoin:round; stroke-width:4; stroke-opacity:1; fill:none\" points=\"246.043,147.058 393.023,147.058 \"/>\n",
       "<path clip-path=\"url(#clip240)\" d=\"M431.362 166.745 Q429.557 171.375 427.844 172.787 Q426.131 174.199 423.261 174.199 L419.858 174.199 L419.858 170.634 L422.358 170.634 Q424.117 170.634 425.089 169.8 Q426.061 168.967 427.242 165.865 L428.006 163.921 L417.52 138.412 L422.034 138.412 L430.136 158.689 L438.237 138.412 L442.751 138.412 L431.362 166.745 Z\" fill=\"#000000\" fill-rule=\"evenodd\" fill-opacity=\"1\" /><path clip-path=\"url(#clip240)\" d=\"M450.043 160.402 L457.682 160.402 L457.682 134.037 L449.372 135.703 L449.372 131.444 L457.635 129.778 L462.311 129.778 L462.311 160.402 L469.95 160.402 L469.95 164.338 L450.043 164.338 L450.043 160.402 Z\" fill=\"#000000\" fill-rule=\"evenodd\" fill-opacity=\"1\" /></svg>\n"
      ]
     },
     "execution_count": 9,
     "metadata": {},
     "output_type": "execute_result"
    }
   ],
   "source": [
    "n = 100\n",
    "ϵ = randn(n)\n",
    "plot(1:n, ϵ)"
   ]
  },
  {
   "cell_type": "markdown",
   "id": "2f0b5ea2-f514-4a7a-be4b-7cbcee01905e",
   "metadata": {},
   "source": [
    "## Arrays"
   ]
  },
  {
   "cell_type": "code",
   "execution_count": 10,
   "id": "37cf0943-2ad1-48eb-bad0-cb8954e653fb",
   "metadata": {
    "tags": []
   },
   "outputs": [
    {
     "data": {
      "text/plain": [
       "5-element Vector{Float64}:\n",
       " -0.08674262196219734\n",
       " -1.0128409754819026\n",
       "  0.7799144046725457\n",
       "  0.2429702402914145\n",
       "  0.07466012675482023"
      ]
     },
     "execution_count": 10,
     "metadata": {},
     "output_type": "execute_result"
    }
   ],
   "source": [
    "ϵ[1:5]"
   ]
  },
  {
   "cell_type": "code",
   "execution_count": 11,
   "id": "9174ca93-bce5-4500-94d6-dce7388e8634",
   "metadata": {
    "tags": []
   },
   "outputs": [
    {
     "data": {
      "text/plain": [
       "Vector{Float64}\u001b[90m (alias for \u001b[39m\u001b[90mArray{Float64, 1}\u001b[39m\u001b[90m)\u001b[39m"
      ]
     },
     "execution_count": 11,
     "metadata": {},
     "output_type": "execute_result"
    }
   ],
   "source": [
    "typeof(ϵ)"
   ]
  },
  {
   "cell_type": "code",
   "execution_count": 12,
   "id": "1e8ff730-6f90-4355-88df-e29601c01c0e",
   "metadata": {
    "tags": []
   },
   "outputs": [
    {
     "name": "stdout",
     "output_type": "stream",
     "text": [
      "search: \u001b[0m\u001b[1mt\u001b[22m\u001b[0m\u001b[1my\u001b[22m\u001b[0m\u001b[1mp\u001b[22m\u001b[0m\u001b[1me\u001b[22m\u001b[0m\u001b[1mo\u001b[22m\u001b[0m\u001b[1mf\u001b[22m \u001b[0m\u001b[1mt\u001b[22m\u001b[0m\u001b[1my\u001b[22m\u001b[0m\u001b[1mp\u001b[22m\u001b[0m\u001b[1me\u001b[22mj\u001b[0m\u001b[1mo\u001b[22min \u001b[0m\u001b[1mT\u001b[22m\u001b[0m\u001b[1my\u001b[22m\u001b[0m\u001b[1mp\u001b[22m\u001b[0m\u001b[1me\u001b[22mErr\u001b[0m\u001b[1mo\u001b[22mr\n"
     ]
    },
    {
     "data": {
      "text/latex": [
       "\\begin{verbatim}\n",
       "typeof(x)\n",
       "\\end{verbatim}\n",
       "Get the concrete type of \\texttt{x}.\n",
       "\n",
       "See also \\href{@ref}{\\texttt{eltype}}.\n",
       "\n",
       "\\section{Examples}\n",
       "\\begin{verbatim}\n",
       "julia> a = 1//2;\n",
       "\n",
       "julia> typeof(a)\n",
       "Rational{Int64}\n",
       "\n",
       "julia> M = [1 2; 3.5 4];\n",
       "\n",
       "julia> typeof(M)\n",
       "Matrix{Float64} (alias for Array{Float64, 2})\n",
       "\\end{verbatim}\n"
      ],
      "text/markdown": [
       "```\n",
       "typeof(x)\n",
       "```\n",
       "\n",
       "Get the concrete type of `x`.\n",
       "\n",
       "See also [`eltype`](@ref).\n",
       "\n",
       "# Examples\n",
       "\n",
       "```jldoctest\n",
       "julia> a = 1//2;\n",
       "\n",
       "julia> typeof(a)\n",
       "Rational{Int64}\n",
       "\n",
       "julia> M = [1 2; 3.5 4];\n",
       "\n",
       "julia> typeof(M)\n",
       "Matrix{Float64} (alias for Array{Float64, 2})\n",
       "```\n"
      ],
      "text/plain": [
       "\u001b[36m  typeof(x)\u001b[39m\n",
       "\n",
       "  Get the concrete type of \u001b[36mx\u001b[39m.\n",
       "\n",
       "  See also \u001b[36meltype\u001b[39m.\n",
       "\n",
       "\u001b[1m  Examples\u001b[22m\n",
       "\u001b[1m  ≡≡≡≡≡≡≡≡≡≡\u001b[22m\n",
       "\n",
       "\u001b[36m  julia> a = 1//2;\u001b[39m\n",
       "\u001b[36m  \u001b[39m\n",
       "\u001b[36m  julia> typeof(a)\u001b[39m\n",
       "\u001b[36m  Rational{Int64}\u001b[39m\n",
       "\u001b[36m  \u001b[39m\n",
       "\u001b[36m  julia> M = [1 2; 3.5 4];\u001b[39m\n",
       "\u001b[36m  \u001b[39m\n",
       "\u001b[36m  julia> typeof(M)\u001b[39m\n",
       "\u001b[36m  Matrix{Float64} (alias for Array{Float64, 2})\u001b[39m"
      ]
     },
     "execution_count": 12,
     "metadata": {},
     "output_type": "execute_result"
    },
    {
     "name": "stdout",
     "output_type": "stream",
     "text": [
      "\n"
     ]
    }
   ],
   "source": [
    "?typeof"
   ]
  },
  {
   "cell_type": "markdown",
   "id": "b7b1cff4-2354-4de9-916f-7667f606c0ee",
   "metadata": {},
   "source": [
    "## Loop"
   ]
  },
  {
   "cell_type": "code",
   "execution_count": 13,
   "id": "dda9477d-5e5b-4fa8-ab6f-fc6f4cd229c7",
   "metadata": {
    "tags": []
   },
   "outputs": [],
   "source": [
    "# 반복문 1; 추천하지 않음\n",
    "n = 100\n",
    "ϵ = zeros(n)\n",
    "for i in 1:n\n",
    "    ϵ[i] = randn()\n",
    "end"
   ]
  },
  {
   "cell_type": "code",
   "execution_count": 14,
   "id": "9578b70b-866e-4314-9093-4fac9aa9d7b2",
   "metadata": {
    "tags": []
   },
   "outputs": [],
   "source": [
    "# 반복문 2; 반복자 활용, 추천\n",
    "n = 100\n",
    "ϵ = zeros(n)\n",
    "for i in eachindex(ϵ)\n",
    "    ϵ[i] = randn()\n",
    "end"
   ]
  },
  {
   "cell_type": "code",
   "execution_count": 15,
   "id": "8280df30-11ca-47e9-bea3-866c0820a7c5",
   "metadata": {
    "tags": []
   },
   "outputs": [
    {
     "data": {
      "text/plain": [
       "-0.5017124185858798"
      ]
     },
     "execution_count": 15,
     "metadata": {},
     "output_type": "execute_result"
    }
   ],
   "source": [
    "ϵ_sum = 0.0\n",
    "m = 5\n",
    "for ϵ_val in ϵ[1:m]\n",
    "    ϵ_sum = ϵ_sum + ϵ_val\n",
    "end\n",
    "ϵ_mean = ϵ_sum / m"
   ]
  },
  {
   "cell_type": "code",
   "execution_count": 16,
   "id": "56c19cbc-894d-4a7e-9571-805c6f6e652e",
   "metadata": {
    "tags": []
   },
   "outputs": [
    {
     "name": "stdout",
     "output_type": "stream",
     "text": [
      "ϵ_mean ≈ mean(ϵ[1:m]) = true\n",
      "ϵ_mean ≈ sum(ϵ[1:m]) / m = true\n",
      "ϵ_mean == mean(ϵ[1:m]) = true\n",
      "ϵ_mean == sum(ϵ[1:m]) / m = true\n"
     ]
    }
   ],
   "source": [
    "@show ϵ_mean ≈ mean(ϵ[1:m]);\n",
    "@show ϵ_mean ≈ sum(ϵ[1:m]) / m;\n",
    "@show ϵ_mean == mean(ϵ[1:m]);\n",
    "@show ϵ_mean == sum(ϵ[1:m]) / m;"
   ]
  },
  {
   "cell_type": "code",
   "execution_count": 17,
   "id": "bfc8e236-a416-455a-b166-a089f75647b7",
   "metadata": {
    "tags": []
   },
   "outputs": [
    {
     "name": "stdout",
     "output_type": "stream",
     "text": [
      "ℯ ^ (-π * im) = -1.0 - 1.2246467991473532e-16im\n",
      "ℯ ^ (-π * im) == -1 = false\n",
      "ℯ ^ (-π * im) ≈ -1 = true\n"
     ]
    }
   ],
   "source": [
    "@show ℯ^(-π*im);\n",
    "@show ℯ^(-π*im) == -1;\n",
    "@show ℯ^(-π*im) ≈ -1;"
   ]
  },
  {
   "cell_type": "code",
   "execution_count": 18,
   "id": "f0e1f456-db1d-44d1-b446-ca315e8d5c1a",
   "metadata": {
    "tags": []
   },
   "outputs": [
    {
     "name": "stdout",
     "output_type": "stream",
     "text": [
      "search: \u001b[0m\u001b[1mi\u001b[22m\u001b[0m\u001b[1ms\u001b[22m\u001b[0m\u001b[1ma\u001b[22m\u001b[0m\u001b[1mp\u001b[22m\u001b[0m\u001b[1mp\u001b[22m\u001b[0m\u001b[1mr\u001b[22m\u001b[0m\u001b[1mo\u001b[22m\u001b[0m\u001b[1mx\u001b[22m\n",
      "\n"
     ]
    },
    {
     "data": {
      "text/latex": [
       "\\begin{verbatim}\n",
       "isapprox(x, y; atol::Real=0, rtol::Real=atol>0 ? 0 : √eps, nans::Bool=false[, norm::Function])\n",
       "\\end{verbatim}\n",
       "Inexact equality comparison. Two numbers compare equal if their relative distance \\emph{or} their absolute distance is within tolerance bounds: \\texttt{isapprox} returns \\texttt{true} if \\texttt{norm(x-y) <= max(atol, rtol*max(norm(x), norm(y)))}. The default \\texttt{atol} is zero and the default \\texttt{rtol} depends on the types of \\texttt{x} and \\texttt{y}. The keyword argument \\texttt{nans} determines whether or not NaN values are considered equal (defaults to false).\n",
       "\n",
       "For real or complex floating-point values, if an \\texttt{atol > 0} is not specified, \\texttt{rtol} defaults to the square root of \\href{@ref}{\\texttt{eps}} of the type of \\texttt{x} or \\texttt{y}, whichever is bigger (least precise). This corresponds to requiring equality of about half of the significant digits. Otherwise, e.g. for integer arguments or if an \\texttt{atol > 0} is supplied, \\texttt{rtol} defaults to zero.\n",
       "\n",
       "The \\texttt{norm} keyword defaults to \\texttt{abs} for numeric \\texttt{(x,y)} and to \\texttt{LinearAlgebra.norm} for arrays (where an alternative \\texttt{norm} choice is sometimes useful). When \\texttt{x} and \\texttt{y} are arrays, if \\texttt{norm(x-y)} is not finite (i.e. \\texttt{±Inf} or \\texttt{NaN}), the comparison falls back to checking whether all elements of \\texttt{x} and \\texttt{y} are approximately equal component-wise.\n",
       "\n",
       "The binary operator \\texttt{≈} is equivalent to \\texttt{isapprox} with the default arguments, and \\texttt{x ≉ y} is equivalent to \\texttt{!isapprox(x,y)}.\n",
       "\n",
       "Note that \\texttt{x ≈ 0} (i.e., comparing to zero with the default tolerances) is equivalent to \\texttt{x == 0} since the default \\texttt{atol} is \\texttt{0}.  In such cases, you should either supply an appropriate \\texttt{atol} (or use \\texttt{norm(x) ≤ atol}) or rearrange your code (e.g. use \\texttt{x ≈ y} rather than \\texttt{x - y ≈ 0}).   It is not possible to pick a nonzero \\texttt{atol} automatically because it depends on the overall scaling (the \"units\") of your problem: for example, in \\texttt{x - y ≈ 0}, \\texttt{atol=1e-9} is an absurdly small tolerance if \\texttt{x} is the \\href{https://en.wikipedia.org/wiki/Earth_radius}{radius of the Earth} in meters, but an absurdly large tolerance if \\texttt{x} is the \\href{https://en.wikipedia.org/wiki/Bohr_radius}{radius of a Hydrogen atom} in meters.\n",
       "\n",
       "\\begin{quote}\n",
       "\\textbf{compat}\n",
       "\n",
       "Julia 1.6\n",
       "\n",
       "Passing the \\texttt{norm} keyword argument when comparing numeric (non-array) arguments requires Julia 1.6 or later.\n",
       "\n",
       "\\end{quote}\n",
       "\\section{Examples}\n",
       "\\begin{verbatim}\n",
       "julia> isapprox(0.1, 0.15; atol=0.05)\n",
       "true\n",
       "\n",
       "julia> isapprox(0.1, 0.15; rtol=0.34)\n",
       "true\n",
       "\n",
       "julia> isapprox(0.1, 0.15; rtol=0.33)\n",
       "false\n",
       "\n",
       "julia> 0.1 + 1e-10 ≈ 0.1\n",
       "true\n",
       "\n",
       "julia> 1e-10 ≈ 0\n",
       "false\n",
       "\n",
       "julia> isapprox(1e-10, 0, atol=1e-8)\n",
       "true\n",
       "\n",
       "julia> isapprox([10.0^9, 1.0], [10.0^9, 2.0]) # using `norm`\n",
       "true\n",
       "\\end{verbatim}\n",
       "\\rule{\\textwidth}{1pt}\n",
       "\\begin{verbatim}\n",
       "isapprox(x; kwargs...) / ≈(x; kwargs...)\n",
       "\\end{verbatim}\n",
       "Create a function that compares its argument to \\texttt{x} using \\texttt{≈}, i.e. a function equivalent to \\texttt{y -> y ≈ x}.\n",
       "\n",
       "The keyword arguments supported here are the same as those in the 2-argument \\texttt{isapprox}.\n",
       "\n",
       "\\begin{quote}\n",
       "\\textbf{compat}\n",
       "\n",
       "Julia 1.5\n",
       "\n",
       "This method requires Julia 1.5 or later.\n",
       "\n",
       "\\end{quote}\n",
       "\\rule{\\textwidth}{1pt}\n",
       "\\begin{verbatim}\n",
       "isapprox(x::FixedPoint, y::FixedPoint; rtol=0, atol=max(eps(x), eps(y)))\n",
       "\\end{verbatim}\n",
       "For FixedPoint numbers, the default criterion is that \\texttt{x} and \\texttt{y} differ by no more than \\texttt{eps}, the separation between adjacent fixed-point numbers.\n",
       "\n"
      ],
      "text/markdown": [
       "```\n",
       "isapprox(x, y; atol::Real=0, rtol::Real=atol>0 ? 0 : √eps, nans::Bool=false[, norm::Function])\n",
       "```\n",
       "\n",
       "Inexact equality comparison. Two numbers compare equal if their relative distance *or* their absolute distance is within tolerance bounds: `isapprox` returns `true` if `norm(x-y) <= max(atol, rtol*max(norm(x), norm(y)))`. The default `atol` is zero and the default `rtol` depends on the types of `x` and `y`. The keyword argument `nans` determines whether or not NaN values are considered equal (defaults to false).\n",
       "\n",
       "For real or complex floating-point values, if an `atol > 0` is not specified, `rtol` defaults to the square root of [`eps`](@ref) of the type of `x` or `y`, whichever is bigger (least precise). This corresponds to requiring equality of about half of the significant digits. Otherwise, e.g. for integer arguments or if an `atol > 0` is supplied, `rtol` defaults to zero.\n",
       "\n",
       "The `norm` keyword defaults to `abs` for numeric `(x,y)` and to `LinearAlgebra.norm` for arrays (where an alternative `norm` choice is sometimes useful). When `x` and `y` are arrays, if `norm(x-y)` is not finite (i.e. `±Inf` or `NaN`), the comparison falls back to checking whether all elements of `x` and `y` are approximately equal component-wise.\n",
       "\n",
       "The binary operator `≈` is equivalent to `isapprox` with the default arguments, and `x ≉ y` is equivalent to `!isapprox(x,y)`.\n",
       "\n",
       "Note that `x ≈ 0` (i.e., comparing to zero with the default tolerances) is equivalent to `x == 0` since the default `atol` is `0`.  In such cases, you should either supply an appropriate `atol` (or use `norm(x) ≤ atol`) or rearrange your code (e.g. use `x ≈ y` rather than `x - y ≈ 0`).   It is not possible to pick a nonzero `atol` automatically because it depends on the overall scaling (the \"units\") of your problem: for example, in `x - y ≈ 0`, `atol=1e-9` is an absurdly small tolerance if `x` is the [radius of the Earth](https://en.wikipedia.org/wiki/Earth_radius) in meters, but an absurdly large tolerance if `x` is the [radius of a Hydrogen atom](https://en.wikipedia.org/wiki/Bohr_radius) in meters.\n",
       "\n",
       "!!! compat \"Julia 1.6\"\n",
       "    Passing the `norm` keyword argument when comparing numeric (non-array) arguments requires Julia 1.6 or later.\n",
       "\n",
       "\n",
       "# Examples\n",
       "\n",
       "```jldoctest\n",
       "julia> isapprox(0.1, 0.15; atol=0.05)\n",
       "true\n",
       "\n",
       "julia> isapprox(0.1, 0.15; rtol=0.34)\n",
       "true\n",
       "\n",
       "julia> isapprox(0.1, 0.15; rtol=0.33)\n",
       "false\n",
       "\n",
       "julia> 0.1 + 1e-10 ≈ 0.1\n",
       "true\n",
       "\n",
       "julia> 1e-10 ≈ 0\n",
       "false\n",
       "\n",
       "julia> isapprox(1e-10, 0, atol=1e-8)\n",
       "true\n",
       "\n",
       "julia> isapprox([10.0^9, 1.0], [10.0^9, 2.0]) # using `norm`\n",
       "true\n",
       "```\n",
       "\n",
       "---\n",
       "\n",
       "```\n",
       "isapprox(x; kwargs...) / ≈(x; kwargs...)\n",
       "```\n",
       "\n",
       "Create a function that compares its argument to `x` using `≈`, i.e. a function equivalent to `y -> y ≈ x`.\n",
       "\n",
       "The keyword arguments supported here are the same as those in the 2-argument `isapprox`.\n",
       "\n",
       "!!! compat \"Julia 1.5\"\n",
       "    This method requires Julia 1.5 or later.\n",
       "\n",
       "\n",
       "---\n",
       "\n",
       "```\n",
       "isapprox(x::FixedPoint, y::FixedPoint; rtol=0, atol=max(eps(x), eps(y)))\n",
       "```\n",
       "\n",
       "For FixedPoint numbers, the default criterion is that `x` and `y` differ by no more than `eps`, the separation between adjacent fixed-point numbers.\n"
      ],
      "text/plain": [
       "\u001b[36m  isapprox(x, y; atol::Real=0, rtol::Real=atol>0 ? 0 : √eps, nans::Bool=false[, norm::Function])\u001b[39m\n",
       "\n",
       "  Inexact equality comparison. Two numbers compare equal if their relative\n",
       "  distance \u001b[4mor\u001b[24m their absolute distance is within tolerance bounds: \u001b[36misapprox\u001b[39m\n",
       "  returns \u001b[36mtrue\u001b[39m if \u001b[36mnorm(x-y) <= max(atol, rtol*max(norm(x), norm(y)))\u001b[39m. The\n",
       "  default \u001b[36matol\u001b[39m is zero and the default \u001b[36mrtol\u001b[39m depends on the types of \u001b[36mx\u001b[39m and \u001b[36my\u001b[39m.\n",
       "  The keyword argument \u001b[36mnans\u001b[39m determines whether or not NaN values are\n",
       "  considered equal (defaults to false).\n",
       "\n",
       "  For real or complex floating-point values, if an \u001b[36matol > 0\u001b[39m is not specified,\n",
       "  \u001b[36mrtol\u001b[39m defaults to the square root of \u001b[36meps\u001b[39m of the type of \u001b[36mx\u001b[39m or \u001b[36my\u001b[39m, whichever is\n",
       "  bigger (least precise). This corresponds to requiring equality of about half\n",
       "  of the significant digits. Otherwise, e.g. for integer arguments or if an\n",
       "  \u001b[36matol > 0\u001b[39m is supplied, \u001b[36mrtol\u001b[39m defaults to zero.\n",
       "\n",
       "  The \u001b[36mnorm\u001b[39m keyword defaults to \u001b[36mabs\u001b[39m for numeric \u001b[36m(x,y)\u001b[39m and to \u001b[36mLinearAlgebra.norm\u001b[39m\n",
       "  for arrays (where an alternative \u001b[36mnorm\u001b[39m choice is sometimes useful). When \u001b[36mx\u001b[39m\n",
       "  and \u001b[36my\u001b[39m are arrays, if \u001b[36mnorm(x-y)\u001b[39m is not finite (i.e. \u001b[36m±Inf\u001b[39m or \u001b[36mNaN\u001b[39m), the\n",
       "  comparison falls back to checking whether all elements of \u001b[36mx\u001b[39m and \u001b[36my\u001b[39m are\n",
       "  approximately equal component-wise.\n",
       "\n",
       "  The binary operator \u001b[36m≈\u001b[39m is equivalent to \u001b[36misapprox\u001b[39m with the default arguments,\n",
       "  and \u001b[36mx ≉ y\u001b[39m is equivalent to \u001b[36m!isapprox(x,y)\u001b[39m.\n",
       "\n",
       "  Note that \u001b[36mx ≈ 0\u001b[39m (i.e., comparing to zero with the default tolerances) is\n",
       "  equivalent to \u001b[36mx == 0\u001b[39m since the default \u001b[36matol\u001b[39m is \u001b[36m0\u001b[39m. In such cases, you should\n",
       "  either supply an appropriate \u001b[36matol\u001b[39m (or use \u001b[36mnorm(x) ≤ atol\u001b[39m) or rearrange your\n",
       "  code (e.g. use \u001b[36mx ≈ y\u001b[39m rather than \u001b[36mx - y ≈ 0\u001b[39m). It is not possible to pick a\n",
       "  nonzero \u001b[36matol\u001b[39m automatically because it depends on the overall scaling (the\n",
       "  \"units\") of your problem: for example, in \u001b[36mx - y ≈ 0\u001b[39m, \u001b[36matol=1e-9\u001b[39m is an\n",
       "  absurdly small tolerance if \u001b[36mx\u001b[39m is the radius of the Earth\n",
       "  (https://en.wikipedia.org/wiki/Earth_radius) in meters, but an absurdly\n",
       "  large tolerance if \u001b[36mx\u001b[39m is the radius of a Hydrogen atom\n",
       "  (https://en.wikipedia.org/wiki/Bohr_radius) in meters.\n",
       "\n",
       "\u001b[39m\u001b[1m  │ \u001b[22m\u001b[39m\u001b[1mJulia 1.6\u001b[22m\n",
       "\u001b[39m\u001b[1m  │\u001b[22m\n",
       "\u001b[39m\u001b[1m  │\u001b[22m  Passing the \u001b[36mnorm\u001b[39m keyword argument when comparing numeric\n",
       "\u001b[39m\u001b[1m  │\u001b[22m  (non-array) arguments requires Julia 1.6 or later.\n",
       "\n",
       "\u001b[1m  Examples\u001b[22m\n",
       "\u001b[1m  ≡≡≡≡≡≡≡≡≡≡\u001b[22m\n",
       "\n",
       "\u001b[36m  julia> isapprox(0.1, 0.15; atol=0.05)\u001b[39m\n",
       "\u001b[36m  true\u001b[39m\n",
       "\u001b[36m  \u001b[39m\n",
       "\u001b[36m  julia> isapprox(0.1, 0.15; rtol=0.34)\u001b[39m\n",
       "\u001b[36m  true\u001b[39m\n",
       "\u001b[36m  \u001b[39m\n",
       "\u001b[36m  julia> isapprox(0.1, 0.15; rtol=0.33)\u001b[39m\n",
       "\u001b[36m  false\u001b[39m\n",
       "\u001b[36m  \u001b[39m\n",
       "\u001b[36m  julia> 0.1 + 1e-10 ≈ 0.1\u001b[39m\n",
       "\u001b[36m  true\u001b[39m\n",
       "\u001b[36m  \u001b[39m\n",
       "\u001b[36m  julia> 1e-10 ≈ 0\u001b[39m\n",
       "\u001b[36m  false\u001b[39m\n",
       "\u001b[36m  \u001b[39m\n",
       "\u001b[36m  julia> isapprox(1e-10, 0, atol=1e-8)\u001b[39m\n",
       "\u001b[36m  true\u001b[39m\n",
       "\u001b[36m  \u001b[39m\n",
       "\u001b[36m  julia> isapprox([10.0^9, 1.0], [10.0^9, 2.0]) # using `norm`\u001b[39m\n",
       "\u001b[36m  true\u001b[39m\n",
       "\n",
       "  ────────────────────────────────────────────────────────────────────────────\n",
       "\n",
       "\u001b[36m  isapprox(x; kwargs...) / ≈(x; kwargs...)\u001b[39m\n",
       "\n",
       "  Create a function that compares its argument to \u001b[36mx\u001b[39m using \u001b[36m≈\u001b[39m, i.e. a function\n",
       "  equivalent to \u001b[36my -> y ≈ x\u001b[39m.\n",
       "\n",
       "  The keyword arguments supported here are the same as those in the 2-argument\n",
       "  \u001b[36misapprox\u001b[39m.\n",
       "\n",
       "\u001b[39m\u001b[1m  │ \u001b[22m\u001b[39m\u001b[1mJulia 1.5\u001b[22m\n",
       "\u001b[39m\u001b[1m  │\u001b[22m\n",
       "\u001b[39m\u001b[1m  │\u001b[22m  This method requires Julia 1.5 or later.\n",
       "\n",
       "  ────────────────────────────────────────────────────────────────────────────\n",
       "\n",
       "\u001b[36m  isapprox(x::FixedPoint, y::FixedPoint; rtol=0, atol=max(eps(x), eps(y)))\u001b[39m\n",
       "\n",
       "  For FixedPoint numbers, the default criterion is that \u001b[36mx\u001b[39m and \u001b[36my\u001b[39m differ by no\n",
       "  more than \u001b[36meps\u001b[39m, the separation between adjacent fixed-point numbers."
      ]
     },
     "execution_count": 18,
     "metadata": {},
     "output_type": "execute_result"
    }
   ],
   "source": [
    "?isapprox"
   ]
  },
  {
   "cell_type": "markdown",
   "id": "f8d3d0a9-7733-4865-9e8b-63d373cbcafc",
   "metadata": {},
   "source": [
    "## User-Def. FN"
   ]
  },
  {
   "cell_type": "code",
   "execution_count": 19,
   "id": "fae05c9d-d76c-4ad2-8c49-af08cac5b57b",
   "metadata": {
    "tags": []
   },
   "outputs": [
    {
     "data": {
      "image/svg+xml": [
       "<?xml version=\"1.0\" encoding=\"utf-8\"?>\n",
       "<svg xmlns=\"http://www.w3.org/2000/svg\" xmlns:xlink=\"http://www.w3.org/1999/xlink\" width=\"600\" height=\"400\" viewBox=\"0 0 2400 1600\">\n",
       "<defs>\n",
       "  <clipPath id=\"clip280\">\n",
       "    <rect x=\"0\" y=\"0\" width=\"2400\" height=\"1600\"/>\n",
       "  </clipPath>\n",
       "</defs>\n",
       "<path clip-path=\"url(#clip280)\" d=\"M0 1600 L2400 1600 L2400 0 L0 0  Z\" fill=\"#ffffff\" fill-rule=\"evenodd\" fill-opacity=\"1\"/>\n",
       "<defs>\n",
       "  <clipPath id=\"clip281\">\n",
       "    <rect x=\"480\" y=\"0\" width=\"1681\" height=\"1600\"/>\n",
       "  </clipPath>\n",
       "</defs>\n",
       "<path clip-path=\"url(#clip280)\" d=\"M156.598 1486.45 L2352.76 1486.45 L2352.76 47.2441 L156.598 47.2441  Z\" fill=\"#ffffff\" fill-rule=\"evenodd\" fill-opacity=\"1\"/>\n",
       "<defs>\n",
       "  <clipPath id=\"clip282\">\n",
       "    <rect x=\"156\" y=\"47\" width=\"2197\" height=\"1440\"/>\n",
       "  </clipPath>\n",
       "</defs>\n",
       "<polyline clip-path=\"url(#clip282)\" style=\"stroke:#000000; stroke-linecap:round; stroke-linejoin:round; stroke-width:2; stroke-opacity:0.1; fill:none\" points=\"448.959,1486.45 448.959,47.2441 \"/>\n",
       "<polyline clip-path=\"url(#clip282)\" style=\"stroke:#000000; stroke-linecap:round; stroke-linejoin:round; stroke-width:2; stroke-opacity:0.1; fill:none\" points=\"909.369,1486.45 909.369,47.2441 \"/>\n",
       "<polyline clip-path=\"url(#clip282)\" style=\"stroke:#000000; stroke-linecap:round; stroke-linejoin:round; stroke-width:2; stroke-opacity:0.1; fill:none\" points=\"1369.78,1486.45 1369.78,47.2441 \"/>\n",
       "<polyline clip-path=\"url(#clip282)\" style=\"stroke:#000000; stroke-linecap:round; stroke-linejoin:round; stroke-width:2; stroke-opacity:0.1; fill:none\" points=\"1830.19,1486.45 1830.19,47.2441 \"/>\n",
       "<polyline clip-path=\"url(#clip282)\" style=\"stroke:#000000; stroke-linecap:round; stroke-linejoin:round; stroke-width:2; stroke-opacity:0.1; fill:none\" points=\"2290.6,1486.45 2290.6,47.2441 \"/>\n",
       "<polyline clip-path=\"url(#clip280)\" style=\"stroke:#000000; stroke-linecap:round; stroke-linejoin:round; stroke-width:4; stroke-opacity:1; fill:none\" points=\"156.598,1486.45 2352.76,1486.45 \"/>\n",
       "<polyline clip-path=\"url(#clip280)\" style=\"stroke:#000000; stroke-linecap:round; stroke-linejoin:round; stroke-width:4; stroke-opacity:1; fill:none\" points=\"448.959,1486.45 448.959,1467.55 \"/>\n",
       "<polyline clip-path=\"url(#clip280)\" style=\"stroke:#000000; stroke-linecap:round; stroke-linejoin:round; stroke-width:4; stroke-opacity:1; fill:none\" points=\"909.369,1486.45 909.369,1467.55 \"/>\n",
       "<polyline clip-path=\"url(#clip280)\" style=\"stroke:#000000; stroke-linecap:round; stroke-linejoin:round; stroke-width:4; stroke-opacity:1; fill:none\" points=\"1369.78,1486.45 1369.78,1467.55 \"/>\n",
       "<polyline clip-path=\"url(#clip280)\" style=\"stroke:#000000; stroke-linecap:round; stroke-linejoin:round; stroke-width:4; stroke-opacity:1; fill:none\" points=\"1830.19,1486.45 1830.19,1467.55 \"/>\n",
       "<polyline clip-path=\"url(#clip280)\" style=\"stroke:#000000; stroke-linecap:round; stroke-linejoin:round; stroke-width:4; stroke-opacity:1; fill:none\" points=\"2290.6,1486.45 2290.6,1467.55 \"/>\n",
       "<path clip-path=\"url(#clip280)\" d=\"M443.612 1544.91 L459.931 1544.91 L459.931 1548.85 L437.987 1548.85 L437.987 1544.91 Q440.649 1542.16 445.232 1537.53 Q449.838 1532.88 451.019 1531.53 Q453.264 1529.01 454.144 1527.27 Q455.047 1525.51 455.047 1523.82 Q455.047 1521.07 453.102 1519.33 Q451.181 1517.6 448.079 1517.6 Q445.88 1517.6 443.426 1518.36 Q440.996 1519.13 438.218 1520.68 L438.218 1515.95 Q441.042 1514.82 443.496 1514.24 Q445.95 1513.66 447.987 1513.66 Q453.357 1513.66 456.551 1516.35 Q459.746 1519.03 459.746 1523.52 Q459.746 1525.65 458.936 1527.57 Q458.149 1529.47 456.042 1532.07 Q455.463 1532.74 452.362 1535.95 Q449.26 1539.15 443.612 1544.91 Z\" fill=\"#000000\" fill-rule=\"evenodd\" fill-opacity=\"1\" /><path clip-path=\"url(#clip280)\" d=\"M912.379 1518.36 L900.573 1536.81 L912.379 1536.81 L912.379 1518.36 M911.152 1514.29 L917.031 1514.29 L917.031 1536.81 L921.962 1536.81 L921.962 1540.7 L917.031 1540.7 L917.031 1548.85 L912.379 1548.85 L912.379 1540.7 L896.777 1540.7 L896.777 1536.19 L911.152 1514.29 Z\" fill=\"#000000\" fill-rule=\"evenodd\" fill-opacity=\"1\" /><path clip-path=\"url(#clip280)\" d=\"M1370.18 1529.7 Q1367.04 1529.7 1365.18 1531.86 Q1363.36 1534.01 1363.36 1537.76 Q1363.36 1541.49 1365.18 1543.66 Q1367.04 1545.82 1370.18 1545.82 Q1373.33 1545.82 1375.16 1543.66 Q1377.01 1541.49 1377.01 1537.76 Q1377.01 1534.01 1375.16 1531.86 Q1373.33 1529.7 1370.18 1529.7 M1379.47 1515.05 L1379.47 1519.31 Q1377.71 1518.48 1375.9 1518.04 Q1374.12 1517.6 1372.36 1517.6 Q1367.73 1517.6 1365.28 1520.72 Q1362.85 1523.85 1362.5 1530.17 Q1363.87 1528.15 1365.93 1527.09 Q1367.99 1526 1370.46 1526 Q1375.67 1526 1378.68 1529.17 Q1381.71 1532.32 1381.71 1537.76 Q1381.71 1543.08 1378.56 1546.3 Q1375.42 1549.52 1370.18 1549.52 Q1364.19 1549.52 1361.02 1544.94 Q1357.85 1540.33 1357.85 1531.6 Q1357.85 1523.41 1361.74 1518.55 Q1365.62 1513.66 1372.18 1513.66 Q1373.93 1513.66 1375.72 1514.01 Q1377.52 1514.36 1379.47 1515.05 Z\" fill=\"#000000\" fill-rule=\"evenodd\" fill-opacity=\"1\" /><path clip-path=\"url(#clip280)\" d=\"M1830.19 1532.44 Q1826.86 1532.44 1824.94 1534.22 Q1823.04 1536 1823.04 1539.13 Q1823.04 1542.25 1824.94 1544.03 Q1826.86 1545.82 1830.19 1545.82 Q1833.52 1545.82 1835.44 1544.03 Q1837.37 1542.23 1837.37 1539.13 Q1837.37 1536 1835.44 1534.22 Q1833.55 1532.44 1830.19 1532.44 M1825.51 1530.45 Q1822.5 1529.7 1820.82 1527.64 Q1819.15 1525.58 1819.15 1522.62 Q1819.15 1518.48 1822.09 1516.07 Q1825.05 1513.66 1830.19 1513.66 Q1835.35 1513.66 1838.29 1516.07 Q1841.23 1518.48 1841.23 1522.62 Q1841.23 1525.58 1839.54 1527.64 Q1837.88 1529.7 1834.89 1530.45 Q1838.27 1531.23 1840.14 1533.52 Q1842.04 1535.82 1842.04 1539.13 Q1842.04 1544.15 1838.96 1546.83 Q1835.91 1549.52 1830.19 1549.52 Q1824.47 1549.52 1821.39 1546.83 Q1818.34 1544.15 1818.34 1539.13 Q1818.34 1535.82 1820.24 1533.52 Q1822.13 1531.23 1825.51 1530.45 M1823.8 1523.06 Q1823.8 1525.75 1825.47 1527.25 Q1827.16 1528.76 1830.19 1528.76 Q1833.2 1528.76 1834.89 1527.25 Q1836.6 1525.75 1836.6 1523.06 Q1836.6 1520.38 1834.89 1518.87 Q1833.2 1517.37 1830.19 1517.37 Q1827.16 1517.37 1825.47 1518.87 Q1823.8 1520.38 1823.8 1523.06 Z\" fill=\"#000000\" fill-rule=\"evenodd\" fill-opacity=\"1\" /><path clip-path=\"url(#clip280)\" d=\"M2265.29 1544.91 L2272.93 1544.91 L2272.93 1518.55 L2264.62 1520.21 L2264.62 1515.95 L2272.88 1514.29 L2277.56 1514.29 L2277.56 1544.91 L2285.2 1544.91 L2285.2 1548.85 L2265.29 1548.85 L2265.29 1544.91 Z\" fill=\"#000000\" fill-rule=\"evenodd\" fill-opacity=\"1\" /><path clip-path=\"url(#clip280)\" d=\"M2304.64 1517.37 Q2301.03 1517.37 2299.2 1520.93 Q2297.39 1524.47 2297.39 1531.6 Q2297.39 1538.71 2299.2 1542.27 Q2301.03 1545.82 2304.64 1545.82 Q2308.27 1545.82 2310.08 1542.27 Q2311.91 1538.71 2311.91 1531.6 Q2311.91 1524.47 2310.08 1520.93 Q2308.27 1517.37 2304.64 1517.37 M2304.64 1513.66 Q2310.45 1513.66 2313.51 1518.27 Q2316.58 1522.85 2316.58 1531.6 Q2316.58 1540.33 2313.51 1544.94 Q2310.45 1549.52 2304.64 1549.52 Q2298.83 1549.52 2295.75 1544.94 Q2292.7 1540.33 2292.7 1531.6 Q2292.7 1522.85 2295.75 1518.27 Q2298.83 1513.66 2304.64 1513.66 Z\" fill=\"#000000\" fill-rule=\"evenodd\" fill-opacity=\"1\" /><polyline clip-path=\"url(#clip282)\" style=\"stroke:#000000; stroke-linecap:round; stroke-linejoin:round; stroke-width:2; stroke-opacity:0.1; fill:none\" points=\"156.598,1258.57 2352.76,1258.57 \"/>\n",
       "<polyline clip-path=\"url(#clip282)\" style=\"stroke:#000000; stroke-linecap:round; stroke-linejoin:round; stroke-width:2; stroke-opacity:0.1; fill:none\" points=\"156.598,1013.07 2352.76,1013.07 \"/>\n",
       "<polyline clip-path=\"url(#clip282)\" style=\"stroke:#000000; stroke-linecap:round; stroke-linejoin:round; stroke-width:2; stroke-opacity:0.1; fill:none\" points=\"156.598,767.566 2352.76,767.566 \"/>\n",
       "<polyline clip-path=\"url(#clip282)\" style=\"stroke:#000000; stroke-linecap:round; stroke-linejoin:round; stroke-width:2; stroke-opacity:0.1; fill:none\" points=\"156.598,522.062 2352.76,522.062 \"/>\n",
       "<polyline clip-path=\"url(#clip282)\" style=\"stroke:#000000; stroke-linecap:round; stroke-linejoin:round; stroke-width:2; stroke-opacity:0.1; fill:none\" points=\"156.598,276.559 2352.76,276.559 \"/>\n",
       "<polyline clip-path=\"url(#clip280)\" style=\"stroke:#000000; stroke-linecap:round; stroke-linejoin:round; stroke-width:4; stroke-opacity:1; fill:none\" points=\"156.598,1486.45 156.598,47.2441 \"/>\n",
       "<polyline clip-path=\"url(#clip280)\" style=\"stroke:#000000; stroke-linecap:round; stroke-linejoin:round; stroke-width:4; stroke-opacity:1; fill:none\" points=\"156.598,1258.57 175.496,1258.57 \"/>\n",
       "<polyline clip-path=\"url(#clip280)\" style=\"stroke:#000000; stroke-linecap:round; stroke-linejoin:round; stroke-width:4; stroke-opacity:1; fill:none\" points=\"156.598,1013.07 175.496,1013.07 \"/>\n",
       "<polyline clip-path=\"url(#clip280)\" style=\"stroke:#000000; stroke-linecap:round; stroke-linejoin:round; stroke-width:4; stroke-opacity:1; fill:none\" points=\"156.598,767.566 175.496,767.566 \"/>\n",
       "<polyline clip-path=\"url(#clip280)\" style=\"stroke:#000000; stroke-linecap:round; stroke-linejoin:round; stroke-width:4; stroke-opacity:1; fill:none\" points=\"156.598,522.062 175.496,522.062 \"/>\n",
       "<polyline clip-path=\"url(#clip280)\" style=\"stroke:#000000; stroke-linecap:round; stroke-linejoin:round; stroke-width:4; stroke-opacity:1; fill:none\" points=\"156.598,276.559 175.496,276.559 \"/>\n",
       "<path clip-path=\"url(#clip280)\" d=\"M65.0198 1244.37 Q61.4087 1244.37 59.58 1247.94 Q57.7745 1251.48 57.7745 1258.61 Q57.7745 1265.71 59.58 1269.28 Q61.4087 1272.82 65.0198 1272.82 Q68.6541 1272.82 70.4596 1269.28 Q72.2883 1265.71 72.2883 1258.61 Q72.2883 1251.48 70.4596 1247.94 Q68.6541 1244.37 65.0198 1244.37 M65.0198 1240.67 Q70.83 1240.67 73.8855 1245.27 Q76.9642 1249.86 76.9642 1258.61 Q76.9642 1267.33 73.8855 1271.94 Q70.83 1276.52 65.0198 1276.52 Q59.2097 1276.52 56.131 1271.94 Q53.0754 1267.33 53.0754 1258.61 Q53.0754 1249.86 56.131 1245.27 Q59.2097 1240.67 65.0198 1240.67 Z\" fill=\"#000000\" fill-rule=\"evenodd\" fill-opacity=\"1\" /><path clip-path=\"url(#clip280)\" d=\"M85.1818 1269.97 L90.066 1269.97 L90.066 1275.85 L85.1818 1275.85 L85.1818 1269.97 Z\" fill=\"#000000\" fill-rule=\"evenodd\" fill-opacity=\"1\" /><path clip-path=\"url(#clip280)\" d=\"M104.279 1271.92 L120.598 1271.92 L120.598 1275.85 L98.6539 1275.85 L98.6539 1271.92 Q101.316 1269.16 105.899 1264.53 Q110.506 1259.88 111.686 1258.54 Q113.932 1256.01 114.811 1254.28 Q115.714 1252.52 115.714 1250.83 Q115.714 1248.07 113.77 1246.34 Q111.848 1244.6 108.746 1244.6 Q106.547 1244.6 104.094 1245.37 Q101.663 1246.13 98.8854 1247.68 L98.8854 1242.96 Q101.709 1241.82 104.163 1241.25 Q106.617 1240.67 108.654 1240.67 Q114.024 1240.67 117.219 1243.35 Q120.413 1246.04 120.413 1250.53 Q120.413 1252.66 119.603 1254.58 Q118.816 1256.48 116.709 1259.07 Q116.131 1259.74 113.029 1262.96 Q109.927 1266.15 104.279 1271.92 Z\" fill=\"#000000\" fill-rule=\"evenodd\" fill-opacity=\"1\" /><path clip-path=\"url(#clip280)\" d=\"M62.9365 998.867 Q59.3254 998.867 57.4967 1002.43 Q55.6912 1005.97 55.6912 1013.1 Q55.6912 1020.21 57.4967 1023.77 Q59.3254 1027.32 62.9365 1027.32 Q66.5707 1027.32 68.3763 1023.77 Q70.205 1020.21 70.205 1013.1 Q70.205 1005.97 68.3763 1002.43 Q66.5707 998.867 62.9365 998.867 M62.9365 995.164 Q68.7467 995.164 71.8022 999.77 Q74.8809 1004.35 74.8809 1013.1 Q74.8809 1021.83 71.8022 1026.44 Q68.7467 1031.02 62.9365 1031.02 Q57.1264 1031.02 54.0477 1026.44 Q50.9921 1021.83 50.9921 1013.1 Q50.9921 1004.35 54.0477 999.77 Q57.1264 995.164 62.9365 995.164 Z\" fill=\"#000000\" fill-rule=\"evenodd\" fill-opacity=\"1\" /><path clip-path=\"url(#clip280)\" d=\"M83.0984 1024.47 L87.9827 1024.47 L87.9827 1030.35 L83.0984 1030.35 L83.0984 1024.47 Z\" fill=\"#000000\" fill-rule=\"evenodd\" fill-opacity=\"1\" /><path clip-path=\"url(#clip280)\" d=\"M111.015 999.863 L99.2095 1018.31 L111.015 1018.31 L111.015 999.863 M109.788 995.789 L115.668 995.789 L115.668 1018.31 L120.598 1018.31 L120.598 1022.2 L115.668 1022.2 L115.668 1030.35 L111.015 1030.35 L111.015 1022.2 L95.4132 1022.2 L95.4132 1017.69 L109.788 995.789 Z\" fill=\"#000000\" fill-rule=\"evenodd\" fill-opacity=\"1\" /><path clip-path=\"url(#clip280)\" d=\"M63.2606 753.364 Q59.6495 753.364 57.8208 756.929 Q56.0152 760.471 56.0152 767.6 Q56.0152 774.707 57.8208 778.272 Q59.6495 781.813 63.2606 781.813 Q66.8948 781.813 68.7004 778.272 Q70.5291 774.707 70.5291 767.6 Q70.5291 760.471 68.7004 756.929 Q66.8948 753.364 63.2606 753.364 M63.2606 749.661 Q69.0707 749.661 72.1263 754.267 Q75.205 758.85 75.205 767.6 Q75.205 776.327 72.1263 780.934 Q69.0707 785.517 63.2606 785.517 Q57.4504 785.517 54.3717 780.934 Q51.3162 776.327 51.3162 767.6 Q51.3162 758.85 54.3717 754.267 Q57.4504 749.661 63.2606 749.661 Z\" fill=\"#000000\" fill-rule=\"evenodd\" fill-opacity=\"1\" /><path clip-path=\"url(#clip280)\" d=\"M83.4225 778.966 L88.3067 778.966 L88.3067 784.846 L83.4225 784.846 L83.4225 778.966 Z\" fill=\"#000000\" fill-rule=\"evenodd\" fill-opacity=\"1\" /><path clip-path=\"url(#clip280)\" d=\"M109.071 765.702 Q105.922 765.702 104.071 767.855 Q102.242 770.008 102.242 773.758 Q102.242 777.485 104.071 779.66 Q105.922 781.813 109.071 781.813 Q112.219 781.813 114.047 779.66 Q115.899 777.485 115.899 773.758 Q115.899 770.008 114.047 767.855 Q112.219 765.702 109.071 765.702 M118.353 751.049 L118.353 755.309 Q116.594 754.475 114.788 754.036 Q113.006 753.596 111.246 753.596 Q106.617 753.596 104.163 756.721 Q101.733 759.846 101.385 766.165 Q102.751 764.151 104.811 763.086 Q106.871 761.998 109.348 761.998 Q114.557 761.998 117.566 765.17 Q120.598 768.318 120.598 773.758 Q120.598 779.082 117.45 782.299 Q114.302 785.517 109.071 785.517 Q103.075 785.517 99.9039 780.934 Q96.7326 776.327 96.7326 767.6 Q96.7326 759.406 100.621 754.545 Q104.51 749.661 111.061 749.661 Q112.82 749.661 114.603 750.008 Q116.408 750.355 118.353 751.049 Z\" fill=\"#000000\" fill-rule=\"evenodd\" fill-opacity=\"1\" /><path clip-path=\"url(#clip280)\" d=\"M63.5152 507.861 Q59.9041 507.861 58.0754 511.426 Q56.2699 514.968 56.2699 522.097 Q56.2699 529.204 58.0754 532.768 Q59.9041 536.31 63.5152 536.31 Q67.1494 536.31 68.955 532.768 Q70.7837 529.204 70.7837 522.097 Q70.7837 514.968 68.955 511.426 Q67.1494 507.861 63.5152 507.861 M63.5152 504.157 Q69.3254 504.157 72.3809 508.764 Q75.4596 513.347 75.4596 522.097 Q75.4596 530.824 72.3809 535.43 Q69.3254 540.014 63.5152 540.014 Q57.7051 540.014 54.6264 535.43 Q51.5708 530.824 51.5708 522.097 Q51.5708 513.347 54.6264 508.764 Q57.7051 504.157 63.5152 504.157 Z\" fill=\"#000000\" fill-rule=\"evenodd\" fill-opacity=\"1\" /><path clip-path=\"url(#clip280)\" d=\"M83.6771 533.463 L88.5614 533.463 L88.5614 539.342 L83.6771 539.342 L83.6771 533.463 Z\" fill=\"#000000\" fill-rule=\"evenodd\" fill-opacity=\"1\" /><path clip-path=\"url(#clip280)\" d=\"M108.746 522.93 Q105.413 522.93 103.492 524.713 Q101.594 526.495 101.594 529.62 Q101.594 532.745 103.492 534.528 Q105.413 536.31 108.746 536.31 Q112.08 536.31 114.001 534.528 Q115.922 532.722 115.922 529.62 Q115.922 526.495 114.001 524.713 Q112.103 522.93 108.746 522.93 M104.071 520.94 Q101.061 520.199 99.3715 518.139 Q97.7048 516.079 97.7048 513.116 Q97.7048 508.972 100.645 506.565 Q103.608 504.157 108.746 504.157 Q113.908 504.157 116.848 506.565 Q119.788 508.972 119.788 513.116 Q119.788 516.079 118.098 518.139 Q116.432 520.199 113.445 520.94 Q116.825 521.727 118.7 524.018 Q120.598 526.31 120.598 529.62 Q120.598 534.643 117.52 537.329 Q114.464 540.014 108.746 540.014 Q103.029 540.014 99.9502 537.329 Q96.8947 534.643 96.8947 529.62 Q96.8947 526.31 98.7928 524.018 Q100.691 521.727 104.071 520.94 M102.358 513.556 Q102.358 516.241 104.024 517.745 Q105.714 519.25 108.746 519.25 Q111.756 519.25 113.445 517.745 Q115.158 516.241 115.158 513.556 Q115.158 510.87 113.445 509.366 Q111.756 507.861 108.746 507.861 Q105.714 507.861 104.024 509.366 Q102.358 510.87 102.358 513.556 Z\" fill=\"#000000\" fill-rule=\"evenodd\" fill-opacity=\"1\" /><path clip-path=\"url(#clip280)\" d=\"M54.2328 289.904 L61.8717 289.904 L61.8717 263.538 L53.5616 265.205 L53.5616 260.946 L61.8254 259.279 L66.5013 259.279 L66.5013 289.904 L74.1402 289.904 L74.1402 293.839 L54.2328 293.839 L54.2328 289.904 Z\" fill=\"#000000\" fill-rule=\"evenodd\" fill-opacity=\"1\" /><path clip-path=\"url(#clip280)\" d=\"M83.5845 287.96 L88.4688 287.96 L88.4688 293.839 L83.5845 293.839 L83.5845 287.96 Z\" fill=\"#000000\" fill-rule=\"evenodd\" fill-opacity=\"1\" /><path clip-path=\"url(#clip280)\" d=\"M108.654 262.358 Q105.043 262.358 103.214 265.923 Q101.409 269.464 101.409 276.594 Q101.409 283.7 103.214 287.265 Q105.043 290.807 108.654 290.807 Q112.288 290.807 114.094 287.265 Q115.922 283.7 115.922 276.594 Q115.922 269.464 114.094 265.923 Q112.288 262.358 108.654 262.358 M108.654 258.654 Q114.464 258.654 117.52 263.261 Q120.598 267.844 120.598 276.594 Q120.598 285.321 117.52 289.927 Q114.464 294.511 108.654 294.511 Q102.844 294.511 99.765 289.927 Q96.7095 285.321 96.7095 276.594 Q96.7095 267.844 99.765 263.261 Q102.844 258.654 108.654 258.654 Z\" fill=\"#000000\" fill-rule=\"evenodd\" fill-opacity=\"1\" /><polyline clip-path=\"url(#clip282)\" style=\"stroke:#009af9; stroke-linecap:round; stroke-linejoin:round; stroke-width:4; stroke-opacity:1; fill:none\" points=\"218.754,930.001 448.959,185.603 679.164,1308.46 909.369,87.9763 1139.57,880.304 1369.78,1206.34 1599.98,449.404 1830.19,1445.72 2060.4,181.896 2290.6,94.5356 \"/>\n",
       "<path clip-path=\"url(#clip280)\" d=\"M229.803 1438.47 L501.85 1438.47 L501.85 1334.79 L229.803 1334.79  Z\" fill=\"#ffffff\" fill-rule=\"evenodd\" fill-opacity=\"1\"/>\n",
       "<polyline clip-path=\"url(#clip280)\" style=\"stroke:#000000; stroke-linecap:round; stroke-linejoin:round; stroke-width:4; stroke-opacity:1; fill:none\" points=\"229.803,1438.47 501.85,1438.47 501.85,1334.79 229.803,1334.79 229.803,1438.47 \"/>\n",
       "<polyline clip-path=\"url(#clip280)\" style=\"stroke:#009af9; stroke-linecap:round; stroke-linejoin:round; stroke-width:4; stroke-opacity:1; fill:none\" points=\"254.205,1386.63 400.616,1386.63 \"/>\n",
       "<path clip-path=\"url(#clip280)\" d=\"M438.86 1406.32 Q437.054 1410.95 435.342 1412.36 Q433.629 1413.78 430.758 1413.78 L427.355 1413.78 L427.355 1410.21 L429.855 1410.21 Q431.615 1410.21 432.587 1409.38 Q433.559 1408.54 434.74 1405.44 L435.504 1403.5 L425.018 1377.99 L429.531 1377.99 L437.633 1398.27 L445.735 1377.99 L450.249 1377.99 L438.86 1406.32 Z\" fill=\"#000000\" fill-rule=\"evenodd\" fill-opacity=\"1\" /><path clip-path=\"url(#clip280)\" d=\"M457.54 1399.98 L465.179 1399.98 L465.179 1373.61 L456.869 1375.28 L456.869 1371.02 L465.133 1369.35 L469.809 1369.35 L469.809 1399.98 L477.448 1399.98 L477.448 1403.91 L457.54 1403.91 L457.54 1399.98 Z\" fill=\"#000000\" fill-rule=\"evenodd\" fill-opacity=\"1\" /></svg>\n"
      ]
     },
     "execution_count": 19,
     "metadata": {},
     "output_type": "execute_result"
    }
   ],
   "source": [
    "# 함수1\n",
    "function generatedata(n)\n",
    "    ϵ = zeros(n)\n",
    "    for i in eachindex(ϵ)\n",
    "        ϵ[i] = (randn())^2\n",
    "    end\n",
    "    return ϵ\n",
    "end\n",
    "data = generatedata(10)\n",
    "plot(data)"
   ]
  },
  {
   "cell_type": "code",
   "execution_count": 20,
   "id": "6f58f373-7a9e-4f72-a7c4-f63f838c713a",
   "metadata": {
    "tags": []
   },
   "outputs": [
    {
     "data": {
      "image/svg+xml": [
       "<?xml version=\"1.0\" encoding=\"utf-8\"?>\n",
       "<svg xmlns=\"http://www.w3.org/2000/svg\" xmlns:xlink=\"http://www.w3.org/1999/xlink\" width=\"600\" height=\"400\" viewBox=\"0 0 2400 1600\">\n",
       "<defs>\n",
       "  <clipPath id=\"clip320\">\n",
       "    <rect x=\"0\" y=\"0\" width=\"2400\" height=\"1600\"/>\n",
       "  </clipPath>\n",
       "</defs>\n",
       "<path clip-path=\"url(#clip320)\" d=\"M0 1600 L2400 1600 L2400 0 L0 0  Z\" fill=\"#ffffff\" fill-rule=\"evenodd\" fill-opacity=\"1\"/>\n",
       "<defs>\n",
       "  <clipPath id=\"clip321\">\n",
       "    <rect x=\"480\" y=\"0\" width=\"1681\" height=\"1600\"/>\n",
       "  </clipPath>\n",
       "</defs>\n",
       "<path clip-path=\"url(#clip320)\" d=\"M156.112 1486.45 L2352.76 1486.45 L2352.76 47.2441 L156.112 47.2441  Z\" fill=\"#ffffff\" fill-rule=\"evenodd\" fill-opacity=\"1\"/>\n",
       "<defs>\n",
       "  <clipPath id=\"clip322\">\n",
       "    <rect x=\"156\" y=\"47\" width=\"2198\" height=\"1440\"/>\n",
       "  </clipPath>\n",
       "</defs>\n",
       "<polyline clip-path=\"url(#clip322)\" style=\"stroke:#000000; stroke-linecap:round; stroke-linejoin:round; stroke-width:2; stroke-opacity:0.1; fill:none\" points=\"218.281,1486.45 218.281,47.2441 \"/>\n",
       "<polyline clip-path=\"url(#clip322)\" style=\"stroke:#000000; stroke-linecap:round; stroke-linejoin:round; stroke-width:2; stroke-opacity:0.1; fill:none\" points=\"736.358,1486.45 736.358,47.2441 \"/>\n",
       "<polyline clip-path=\"url(#clip322)\" style=\"stroke:#000000; stroke-linecap:round; stroke-linejoin:round; stroke-width:2; stroke-opacity:0.1; fill:none\" points=\"1254.43,1486.45 1254.43,47.2441 \"/>\n",
       "<polyline clip-path=\"url(#clip322)\" style=\"stroke:#000000; stroke-linecap:round; stroke-linejoin:round; stroke-width:2; stroke-opacity:0.1; fill:none\" points=\"1772.51,1486.45 1772.51,47.2441 \"/>\n",
       "<polyline clip-path=\"url(#clip322)\" style=\"stroke:#000000; stroke-linecap:round; stroke-linejoin:round; stroke-width:2; stroke-opacity:0.1; fill:none\" points=\"2290.59,1486.45 2290.59,47.2441 \"/>\n",
       "<polyline clip-path=\"url(#clip320)\" style=\"stroke:#000000; stroke-linecap:round; stroke-linejoin:round; stroke-width:4; stroke-opacity:1; fill:none\" points=\"156.112,1486.45 2352.76,1486.45 \"/>\n",
       "<polyline clip-path=\"url(#clip320)\" style=\"stroke:#000000; stroke-linecap:round; stroke-linejoin:round; stroke-width:4; stroke-opacity:1; fill:none\" points=\"218.281,1486.45 218.281,1467.55 \"/>\n",
       "<polyline clip-path=\"url(#clip320)\" style=\"stroke:#000000; stroke-linecap:round; stroke-linejoin:round; stroke-width:4; stroke-opacity:1; fill:none\" points=\"736.358,1486.45 736.358,1467.55 \"/>\n",
       "<polyline clip-path=\"url(#clip320)\" style=\"stroke:#000000; stroke-linecap:round; stroke-linejoin:round; stroke-width:4; stroke-opacity:1; fill:none\" points=\"1254.43,1486.45 1254.43,1467.55 \"/>\n",
       "<polyline clip-path=\"url(#clip320)\" style=\"stroke:#000000; stroke-linecap:round; stroke-linejoin:round; stroke-width:4; stroke-opacity:1; fill:none\" points=\"1772.51,1486.45 1772.51,1467.55 \"/>\n",
       "<polyline clip-path=\"url(#clip320)\" style=\"stroke:#000000; stroke-linecap:round; stroke-linejoin:round; stroke-width:4; stroke-opacity:1; fill:none\" points=\"2290.59,1486.45 2290.59,1467.55 \"/>\n",
       "<path clip-path=\"url(#clip320)\" d=\"M208.663 1544.91 L216.302 1544.91 L216.302 1518.55 L207.992 1520.21 L207.992 1515.95 L216.256 1514.29 L220.932 1514.29 L220.932 1544.91 L228.571 1544.91 L228.571 1548.85 L208.663 1548.85 L208.663 1544.91 Z\" fill=\"#000000\" fill-rule=\"evenodd\" fill-opacity=\"1\" /><path clip-path=\"url(#clip320)\" d=\"M731.01 1544.91 L747.33 1544.91 L747.33 1548.85 L725.385 1548.85 L725.385 1544.91 Q728.048 1542.16 732.631 1537.53 Q737.237 1532.88 738.418 1531.53 Q740.663 1529.01 741.543 1527.27 Q742.446 1525.51 742.446 1523.82 Q742.446 1521.07 740.501 1519.33 Q738.58 1517.6 735.478 1517.6 Q733.279 1517.6 730.825 1518.36 Q728.395 1519.13 725.617 1520.68 L725.617 1515.95 Q728.441 1514.82 730.895 1514.24 Q733.348 1513.66 735.385 1513.66 Q740.756 1513.66 743.95 1516.35 Q747.145 1519.03 747.145 1523.52 Q747.145 1525.65 746.334 1527.57 Q745.547 1529.47 743.441 1532.07 Q742.862 1532.74 739.76 1535.95 Q736.659 1539.15 731.01 1544.91 Z\" fill=\"#000000\" fill-rule=\"evenodd\" fill-opacity=\"1\" /><path clip-path=\"url(#clip320)\" d=\"M1258.68 1530.21 Q1262.04 1530.93 1263.91 1533.2 Q1265.81 1535.47 1265.81 1538.8 Q1265.81 1543.92 1262.29 1546.72 Q1258.77 1549.52 1252.29 1549.52 Q1250.12 1549.52 1247.8 1549.08 Q1245.51 1548.66 1243.06 1547.81 L1243.06 1543.29 Q1245 1544.43 1247.32 1545.01 Q1249.63 1545.58 1252.15 1545.58 Q1256.55 1545.58 1258.84 1543.85 Q1261.16 1542.11 1261.16 1538.8 Q1261.16 1535.75 1259.01 1534.03 Q1256.88 1532.3 1253.06 1532.3 L1249.03 1532.3 L1249.03 1528.45 L1253.24 1528.45 Q1256.69 1528.45 1258.52 1527.09 Q1260.35 1525.7 1260.35 1523.11 Q1260.35 1520.45 1258.45 1519.03 Q1256.58 1517.6 1253.06 1517.6 Q1251.14 1517.6 1248.94 1518.01 Q1246.74 1518.43 1244.1 1519.31 L1244.1 1515.14 Q1246.76 1514.4 1249.08 1514.03 Q1251.41 1513.66 1253.47 1513.66 Q1258.8 1513.66 1261.9 1516.09 Q1265 1518.5 1265 1522.62 Q1265 1525.49 1263.36 1527.48 Q1261.71 1529.45 1258.68 1530.21 Z\" fill=\"#000000\" fill-rule=\"evenodd\" fill-opacity=\"1\" /><path clip-path=\"url(#clip320)\" d=\"M1775.52 1518.36 L1763.71 1536.81 L1775.52 1536.81 L1775.52 1518.36 M1774.29 1514.29 L1780.17 1514.29 L1780.17 1536.81 L1785.1 1536.81 L1785.1 1540.7 L1780.17 1540.7 L1780.17 1548.85 L1775.52 1548.85 L1775.52 1540.7 L1759.92 1540.7 L1759.92 1536.19 L1774.29 1514.29 Z\" fill=\"#000000\" fill-rule=\"evenodd\" fill-opacity=\"1\" /><path clip-path=\"url(#clip320)\" d=\"M2280.86 1514.29 L2299.22 1514.29 L2299.22 1518.22 L2285.15 1518.22 L2285.15 1526.7 Q2286.17 1526.35 2287.18 1526.19 Q2288.2 1526 2289.22 1526 Q2295.01 1526 2298.39 1529.17 Q2301.77 1532.34 2301.77 1537.76 Q2301.77 1543.34 2298.3 1546.44 Q2294.82 1549.52 2288.5 1549.52 Q2286.33 1549.52 2284.06 1549.15 Q2281.81 1548.78 2279.41 1548.04 L2279.41 1543.34 Q2281.49 1544.47 2283.71 1545.03 Q2285.93 1545.58 2288.41 1545.58 Q2292.42 1545.58 2294.75 1543.48 Q2297.09 1541.37 2297.09 1537.76 Q2297.09 1534.15 2294.75 1532.04 Q2292.42 1529.94 2288.41 1529.94 Q2286.54 1529.94 2284.66 1530.35 Q2282.81 1530.77 2280.86 1531.65 L2280.86 1514.29 Z\" fill=\"#000000\" fill-rule=\"evenodd\" fill-opacity=\"1\" /><polyline clip-path=\"url(#clip322)\" style=\"stroke:#000000; stroke-linecap:round; stroke-linejoin:round; stroke-width:2; stroke-opacity:0.1; fill:none\" points=\"156.112,1453.9 2352.76,1453.9 \"/>\n",
       "<polyline clip-path=\"url(#clip322)\" style=\"stroke:#000000; stroke-linecap:round; stroke-linejoin:round; stroke-width:2; stroke-opacity:0.1; fill:none\" points=\"156.112,1182.4 2352.76,1182.4 \"/>\n",
       "<polyline clip-path=\"url(#clip322)\" style=\"stroke:#000000; stroke-linecap:round; stroke-linejoin:round; stroke-width:2; stroke-opacity:0.1; fill:none\" points=\"156.112,910.902 2352.76,910.902 \"/>\n",
       "<polyline clip-path=\"url(#clip322)\" style=\"stroke:#000000; stroke-linecap:round; stroke-linejoin:round; stroke-width:2; stroke-opacity:0.1; fill:none\" points=\"156.112,639.405 2352.76,639.405 \"/>\n",
       "<polyline clip-path=\"url(#clip322)\" style=\"stroke:#000000; stroke-linecap:round; stroke-linejoin:round; stroke-width:2; stroke-opacity:0.1; fill:none\" points=\"156.112,367.908 2352.76,367.908 \"/>\n",
       "<polyline clip-path=\"url(#clip322)\" style=\"stroke:#000000; stroke-linecap:round; stroke-linejoin:round; stroke-width:2; stroke-opacity:0.1; fill:none\" points=\"156.112,96.411 2352.76,96.411 \"/>\n",
       "<polyline clip-path=\"url(#clip320)\" style=\"stroke:#000000; stroke-linecap:round; stroke-linejoin:round; stroke-width:4; stroke-opacity:1; fill:none\" points=\"156.112,1486.45 156.112,47.2441 \"/>\n",
       "<polyline clip-path=\"url(#clip320)\" style=\"stroke:#000000; stroke-linecap:round; stroke-linejoin:round; stroke-width:4; stroke-opacity:1; fill:none\" points=\"156.112,1453.9 175.01,1453.9 \"/>\n",
       "<polyline clip-path=\"url(#clip320)\" style=\"stroke:#000000; stroke-linecap:round; stroke-linejoin:round; stroke-width:4; stroke-opacity:1; fill:none\" points=\"156.112,1182.4 175.01,1182.4 \"/>\n",
       "<polyline clip-path=\"url(#clip320)\" style=\"stroke:#000000; stroke-linecap:round; stroke-linejoin:round; stroke-width:4; stroke-opacity:1; fill:none\" points=\"156.112,910.902 175.01,910.902 \"/>\n",
       "<polyline clip-path=\"url(#clip320)\" style=\"stroke:#000000; stroke-linecap:round; stroke-linejoin:round; stroke-width:4; stroke-opacity:1; fill:none\" points=\"156.112,639.405 175.01,639.405 \"/>\n",
       "<polyline clip-path=\"url(#clip320)\" style=\"stroke:#000000; stroke-linecap:round; stroke-linejoin:round; stroke-width:4; stroke-opacity:1; fill:none\" points=\"156.112,367.908 175.01,367.908 \"/>\n",
       "<polyline clip-path=\"url(#clip320)\" style=\"stroke:#000000; stroke-linecap:round; stroke-linejoin:round; stroke-width:4; stroke-opacity:1; fill:none\" points=\"156.112,96.411 175.01,96.411 \"/>\n",
       "<path clip-path=\"url(#clip320)\" d=\"M62.9365 1439.69 Q59.3254 1439.69 57.4967 1443.26 Q55.6912 1446.8 55.6912 1453.93 Q55.6912 1461.04 57.4967 1464.6 Q59.3254 1468.14 62.9365 1468.14 Q66.5707 1468.14 68.3763 1464.6 Q70.205 1461.04 70.205 1453.93 Q70.205 1446.8 68.3763 1443.26 Q66.5707 1439.69 62.9365 1439.69 M62.9365 1435.99 Q68.7467 1435.99 71.8022 1440.6 Q74.8809 1445.18 74.8809 1453.93 Q74.8809 1462.66 71.8022 1467.26 Q68.7467 1471.85 62.9365 1471.85 Q57.1264 1471.85 54.0477 1467.26 Q50.9921 1462.66 50.9921 1453.93 Q50.9921 1445.18 54.0477 1440.6 Q57.1264 1435.99 62.9365 1435.99 Z\" fill=\"#000000\" fill-rule=\"evenodd\" fill-opacity=\"1\" /><path clip-path=\"url(#clip320)\" d=\"M83.0984 1465.3 L87.9827 1465.3 L87.9827 1471.18 L83.0984 1471.18 L83.0984 1465.3 Z\" fill=\"#000000\" fill-rule=\"evenodd\" fill-opacity=\"1\" /><path clip-path=\"url(#clip320)\" d=\"M108.168 1439.69 Q104.557 1439.69 102.728 1443.26 Q100.922 1446.8 100.922 1453.93 Q100.922 1461.04 102.728 1464.6 Q104.557 1468.14 108.168 1468.14 Q111.802 1468.14 113.608 1464.6 Q115.436 1461.04 115.436 1453.93 Q115.436 1446.8 113.608 1443.26 Q111.802 1439.69 108.168 1439.69 M108.168 1435.99 Q113.978 1435.99 117.033 1440.6 Q120.112 1445.18 120.112 1453.93 Q120.112 1462.66 117.033 1467.26 Q113.978 1471.85 108.168 1471.85 Q102.358 1471.85 99.2789 1467.26 Q96.2234 1462.66 96.2234 1453.93 Q96.2234 1445.18 99.2789 1440.6 Q102.358 1435.99 108.168 1435.99 Z\" fill=\"#000000\" fill-rule=\"evenodd\" fill-opacity=\"1\" /><path clip-path=\"url(#clip320)\" d=\"M63.9319 1168.2 Q60.3208 1168.2 58.4921 1171.76 Q56.6865 1175.3 56.6865 1182.43 Q56.6865 1189.54 58.4921 1193.1 Q60.3208 1196.65 63.9319 1196.65 Q67.5661 1196.65 69.3717 1193.1 Q71.2004 1189.54 71.2004 1182.43 Q71.2004 1175.3 69.3717 1171.76 Q67.5661 1168.2 63.9319 1168.2 M63.9319 1164.49 Q69.742 1164.49 72.7976 1169.1 Q75.8763 1173.68 75.8763 1182.43 Q75.8763 1191.16 72.7976 1195.77 Q69.742 1200.35 63.9319 1200.35 Q58.1217 1200.35 55.043 1195.77 Q51.9875 1191.16 51.9875 1182.43 Q51.9875 1173.68 55.043 1169.1 Q58.1217 1164.49 63.9319 1164.49 Z\" fill=\"#000000\" fill-rule=\"evenodd\" fill-opacity=\"1\" /><path clip-path=\"url(#clip320)\" d=\"M84.0938 1193.8 L88.978 1193.8 L88.978 1199.68 L84.0938 1199.68 L84.0938 1193.8 Z\" fill=\"#000000\" fill-rule=\"evenodd\" fill-opacity=\"1\" /><path clip-path=\"url(#clip320)\" d=\"M99.2095 1165.12 L117.566 1165.12 L117.566 1169.05 L103.492 1169.05 L103.492 1177.53 Q104.51 1177.18 105.529 1177.02 Q106.547 1176.83 107.566 1176.83 Q113.353 1176.83 116.733 1180 Q120.112 1183.17 120.112 1188.59 Q120.112 1194.17 116.64 1197.27 Q113.168 1200.35 106.848 1200.35 Q104.672 1200.35 102.404 1199.98 Q100.159 1199.61 97.7511 1198.87 L97.7511 1194.17 Q99.8345 1195.3 102.057 1195.86 Q104.279 1196.41 106.756 1196.41 Q110.76 1196.41 113.098 1194.31 Q115.436 1192.2 115.436 1188.59 Q115.436 1184.98 113.098 1182.87 Q110.76 1180.77 106.756 1180.77 Q104.881 1180.77 103.006 1181.18 Q101.154 1181.6 99.2095 1182.48 L99.2095 1165.12 Z\" fill=\"#000000\" fill-rule=\"evenodd\" fill-opacity=\"1\" /><path clip-path=\"url(#clip320)\" d=\"M53.7467 924.247 L61.3856 924.247 L61.3856 897.881 L53.0754 899.548 L53.0754 895.288 L61.3393 893.622 L66.0152 893.622 L66.0152 924.247 L73.654 924.247 L73.654 928.182 L53.7467 928.182 L53.7467 924.247 Z\" fill=\"#000000\" fill-rule=\"evenodd\" fill-opacity=\"1\" /><path clip-path=\"url(#clip320)\" d=\"M83.0984 922.302 L87.9827 922.302 L87.9827 928.182 L83.0984 928.182 L83.0984 922.302 Z\" fill=\"#000000\" fill-rule=\"evenodd\" fill-opacity=\"1\" /><path clip-path=\"url(#clip320)\" d=\"M108.168 896.7 Q104.557 896.7 102.728 900.265 Q100.922 903.807 100.922 910.936 Q100.922 918.043 102.728 921.608 Q104.557 925.149 108.168 925.149 Q111.802 925.149 113.608 921.608 Q115.436 918.043 115.436 910.936 Q115.436 903.807 113.608 900.265 Q111.802 896.7 108.168 896.7 M108.168 892.997 Q113.978 892.997 117.033 897.603 Q120.112 902.186 120.112 910.936 Q120.112 919.663 117.033 924.27 Q113.978 928.853 108.168 928.853 Q102.358 928.853 99.2789 924.27 Q96.2234 919.663 96.2234 910.936 Q96.2234 902.186 99.2789 897.603 Q102.358 892.997 108.168 892.997 Z\" fill=\"#000000\" fill-rule=\"evenodd\" fill-opacity=\"1\" /><path clip-path=\"url(#clip320)\" d=\"M54.7421 652.75 L62.381 652.75 L62.381 626.384 L54.0708 628.051 L54.0708 623.791 L62.3347 622.125 L67.0106 622.125 L67.0106 652.75 L74.6494 652.75 L74.6494 656.685 L54.7421 656.685 L54.7421 652.75 Z\" fill=\"#000000\" fill-rule=\"evenodd\" fill-opacity=\"1\" /><path clip-path=\"url(#clip320)\" d=\"M84.0938 650.805 L88.978 650.805 L88.978 656.685 L84.0938 656.685 L84.0938 650.805 Z\" fill=\"#000000\" fill-rule=\"evenodd\" fill-opacity=\"1\" /><path clip-path=\"url(#clip320)\" d=\"M99.2095 622.125 L117.566 622.125 L117.566 626.06 L103.492 626.06 L103.492 634.532 Q104.51 634.185 105.529 634.023 Q106.547 633.838 107.566 633.838 Q113.353 633.838 116.733 637.009 Q120.112 640.18 120.112 645.597 Q120.112 651.176 116.64 654.277 Q113.168 657.356 106.848 657.356 Q104.672 657.356 102.404 656.986 Q100.159 656.615 97.7511 655.875 L97.7511 651.176 Q99.8345 652.31 102.057 652.865 Q104.279 653.421 106.756 653.421 Q110.76 653.421 113.098 651.314 Q115.436 649.208 115.436 645.597 Q115.436 641.986 113.098 639.879 Q110.76 637.773 106.756 637.773 Q104.881 637.773 103.006 638.19 Q101.154 638.606 99.2095 639.486 L99.2095 622.125 Z\" fill=\"#000000\" fill-rule=\"evenodd\" fill-opacity=\"1\" /><path clip-path=\"url(#clip320)\" d=\"M56.9643 381.253 L73.2837 381.253 L73.2837 385.188 L51.3393 385.188 L51.3393 381.253 Q54.0014 378.498 58.5847 373.868 Q63.1911 369.216 64.3717 367.873 Q66.617 365.35 67.4967 363.614 Q68.3994 361.855 68.3994 360.165 Q68.3994 357.41 66.455 355.674 Q64.5337 353.938 61.4319 353.938 Q59.2328 353.938 56.7791 354.702 Q54.3486 355.466 51.5708 357.017 L51.5708 352.295 Q54.3949 351.16 56.8486 350.582 Q59.3023 350.003 61.3393 350.003 Q66.7096 350.003 69.9041 352.688 Q73.0985 355.373 73.0985 359.864 Q73.0985 361.994 72.2883 363.915 Q71.5013 365.813 69.3948 368.406 Q68.8161 369.077 65.7143 372.294 Q62.6124 375.489 56.9643 381.253 Z\" fill=\"#000000\" fill-rule=\"evenodd\" fill-opacity=\"1\" /><path clip-path=\"url(#clip320)\" d=\"M83.0984 379.308 L87.9827 379.308 L87.9827 385.188 L83.0984 385.188 L83.0984 379.308 Z\" fill=\"#000000\" fill-rule=\"evenodd\" fill-opacity=\"1\" /><path clip-path=\"url(#clip320)\" d=\"M108.168 353.707 Q104.557 353.707 102.728 357.271 Q100.922 360.813 100.922 367.943 Q100.922 375.049 102.728 378.614 Q104.557 382.155 108.168 382.155 Q111.802 382.155 113.608 378.614 Q115.436 375.049 115.436 367.943 Q115.436 360.813 113.608 357.271 Q111.802 353.707 108.168 353.707 M108.168 350.003 Q113.978 350.003 117.033 354.609 Q120.112 359.193 120.112 367.943 Q120.112 376.669 117.033 381.276 Q113.978 385.859 108.168 385.859 Q102.358 385.859 99.2789 381.276 Q96.2234 376.669 96.2234 367.943 Q96.2234 359.193 99.2789 354.609 Q102.358 350.003 108.168 350.003 Z\" fill=\"#000000\" fill-rule=\"evenodd\" fill-opacity=\"1\" /><path clip-path=\"url(#clip320)\" d=\"M57.9597 109.756 L74.279 109.756 L74.279 113.691 L52.3347 113.691 L52.3347 109.756 Q54.9967 107.001 59.58 102.372 Q64.1865 97.7188 65.367 96.3762 Q67.6124 93.8531 68.492 92.117 Q69.3948 90.3577 69.3948 88.6679 Q69.3948 85.9133 67.4504 84.1772 Q65.5291 82.4411 62.4272 82.4411 Q60.2282 82.4411 57.7745 83.205 Q55.344 83.9689 52.5662 85.5198 L52.5662 80.7976 Q55.3903 79.6634 57.8439 79.0847 Q60.2976 78.506 62.3347 78.506 Q67.705 78.506 70.8994 81.1911 Q74.0939 83.8763 74.0939 88.367 Q74.0939 90.4966 73.2837 92.4179 Q72.4966 94.3161 70.3902 96.9086 Q69.8115 97.5799 66.7096 100.798 Q63.6078 103.992 57.9597 109.756 Z\" fill=\"#000000\" fill-rule=\"evenodd\" fill-opacity=\"1\" /><path clip-path=\"url(#clip320)\" d=\"M84.0938 107.811 L88.978 107.811 L88.978 113.691 L84.0938 113.691 L84.0938 107.811 Z\" fill=\"#000000\" fill-rule=\"evenodd\" fill-opacity=\"1\" /><path clip-path=\"url(#clip320)\" d=\"M99.2095 79.131 L117.566 79.131 L117.566 83.0661 L103.492 83.0661 L103.492 91.5383 Q104.51 91.1911 105.529 91.029 Q106.547 90.8439 107.566 90.8439 Q113.353 90.8439 116.733 94.0151 Q120.112 97.1864 120.112 102.603 Q120.112 108.182 116.64 111.284 Q113.168 114.362 106.848 114.362 Q104.672 114.362 102.404 113.992 Q100.159 113.622 97.7511 112.881 L97.7511 108.182 Q99.8345 109.316 102.057 109.872 Q104.279 110.427 106.756 110.427 Q110.76 110.427 113.098 108.321 Q115.436 106.214 115.436 102.603 Q115.436 98.992 113.098 96.8855 Q110.76 94.779 106.756 94.779 Q104.881 94.779 103.006 95.1957 Q101.154 95.6123 99.2095 96.492 L99.2095 79.131 Z\" fill=\"#000000\" fill-rule=\"evenodd\" fill-opacity=\"1\" /><polyline clip-path=\"url(#clip322)\" style=\"stroke:#009af9; stroke-linecap:round; stroke-linejoin:round; stroke-width:4; stroke-opacity:1; fill:none\" points=\"218.281,87.9763 736.358,1445.72 1254.43,1282.36 1772.51,1173.81 2290.59,1417.09 \"/>\n",
       "<path clip-path=\"url(#clip320)\" d=\"M2007.44 198.898 L2279.53 198.898 L2279.53 95.2176 L2007.44 95.2176  Z\" fill=\"#ffffff\" fill-rule=\"evenodd\" fill-opacity=\"1\"/>\n",
       "<polyline clip-path=\"url(#clip320)\" style=\"stroke:#000000; stroke-linecap:round; stroke-linejoin:round; stroke-width:4; stroke-opacity:1; fill:none\" points=\"2007.44,198.898 2279.53,198.898 2279.53,95.2176 2007.44,95.2176 2007.44,198.898 \"/>\n",
       "<polyline clip-path=\"url(#clip320)\" style=\"stroke:#009af9; stroke-linecap:round; stroke-linejoin:round; stroke-width:4; stroke-opacity:1; fill:none\" points=\"2031.85,147.058 2178.29,147.058 \"/>\n",
       "<path clip-path=\"url(#clip320)\" d=\"M2216.54 166.745 Q2214.73 171.375 2213.02 172.787 Q2211.31 174.199 2208.44 174.199 L2205.03 174.199 L2205.03 170.634 L2207.53 170.634 Q2209.29 170.634 2210.27 169.8 Q2211.24 168.967 2212.42 165.865 L2213.18 163.921 L2202.7 138.412 L2207.21 138.412 L2215.31 158.689 L2223.41 138.412 L2227.93 138.412 L2216.54 166.745 Z\" fill=\"#000000\" fill-rule=\"evenodd\" fill-opacity=\"1\" /><path clip-path=\"url(#clip320)\" d=\"M2235.22 160.402 L2242.86 160.402 L2242.86 134.037 L2234.55 135.703 L2234.55 131.444 L2242.81 129.778 L2247.49 129.778 L2247.49 160.402 L2255.13 160.402 L2255.13 164.338 L2235.22 164.338 L2235.22 160.402 Z\" fill=\"#000000\" fill-rule=\"evenodd\" fill-opacity=\"1\" /></svg>\n"
      ]
     },
     "execution_count": 20,
     "metadata": {},
     "output_type": "execute_result"
    }
   ],
   "source": [
    "# 함수2\n",
    "function generatedata(n)    \n",
    "    ϵ = randn(n)\n",
    "    return ϵ.^2\n",
    " end\n",
    "data = generatedata(5)\n",
    "plot(data)"
   ]
  },
  {
   "cell_type": "code",
   "execution_count": 21,
   "id": "1e678139-afee-4306-8aa9-62a58dcf02cd",
   "metadata": {
    "tags": []
   },
   "outputs": [
    {
     "data": {
      "image/svg+xml": [
       "<?xml version=\"1.0\" encoding=\"utf-8\"?>\n",
       "<svg xmlns=\"http://www.w3.org/2000/svg\" xmlns:xlink=\"http://www.w3.org/1999/xlink\" width=\"600\" height=\"400\" viewBox=\"0 0 2400 1600\">\n",
       "<defs>\n",
       "  <clipPath id=\"clip360\">\n",
       "    <rect x=\"0\" y=\"0\" width=\"2400\" height=\"1600\"/>\n",
       "  </clipPath>\n",
       "</defs>\n",
       "<path clip-path=\"url(#clip360)\" d=\"M0 1600 L2400 1600 L2400 0 L0 0  Z\" fill=\"#ffffff\" fill-rule=\"evenodd\" fill-opacity=\"1\"/>\n",
       "<defs>\n",
       "  <clipPath id=\"clip361\">\n",
       "    <rect x=\"480\" y=\"0\" width=\"1681\" height=\"1600\"/>\n",
       "  </clipPath>\n",
       "</defs>\n",
       "<path clip-path=\"url(#clip360)\" d=\"M156.598 1486.45 L2352.76 1486.45 L2352.76 47.2441 L156.598 47.2441  Z\" fill=\"#ffffff\" fill-rule=\"evenodd\" fill-opacity=\"1\"/>\n",
       "<defs>\n",
       "  <clipPath id=\"clip362\">\n",
       "    <rect x=\"156\" y=\"47\" width=\"2197\" height=\"1440\"/>\n",
       "  </clipPath>\n",
       "</defs>\n",
       "<polyline clip-path=\"url(#clip362)\" style=\"stroke:#000000; stroke-linecap:round; stroke-linejoin:round; stroke-width:2; stroke-opacity:0.1; fill:none\" points=\"218.754,1486.45 218.754,47.2441 \"/>\n",
       "<polyline clip-path=\"url(#clip362)\" style=\"stroke:#000000; stroke-linecap:round; stroke-linejoin:round; stroke-width:2; stroke-opacity:0.1; fill:none\" points=\"736.715,1486.45 736.715,47.2441 \"/>\n",
       "<polyline clip-path=\"url(#clip362)\" style=\"stroke:#000000; stroke-linecap:round; stroke-linejoin:round; stroke-width:2; stroke-opacity:0.1; fill:none\" points=\"1254.68,1486.45 1254.68,47.2441 \"/>\n",
       "<polyline clip-path=\"url(#clip362)\" style=\"stroke:#000000; stroke-linecap:round; stroke-linejoin:round; stroke-width:2; stroke-opacity:0.1; fill:none\" points=\"1772.64,1486.45 1772.64,47.2441 \"/>\n",
       "<polyline clip-path=\"url(#clip362)\" style=\"stroke:#000000; stroke-linecap:round; stroke-linejoin:round; stroke-width:2; stroke-opacity:0.1; fill:none\" points=\"2290.6,1486.45 2290.6,47.2441 \"/>\n",
       "<polyline clip-path=\"url(#clip360)\" style=\"stroke:#000000; stroke-linecap:round; stroke-linejoin:round; stroke-width:4; stroke-opacity:1; fill:none\" points=\"156.598,1486.45 2352.76,1486.45 \"/>\n",
       "<polyline clip-path=\"url(#clip360)\" style=\"stroke:#000000; stroke-linecap:round; stroke-linejoin:round; stroke-width:4; stroke-opacity:1; fill:none\" points=\"218.754,1486.45 218.754,1467.55 \"/>\n",
       "<polyline clip-path=\"url(#clip360)\" style=\"stroke:#000000; stroke-linecap:round; stroke-linejoin:round; stroke-width:4; stroke-opacity:1; fill:none\" points=\"736.715,1486.45 736.715,1467.55 \"/>\n",
       "<polyline clip-path=\"url(#clip360)\" style=\"stroke:#000000; stroke-linecap:round; stroke-linejoin:round; stroke-width:4; stroke-opacity:1; fill:none\" points=\"1254.68,1486.45 1254.68,1467.55 \"/>\n",
       "<polyline clip-path=\"url(#clip360)\" style=\"stroke:#000000; stroke-linecap:round; stroke-linejoin:round; stroke-width:4; stroke-opacity:1; fill:none\" points=\"1772.64,1486.45 1772.64,1467.55 \"/>\n",
       "<polyline clip-path=\"url(#clip360)\" style=\"stroke:#000000; stroke-linecap:round; stroke-linejoin:round; stroke-width:4; stroke-opacity:1; fill:none\" points=\"2290.6,1486.45 2290.6,1467.55 \"/>\n",
       "<path clip-path=\"url(#clip360)\" d=\"M209.136 1544.91 L216.774 1544.91 L216.774 1518.55 L208.464 1520.21 L208.464 1515.95 L216.728 1514.29 L221.404 1514.29 L221.404 1544.91 L229.043 1544.91 L229.043 1548.85 L209.136 1548.85 L209.136 1544.91 Z\" fill=\"#000000\" fill-rule=\"evenodd\" fill-opacity=\"1\" /><path clip-path=\"url(#clip360)\" d=\"M731.368 1544.91 L747.688 1544.91 L747.688 1548.85 L725.743 1548.85 L725.743 1544.91 Q728.405 1542.16 732.989 1537.53 Q737.595 1532.88 738.776 1531.53 Q741.021 1529.01 741.901 1527.27 Q742.803 1525.51 742.803 1523.82 Q742.803 1521.07 740.859 1519.33 Q738.938 1517.6 735.836 1517.6 Q733.637 1517.6 731.183 1518.36 Q728.752 1519.13 725.975 1520.68 L725.975 1515.95 Q728.799 1514.82 731.252 1514.24 Q733.706 1513.66 735.743 1513.66 Q741.113 1513.66 744.308 1516.35 Q747.502 1519.03 747.502 1523.52 Q747.502 1525.65 746.692 1527.57 Q745.905 1529.47 743.799 1532.07 Q743.22 1532.74 740.118 1535.95 Q737.016 1539.15 731.368 1544.91 Z\" fill=\"#000000\" fill-rule=\"evenodd\" fill-opacity=\"1\" /><path clip-path=\"url(#clip360)\" d=\"M1258.92 1530.21 Q1262.28 1530.93 1264.16 1533.2 Q1266.05 1535.47 1266.05 1538.8 Q1266.05 1543.92 1262.54 1546.72 Q1259.02 1549.52 1252.54 1549.52 Q1250.36 1549.52 1248.05 1549.08 Q1245.75 1548.66 1243.3 1547.81 L1243.3 1543.29 Q1245.24 1544.43 1247.56 1545.01 Q1249.87 1545.58 1252.4 1545.58 Q1256.8 1545.58 1259.09 1543.85 Q1261.4 1542.11 1261.4 1538.8 Q1261.4 1535.75 1259.25 1534.03 Q1257.12 1532.3 1253.3 1532.3 L1249.27 1532.3 L1249.27 1528.45 L1253.48 1528.45 Q1256.93 1528.45 1258.76 1527.09 Q1260.59 1525.7 1260.59 1523.11 Q1260.59 1520.45 1258.69 1519.03 Q1256.82 1517.6 1253.3 1517.6 Q1251.38 1517.6 1249.18 1518.01 Q1246.98 1518.43 1244.34 1519.31 L1244.34 1515.14 Q1247 1514.4 1249.32 1514.03 Q1251.66 1513.66 1253.72 1513.66 Q1259.04 1513.66 1262.14 1516.09 Q1265.24 1518.5 1265.24 1522.62 Q1265.24 1525.49 1263.6 1527.48 Q1261.96 1529.45 1258.92 1530.21 Z\" fill=\"#000000\" fill-rule=\"evenodd\" fill-opacity=\"1\" /><path clip-path=\"url(#clip360)\" d=\"M1775.65 1518.36 L1763.84 1536.81 L1775.65 1536.81 L1775.65 1518.36 M1774.42 1514.29 L1780.3 1514.29 L1780.3 1536.81 L1785.23 1536.81 L1785.23 1540.7 L1780.3 1540.7 L1780.3 1548.85 L1775.65 1548.85 L1775.65 1540.7 L1760.05 1540.7 L1760.05 1536.19 L1774.42 1514.29 Z\" fill=\"#000000\" fill-rule=\"evenodd\" fill-opacity=\"1\" /><path clip-path=\"url(#clip360)\" d=\"M2280.88 1514.29 L2299.23 1514.29 L2299.23 1518.22 L2285.16 1518.22 L2285.16 1526.7 Q2286.18 1526.35 2287.2 1526.19 Q2288.22 1526 2289.23 1526 Q2295.02 1526 2298.4 1529.17 Q2301.78 1532.34 2301.78 1537.76 Q2301.78 1543.34 2298.31 1546.44 Q2294.84 1549.52 2288.52 1549.52 Q2286.34 1549.52 2284.07 1549.15 Q2281.83 1548.78 2279.42 1548.04 L2279.42 1543.34 Q2281.5 1544.47 2283.73 1545.03 Q2285.95 1545.58 2288.42 1545.58 Q2292.43 1545.58 2294.77 1543.48 Q2297.11 1541.37 2297.11 1537.76 Q2297.11 1534.15 2294.77 1532.04 Q2292.43 1529.94 2288.42 1529.94 Q2286.55 1529.94 2284.67 1530.35 Q2282.82 1530.77 2280.88 1531.65 L2280.88 1514.29 Z\" fill=\"#000000\" fill-rule=\"evenodd\" fill-opacity=\"1\" /><polyline clip-path=\"url(#clip362)\" style=\"stroke:#000000; stroke-linecap:round; stroke-linejoin:round; stroke-width:2; stroke-opacity:0.1; fill:none\" points=\"156.598,1446.04 2352.76,1446.04 \"/>\n",
       "<polyline clip-path=\"url(#clip362)\" style=\"stroke:#000000; stroke-linecap:round; stroke-linejoin:round; stroke-width:2; stroke-opacity:0.1; fill:none\" points=\"156.598,1117.2 2352.76,1117.2 \"/>\n",
       "<polyline clip-path=\"url(#clip362)\" style=\"stroke:#000000; stroke-linecap:round; stroke-linejoin:round; stroke-width:2; stroke-opacity:0.1; fill:none\" points=\"156.598,788.353 2352.76,788.353 \"/>\n",
       "<polyline clip-path=\"url(#clip362)\" style=\"stroke:#000000; stroke-linecap:round; stroke-linejoin:round; stroke-width:2; stroke-opacity:0.1; fill:none\" points=\"156.598,459.509 2352.76,459.509 \"/>\n",
       "<polyline clip-path=\"url(#clip362)\" style=\"stroke:#000000; stroke-linecap:round; stroke-linejoin:round; stroke-width:2; stroke-opacity:0.1; fill:none\" points=\"156.598,130.664 2352.76,130.664 \"/>\n",
       "<polyline clip-path=\"url(#clip360)\" style=\"stroke:#000000; stroke-linecap:round; stroke-linejoin:round; stroke-width:4; stroke-opacity:1; fill:none\" points=\"156.598,1486.45 156.598,47.2441 \"/>\n",
       "<polyline clip-path=\"url(#clip360)\" style=\"stroke:#000000; stroke-linecap:round; stroke-linejoin:round; stroke-width:4; stroke-opacity:1; fill:none\" points=\"156.598,1446.04 175.496,1446.04 \"/>\n",
       "<polyline clip-path=\"url(#clip360)\" style=\"stroke:#000000; stroke-linecap:round; stroke-linejoin:round; stroke-width:4; stroke-opacity:1; fill:none\" points=\"156.598,1117.2 175.496,1117.2 \"/>\n",
       "<polyline clip-path=\"url(#clip360)\" style=\"stroke:#000000; stroke-linecap:round; stroke-linejoin:round; stroke-width:4; stroke-opacity:1; fill:none\" points=\"156.598,788.353 175.496,788.353 \"/>\n",
       "<polyline clip-path=\"url(#clip360)\" style=\"stroke:#000000; stroke-linecap:round; stroke-linejoin:round; stroke-width:4; stroke-opacity:1; fill:none\" points=\"156.598,459.509 175.496,459.509 \"/>\n",
       "<polyline clip-path=\"url(#clip360)\" style=\"stroke:#000000; stroke-linecap:round; stroke-linejoin:round; stroke-width:4; stroke-opacity:1; fill:none\" points=\"156.598,130.664 175.496,130.664 \"/>\n",
       "<path clip-path=\"url(#clip360)\" d=\"M63.4226 1431.84 Q59.8115 1431.84 57.9828 1435.41 Q56.1773 1438.95 56.1773 1446.08 Q56.1773 1453.18 57.9828 1456.75 Q59.8115 1460.29 63.4226 1460.29 Q67.0569 1460.29 68.8624 1456.75 Q70.6911 1453.18 70.6911 1446.08 Q70.6911 1438.95 68.8624 1435.41 Q67.0569 1431.84 63.4226 1431.84 M63.4226 1428.14 Q69.2328 1428.14 72.2883 1432.74 Q75.367 1437.33 75.367 1446.08 Q75.367 1454.8 72.2883 1459.41 Q69.2328 1463.99 63.4226 1463.99 Q57.6125 1463.99 54.5338 1459.41 Q51.4782 1454.8 51.4782 1446.08 Q51.4782 1437.33 54.5338 1432.74 Q57.6125 1428.14 63.4226 1428.14 Z\" fill=\"#000000\" fill-rule=\"evenodd\" fill-opacity=\"1\" /><path clip-path=\"url(#clip360)\" d=\"M83.5845 1457.44 L88.4688 1457.44 L88.4688 1463.32 L83.5845 1463.32 L83.5845 1457.44 Z\" fill=\"#000000\" fill-rule=\"evenodd\" fill-opacity=\"1\" /><path clip-path=\"url(#clip360)\" d=\"M108.654 1431.84 Q105.043 1431.84 103.214 1435.41 Q101.409 1438.95 101.409 1446.08 Q101.409 1453.18 103.214 1456.75 Q105.043 1460.29 108.654 1460.29 Q112.288 1460.29 114.094 1456.75 Q115.922 1453.18 115.922 1446.08 Q115.922 1438.95 114.094 1435.41 Q112.288 1431.84 108.654 1431.84 M108.654 1428.14 Q114.464 1428.14 117.52 1432.74 Q120.598 1437.33 120.598 1446.08 Q120.598 1454.8 117.52 1459.41 Q114.464 1463.99 108.654 1463.99 Q102.844 1463.99 99.765 1459.41 Q96.7095 1454.8 96.7095 1446.08 Q96.7095 1437.33 99.765 1432.74 Q102.844 1428.14 108.654 1428.14 Z\" fill=\"#000000\" fill-rule=\"evenodd\" fill-opacity=\"1\" /><path clip-path=\"url(#clip360)\" d=\"M65.0198 1103 Q61.4087 1103 59.58 1106.56 Q57.7745 1110.1 57.7745 1117.23 Q57.7745 1124.34 59.58 1127.9 Q61.4087 1131.45 65.0198 1131.45 Q68.6541 1131.45 70.4596 1127.9 Q72.2883 1124.34 72.2883 1117.23 Q72.2883 1110.1 70.4596 1106.56 Q68.6541 1103 65.0198 1103 M65.0198 1099.29 Q70.83 1099.29 73.8855 1103.9 Q76.9642 1108.48 76.9642 1117.23 Q76.9642 1125.96 73.8855 1130.57 Q70.83 1135.15 65.0198 1135.15 Q59.2097 1135.15 56.131 1130.57 Q53.0754 1125.96 53.0754 1117.23 Q53.0754 1108.48 56.131 1103.9 Q59.2097 1099.29 65.0198 1099.29 Z\" fill=\"#000000\" fill-rule=\"evenodd\" fill-opacity=\"1\" /><path clip-path=\"url(#clip360)\" d=\"M85.1818 1128.6 L90.066 1128.6 L90.066 1134.48 L85.1818 1134.48 L85.1818 1128.6 Z\" fill=\"#000000\" fill-rule=\"evenodd\" fill-opacity=\"1\" /><path clip-path=\"url(#clip360)\" d=\"M104.279 1130.54 L120.598 1130.54 L120.598 1134.48 L98.6539 1134.48 L98.6539 1130.54 Q101.316 1127.79 105.899 1123.16 Q110.506 1118.51 111.686 1117.16 Q113.932 1114.64 114.811 1112.9 Q115.714 1111.14 115.714 1109.45 Q115.714 1106.7 113.77 1104.96 Q111.848 1103.23 108.746 1103.23 Q106.547 1103.23 104.094 1103.99 Q101.663 1104.76 98.8854 1106.31 L98.8854 1101.58 Q101.709 1100.45 104.163 1099.87 Q106.617 1099.29 108.654 1099.29 Q114.024 1099.29 117.219 1101.98 Q120.413 1104.66 120.413 1109.15 Q120.413 1111.28 119.603 1113.2 Q118.816 1115.1 116.709 1117.7 Q116.131 1118.37 113.029 1121.58 Q109.927 1124.78 104.279 1130.54 Z\" fill=\"#000000\" fill-rule=\"evenodd\" fill-opacity=\"1\" /><path clip-path=\"url(#clip360)\" d=\"M62.9365 774.152 Q59.3254 774.152 57.4967 777.717 Q55.6912 781.258 55.6912 788.388 Q55.6912 795.494 57.4967 799.059 Q59.3254 802.601 62.9365 802.601 Q66.5707 802.601 68.3763 799.059 Q70.205 795.494 70.205 788.388 Q70.205 781.258 68.3763 777.717 Q66.5707 774.152 62.9365 774.152 M62.9365 770.448 Q68.7467 770.448 71.8022 775.054 Q74.8809 779.638 74.8809 788.388 Q74.8809 797.115 71.8022 801.721 Q68.7467 806.304 62.9365 806.304 Q57.1264 806.304 54.0477 801.721 Q50.9921 797.115 50.9921 788.388 Q50.9921 779.638 54.0477 775.054 Q57.1264 770.448 62.9365 770.448 Z\" fill=\"#000000\" fill-rule=\"evenodd\" fill-opacity=\"1\" /><path clip-path=\"url(#clip360)\" d=\"M83.0984 799.753 L87.9827 799.753 L87.9827 805.633 L83.0984 805.633 L83.0984 799.753 Z\" fill=\"#000000\" fill-rule=\"evenodd\" fill-opacity=\"1\" /><path clip-path=\"url(#clip360)\" d=\"M111.015 775.147 L99.2095 793.596 L111.015 793.596 L111.015 775.147 M109.788 771.073 L115.668 771.073 L115.668 793.596 L120.598 793.596 L120.598 797.485 L115.668 797.485 L115.668 805.633 L111.015 805.633 L111.015 797.485 L95.4132 797.485 L95.4132 792.971 L109.788 771.073 Z\" fill=\"#000000\" fill-rule=\"evenodd\" fill-opacity=\"1\" /><path clip-path=\"url(#clip360)\" d=\"M63.2606 445.307 Q59.6495 445.307 57.8208 448.872 Q56.0152 452.414 56.0152 459.543 Q56.0152 466.65 57.8208 470.215 Q59.6495 473.756 63.2606 473.756 Q66.8948 473.756 68.7004 470.215 Q70.5291 466.65 70.5291 459.543 Q70.5291 452.414 68.7004 448.872 Q66.8948 445.307 63.2606 445.307 M63.2606 441.604 Q69.0707 441.604 72.1263 446.21 Q75.205 450.793 75.205 459.543 Q75.205 468.27 72.1263 472.877 Q69.0707 477.46 63.2606 477.46 Q57.4504 477.46 54.3717 472.877 Q51.3162 468.27 51.3162 459.543 Q51.3162 450.793 54.3717 446.21 Q57.4504 441.604 63.2606 441.604 Z\" fill=\"#000000\" fill-rule=\"evenodd\" fill-opacity=\"1\" /><path clip-path=\"url(#clip360)\" d=\"M83.4225 470.909 L88.3067 470.909 L88.3067 476.789 L83.4225 476.789 L83.4225 470.909 Z\" fill=\"#000000\" fill-rule=\"evenodd\" fill-opacity=\"1\" /><path clip-path=\"url(#clip360)\" d=\"M109.071 457.645 Q105.922 457.645 104.071 459.798 Q102.242 461.951 102.242 465.701 Q102.242 469.428 104.071 471.604 Q105.922 473.756 109.071 473.756 Q112.219 473.756 114.047 471.604 Q115.899 469.428 115.899 465.701 Q115.899 461.951 114.047 459.798 Q112.219 457.645 109.071 457.645 M118.353 442.993 L118.353 447.252 Q116.594 446.418 114.788 445.979 Q113.006 445.539 111.246 445.539 Q106.617 445.539 104.163 448.664 Q101.733 451.789 101.385 458.108 Q102.751 456.094 104.811 455.03 Q106.871 453.942 109.348 453.942 Q114.557 453.942 117.566 457.113 Q120.598 460.261 120.598 465.701 Q120.598 471.025 117.45 474.242 Q114.302 477.46 109.071 477.46 Q103.075 477.46 99.9039 472.877 Q96.7326 468.27 96.7326 459.543 Q96.7326 451.349 100.621 446.488 Q104.51 441.604 111.061 441.604 Q112.82 441.604 114.603 441.951 Q116.408 442.298 118.353 442.993 Z\" fill=\"#000000\" fill-rule=\"evenodd\" fill-opacity=\"1\" /><path clip-path=\"url(#clip360)\" d=\"M63.5152 116.463 Q59.9041 116.463 58.0754 120.028 Q56.2699 123.569 56.2699 130.699 Q56.2699 137.805 58.0754 141.37 Q59.9041 144.912 63.5152 144.912 Q67.1494 144.912 68.955 141.37 Q70.7837 137.805 70.7837 130.699 Q70.7837 123.569 68.955 120.028 Q67.1494 116.463 63.5152 116.463 M63.5152 112.759 Q69.3254 112.759 72.3809 117.366 Q75.4596 121.949 75.4596 130.699 Q75.4596 139.426 72.3809 144.032 Q69.3254 148.616 63.5152 148.616 Q57.7051 148.616 54.6264 144.032 Q51.5708 139.426 51.5708 130.699 Q51.5708 121.949 54.6264 117.366 Q57.7051 112.759 63.5152 112.759 Z\" fill=\"#000000\" fill-rule=\"evenodd\" fill-opacity=\"1\" /><path clip-path=\"url(#clip360)\" d=\"M83.6771 142.065 L88.5614 142.065 L88.5614 147.944 L83.6771 147.944 L83.6771 142.065 Z\" fill=\"#000000\" fill-rule=\"evenodd\" fill-opacity=\"1\" /><path clip-path=\"url(#clip360)\" d=\"M108.746 131.532 Q105.413 131.532 103.492 133.315 Q101.594 135.097 101.594 138.222 Q101.594 141.347 103.492 143.13 Q105.413 144.912 108.746 144.912 Q112.08 144.912 114.001 143.13 Q115.922 141.324 115.922 138.222 Q115.922 135.097 114.001 133.315 Q112.103 131.532 108.746 131.532 M104.071 129.542 Q101.061 128.801 99.3715 126.741 Q97.7048 124.681 97.7048 121.718 Q97.7048 117.574 100.645 115.167 Q103.608 112.759 108.746 112.759 Q113.908 112.759 116.848 115.167 Q119.788 117.574 119.788 121.718 Q119.788 124.681 118.098 126.741 Q116.432 128.801 113.445 129.542 Q116.825 130.329 118.7 132.62 Q120.598 134.912 120.598 138.222 Q120.598 143.245 117.52 145.93 Q114.464 148.616 108.746 148.616 Q103.029 148.616 99.9502 145.93 Q96.8947 143.245 96.8947 138.222 Q96.8947 134.912 98.7928 132.62 Q100.691 130.329 104.071 129.542 M102.358 122.157 Q102.358 124.843 104.024 126.347 Q105.714 127.852 108.746 127.852 Q111.756 127.852 113.445 126.347 Q115.158 124.843 115.158 122.157 Q115.158 119.472 113.445 117.968 Q111.756 116.463 108.746 116.463 Q105.714 116.463 104.024 117.968 Q102.358 119.472 102.358 122.157 Z\" fill=\"#000000\" fill-rule=\"evenodd\" fill-opacity=\"1\" /><polyline clip-path=\"url(#clip362)\" style=\"stroke:#009af9; stroke-linecap:round; stroke-linejoin:round; stroke-width:4; stroke-opacity:1; fill:none\" points=\"218.754,1351.64 736.715,1445.72 1254.68,1000.31 1772.64,1212.24 2290.6,87.9763 \"/>\n",
       "<path clip-path=\"url(#clip360)\" d=\"M229.803 198.898 L501.85 198.898 L501.85 95.2176 L229.803 95.2176  Z\" fill=\"#ffffff\" fill-rule=\"evenodd\" fill-opacity=\"1\"/>\n",
       "<polyline clip-path=\"url(#clip360)\" style=\"stroke:#000000; stroke-linecap:round; stroke-linejoin:round; stroke-width:4; stroke-opacity:1; fill:none\" points=\"229.803,198.898 501.85,198.898 501.85,95.2176 229.803,95.2176 229.803,198.898 \"/>\n",
       "<polyline clip-path=\"url(#clip360)\" style=\"stroke:#009af9; stroke-linecap:round; stroke-linejoin:round; stroke-width:4; stroke-opacity:1; fill:none\" points=\"254.205,147.058 400.616,147.058 \"/>\n",
       "<path clip-path=\"url(#clip360)\" d=\"M438.86 166.745 Q437.054 171.375 435.342 172.787 Q433.629 174.199 430.758 174.199 L427.355 174.199 L427.355 170.634 L429.855 170.634 Q431.615 170.634 432.587 169.8 Q433.559 168.967 434.74 165.865 L435.504 163.921 L425.018 138.412 L429.531 138.412 L437.633 158.689 L445.735 138.412 L450.249 138.412 L438.86 166.745 Z\" fill=\"#000000\" fill-rule=\"evenodd\" fill-opacity=\"1\" /><path clip-path=\"url(#clip360)\" d=\"M457.54 160.402 L465.179 160.402 L465.179 134.037 L456.869 135.703 L456.869 131.444 L465.133 129.778 L469.809 129.778 L469.809 160.402 L477.448 160.402 L477.448 164.338 L457.54 164.338 L457.54 160.402 Z\" fill=\"#000000\" fill-rule=\"evenodd\" fill-opacity=\"1\" /></svg>\n"
      ]
     },
     "execution_count": 21,
     "metadata": {},
     "output_type": "execute_result"
    }
   ],
   "source": [
    "# 함수3\n",
    "generatedata(n) = randn(n).^2\n",
    "data = generatedata(5)\n",
    "plot(data)"
   ]
  },
  {
   "cell_type": "code",
   "execution_count": 22,
   "id": "63a789f1-5384-470d-935f-1f8bc57e7747",
   "metadata": {
    "tags": []
   },
   "outputs": [
    {
     "data": {
      "image/svg+xml": [
       "<?xml version=\"1.0\" encoding=\"utf-8\"?>\n",
       "<svg xmlns=\"http://www.w3.org/2000/svg\" xmlns:xlink=\"http://www.w3.org/1999/xlink\" width=\"600\" height=\"400\" viewBox=\"0 0 2400 1600\">\n",
       "<defs>\n",
       "  <clipPath id=\"clip400\">\n",
       "    <rect x=\"0\" y=\"0\" width=\"2400\" height=\"1600\"/>\n",
       "  </clipPath>\n",
       "</defs>\n",
       "<path clip-path=\"url(#clip400)\" d=\"M0 1600 L2400 1600 L2400 0 L0 0  Z\" fill=\"#ffffff\" fill-rule=\"evenodd\" fill-opacity=\"1\"/>\n",
       "<defs>\n",
       "  <clipPath id=\"clip401\">\n",
       "    <rect x=\"480\" y=\"0\" width=\"1681\" height=\"1600\"/>\n",
       "  </clipPath>\n",
       "</defs>\n",
       "<path clip-path=\"url(#clip400)\" d=\"M156.112 1486.45 L2352.76 1486.45 L2352.76 47.2441 L156.112 47.2441  Z\" fill=\"#ffffff\" fill-rule=\"evenodd\" fill-opacity=\"1\"/>\n",
       "<defs>\n",
       "  <clipPath id=\"clip402\">\n",
       "    <rect x=\"156\" y=\"47\" width=\"2198\" height=\"1440\"/>\n",
       "  </clipPath>\n",
       "</defs>\n",
       "<polyline clip-path=\"url(#clip402)\" style=\"stroke:#000000; stroke-linecap:round; stroke-linejoin:round; stroke-width:2; stroke-opacity:0.1; fill:none\" points=\"218.281,1486.45 218.281,47.2441 \"/>\n",
       "<polyline clip-path=\"url(#clip402)\" style=\"stroke:#000000; stroke-linecap:round; stroke-linejoin:round; stroke-width:2; stroke-opacity:0.1; fill:none\" points=\"736.358,1486.45 736.358,47.2441 \"/>\n",
       "<polyline clip-path=\"url(#clip402)\" style=\"stroke:#000000; stroke-linecap:round; stroke-linejoin:round; stroke-width:2; stroke-opacity:0.1; fill:none\" points=\"1254.43,1486.45 1254.43,47.2441 \"/>\n",
       "<polyline clip-path=\"url(#clip402)\" style=\"stroke:#000000; stroke-linecap:round; stroke-linejoin:round; stroke-width:2; stroke-opacity:0.1; fill:none\" points=\"1772.51,1486.45 1772.51,47.2441 \"/>\n",
       "<polyline clip-path=\"url(#clip402)\" style=\"stroke:#000000; stroke-linecap:round; stroke-linejoin:round; stroke-width:2; stroke-opacity:0.1; fill:none\" points=\"2290.59,1486.45 2290.59,47.2441 \"/>\n",
       "<polyline clip-path=\"url(#clip400)\" style=\"stroke:#000000; stroke-linecap:round; stroke-linejoin:round; stroke-width:4; stroke-opacity:1; fill:none\" points=\"156.112,1486.45 2352.76,1486.45 \"/>\n",
       "<polyline clip-path=\"url(#clip400)\" style=\"stroke:#000000; stroke-linecap:round; stroke-linejoin:round; stroke-width:4; stroke-opacity:1; fill:none\" points=\"218.281,1486.45 218.281,1467.55 \"/>\n",
       "<polyline clip-path=\"url(#clip400)\" style=\"stroke:#000000; stroke-linecap:round; stroke-linejoin:round; stroke-width:4; stroke-opacity:1; fill:none\" points=\"736.358,1486.45 736.358,1467.55 \"/>\n",
       "<polyline clip-path=\"url(#clip400)\" style=\"stroke:#000000; stroke-linecap:round; stroke-linejoin:round; stroke-width:4; stroke-opacity:1; fill:none\" points=\"1254.43,1486.45 1254.43,1467.55 \"/>\n",
       "<polyline clip-path=\"url(#clip400)\" style=\"stroke:#000000; stroke-linecap:round; stroke-linejoin:round; stroke-width:4; stroke-opacity:1; fill:none\" points=\"1772.51,1486.45 1772.51,1467.55 \"/>\n",
       "<polyline clip-path=\"url(#clip400)\" style=\"stroke:#000000; stroke-linecap:round; stroke-linejoin:round; stroke-width:4; stroke-opacity:1; fill:none\" points=\"2290.59,1486.45 2290.59,1467.55 \"/>\n",
       "<path clip-path=\"url(#clip400)\" d=\"M208.663 1544.91 L216.302 1544.91 L216.302 1518.55 L207.992 1520.21 L207.992 1515.95 L216.256 1514.29 L220.932 1514.29 L220.932 1544.91 L228.571 1544.91 L228.571 1548.85 L208.663 1548.85 L208.663 1544.91 Z\" fill=\"#000000\" fill-rule=\"evenodd\" fill-opacity=\"1\" /><path clip-path=\"url(#clip400)\" d=\"M731.01 1544.91 L747.33 1544.91 L747.33 1548.85 L725.385 1548.85 L725.385 1544.91 Q728.048 1542.16 732.631 1537.53 Q737.237 1532.88 738.418 1531.53 Q740.663 1529.01 741.543 1527.27 Q742.446 1525.51 742.446 1523.82 Q742.446 1521.07 740.501 1519.33 Q738.58 1517.6 735.478 1517.6 Q733.279 1517.6 730.825 1518.36 Q728.395 1519.13 725.617 1520.68 L725.617 1515.95 Q728.441 1514.82 730.895 1514.24 Q733.348 1513.66 735.385 1513.66 Q740.756 1513.66 743.95 1516.35 Q747.145 1519.03 747.145 1523.52 Q747.145 1525.65 746.334 1527.57 Q745.547 1529.47 743.441 1532.07 Q742.862 1532.74 739.76 1535.95 Q736.659 1539.15 731.01 1544.91 Z\" fill=\"#000000\" fill-rule=\"evenodd\" fill-opacity=\"1\" /><path clip-path=\"url(#clip400)\" d=\"M1258.68 1530.21 Q1262.04 1530.93 1263.91 1533.2 Q1265.81 1535.47 1265.81 1538.8 Q1265.81 1543.92 1262.29 1546.72 Q1258.77 1549.52 1252.29 1549.52 Q1250.12 1549.52 1247.8 1549.08 Q1245.51 1548.66 1243.06 1547.81 L1243.06 1543.29 Q1245 1544.43 1247.32 1545.01 Q1249.63 1545.58 1252.15 1545.58 Q1256.55 1545.58 1258.84 1543.85 Q1261.16 1542.11 1261.16 1538.8 Q1261.16 1535.75 1259.01 1534.03 Q1256.88 1532.3 1253.06 1532.3 L1249.03 1532.3 L1249.03 1528.45 L1253.24 1528.45 Q1256.69 1528.45 1258.52 1527.09 Q1260.35 1525.7 1260.35 1523.11 Q1260.35 1520.45 1258.45 1519.03 Q1256.58 1517.6 1253.06 1517.6 Q1251.14 1517.6 1248.94 1518.01 Q1246.74 1518.43 1244.1 1519.31 L1244.1 1515.14 Q1246.76 1514.4 1249.08 1514.03 Q1251.41 1513.66 1253.47 1513.66 Q1258.8 1513.66 1261.9 1516.09 Q1265 1518.5 1265 1522.62 Q1265 1525.49 1263.36 1527.48 Q1261.71 1529.45 1258.68 1530.21 Z\" fill=\"#000000\" fill-rule=\"evenodd\" fill-opacity=\"1\" /><path clip-path=\"url(#clip400)\" d=\"M1775.52 1518.36 L1763.71 1536.81 L1775.52 1536.81 L1775.52 1518.36 M1774.29 1514.29 L1780.17 1514.29 L1780.17 1536.81 L1785.1 1536.81 L1785.1 1540.7 L1780.17 1540.7 L1780.17 1548.85 L1775.52 1548.85 L1775.52 1540.7 L1759.92 1540.7 L1759.92 1536.19 L1774.29 1514.29 Z\" fill=\"#000000\" fill-rule=\"evenodd\" fill-opacity=\"1\" /><path clip-path=\"url(#clip400)\" d=\"M2280.86 1514.29 L2299.22 1514.29 L2299.22 1518.22 L2285.15 1518.22 L2285.15 1526.7 Q2286.17 1526.35 2287.18 1526.19 Q2288.2 1526 2289.22 1526 Q2295.01 1526 2298.39 1529.17 Q2301.77 1532.34 2301.77 1537.76 Q2301.77 1543.34 2298.3 1546.44 Q2294.82 1549.52 2288.5 1549.52 Q2286.33 1549.52 2284.06 1549.15 Q2281.81 1548.78 2279.41 1548.04 L2279.41 1543.34 Q2281.49 1544.47 2283.71 1545.03 Q2285.93 1545.58 2288.41 1545.58 Q2292.42 1545.58 2294.75 1543.48 Q2297.09 1541.37 2297.09 1537.76 Q2297.09 1534.15 2294.75 1532.04 Q2292.42 1529.94 2288.41 1529.94 Q2286.54 1529.94 2284.66 1530.35 Q2282.81 1530.77 2280.86 1531.65 L2280.86 1514.29 Z\" fill=\"#000000\" fill-rule=\"evenodd\" fill-opacity=\"1\" /><polyline clip-path=\"url(#clip402)\" style=\"stroke:#000000; stroke-linecap:round; stroke-linejoin:round; stroke-width:2; stroke-opacity:0.1; fill:none\" points=\"156.112,1449.1 2352.76,1449.1 \"/>\n",
       "<polyline clip-path=\"url(#clip402)\" style=\"stroke:#000000; stroke-linecap:round; stroke-linejoin:round; stroke-width:2; stroke-opacity:0.1; fill:none\" points=\"156.112,1178 2352.76,1178 \"/>\n",
       "<polyline clip-path=\"url(#clip402)\" style=\"stroke:#000000; stroke-linecap:round; stroke-linejoin:round; stroke-width:2; stroke-opacity:0.1; fill:none\" points=\"156.112,906.893 2352.76,906.893 \"/>\n",
       "<polyline clip-path=\"url(#clip402)\" style=\"stroke:#000000; stroke-linecap:round; stroke-linejoin:round; stroke-width:2; stroke-opacity:0.1; fill:none\" points=\"156.112,635.788 2352.76,635.788 \"/>\n",
       "<polyline clip-path=\"url(#clip402)\" style=\"stroke:#000000; stroke-linecap:round; stroke-linejoin:round; stroke-width:2; stroke-opacity:0.1; fill:none\" points=\"156.112,364.682 2352.76,364.682 \"/>\n",
       "<polyline clip-path=\"url(#clip402)\" style=\"stroke:#000000; stroke-linecap:round; stroke-linejoin:round; stroke-width:2; stroke-opacity:0.1; fill:none\" points=\"156.112,93.5768 2352.76,93.5768 \"/>\n",
       "<polyline clip-path=\"url(#clip400)\" style=\"stroke:#000000; stroke-linecap:round; stroke-linejoin:round; stroke-width:4; stroke-opacity:1; fill:none\" points=\"156.112,1486.45 156.112,47.2441 \"/>\n",
       "<polyline clip-path=\"url(#clip400)\" style=\"stroke:#000000; stroke-linecap:round; stroke-linejoin:round; stroke-width:4; stroke-opacity:1; fill:none\" points=\"156.112,1449.1 175.01,1449.1 \"/>\n",
       "<polyline clip-path=\"url(#clip400)\" style=\"stroke:#000000; stroke-linecap:round; stroke-linejoin:round; stroke-width:4; stroke-opacity:1; fill:none\" points=\"156.112,1178 175.01,1178 \"/>\n",
       "<polyline clip-path=\"url(#clip400)\" style=\"stroke:#000000; stroke-linecap:round; stroke-linejoin:round; stroke-width:4; stroke-opacity:1; fill:none\" points=\"156.112,906.893 175.01,906.893 \"/>\n",
       "<polyline clip-path=\"url(#clip400)\" style=\"stroke:#000000; stroke-linecap:round; stroke-linejoin:round; stroke-width:4; stroke-opacity:1; fill:none\" points=\"156.112,635.788 175.01,635.788 \"/>\n",
       "<polyline clip-path=\"url(#clip400)\" style=\"stroke:#000000; stroke-linecap:round; stroke-linejoin:round; stroke-width:4; stroke-opacity:1; fill:none\" points=\"156.112,364.682 175.01,364.682 \"/>\n",
       "<polyline clip-path=\"url(#clip400)\" style=\"stroke:#000000; stroke-linecap:round; stroke-linejoin:round; stroke-width:4; stroke-opacity:1; fill:none\" points=\"156.112,93.5768 175.01,93.5768 \"/>\n",
       "<path clip-path=\"url(#clip400)\" d=\"M62.9365 1434.9 Q59.3254 1434.9 57.4967 1438.47 Q55.6912 1442.01 55.6912 1449.14 Q55.6912 1456.24 57.4967 1459.81 Q59.3254 1463.35 62.9365 1463.35 Q66.5707 1463.35 68.3763 1459.81 Q70.205 1456.24 70.205 1449.14 Q70.205 1442.01 68.3763 1438.47 Q66.5707 1434.9 62.9365 1434.9 M62.9365 1431.2 Q68.7467 1431.2 71.8022 1435.81 Q74.8809 1440.39 74.8809 1449.14 Q74.8809 1457.87 71.8022 1462.47 Q68.7467 1467.05 62.9365 1467.05 Q57.1264 1467.05 54.0477 1462.47 Q50.9921 1457.87 50.9921 1449.14 Q50.9921 1440.39 54.0477 1435.81 Q57.1264 1431.2 62.9365 1431.2 Z\" fill=\"#000000\" fill-rule=\"evenodd\" fill-opacity=\"1\" /><path clip-path=\"url(#clip400)\" d=\"M83.0984 1460.5 L87.9827 1460.5 L87.9827 1466.38 L83.0984 1466.38 L83.0984 1460.5 Z\" fill=\"#000000\" fill-rule=\"evenodd\" fill-opacity=\"1\" /><path clip-path=\"url(#clip400)\" d=\"M108.168 1434.9 Q104.557 1434.9 102.728 1438.47 Q100.922 1442.01 100.922 1449.14 Q100.922 1456.24 102.728 1459.81 Q104.557 1463.35 108.168 1463.35 Q111.802 1463.35 113.608 1459.81 Q115.436 1456.24 115.436 1449.14 Q115.436 1442.01 113.608 1438.47 Q111.802 1434.9 108.168 1434.9 M108.168 1431.2 Q113.978 1431.2 117.033 1435.81 Q120.112 1440.39 120.112 1449.14 Q120.112 1457.87 117.033 1462.47 Q113.978 1467.05 108.168 1467.05 Q102.358 1467.05 99.2789 1462.47 Q96.2234 1457.87 96.2234 1449.14 Q96.2234 1440.39 99.2789 1435.81 Q102.358 1431.2 108.168 1431.2 Z\" fill=\"#000000\" fill-rule=\"evenodd\" fill-opacity=\"1\" /><path clip-path=\"url(#clip400)\" d=\"M63.9319 1163.8 Q60.3208 1163.8 58.4921 1167.36 Q56.6865 1170.9 56.6865 1178.03 Q56.6865 1185.14 58.4921 1188.7 Q60.3208 1192.25 63.9319 1192.25 Q67.5661 1192.25 69.3717 1188.7 Q71.2004 1185.14 71.2004 1178.03 Q71.2004 1170.9 69.3717 1167.36 Q67.5661 1163.8 63.9319 1163.8 M63.9319 1160.09 Q69.742 1160.09 72.7976 1164.7 Q75.8763 1169.28 75.8763 1178.03 Q75.8763 1186.76 72.7976 1191.37 Q69.742 1195.95 63.9319 1195.95 Q58.1217 1195.95 55.043 1191.37 Q51.9875 1186.76 51.9875 1178.03 Q51.9875 1169.28 55.043 1164.7 Q58.1217 1160.09 63.9319 1160.09 Z\" fill=\"#000000\" fill-rule=\"evenodd\" fill-opacity=\"1\" /><path clip-path=\"url(#clip400)\" d=\"M84.0938 1189.4 L88.978 1189.4 L88.978 1195.28 L84.0938 1195.28 L84.0938 1189.4 Z\" fill=\"#000000\" fill-rule=\"evenodd\" fill-opacity=\"1\" /><path clip-path=\"url(#clip400)\" d=\"M99.2095 1160.72 L117.566 1160.72 L117.566 1164.65 L103.492 1164.65 L103.492 1173.13 Q104.51 1172.78 105.529 1172.62 Q106.547 1172.43 107.566 1172.43 Q113.353 1172.43 116.733 1175.6 Q120.112 1178.77 120.112 1184.19 Q120.112 1189.77 116.64 1192.87 Q113.168 1195.95 106.848 1195.95 Q104.672 1195.95 102.404 1195.58 Q100.159 1195.21 97.7511 1194.47 L97.7511 1189.77 Q99.8345 1190.9 102.057 1191.46 Q104.279 1192.01 106.756 1192.01 Q110.76 1192.01 113.098 1189.91 Q115.436 1187.8 115.436 1184.19 Q115.436 1180.58 113.098 1178.47 Q110.76 1176.37 106.756 1176.37 Q104.881 1176.37 103.006 1176.78 Q101.154 1177.2 99.2095 1178.08 L99.2095 1160.72 Z\" fill=\"#000000\" fill-rule=\"evenodd\" fill-opacity=\"1\" /><path clip-path=\"url(#clip400)\" d=\"M53.7467 920.238 L61.3856 920.238 L61.3856 893.872 L53.0754 895.539 L53.0754 891.28 L61.3393 889.613 L66.0152 889.613 L66.0152 920.238 L73.654 920.238 L73.654 924.173 L53.7467 924.173 L53.7467 920.238 Z\" fill=\"#000000\" fill-rule=\"evenodd\" fill-opacity=\"1\" /><path clip-path=\"url(#clip400)\" d=\"M83.0984 918.293 L87.9827 918.293 L87.9827 924.173 L83.0984 924.173 L83.0984 918.293 Z\" fill=\"#000000\" fill-rule=\"evenodd\" fill-opacity=\"1\" /><path clip-path=\"url(#clip400)\" d=\"M108.168 892.692 Q104.557 892.692 102.728 896.256 Q100.922 899.798 100.922 906.928 Q100.922 914.034 102.728 917.599 Q104.557 921.141 108.168 921.141 Q111.802 921.141 113.608 917.599 Q115.436 914.034 115.436 906.928 Q115.436 899.798 113.608 896.256 Q111.802 892.692 108.168 892.692 M108.168 888.988 Q113.978 888.988 117.033 893.594 Q120.112 898.178 120.112 906.928 Q120.112 915.654 117.033 920.261 Q113.978 924.844 108.168 924.844 Q102.358 924.844 99.2789 920.261 Q96.2234 915.654 96.2234 906.928 Q96.2234 898.178 99.2789 893.594 Q102.358 888.988 108.168 888.988 Z\" fill=\"#000000\" fill-rule=\"evenodd\" fill-opacity=\"1\" /><path clip-path=\"url(#clip400)\" d=\"M54.7421 649.132 L62.381 649.132 L62.381 622.767 L54.0708 624.433 L54.0708 620.174 L62.3347 618.508 L67.0106 618.508 L67.0106 649.132 L74.6494 649.132 L74.6494 653.068 L54.7421 653.068 L54.7421 649.132 Z\" fill=\"#000000\" fill-rule=\"evenodd\" fill-opacity=\"1\" /><path clip-path=\"url(#clip400)\" d=\"M84.0938 647.188 L88.978 647.188 L88.978 653.068 L84.0938 653.068 L84.0938 647.188 Z\" fill=\"#000000\" fill-rule=\"evenodd\" fill-opacity=\"1\" /><path clip-path=\"url(#clip400)\" d=\"M99.2095 618.508 L117.566 618.508 L117.566 622.443 L103.492 622.443 L103.492 630.915 Q104.51 630.568 105.529 630.406 Q106.547 630.22 107.566 630.22 Q113.353 630.22 116.733 633.392 Q120.112 636.563 120.112 641.98 Q120.112 647.558 116.64 650.66 Q113.168 653.739 106.848 653.739 Q104.672 653.739 102.404 653.368 Q100.159 652.998 97.7511 652.257 L97.7511 647.558 Q99.8345 648.693 102.057 649.248 Q104.279 649.804 106.756 649.804 Q110.76 649.804 113.098 647.697 Q115.436 645.591 115.436 641.98 Q115.436 638.369 113.098 636.262 Q110.76 634.156 106.756 634.156 Q104.881 634.156 103.006 634.572 Q101.154 634.989 99.2095 635.869 L99.2095 618.508 Z\" fill=\"#000000\" fill-rule=\"evenodd\" fill-opacity=\"1\" /><path clip-path=\"url(#clip400)\" d=\"M56.9643 378.027 L73.2837 378.027 L73.2837 381.962 L51.3393 381.962 L51.3393 378.027 Q54.0014 375.272 58.5847 370.643 Q63.1911 365.99 64.3717 364.647 Q66.617 362.124 67.4967 360.388 Q68.3994 358.629 68.3994 356.939 Q68.3994 354.185 66.455 352.448 Q64.5337 350.712 61.4319 350.712 Q59.2328 350.712 56.7791 351.476 Q54.3486 352.24 51.5708 353.791 L51.5708 349.069 Q54.3949 347.935 56.8486 347.356 Q59.3023 346.777 61.3393 346.777 Q66.7096 346.777 69.9041 349.462 Q73.0985 352.148 73.0985 356.638 Q73.0985 358.768 72.2883 360.689 Q71.5013 362.587 69.3948 365.18 Q68.8161 365.851 65.7143 369.069 Q62.6124 372.263 56.9643 378.027 Z\" fill=\"#000000\" fill-rule=\"evenodd\" fill-opacity=\"1\" /><path clip-path=\"url(#clip400)\" d=\"M83.0984 376.083 L87.9827 376.083 L87.9827 381.962 L83.0984 381.962 L83.0984 376.083 Z\" fill=\"#000000\" fill-rule=\"evenodd\" fill-opacity=\"1\" /><path clip-path=\"url(#clip400)\" d=\"M108.168 350.481 Q104.557 350.481 102.728 354.046 Q100.922 357.587 100.922 364.717 Q100.922 371.823 102.728 375.388 Q104.557 378.93 108.168 378.93 Q111.802 378.93 113.608 375.388 Q115.436 371.823 115.436 364.717 Q115.436 357.587 113.608 354.046 Q111.802 350.481 108.168 350.481 M108.168 346.777 Q113.978 346.777 117.033 351.384 Q120.112 355.967 120.112 364.717 Q120.112 373.444 117.033 378.05 Q113.978 382.633 108.168 382.633 Q102.358 382.633 99.2789 378.05 Q96.2234 373.444 96.2234 364.717 Q96.2234 355.967 99.2789 351.384 Q102.358 346.777 108.168 346.777 Z\" fill=\"#000000\" fill-rule=\"evenodd\" fill-opacity=\"1\" /><path clip-path=\"url(#clip400)\" d=\"M57.9597 106.922 L74.279 106.922 L74.279 110.857 L52.3347 110.857 L52.3347 106.922 Q54.9967 104.167 59.58 99.5374 Q64.1865 94.8847 65.367 93.5421 Q67.6124 91.0189 68.492 89.2828 Q69.3948 87.5236 69.3948 85.8338 Q69.3948 83.0792 67.4504 81.3431 Q65.5291 79.607 62.4272 79.607 Q60.2282 79.607 57.7745 80.3709 Q55.344 81.1347 52.5662 82.6857 L52.5662 77.9635 Q55.3903 76.8292 57.8439 76.2505 Q60.2976 75.6718 62.3347 75.6718 Q67.705 75.6718 70.8994 78.357 Q74.0939 81.0421 74.0939 85.5329 Q74.0939 87.6625 73.2837 89.5838 Q72.4966 91.4819 70.3902 94.0745 Q69.8115 94.7458 66.7096 97.9634 Q63.6078 101.158 57.9597 106.922 Z\" fill=\"#000000\" fill-rule=\"evenodd\" fill-opacity=\"1\" /><path clip-path=\"url(#clip400)\" d=\"M84.0938 104.977 L88.978 104.977 L88.978 110.857 L84.0938 110.857 L84.0938 104.977 Z\" fill=\"#000000\" fill-rule=\"evenodd\" fill-opacity=\"1\" /><path clip-path=\"url(#clip400)\" d=\"M99.2095 76.2968 L117.566 76.2968 L117.566 80.232 L103.492 80.232 L103.492 88.7041 Q104.51 88.3569 105.529 88.1949 Q106.547 88.0097 107.566 88.0097 Q113.353 88.0097 116.733 91.181 Q120.112 94.3523 120.112 99.7689 Q120.112 105.348 116.64 108.449 Q113.168 111.528 106.848 111.528 Q104.672 111.528 102.404 111.158 Q100.159 110.787 97.7511 110.047 L97.7511 105.348 Q99.8345 106.482 102.057 107.037 Q104.279 107.593 106.756 107.593 Q110.76 107.593 113.098 105.486 Q115.436 103.38 115.436 99.7689 Q115.436 96.1578 113.098 94.0513 Q110.76 91.9449 106.756 91.9449 Q104.881 91.9449 103.006 92.3615 Q101.154 92.7782 99.2095 93.6578 L99.2095 76.2968 Z\" fill=\"#000000\" fill-rule=\"evenodd\" fill-opacity=\"1\" /><polyline clip-path=\"url(#clip402)\" style=\"stroke:#009af9; stroke-linecap:round; stroke-linejoin:round; stroke-width:4; stroke-opacity:1; fill:none\" points=\"218.281,1165.64 736.358,1429.58 1254.43,967.55 1772.51,87.9763 2290.59,1445.72 \"/>\n",
       "<path clip-path=\"url(#clip400)\" d=\"M2007.44 198.898 L2279.53 198.898 L2279.53 95.2176 L2007.44 95.2176  Z\" fill=\"#ffffff\" fill-rule=\"evenodd\" fill-opacity=\"1\"/>\n",
       "<polyline clip-path=\"url(#clip400)\" style=\"stroke:#000000; stroke-linecap:round; stroke-linejoin:round; stroke-width:4; stroke-opacity:1; fill:none\" points=\"2007.44,198.898 2279.53,198.898 2279.53,95.2176 2007.44,95.2176 2007.44,198.898 \"/>\n",
       "<polyline clip-path=\"url(#clip400)\" style=\"stroke:#009af9; stroke-linecap:round; stroke-linejoin:round; stroke-width:4; stroke-opacity:1; fill:none\" points=\"2031.85,147.058 2178.29,147.058 \"/>\n",
       "<path clip-path=\"url(#clip400)\" d=\"M2216.54 166.745 Q2214.73 171.375 2213.02 172.787 Q2211.31 174.199 2208.44 174.199 L2205.03 174.199 L2205.03 170.634 L2207.53 170.634 Q2209.29 170.634 2210.27 169.8 Q2211.24 168.967 2212.42 165.865 L2213.18 163.921 L2202.7 138.412 L2207.21 138.412 L2215.31 158.689 L2223.41 138.412 L2227.93 138.412 L2216.54 166.745 Z\" fill=\"#000000\" fill-rule=\"evenodd\" fill-opacity=\"1\" /><path clip-path=\"url(#clip400)\" d=\"M2235.22 160.402 L2242.86 160.402 L2242.86 134.037 L2234.55 135.703 L2234.55 131.444 L2242.81 129.778 L2247.49 129.778 L2247.49 160.402 L2255.13 160.402 L2255.13 164.338 L2235.22 164.338 L2235.22 160.402 Z\" fill=\"#000000\" fill-rule=\"evenodd\" fill-opacity=\"1\" /></svg>\n"
      ]
     },
     "execution_count": 22,
     "metadata": {},
     "output_type": "execute_result"
    }
   ],
   "source": [
    "# 함수4\n",
    "# 연구자라면 함수 합성을 활용하세요.\n",
    "f(x) = x^2\n",
    "generatedata(n) = f.(randn(n))\n",
    "data = generatedata(5)\n",
    "plot(data)"
   ]
  },
  {
   "cell_type": "code",
   "execution_count": 23,
   "id": "21d096f5-eff2-476f-afb4-cf1a9935b967",
   "metadata": {
    "tags": []
   },
   "outputs": [
    {
     "data": {
      "image/svg+xml": [
       "<?xml version=\"1.0\" encoding=\"utf-8\"?>\n",
       "<svg xmlns=\"http://www.w3.org/2000/svg\" xmlns:xlink=\"http://www.w3.org/1999/xlink\" width=\"600\" height=\"400\" viewBox=\"0 0 2400 1600\">\n",
       "<defs>\n",
       "  <clipPath id=\"clip440\">\n",
       "    <rect x=\"0\" y=\"0\" width=\"2400\" height=\"1600\"/>\n",
       "  </clipPath>\n",
       "</defs>\n",
       "<path clip-path=\"url(#clip440)\" d=\"M0 1600 L2400 1600 L2400 0 L0 0  Z\" fill=\"#ffffff\" fill-rule=\"evenodd\" fill-opacity=\"1\"/>\n",
       "<defs>\n",
       "  <clipPath id=\"clip441\">\n",
       "    <rect x=\"480\" y=\"0\" width=\"1681\" height=\"1600\"/>\n",
       "  </clipPath>\n",
       "</defs>\n",
       "<path clip-path=\"url(#clip440)\" d=\"M112.177 1486.45 L2352.76 1486.45 L2352.76 47.2441 L112.177 47.2441  Z\" fill=\"#ffffff\" fill-rule=\"evenodd\" fill-opacity=\"1\"/>\n",
       "<defs>\n",
       "  <clipPath id=\"clip442\">\n",
       "    <rect x=\"112\" y=\"47\" width=\"2242\" height=\"1440\"/>\n",
       "  </clipPath>\n",
       "</defs>\n",
       "<polyline clip-path=\"url(#clip442)\" style=\"stroke:#000000; stroke-linecap:round; stroke-linejoin:round; stroke-width:2; stroke-opacity:0.1; fill:none\" points=\"175.59,1486.45 175.59,47.2441 \"/>\n",
       "<polyline clip-path=\"url(#clip442)\" style=\"stroke:#000000; stroke-linecap:round; stroke-linejoin:round; stroke-width:2; stroke-opacity:0.1; fill:none\" points=\"704.028,1486.45 704.028,47.2441 \"/>\n",
       "<polyline clip-path=\"url(#clip442)\" style=\"stroke:#000000; stroke-linecap:round; stroke-linejoin:round; stroke-width:2; stroke-opacity:0.1; fill:none\" points=\"1232.47,1486.45 1232.47,47.2441 \"/>\n",
       "<polyline clip-path=\"url(#clip442)\" style=\"stroke:#000000; stroke-linecap:round; stroke-linejoin:round; stroke-width:2; stroke-opacity:0.1; fill:none\" points=\"1760.9,1486.45 1760.9,47.2441 \"/>\n",
       "<polyline clip-path=\"url(#clip442)\" style=\"stroke:#000000; stroke-linecap:round; stroke-linejoin:round; stroke-width:2; stroke-opacity:0.1; fill:none\" points=\"2289.34,1486.45 2289.34,47.2441 \"/>\n",
       "<polyline clip-path=\"url(#clip440)\" style=\"stroke:#000000; stroke-linecap:round; stroke-linejoin:round; stroke-width:4; stroke-opacity:1; fill:none\" points=\"112.177,1486.45 2352.76,1486.45 \"/>\n",
       "<polyline clip-path=\"url(#clip440)\" style=\"stroke:#000000; stroke-linecap:round; stroke-linejoin:round; stroke-width:4; stroke-opacity:1; fill:none\" points=\"175.59,1486.45 175.59,1467.55 \"/>\n",
       "<polyline clip-path=\"url(#clip440)\" style=\"stroke:#000000; stroke-linecap:round; stroke-linejoin:round; stroke-width:4; stroke-opacity:1; fill:none\" points=\"704.028,1486.45 704.028,1467.55 \"/>\n",
       "<polyline clip-path=\"url(#clip440)\" style=\"stroke:#000000; stroke-linecap:round; stroke-linejoin:round; stroke-width:4; stroke-opacity:1; fill:none\" points=\"1232.47,1486.45 1232.47,1467.55 \"/>\n",
       "<polyline clip-path=\"url(#clip440)\" style=\"stroke:#000000; stroke-linecap:round; stroke-linejoin:round; stroke-width:4; stroke-opacity:1; fill:none\" points=\"1760.9,1486.45 1760.9,1467.55 \"/>\n",
       "<polyline clip-path=\"url(#clip440)\" style=\"stroke:#000000; stroke-linecap:round; stroke-linejoin:round; stroke-width:4; stroke-opacity:1; fill:none\" points=\"2289.34,1486.45 2289.34,1467.55 \"/>\n",
       "<path clip-path=\"url(#clip440)\" d=\"M165.972 1544.91 L173.611 1544.91 L173.611 1518.55 L165.3 1520.21 L165.3 1515.95 L173.564 1514.29 L178.24 1514.29 L178.24 1544.91 L185.879 1544.91 L185.879 1548.85 L165.972 1548.85 L165.972 1544.91 Z\" fill=\"#000000\" fill-rule=\"evenodd\" fill-opacity=\"1\" /><path clip-path=\"url(#clip440)\" d=\"M698.681 1544.91 L715 1544.91 L715 1548.85 L693.056 1548.85 L693.056 1544.91 Q695.718 1542.16 700.301 1537.53 Q704.908 1532.88 706.088 1531.53 Q708.334 1529.01 709.213 1527.27 Q710.116 1525.51 710.116 1523.82 Q710.116 1521.07 708.172 1519.33 Q706.25 1517.6 703.149 1517.6 Q700.949 1517.6 698.496 1518.36 Q696.065 1519.13 693.287 1520.68 L693.287 1515.95 Q696.112 1514.82 698.565 1514.24 Q701.019 1513.66 703.056 1513.66 Q708.426 1513.66 711.621 1516.35 Q714.815 1519.03 714.815 1523.52 Q714.815 1525.65 714.005 1527.57 Q713.218 1529.47 711.111 1532.07 Q710.533 1532.74 707.431 1535.95 Q704.329 1539.15 698.681 1544.91 Z\" fill=\"#000000\" fill-rule=\"evenodd\" fill-opacity=\"1\" /><path clip-path=\"url(#clip440)\" d=\"M1236.71 1530.21 Q1240.07 1530.93 1241.95 1533.2 Q1243.84 1535.47 1243.84 1538.8 Q1243.84 1543.92 1240.33 1546.72 Q1236.81 1549.52 1230.33 1549.52 Q1228.15 1549.52 1225.83 1549.08 Q1223.54 1548.66 1221.09 1547.81 L1221.09 1543.29 Q1223.03 1544.43 1225.35 1545.01 Q1227.66 1545.58 1230.19 1545.58 Q1234.58 1545.58 1236.88 1543.85 Q1239.19 1542.11 1239.19 1538.8 Q1239.19 1535.75 1237.04 1534.03 Q1234.91 1532.3 1231.09 1532.3 L1227.06 1532.3 L1227.06 1528.45 L1231.27 1528.45 Q1234.72 1528.45 1236.55 1527.09 Q1238.38 1525.7 1238.38 1523.11 Q1238.38 1520.45 1236.48 1519.03 Q1234.61 1517.6 1231.09 1517.6 Q1229.17 1517.6 1226.97 1518.01 Q1224.77 1518.43 1222.13 1519.31 L1222.13 1515.14 Q1224.79 1514.4 1227.11 1514.03 Q1229.45 1513.66 1231.51 1513.66 Q1236.83 1513.66 1239.93 1516.09 Q1243.03 1518.5 1243.03 1522.62 Q1243.03 1525.49 1241.39 1527.48 Q1239.75 1529.45 1236.71 1530.21 Z\" fill=\"#000000\" fill-rule=\"evenodd\" fill-opacity=\"1\" /><path clip-path=\"url(#clip440)\" d=\"M1763.91 1518.36 L1752.11 1536.81 L1763.91 1536.81 L1763.91 1518.36 M1762.69 1514.29 L1768.57 1514.29 L1768.57 1536.81 L1773.5 1536.81 L1773.5 1540.7 L1768.57 1540.7 L1768.57 1548.85 L1763.91 1548.85 L1763.91 1540.7 L1748.31 1540.7 L1748.31 1536.19 L1762.69 1514.29 Z\" fill=\"#000000\" fill-rule=\"evenodd\" fill-opacity=\"1\" /><path clip-path=\"url(#clip440)\" d=\"M2279.62 1514.29 L2297.98 1514.29 L2297.98 1518.22 L2283.9 1518.22 L2283.9 1526.7 Q2284.92 1526.35 2285.94 1526.19 Q2286.96 1526 2287.98 1526 Q2293.76 1526 2297.14 1529.17 Q2300.52 1532.34 2300.52 1537.76 Q2300.52 1543.34 2297.05 1546.44 Q2293.58 1549.52 2287.26 1549.52 Q2285.08 1549.52 2282.82 1549.15 Q2280.57 1548.78 2278.16 1548.04 L2278.16 1543.34 Q2280.25 1544.47 2282.47 1545.03 Q2284.69 1545.58 2287.17 1545.58 Q2291.17 1545.58 2293.51 1543.48 Q2295.85 1541.37 2295.85 1537.76 Q2295.85 1534.15 2293.51 1532.04 Q2291.17 1529.94 2287.17 1529.94 Q2285.29 1529.94 2283.42 1530.35 Q2281.57 1530.77 2279.62 1531.65 L2279.62 1514.29 Z\" fill=\"#000000\" fill-rule=\"evenodd\" fill-opacity=\"1\" /><polyline clip-path=\"url(#clip442)\" style=\"stroke:#000000; stroke-linecap:round; stroke-linejoin:round; stroke-width:2; stroke-opacity:0.1; fill:none\" points=\"112.177,1165.4 2352.76,1165.4 \"/>\n",
       "<polyline clip-path=\"url(#clip442)\" style=\"stroke:#000000; stroke-linecap:round; stroke-linejoin:round; stroke-width:2; stroke-opacity:0.1; fill:none\" points=\"112.177,840.248 2352.76,840.248 \"/>\n",
       "<polyline clip-path=\"url(#clip442)\" style=\"stroke:#000000; stroke-linecap:round; stroke-linejoin:round; stroke-width:2; stroke-opacity:0.1; fill:none\" points=\"112.177,515.096 2352.76,515.096 \"/>\n",
       "<polyline clip-path=\"url(#clip442)\" style=\"stroke:#000000; stroke-linecap:round; stroke-linejoin:round; stroke-width:2; stroke-opacity:0.1; fill:none\" points=\"112.177,189.943 2352.76,189.943 \"/>\n",
       "<polyline clip-path=\"url(#clip440)\" style=\"stroke:#000000; stroke-linecap:round; stroke-linejoin:round; stroke-width:4; stroke-opacity:1; fill:none\" points=\"112.177,1486.45 112.177,47.2441 \"/>\n",
       "<polyline clip-path=\"url(#clip440)\" style=\"stroke:#000000; stroke-linecap:round; stroke-linejoin:round; stroke-width:4; stroke-opacity:1; fill:none\" points=\"112.177,1165.4 131.075,1165.4 \"/>\n",
       "<polyline clip-path=\"url(#clip440)\" style=\"stroke:#000000; stroke-linecap:round; stroke-linejoin:round; stroke-width:4; stroke-opacity:1; fill:none\" points=\"112.177,840.248 131.075,840.248 \"/>\n",
       "<polyline clip-path=\"url(#clip440)\" style=\"stroke:#000000; stroke-linecap:round; stroke-linejoin:round; stroke-width:4; stroke-opacity:1; fill:none\" points=\"112.177,515.096 131.075,515.096 \"/>\n",
       "<polyline clip-path=\"url(#clip440)\" style=\"stroke:#000000; stroke-linecap:round; stroke-linejoin:round; stroke-width:4; stroke-opacity:1; fill:none\" points=\"112.177,189.943 131.075,189.943 \"/>\n",
       "<path clip-path=\"url(#clip440)\" d=\"M56.2699 1178.74 L63.9087 1178.74 L63.9087 1152.38 L55.5986 1154.05 L55.5986 1149.79 L63.8624 1148.12 L68.5383 1148.12 L68.5383 1178.74 L76.1772 1178.74 L76.1772 1182.68 L56.2699 1182.68 L56.2699 1178.74 Z\" fill=\"#000000\" fill-rule=\"evenodd\" fill-opacity=\"1\" /><path clip-path=\"url(#clip440)\" d=\"M59.8578 853.592 L76.1772 853.592 L76.1772 857.528 L54.2328 857.528 L54.2328 853.592 Q56.8949 850.838 61.4782 846.208 Q66.0846 841.555 67.2652 840.213 Q69.5105 837.69 70.3902 835.954 Q71.2929 834.194 71.2929 832.505 Q71.2929 829.75 69.3485 828.014 Q67.4272 826.278 64.3254 826.278 Q62.1263 826.278 59.6726 827.042 Q57.2421 827.806 54.4643 829.356 L54.4643 824.634 Q57.2884 823.5 59.7421 822.921 Q62.1958 822.343 64.2328 822.343 Q69.6031 822.343 72.7976 825.028 Q75.992 827.713 75.992 832.204 Q75.992 834.333 75.1818 836.255 Q74.3948 838.153 72.2883 840.745 Q71.7096 841.417 68.6078 844.634 Q65.5059 847.829 59.8578 853.592 Z\" fill=\"#000000\" fill-rule=\"evenodd\" fill-opacity=\"1\" /><path clip-path=\"url(#clip440)\" d=\"M69.0476 513.741 Q72.404 514.459 74.279 516.727 Q76.1772 518.996 76.1772 522.329 Q76.1772 527.445 72.6587 530.246 Q69.1402 533.047 62.6587 533.047 Q60.4828 533.047 58.168 532.607 Q55.8764 532.19 53.4227 531.334 L53.4227 526.82 Q55.3671 527.954 57.6819 528.533 Q59.9967 529.112 62.5198 529.112 Q66.918 529.112 69.2096 527.376 Q71.5244 525.639 71.5244 522.329 Q71.5244 519.274 69.3717 517.561 Q67.242 515.825 63.4226 515.825 L59.3949 515.825 L59.3949 511.982 L63.6078 511.982 Q67.0569 511.982 68.8855 510.616 Q70.7142 509.227 70.7142 506.635 Q70.7142 503.973 68.8161 502.561 Q66.9411 501.126 63.4226 501.126 Q61.5013 501.126 59.3023 501.542 Q57.1032 501.959 54.4643 502.839 L54.4643 498.672 Q57.1264 497.931 59.4412 497.561 Q61.7791 497.191 63.8393 497.191 Q69.1633 497.191 72.2652 499.621 Q75.367 502.028 75.367 506.149 Q75.367 509.019 73.7235 511.01 Q72.08 512.977 69.0476 513.741 Z\" fill=\"#000000\" fill-rule=\"evenodd\" fill-opacity=\"1\" /><path clip-path=\"url(#clip440)\" d=\"M66.5939 176.737 L54.7884 195.186 L66.5939 195.186 L66.5939 176.737 M65.367 172.663 L71.2466 172.663 L71.2466 195.186 L76.1772 195.186 L76.1772 199.075 L71.2466 199.075 L71.2466 207.223 L66.5939 207.223 L66.5939 199.075 L50.9921 199.075 L50.9921 194.561 L65.367 172.663 Z\" fill=\"#000000\" fill-rule=\"evenodd\" fill-opacity=\"1\" /><polyline clip-path=\"url(#clip442)\" style=\"stroke:#009af9; stroke-linecap:round; stroke-linejoin:round; stroke-width:4; stroke-opacity:1; fill:none\" points=\"175.59,1103.48 704.028,1111.23 1232.47,1014.69 1760.9,87.9763 2289.34,1445.72 \"/>\n",
       "<path clip-path=\"url(#clip440)\" d=\"M2001.58 198.898 L2278.07 198.898 L2278.07 95.2176 L2001.58 95.2176  Z\" fill=\"#ffffff\" fill-rule=\"evenodd\" fill-opacity=\"1\"/>\n",
       "<polyline clip-path=\"url(#clip440)\" style=\"stroke:#000000; stroke-linecap:round; stroke-linejoin:round; stroke-width:4; stroke-opacity:1; fill:none\" points=\"2001.58,198.898 2278.07,198.898 2278.07,95.2176 2001.58,95.2176 2001.58,198.898 \"/>\n",
       "<polyline clip-path=\"url(#clip440)\" style=\"stroke:#009af9; stroke-linecap:round; stroke-linejoin:round; stroke-width:4; stroke-opacity:1; fill:none\" points=\"2026.48,147.058 2175.85,147.058 \"/>\n",
       "<path clip-path=\"url(#clip440)\" d=\"M2214.59 166.745 Q2212.78 171.375 2211.07 172.787 Q2209.36 174.199 2206.49 174.199 L2203.08 174.199 L2203.08 170.634 L2205.58 170.634 Q2207.34 170.634 2208.31 169.8 Q2209.29 168.967 2210.47 165.865 L2211.23 163.921 L2200.74 138.412 L2205.26 138.412 L2213.36 158.689 L2221.46 138.412 L2225.98 138.412 L2214.59 166.745 Z\" fill=\"#000000\" fill-rule=\"evenodd\" fill-opacity=\"1\" /><path clip-path=\"url(#clip440)\" d=\"M2233.27 160.402 L2240.91 160.402 L2240.91 134.037 L2232.6 135.703 L2232.6 131.444 L2240.86 129.778 L2245.54 129.778 L2245.54 160.402 L2253.17 160.402 L2253.17 164.338 L2233.27 164.338 L2233.27 160.402 Z\" fill=\"#000000\" fill-rule=\"evenodd\" fill-opacity=\"1\" /></svg>\n"
      ]
     },
     "execution_count": 23,
     "metadata": {},
     "output_type": "execute_result"
    }
   ],
   "source": [
    "# 함수5\n",
    "generatedata(n, gen) = gen.(randn(n))\n",
    "f(x) = x^2\n",
    "data = generatedata(5, f)\n",
    "plot(data)"
   ]
  },
  {
   "cell_type": "code",
   "execution_count": 24,
   "id": "ae35b7b4-6682-4331-aa7c-3fa9c8b732be",
   "metadata": {
    "tags": []
   },
   "outputs": [
    {
     "data": {
      "image/svg+xml": [
       "<?xml version=\"1.0\" encoding=\"utf-8\"?>\n",
       "<svg xmlns=\"http://www.w3.org/2000/svg\" xmlns:xlink=\"http://www.w3.org/1999/xlink\" width=\"600\" height=\"400\" viewBox=\"0 0 2400 1600\">\n",
       "<defs>\n",
       "  <clipPath id=\"clip480\">\n",
       "    <rect x=\"0\" y=\"0\" width=\"2400\" height=\"1600\"/>\n",
       "  </clipPath>\n",
       "</defs>\n",
       "<path clip-path=\"url(#clip480)\" d=\"M0 1600 L2400 1600 L2400 0 L0 0  Z\" fill=\"#ffffff\" fill-rule=\"evenodd\" fill-opacity=\"1\"/>\n",
       "<defs>\n",
       "  <clipPath id=\"clip481\">\n",
       "    <rect x=\"480\" y=\"0\" width=\"1681\" height=\"1600\"/>\n",
       "  </clipPath>\n",
       "</defs>\n",
       "<defs>\n",
       "  <clipPath id=\"clip482\">\n",
       "    <rect x=\"112\" y=\"47\" width=\"2242\" height=\"1440\"/>\n",
       "  </clipPath>\n",
       "</defs>\n",
       "<path clip-path=\"url(#clip480)\" d=\"M192.941 1486.45 L2352.76 1486.45 L2352.76 47.2441 L192.941 47.2441  Z\" fill=\"#ffffff\" fill-rule=\"evenodd\" fill-opacity=\"1\"/>\n",
       "<defs>\n",
       "  <clipPath id=\"clip483\">\n",
       "    <rect x=\"192\" y=\"47\" width=\"2161\" height=\"1440\"/>\n",
       "  </clipPath>\n",
       "</defs>\n",
       "<polyline clip-path=\"url(#clip483)\" style=\"stroke:#000000; stroke-linecap:round; stroke-linejoin:round; stroke-width:2; stroke-opacity:0.1; fill:none\" points=\"233.486,1486.45 233.486,47.2441 \"/>\n",
       "<polyline clip-path=\"url(#clip483)\" style=\"stroke:#000000; stroke-linecap:round; stroke-linejoin:round; stroke-width:2; stroke-opacity:0.1; fill:none\" points=\"748.022,1486.45 748.022,47.2441 \"/>\n",
       "<polyline clip-path=\"url(#clip483)\" style=\"stroke:#000000; stroke-linecap:round; stroke-linejoin:round; stroke-width:2; stroke-opacity:0.1; fill:none\" points=\"1262.56,1486.45 1262.56,47.2441 \"/>\n",
       "<polyline clip-path=\"url(#clip483)\" style=\"stroke:#000000; stroke-linecap:round; stroke-linejoin:round; stroke-width:2; stroke-opacity:0.1; fill:none\" points=\"1777.09,1486.45 1777.09,47.2441 \"/>\n",
       "<polyline clip-path=\"url(#clip483)\" style=\"stroke:#000000; stroke-linecap:round; stroke-linejoin:round; stroke-width:2; stroke-opacity:0.1; fill:none\" points=\"2291.63,1486.45 2291.63,47.2441 \"/>\n",
       "<polyline clip-path=\"url(#clip480)\" style=\"stroke:#000000; stroke-linecap:round; stroke-linejoin:round; stroke-width:4; stroke-opacity:1; fill:none\" points=\"192.941,1486.45 2352.76,1486.45 \"/>\n",
       "<polyline clip-path=\"url(#clip480)\" style=\"stroke:#000000; stroke-linecap:round; stroke-linejoin:round; stroke-width:4; stroke-opacity:1; fill:none\" points=\"233.486,1486.45 233.486,1467.55 \"/>\n",
       "<polyline clip-path=\"url(#clip480)\" style=\"stroke:#000000; stroke-linecap:round; stroke-linejoin:round; stroke-width:4; stroke-opacity:1; fill:none\" points=\"748.022,1486.45 748.022,1467.55 \"/>\n",
       "<polyline clip-path=\"url(#clip480)\" style=\"stroke:#000000; stroke-linecap:round; stroke-linejoin:round; stroke-width:4; stroke-opacity:1; fill:none\" points=\"1262.56,1486.45 1262.56,1467.55 \"/>\n",
       "<polyline clip-path=\"url(#clip480)\" style=\"stroke:#000000; stroke-linecap:round; stroke-linejoin:round; stroke-width:4; stroke-opacity:1; fill:none\" points=\"1777.09,1486.45 1777.09,1467.55 \"/>\n",
       "<polyline clip-path=\"url(#clip480)\" style=\"stroke:#000000; stroke-linecap:round; stroke-linejoin:round; stroke-width:4; stroke-opacity:1; fill:none\" points=\"2291.63,1486.45 2291.63,1467.55 \"/>\n",
       "<path clip-path=\"url(#clip480)\" d=\"M233.486 1517.37 Q229.875 1517.37 228.046 1520.93 Q226.241 1524.47 226.241 1531.6 Q226.241 1538.71 228.046 1542.27 Q229.875 1545.82 233.486 1545.82 Q237.12 1545.82 238.926 1542.27 Q240.755 1538.71 240.755 1531.6 Q240.755 1524.47 238.926 1520.93 Q237.12 1517.37 233.486 1517.37 M233.486 1513.66 Q239.296 1513.66 242.352 1518.27 Q245.43 1522.85 245.43 1531.6 Q245.43 1540.33 242.352 1544.94 Q239.296 1549.52 233.486 1549.52 Q227.676 1549.52 224.597 1544.94 Q221.542 1540.33 221.542 1531.6 Q221.542 1522.85 224.597 1518.27 Q227.676 1513.66 233.486 1513.66 Z\" fill=\"#000000\" fill-rule=\"evenodd\" fill-opacity=\"1\" /><path clip-path=\"url(#clip480)\" d=\"M727.293 1544.91 L743.612 1544.91 L743.612 1548.85 L721.668 1548.85 L721.668 1544.91 Q724.33 1542.16 728.913 1537.53 Q733.52 1532.88 734.7 1531.53 Q736.945 1529.01 737.825 1527.27 Q738.728 1525.51 738.728 1523.82 Q738.728 1521.07 736.783 1519.33 Q734.862 1517.6 731.76 1517.6 Q729.561 1517.6 727.108 1518.36 Q724.677 1519.13 721.899 1520.68 L721.899 1515.95 Q724.723 1514.82 727.177 1514.24 Q729.631 1513.66 731.668 1513.66 Q737.038 1513.66 740.232 1516.35 Q743.427 1519.03 743.427 1523.52 Q743.427 1525.65 742.617 1527.57 Q741.83 1529.47 739.723 1532.07 Q739.145 1532.74 736.043 1535.95 Q732.941 1539.15 727.293 1544.91 Z\" fill=\"#000000\" fill-rule=\"evenodd\" fill-opacity=\"1\" /><path clip-path=\"url(#clip480)\" d=\"M753.473 1514.29 L771.83 1514.29 L771.83 1518.22 L757.756 1518.22 L757.756 1526.7 Q758.774 1526.35 759.793 1526.19 Q760.811 1526 761.83 1526 Q767.617 1526 770.996 1529.17 Q774.376 1532.34 774.376 1537.76 Q774.376 1543.34 770.904 1546.44 Q767.431 1549.52 761.112 1549.52 Q758.936 1549.52 756.668 1549.15 Q754.422 1548.78 752.015 1548.04 L752.015 1543.34 Q754.098 1544.47 756.32 1545.03 Q758.543 1545.58 761.019 1545.58 Q765.024 1545.58 767.362 1543.48 Q769.7 1541.37 769.7 1537.76 Q769.7 1534.15 767.362 1532.04 Q765.024 1529.94 761.019 1529.94 Q759.144 1529.94 757.269 1530.35 Q755.418 1530.77 753.473 1531.65 L753.473 1514.29 Z\" fill=\"#000000\" fill-rule=\"evenodd\" fill-opacity=\"1\" /><path clip-path=\"url(#clip480)\" d=\"M1237.26 1514.29 L1255.61 1514.29 L1255.61 1518.22 L1241.54 1518.22 L1241.54 1526.7 Q1242.56 1526.35 1243.58 1526.19 Q1244.59 1526 1245.61 1526 Q1251.4 1526 1254.78 1529.17 Q1258.16 1532.34 1258.16 1537.76 Q1258.16 1543.34 1254.69 1546.44 Q1251.22 1549.52 1244.9 1549.52 Q1242.72 1549.52 1240.45 1549.15 Q1238.21 1548.78 1235.8 1548.04 L1235.8 1543.34 Q1237.88 1544.47 1240.1 1545.03 Q1242.33 1545.58 1244.8 1545.58 Q1248.81 1545.58 1251.15 1543.48 Q1253.48 1541.37 1253.48 1537.76 Q1253.48 1534.15 1251.15 1532.04 Q1248.81 1529.94 1244.8 1529.94 Q1242.93 1529.94 1241.05 1530.35 Q1239.2 1530.77 1237.26 1531.65 L1237.26 1514.29 Z\" fill=\"#000000\" fill-rule=\"evenodd\" fill-opacity=\"1\" /><path clip-path=\"url(#clip480)\" d=\"M1277.37 1517.37 Q1273.76 1517.37 1271.93 1520.93 Q1270.13 1524.47 1270.13 1531.6 Q1270.13 1538.71 1271.93 1542.27 Q1273.76 1545.82 1277.37 1545.82 Q1281.01 1545.82 1282.81 1542.27 Q1284.64 1538.71 1284.64 1531.6 Q1284.64 1524.47 1282.81 1520.93 Q1281.01 1517.37 1277.37 1517.37 M1277.37 1513.66 Q1283.18 1513.66 1286.24 1518.27 Q1289.32 1522.85 1289.32 1531.6 Q1289.32 1540.33 1286.24 1544.94 Q1283.18 1549.52 1277.37 1549.52 Q1271.56 1549.52 1268.48 1544.94 Q1265.43 1540.33 1265.43 1531.6 Q1265.43 1522.85 1268.48 1518.27 Q1271.56 1513.66 1277.37 1513.66 Z\" fill=\"#000000\" fill-rule=\"evenodd\" fill-opacity=\"1\" /><path clip-path=\"url(#clip480)\" d=\"M1750.95 1514.29 L1773.17 1514.29 L1773.17 1516.28 L1760.62 1548.85 L1755.74 1548.85 L1767.54 1518.22 L1750.95 1518.22 L1750.95 1514.29 Z\" fill=\"#000000\" fill-rule=\"evenodd\" fill-opacity=\"1\" /><path clip-path=\"url(#clip480)\" d=\"M1782.34 1514.29 L1800.69 1514.29 L1800.69 1518.22 L1786.62 1518.22 L1786.62 1526.7 Q1787.64 1526.35 1788.66 1526.19 Q1789.67 1526 1790.69 1526 Q1796.48 1526 1799.86 1529.17 Q1803.24 1532.34 1803.24 1537.76 Q1803.24 1543.34 1799.77 1546.44 Q1796.29 1549.52 1789.98 1549.52 Q1787.8 1549.52 1785.53 1549.15 Q1783.29 1548.78 1780.88 1548.04 L1780.88 1543.34 Q1782.96 1544.47 1785.18 1545.03 Q1787.41 1545.58 1789.88 1545.58 Q1793.89 1545.58 1796.23 1543.48 Q1798.56 1541.37 1798.56 1537.76 Q1798.56 1534.15 1796.23 1532.04 Q1793.89 1529.94 1789.88 1529.94 Q1788.01 1529.94 1786.13 1530.35 Q1784.28 1530.77 1782.34 1531.65 L1782.34 1514.29 Z\" fill=\"#000000\" fill-rule=\"evenodd\" fill-opacity=\"1\" /><path clip-path=\"url(#clip480)\" d=\"M2251.24 1544.91 L2258.87 1544.91 L2258.87 1518.55 L2250.56 1520.21 L2250.56 1515.95 L2258.83 1514.29 L2263.5 1514.29 L2263.5 1544.91 L2271.14 1544.91 L2271.14 1548.85 L2251.24 1548.85 L2251.24 1544.91 Z\" fill=\"#000000\" fill-rule=\"evenodd\" fill-opacity=\"1\" /><path clip-path=\"url(#clip480)\" d=\"M2290.59 1517.37 Q2286.98 1517.37 2285.15 1520.93 Q2283.34 1524.47 2283.34 1531.6 Q2283.34 1538.71 2285.15 1542.27 Q2286.98 1545.82 2290.59 1545.82 Q2294.22 1545.82 2296.03 1542.27 Q2297.86 1538.71 2297.86 1531.6 Q2297.86 1524.47 2296.03 1520.93 Q2294.22 1517.37 2290.59 1517.37 M2290.59 1513.66 Q2296.4 1513.66 2299.45 1518.27 Q2302.53 1522.85 2302.53 1531.6 Q2302.53 1540.33 2299.45 1544.94 Q2296.4 1549.52 2290.59 1549.52 Q2284.78 1549.52 2281.7 1544.94 Q2278.64 1540.33 2278.64 1531.6 Q2278.64 1522.85 2281.7 1518.27 Q2284.78 1513.66 2290.59 1513.66 Z\" fill=\"#000000\" fill-rule=\"evenodd\" fill-opacity=\"1\" /><path clip-path=\"url(#clip480)\" d=\"M2320.75 1517.37 Q2317.14 1517.37 2315.31 1520.93 Q2313.5 1524.47 2313.5 1531.6 Q2313.5 1538.71 2315.31 1542.27 Q2317.14 1545.82 2320.75 1545.82 Q2324.38 1545.82 2326.19 1542.27 Q2328.02 1538.71 2328.02 1531.6 Q2328.02 1524.47 2326.19 1520.93 Q2324.38 1517.37 2320.75 1517.37 M2320.75 1513.66 Q2326.56 1513.66 2329.61 1518.27 Q2332.69 1522.85 2332.69 1531.6 Q2332.69 1540.33 2329.61 1544.94 Q2326.56 1549.52 2320.75 1549.52 Q2314.94 1549.52 2311.86 1544.94 Q2308.8 1540.33 2308.8 1531.6 Q2308.8 1522.85 2311.86 1518.27 Q2314.94 1513.66 2320.75 1513.66 Z\" fill=\"#000000\" fill-rule=\"evenodd\" fill-opacity=\"1\" /><polyline clip-path=\"url(#clip483)\" style=\"stroke:#000000; stroke-linecap:round; stroke-linejoin:round; stroke-width:2; stroke-opacity:0.1; fill:none\" points=\"192.941,1390.1 2352.76,1390.1 \"/>\n",
       "<polyline clip-path=\"url(#clip483)\" style=\"stroke:#000000; stroke-linecap:round; stroke-linejoin:round; stroke-width:2; stroke-opacity:0.1; fill:none\" points=\"192.941,1105.28 2352.76,1105.28 \"/>\n",
       "<polyline clip-path=\"url(#clip483)\" style=\"stroke:#000000; stroke-linecap:round; stroke-linejoin:round; stroke-width:2; stroke-opacity:0.1; fill:none\" points=\"192.941,820.454 2352.76,820.454 \"/>\n",
       "<polyline clip-path=\"url(#clip483)\" style=\"stroke:#000000; stroke-linecap:round; stroke-linejoin:round; stroke-width:2; stroke-opacity:0.1; fill:none\" points=\"192.941,535.633 2352.76,535.633 \"/>\n",
       "<polyline clip-path=\"url(#clip483)\" style=\"stroke:#000000; stroke-linecap:round; stroke-linejoin:round; stroke-width:2; stroke-opacity:0.1; fill:none\" points=\"192.941,250.812 2352.76,250.812 \"/>\n",
       "<polyline clip-path=\"url(#clip480)\" style=\"stroke:#000000; stroke-linecap:round; stroke-linejoin:round; stroke-width:4; stroke-opacity:1; fill:none\" points=\"192.941,1486.45 192.941,47.2441 \"/>\n",
       "<polyline clip-path=\"url(#clip480)\" style=\"stroke:#000000; stroke-linecap:round; stroke-linejoin:round; stroke-width:4; stroke-opacity:1; fill:none\" points=\"192.941,1390.1 211.838,1390.1 \"/>\n",
       "<polyline clip-path=\"url(#clip480)\" style=\"stroke:#000000; stroke-linecap:round; stroke-linejoin:round; stroke-width:4; stroke-opacity:1; fill:none\" points=\"192.941,1105.28 211.838,1105.28 \"/>\n",
       "<polyline clip-path=\"url(#clip480)\" style=\"stroke:#000000; stroke-linecap:round; stroke-linejoin:round; stroke-width:4; stroke-opacity:1; fill:none\" points=\"192.941,820.454 211.838,820.454 \"/>\n",
       "<polyline clip-path=\"url(#clip480)\" style=\"stroke:#000000; stroke-linecap:round; stroke-linejoin:round; stroke-width:4; stroke-opacity:1; fill:none\" points=\"192.941,535.633 211.838,535.633 \"/>\n",
       "<polyline clip-path=\"url(#clip480)\" style=\"stroke:#000000; stroke-linecap:round; stroke-linejoin:round; stroke-width:4; stroke-opacity:1; fill:none\" points=\"192.941,250.812 211.838,250.812 \"/>\n",
       "<path clip-path=\"url(#clip480)\" d=\"M50.9921 1390.55 L80.6679 1390.55 L80.6679 1394.48 L50.9921 1394.48 L50.9921 1390.55 Z\" fill=\"#000000\" fill-rule=\"evenodd\" fill-opacity=\"1\" /><path clip-path=\"url(#clip480)\" d=\"M94.7882 1403.44 L111.108 1403.44 L111.108 1407.38 L89.1632 1407.38 L89.1632 1403.44 Q91.8252 1400.69 96.4085 1396.06 Q101.015 1391.4 102.196 1390.06 Q104.441 1387.54 105.321 1385.8 Q106.223 1384.04 106.223 1382.35 Q106.223 1379.6 104.279 1377.86 Q102.358 1376.13 99.2558 1376.13 Q97.0567 1376.13 94.603 1376.89 Q92.1725 1377.65 89.3947 1379.21 L89.3947 1374.48 Q92.2188 1373.35 94.6724 1372.77 Q97.1261 1372.19 99.1632 1372.19 Q104.534 1372.19 107.728 1374.88 Q110.922 1377.56 110.922 1382.05 Q110.922 1384.18 110.112 1386.1 Q109.325 1388 107.219 1390.59 Q106.64 1391.27 103.538 1394.48 Q100.436 1397.68 94.7882 1403.44 Z\" fill=\"#000000\" fill-rule=\"evenodd\" fill-opacity=\"1\" /><path clip-path=\"url(#clip480)\" d=\"M120.922 1401.5 L125.807 1401.5 L125.807 1407.38 L120.922 1407.38 L120.922 1401.5 Z\" fill=\"#000000\" fill-rule=\"evenodd\" fill-opacity=\"1\" /><path clip-path=\"url(#clip480)\" d=\"M136.038 1372.82 L154.394 1372.82 L154.394 1376.75 L140.32 1376.75 L140.32 1385.22 Q141.339 1384.88 142.357 1384.72 Q143.376 1384.53 144.394 1384.53 Q150.181 1384.53 153.561 1387.7 Q156.941 1390.87 156.941 1396.29 Q156.941 1401.87 153.468 1404.97 Q149.996 1408.05 143.677 1408.05 Q141.501 1408.05 139.232 1407.68 Q136.987 1407.31 134.58 1406.57 L134.58 1401.87 Q136.663 1403 138.885 1403.56 Q141.107 1404.11 143.584 1404.11 Q147.589 1404.11 149.927 1402.01 Q152.265 1399.9 152.265 1396.29 Q152.265 1392.68 149.927 1390.57 Q147.589 1388.47 143.584 1388.47 Q141.709 1388.47 139.834 1388.88 Q137.982 1389.3 136.038 1390.18 L136.038 1372.82 Z\" fill=\"#000000\" fill-rule=\"evenodd\" fill-opacity=\"1\" /><path clip-path=\"url(#clip480)\" d=\"M99.765 1091.07 Q96.1539 1091.07 94.3252 1094.64 Q92.5197 1098.18 92.5197 1105.31 Q92.5197 1112.42 94.3252 1115.98 Q96.1539 1119.52 99.765 1119.52 Q103.399 1119.52 105.205 1115.98 Q107.033 1112.42 107.033 1105.31 Q107.033 1098.18 105.205 1094.64 Q103.399 1091.07 99.765 1091.07 M99.765 1087.37 Q105.575 1087.37 108.631 1091.98 Q111.709 1096.56 111.709 1105.31 Q111.709 1114.04 108.631 1118.64 Q105.575 1123.23 99.765 1123.23 Q93.9549 1123.23 90.8762 1118.64 Q87.8206 1114.04 87.8206 1105.31 Q87.8206 1096.56 90.8762 1091.98 Q93.9549 1087.37 99.765 1087.37 Z\" fill=\"#000000\" fill-rule=\"evenodd\" fill-opacity=\"1\" /><path clip-path=\"url(#clip480)\" d=\"M119.927 1116.68 L124.811 1116.68 L124.811 1122.56 L119.927 1122.56 L119.927 1116.68 Z\" fill=\"#000000\" fill-rule=\"evenodd\" fill-opacity=\"1\" /><path clip-path=\"url(#clip480)\" d=\"M144.996 1091.07 Q141.385 1091.07 139.556 1094.64 Q137.751 1098.18 137.751 1105.31 Q137.751 1112.42 139.556 1115.98 Q141.385 1119.52 144.996 1119.52 Q148.63 1119.52 150.436 1115.98 Q152.265 1112.42 152.265 1105.31 Q152.265 1098.18 150.436 1094.64 Q148.63 1091.07 144.996 1091.07 M144.996 1087.37 Q150.806 1087.37 153.862 1091.98 Q156.941 1096.56 156.941 1105.31 Q156.941 1114.04 153.862 1118.64 Q150.806 1123.23 144.996 1123.23 Q139.186 1123.23 136.107 1118.64 Q133.052 1114.04 133.052 1105.31 Q133.052 1096.56 136.107 1091.98 Q139.186 1087.37 144.996 1087.37 Z\" fill=\"#000000\" fill-rule=\"evenodd\" fill-opacity=\"1\" /><path clip-path=\"url(#clip480)\" d=\"M94.7882 833.799 L111.108 833.799 L111.108 837.734 L89.1632 837.734 L89.1632 833.799 Q91.8252 831.045 96.4085 826.415 Q101.015 821.762 102.196 820.42 Q104.441 817.897 105.321 816.16 Q106.223 814.401 106.223 812.711 Q106.223 809.957 104.279 808.221 Q102.358 806.485 99.2558 806.485 Q97.0567 806.485 94.603 807.248 Q92.1725 808.012 89.3947 809.563 L89.3947 804.841 Q92.2188 803.707 94.6724 803.128 Q97.1261 802.549 99.1632 802.549 Q104.534 802.549 107.728 805.235 Q110.922 807.92 110.922 812.41 Q110.922 814.54 110.112 816.461 Q109.325 818.359 107.219 820.952 Q106.64 821.623 103.538 824.841 Q100.436 828.035 94.7882 833.799 Z\" fill=\"#000000\" fill-rule=\"evenodd\" fill-opacity=\"1\" /><path clip-path=\"url(#clip480)\" d=\"M120.922 831.855 L125.807 831.855 L125.807 837.734 L120.922 837.734 L120.922 831.855 Z\" fill=\"#000000\" fill-rule=\"evenodd\" fill-opacity=\"1\" /><path clip-path=\"url(#clip480)\" d=\"M136.038 803.174 L154.394 803.174 L154.394 807.11 L140.32 807.11 L140.32 815.582 Q141.339 815.234 142.357 815.072 Q143.376 814.887 144.394 814.887 Q150.181 814.887 153.561 818.059 Q156.941 821.23 156.941 826.646 Q156.941 832.225 153.468 835.327 Q149.996 838.406 143.677 838.406 Q141.501 838.406 139.232 838.035 Q136.987 837.665 134.58 836.924 L134.58 832.225 Q136.663 833.359 138.885 833.915 Q141.107 834.47 143.584 834.47 Q147.589 834.47 149.927 832.364 Q152.265 830.258 152.265 826.646 Q152.265 823.035 149.927 820.929 Q147.589 818.822 143.584 818.822 Q141.709 818.822 139.834 819.239 Q137.982 819.656 136.038 820.535 L136.038 803.174 Z\" fill=\"#000000\" fill-rule=\"evenodd\" fill-opacity=\"1\" /><path clip-path=\"url(#clip480)\" d=\"M89.8114 518.353 L108.168 518.353 L108.168 522.288 L94.0937 522.288 L94.0937 530.76 Q95.1123 530.413 96.1308 530.251 Q97.1493 530.066 98.1678 530.066 Q103.955 530.066 107.334 533.237 Q110.714 536.409 110.714 541.825 Q110.714 547.404 107.242 550.506 Q103.77 553.584 97.4502 553.584 Q95.2743 553.584 93.0058 553.214 Q90.7604 552.844 88.353 552.103 L88.353 547.404 Q90.4364 548.538 92.6586 549.094 Q94.8808 549.649 97.3576 549.649 Q101.362 549.649 103.7 547.543 Q106.038 545.436 106.038 541.825 Q106.038 538.214 103.7 536.108 Q101.362 534.001 97.3576 534.001 Q95.4826 534.001 93.6076 534.418 Q91.7558 534.834 89.8114 535.714 L89.8114 518.353 Z\" fill=\"#000000\" fill-rule=\"evenodd\" fill-opacity=\"1\" /><path clip-path=\"url(#clip480)\" d=\"M119.927 547.033 L124.811 547.033 L124.811 552.913 L119.927 552.913 L119.927 547.033 Z\" fill=\"#000000\" fill-rule=\"evenodd\" fill-opacity=\"1\" /><path clip-path=\"url(#clip480)\" d=\"M144.996 521.432 Q141.385 521.432 139.556 524.997 Q137.751 528.538 137.751 535.668 Q137.751 542.774 139.556 546.339 Q141.385 549.881 144.996 549.881 Q148.63 549.881 150.436 546.339 Q152.265 542.774 152.265 535.668 Q152.265 528.538 150.436 524.997 Q148.63 521.432 144.996 521.432 M144.996 517.728 Q150.806 517.728 153.862 522.335 Q156.941 526.918 156.941 535.668 Q156.941 544.395 153.862 549.001 Q150.806 553.584 144.996 553.584 Q139.186 553.584 136.107 549.001 Q133.052 544.395 133.052 535.668 Q133.052 526.918 136.107 522.335 Q139.186 517.728 144.996 517.728 Z\" fill=\"#000000\" fill-rule=\"evenodd\" fill-opacity=\"1\" /><path clip-path=\"url(#clip480)\" d=\"M89.5799 233.532 L111.802 233.532 L111.802 235.523 L99.2558 268.092 L94.3715 268.092 L106.177 237.467 L89.5799 237.467 L89.5799 233.532 Z\" fill=\"#000000\" fill-rule=\"evenodd\" fill-opacity=\"1\" /><path clip-path=\"url(#clip480)\" d=\"M120.922 262.212 L125.807 262.212 L125.807 268.092 L120.922 268.092 L120.922 262.212 Z\" fill=\"#000000\" fill-rule=\"evenodd\" fill-opacity=\"1\" /><path clip-path=\"url(#clip480)\" d=\"M136.038 233.532 L154.394 233.532 L154.394 237.467 L140.32 237.467 L140.32 245.939 Q141.339 245.592 142.357 245.43 Q143.376 245.245 144.394 245.245 Q150.181 245.245 153.561 248.416 Q156.941 251.587 156.941 257.004 Q156.941 262.583 153.468 265.684 Q149.996 268.763 143.677 268.763 Q141.501 268.763 139.232 268.393 Q136.987 268.022 134.58 267.282 L134.58 262.583 Q136.663 263.717 138.885 264.272 Q141.107 264.828 143.584 264.828 Q147.589 264.828 149.927 262.721 Q152.265 260.615 152.265 257.004 Q152.265 253.393 149.927 251.286 Q147.589 249.18 143.584 249.18 Q141.709 249.18 139.834 249.597 Q137.982 250.013 136.038 250.893 L136.038 233.532 Z\" fill=\"#000000\" fill-rule=\"evenodd\" fill-opacity=\"1\" /><polyline clip-path=\"url(#clip483)\" style=\"stroke:#009af9; stroke-linecap:round; stroke-linejoin:round; stroke-width:4; stroke-opacity:1; fill:none\" points=\"254.067,784.062 274.649,1027.38 295.23,1088.26 315.812,351.467 336.393,1099.36 356.975,1089.76 377.556,1091.41 398.137,1056.47 418.719,1053.42 439.3,1105.1 459.882,1086.19 480.463,816.557 501.045,1019.19 521.626,1042.48 542.208,87.9763 562.789,1103.58 583.37,1101.25 603.952,1103.8 624.533,1095.32 645.115,1099.87 665.696,756.136 686.278,1031.54 706.859,966.883 727.44,1102.22 748.022,970.821 768.603,528.715 789.185,989.297 809.766,1091.67 830.348,1077.78 850.929,1036.55 871.51,1066.04 892.092,1099.81 912.673,1104.96 933.255,762.922 953.836,717.84 974.418,1105.23 994.999,999.351 1015.58,1047.84 1036.16,1105.24 1056.74,875.003 1077.32,918.296 1097.91,1084.63 1118.49,1054.28 1139.07,1069.55 1159.65,1105.12 1180.23,1050.45 1200.81,1092.36 1221.39,1081.74 1241.98,1039.77 1262.56,1094 1283.14,1099.78 1303.72,940.754 1324.3,996.418 1344.88,1104.79 1365.46,1086.92 1386.05,1039 1406.63,971.146 1427.21,1045.49 1447.79,1105.26 1468.37,968.397 1488.95,1074.63 1509.53,1077.08 1530.12,1029.46 1550.7,852.613 1571.28,1094.29 1591.86,1092.05 1612.44,1103.91 1633.02,1102.33 1653.6,1104.1 1674.19,1086.69 1694.77,1065.19 1715.35,1096.61 1735.93,1103.72 1756.51,1024.11 1777.09,1086.48 1797.67,1016.77 1818.26,381.995 1838.84,1100.47 1859.42,1104.64 1880,1099.54 1900.58,1101.18 1921.16,1051.78 1941.74,1067.55 1962.33,1095.75 1982.91,1102.91 2003.49,1057.26 2024.07,1087.22 2044.65,690.462 2065.23,905.129 2085.81,773.227 2106.4,1066.38 2126.98,1048.98 2147.56,1104.16 2168.14,997.103 2188.72,1104.59 2209.3,532.616 2229.88,1018.45 2250.47,915.769 2271.05,897.461 2291.63,1097.22 \"/>\n",
       "<polyline clip-path=\"url(#clip483)\" style=\"stroke:#e26f46; stroke-linecap:round; stroke-linejoin:round; stroke-width:4; stroke-opacity:1; fill:none\" points=\"254.067,1296.58 274.649,1199.48 295.23,1149.3 315.812,812.222 336.393,1131.23 356.975,1063.23 377.556,1145.01 398.137,1030.7 418.719,1028.41 439.3,1100.86 459.882,1058.65 480.463,923.91 501.045,1204.31 521.626,1020.69 542.208,1445.72 562.789,1119.17 583.37,1083.86 603.952,1118.23 624.533,1071.59 645.115,1080.46 665.696,905.834 686.278,1013.62 706.859,979.71 727.44,1086.61 748.022,1229.04 768.603,848.981 789.185,990.327 809.766,1144.65 830.348,1161.25 850.929,1193.76 871.51,1172.13 892.092,1130.23 912.673,1111.31 933.255,907.782 953.836,895.181 974.418,1102.94 994.999,995.422 1015.58,1186.17 1036.16,1103.22 1056.74,943.304 1077.32,1251.23 1097.91,1153.78 1118.49,1029.05 1139.07,1169.07 1159.65,1101.01 1180.23,1184.31 1200.81,1066.91 1221.39,1053.5 1241.98,1191.67 1262.56,1141.12 1283.14,1130.29 1303.72,968.368 1324.3,993.911 1344.88,1097.83 1365.46,1151.01 1386.05,1192.17 1406.63,1228.89 1427.21,1022.75 1447.79,1106.44 1468.37,1230.15 1488.95,1164.37 1509.53,1048.6 1530.12,1012.34 1550.7,1274.94 1571.28,1140.65 1591.86,1066.46 1612.44,1117.74 1633.02,1123.58 1653.6,1116.87 1674.19,1151.29 1694.77,1172.86 1715.35,1136.7 1735.93,1118.58 1756.51,1201.44 1777.09,1151.55 1797.67,1004.86 1818.26,1392.33 1838.84,1128.68 1859.42,1113.8 1880,1079.71 1900.58,1083.67 1921.16,1183.35 1941.74,1039.72 1962.33,1138.21 1982.91,1121.71 2003.49,1179.24 2024.07,1150.64 2044.65,1322.67 2065.23,1256.28 2085.81,1299.77 2106.4,1171.84 2126.98,1025.19 2147.56,1116.57 2168.14,994.262 2188.72,1114.1 2209.3,1360.7 2229.88,1204.73 2250.47,958.34 2271.05,951.406 2291.63,1135.57 \"/>\n",
       "<path clip-path=\"url(#clip480)\" d=\"M2017.61 250.738 L2280.76 250.738 L2280.76 95.2176 L2017.61 95.2176  Z\" fill=\"#ffffff\" fill-rule=\"evenodd\" fill-opacity=\"1\"/>\n",
       "<polyline clip-path=\"url(#clip480)\" style=\"stroke:#000000; stroke-linecap:round; stroke-linejoin:round; stroke-width:4; stroke-opacity:1; fill:none\" points=\"2017.61,250.738 2280.76,250.738 2280.76,95.2176 2017.61,95.2176 2017.61,250.738 \"/>\n",
       "<polyline clip-path=\"url(#clip480)\" style=\"stroke:#009af9; stroke-linecap:round; stroke-linejoin:round; stroke-width:4; stroke-opacity:1; fill:none\" points=\"2041.6,147.058 2185.59,147.058 \"/>\n",
       "<path clip-path=\"url(#clip480)\" d=\"M2233.48 147.001 Q2233.48 148.312 2232.66 149.062 Q2231.84 149.788 2230.9 149.788 Q2230.01 149.788 2229.55 149.273 Q2229.08 148.757 2229.08 148.102 Q2229.08 147.212 2229.73 146.439 Q2230.39 145.666 2231.37 145.502 Q2230.41 144.893 2228.98 144.893 Q2228.05 144.893 2227.23 145.385 Q2226.43 145.877 2225.94 146.509 Q2225.47 147.141 2225.05 148.055 Q2224.65 148.945 2224.49 149.484 Q2224.35 149.999 2224.23 150.561 L2222.59 157.119 Q2221.79 160.234 2221.79 161.335 Q2221.79 162.694 2222.45 163.607 Q2223.1 164.497 2224.42 164.497 Q2224.93 164.497 2225.52 164.357 Q2226.1 164.193 2226.85 163.771 Q2227.63 163.326 2228.3 162.67 Q2229.01 161.991 2229.69 160.843 Q2230.37 159.696 2230.81 158.22 Q2230.95 157.705 2231.42 157.705 Q2232.01 157.705 2232.01 158.173 Q2232.01 158.571 2231.68 159.415 Q2231.37 160.234 2230.69 161.312 Q2230.04 162.366 2229.17 163.326 Q2228.3 164.263 2227.02 164.919 Q2225.73 165.575 2224.32 165.575 Q2222.31 165.575 2220.97 164.497 Q2219.64 163.42 2219.15 161.921 Q2219.03 162.132 2218.87 162.413 Q2218.7 162.694 2218.21 163.326 Q2217.74 163.935 2217.2 164.404 Q2216.66 164.849 2215.82 165.2 Q2215 165.575 2214.11 165.575 Q2212.99 165.575 2211.98 165.247 Q2211 164.919 2210.29 164.169 Q2209.59 163.42 2209.59 162.389 Q2209.59 161.242 2210.36 160.445 Q2211.16 159.625 2212.24 159.625 Q2212.92 159.625 2213.45 160.024 Q2214.02 160.422 2214.02 161.288 Q2214.02 162.249 2213.36 162.975 Q2212.7 163.701 2211.77 163.888 Q2212.73 164.497 2214.16 164.497 Q2215.7 164.497 2216.92 163.139 Q2218.14 161.78 2218.72 159.508 Q2220.18 154.051 2220.74 151.615 Q2221.3 149.156 2221.3 148.102 Q2221.3 147.118 2221.04 146.439 Q2220.79 145.759 2220.34 145.455 Q2219.92 145.127 2219.52 145.01 Q2219.15 144.893 2218.72 144.893 Q2218.02 144.893 2217.23 145.174 Q2216.45 145.455 2215.52 146.111 Q2214.6 146.743 2213.74 148.055 Q2212.87 149.366 2212.28 151.17 Q2212.17 151.709 2211.65 151.709 Q2211.09 151.685 2211.09 151.217 Q2211.09 150.819 2211.39 149.999 Q2211.72 149.156 2212.38 148.102 Q2213.06 147.048 2213.92 146.111 Q2214.81 145.15 2216.1 144.495 Q2217.41 143.839 2218.82 143.839 Q2219.45 143.839 2220.06 143.979 Q2220.69 144.096 2221.44 144.448 Q2222.21 144.799 2222.89 145.572 Q2223.57 146.345 2223.99 147.469 Q2224.28 146.931 2224.65 146.415 Q2225.05 145.9 2225.66 145.268 Q2226.29 144.612 2227.16 144.237 Q2228.05 143.839 2229.03 143.839 Q2229.99 143.839 2230.93 144.096 Q2231.86 144.331 2232.66 145.104 Q2233.48 145.853 2233.48 147.001 Z\" fill=\"#000000\" fill-rule=\"evenodd\" fill-opacity=\"1\" /><path clip-path=\"url(#clip480)\" d=\"M2238.37 150.696 Q2238.37 150.09 2238.42 149.909 Q2238.48 149.729 2238.74 149.45 L2245.19 142.269 Q2248.71 138.301 2248.71 134.842 Q2248.71 132.595 2247.53 130.989 Q2246.37 129.382 2244.22 129.382 Q2242.74 129.382 2241.5 130.284 Q2240.25 131.185 2239.68 132.792 Q2239.78 132.759 2240.12 132.759 Q2240.96 132.759 2241.42 133.284 Q2241.89 133.809 2241.89 134.514 Q2241.89 135.415 2241.3 135.858 Q2240.73 136.284 2240.15 136.284 Q2239.92 136.284 2239.61 136.235 Q2239.32 136.186 2238.84 135.727 Q2238.37 135.251 2238.37 134.415 Q2238.37 132.071 2240.14 130.202 Q2241.92 128.332 2244.65 128.332 Q2247.73 128.332 2249.74 130.169 Q2251.78 131.989 2251.78 134.842 Q2251.78 135.842 2251.47 136.76 Q2251.17 137.662 2250.76 138.367 Q2250.37 139.072 2249.29 140.203 Q2248.2 141.334 2247.33 142.138 Q2246.47 142.941 2244.51 144.646 L2240.96 148.106 L2247.01 148.106 Q2249.96 148.106 2250.19 147.843 Q2250.52 147.368 2250.93 144.859 L2251.78 144.859 L2250.83 150.696 L2238.37 150.696 Z\" fill=\"#000000\" fill-rule=\"evenodd\" fill-opacity=\"1\" /><polyline clip-path=\"url(#clip480)\" style=\"stroke:#e26f46; stroke-linecap:round; stroke-linejoin:round; stroke-width:4; stroke-opacity:1; fill:none\" points=\"2041.6,198.898 2185.59,198.898 \"/>\n",
       "<path clip-path=\"url(#clip480)\" d=\"M2233.48 191.089 Q2233.48 192.4 2232.66 193.15 Q2231.84 193.876 2230.9 193.876 Q2230.01 193.876 2229.55 193.361 Q2229.08 192.846 2229.08 192.19 Q2229.08 191.3 2229.73 190.527 Q2230.39 189.754 2231.37 189.59 Q2230.41 188.981 2228.98 188.981 Q2228.05 188.981 2227.23 189.473 Q2226.43 189.965 2225.94 190.597 Q2225.47 191.229 2225.05 192.143 Q2224.65 193.033 2224.49 193.572 Q2224.35 194.087 2224.23 194.649 L2222.59 201.207 Q2221.79 204.323 2221.79 205.423 Q2221.79 206.782 2222.45 207.695 Q2223.1 208.585 2224.42 208.585 Q2224.93 208.585 2225.52 208.445 Q2226.1 208.281 2226.85 207.859 Q2227.63 207.414 2228.3 206.758 Q2229.01 206.079 2229.69 204.931 Q2230.37 203.784 2230.81 202.308 Q2230.95 201.793 2231.42 201.793 Q2232.01 201.793 2232.01 202.261 Q2232.01 202.66 2231.68 203.503 Q2231.37 204.323 2230.69 205.4 Q2230.04 206.454 2229.17 207.414 Q2228.3 208.351 2227.02 209.007 Q2225.73 209.663 2224.32 209.663 Q2222.31 209.663 2220.97 208.585 Q2219.64 207.508 2219.15 206.009 Q2219.03 206.22 2218.87 206.501 Q2218.7 206.782 2218.21 207.414 Q2217.74 208.023 2217.2 208.492 Q2216.66 208.937 2215.82 209.288 Q2215 209.663 2214.11 209.663 Q2212.99 209.663 2211.98 209.335 Q2211 209.007 2210.29 208.257 Q2209.59 207.508 2209.59 206.477 Q2209.59 205.33 2210.36 204.533 Q2211.16 203.714 2212.24 203.714 Q2212.92 203.714 2213.45 204.112 Q2214.02 204.51 2214.02 205.377 Q2214.02 206.337 2213.36 207.063 Q2212.7 207.789 2211.77 207.976 Q2212.73 208.585 2214.16 208.585 Q2215.7 208.585 2216.92 207.227 Q2218.14 205.868 2218.72 203.596 Q2220.18 198.139 2220.74 195.703 Q2221.3 193.244 2221.3 192.19 Q2221.3 191.206 2221.04 190.527 Q2220.79 189.847 2220.34 189.543 Q2219.92 189.215 2219.52 189.098 Q2219.15 188.981 2218.72 188.981 Q2218.02 188.981 2217.23 189.262 Q2216.45 189.543 2215.52 190.199 Q2214.6 190.831 2213.74 192.143 Q2212.87 193.455 2212.28 195.258 Q2212.17 195.797 2211.65 195.797 Q2211.09 195.773 2211.09 195.305 Q2211.09 194.907 2211.39 194.087 Q2211.72 193.244 2212.38 192.19 Q2213.06 191.136 2213.92 190.199 Q2214.81 189.238 2216.1 188.583 Q2217.41 187.927 2218.82 187.927 Q2219.45 187.927 2220.06 188.067 Q2220.69 188.184 2221.44 188.536 Q2222.21 188.887 2222.89 189.66 Q2223.57 190.433 2223.99 191.557 Q2224.28 191.019 2224.65 190.503 Q2225.05 189.988 2225.66 189.356 Q2226.29 188.7 2227.16 188.325 Q2228.05 187.927 2229.03 187.927 Q2229.99 187.927 2230.93 188.184 Q2231.86 188.419 2232.66 189.192 Q2233.48 189.941 2233.48 191.089 Z\" fill=\"#000000\" fill-rule=\"evenodd\" fill-opacity=\"1\" /></svg>\n"
      ]
     },
     "execution_count": 24,
     "metadata": {},
     "output_type": "execute_result"
    }
   ],
   "source": [
    "n = 100\n",
    "f(x) = x^2\n",
    "x = randn(n)\n",
    "\n",
    "plot(f.(x), label=L\"x^2\")\n",
    "plot!(x, label=L\"x\")"
   ]
  },
  {
   "cell_type": "markdown",
   "id": "3ae3e2a0-44dd-4a5b-ab24-2fc7cd9c2ef5",
   "metadata": {},
   "source": [
    "## 함수, 조금 더 유용하게"
   ]
  },
  {
   "cell_type": "code",
   "execution_count": 25,
   "id": "d8418c07-218e-4d9f-be8c-e07725111e38",
   "metadata": {
    "tags": []
   },
   "outputs": [
    {
     "data": {
      "image/svg+xml": [
       "<?xml version=\"1.0\" encoding=\"utf-8\"?>\n",
       "<svg xmlns=\"http://www.w3.org/2000/svg\" xmlns:xlink=\"http://www.w3.org/1999/xlink\" width=\"600\" height=\"400\" viewBox=\"0 0 2400 1600\">\n",
       "<defs>\n",
       "  <clipPath id=\"clip520\">\n",
       "    <rect x=\"0\" y=\"0\" width=\"2400\" height=\"1600\"/>\n",
       "  </clipPath>\n",
       "</defs>\n",
       "<path clip-path=\"url(#clip520)\" d=\"M0 1600 L2400 1600 L2400 0 L0 0  Z\" fill=\"#ffffff\" fill-rule=\"evenodd\" fill-opacity=\"1\"/>\n",
       "<defs>\n",
       "  <clipPath id=\"clip521\">\n",
       "    <rect x=\"480\" y=\"0\" width=\"1681\" height=\"1600\"/>\n",
       "  </clipPath>\n",
       "</defs>\n",
       "<path clip-path=\"url(#clip520)\" d=\"M169.121 1486.45 L2352.76 1486.45 L2352.76 47.2441 L169.121 47.2441  Z\" fill=\"#ffffff\" fill-rule=\"evenodd\" fill-opacity=\"1\"/>\n",
       "<defs>\n",
       "  <clipPath id=\"clip522\">\n",
       "    <rect x=\"169\" y=\"47\" width=\"2185\" height=\"1440\"/>\n",
       "  </clipPath>\n",
       "</defs>\n",
       "<polyline clip-path=\"url(#clip522)\" style=\"stroke:#000000; stroke-linecap:round; stroke-linejoin:round; stroke-width:2; stroke-opacity:0.1; fill:none\" points=\"349.957,1486.45 349.957,47.2441 \"/>\n",
       "<polyline clip-path=\"url(#clip522)\" style=\"stroke:#000000; stroke-linecap:round; stroke-linejoin:round; stroke-width:2; stroke-opacity:0.1; fill:none\" points=\"957.278,1486.45 957.278,47.2441 \"/>\n",
       "<polyline clip-path=\"url(#clip522)\" style=\"stroke:#000000; stroke-linecap:round; stroke-linejoin:round; stroke-width:2; stroke-opacity:0.1; fill:none\" points=\"1564.6,1486.45 1564.6,47.2441 \"/>\n",
       "<polyline clip-path=\"url(#clip522)\" style=\"stroke:#000000; stroke-linecap:round; stroke-linejoin:round; stroke-width:2; stroke-opacity:0.1; fill:none\" points=\"2171.92,1486.45 2171.92,47.2441 \"/>\n",
       "<polyline clip-path=\"url(#clip520)\" style=\"stroke:#000000; stroke-linecap:round; stroke-linejoin:round; stroke-width:4; stroke-opacity:1; fill:none\" points=\"169.121,1486.45 2352.76,1486.45 \"/>\n",
       "<polyline clip-path=\"url(#clip520)\" style=\"stroke:#000000; stroke-linecap:round; stroke-linejoin:round; stroke-width:4; stroke-opacity:1; fill:none\" points=\"349.957,1486.45 349.957,1467.55 \"/>\n",
       "<polyline clip-path=\"url(#clip520)\" style=\"stroke:#000000; stroke-linecap:round; stroke-linejoin:round; stroke-width:4; stroke-opacity:1; fill:none\" points=\"957.278,1486.45 957.278,1467.55 \"/>\n",
       "<polyline clip-path=\"url(#clip520)\" style=\"stroke:#000000; stroke-linecap:round; stroke-linejoin:round; stroke-width:4; stroke-opacity:1; fill:none\" points=\"1564.6,1486.45 1564.6,1467.55 \"/>\n",
       "<polyline clip-path=\"url(#clip520)\" style=\"stroke:#000000; stroke-linecap:round; stroke-linejoin:round; stroke-width:4; stroke-opacity:1; fill:none\" points=\"2171.92,1486.45 2171.92,1467.55 \"/>\n",
       "<path clip-path=\"url(#clip520)\" d=\"M304.02 1532.02 L333.696 1532.02 L333.696 1535.95 L304.02 1535.95 L304.02 1532.02 Z\" fill=\"#000000\" fill-rule=\"evenodd\" fill-opacity=\"1\" /><path clip-path=\"url(#clip520)\" d=\"M344.598 1544.91 L352.237 1544.91 L352.237 1518.55 L343.927 1520.21 L343.927 1515.95 L352.191 1514.29 L356.867 1514.29 L356.867 1544.91 L364.506 1544.91 L364.506 1548.85 L344.598 1548.85 L344.598 1544.91 Z\" fill=\"#000000\" fill-rule=\"evenodd\" fill-opacity=\"1\" /><path clip-path=\"url(#clip520)\" d=\"M383.95 1517.37 Q380.339 1517.37 378.51 1520.93 Q376.705 1524.47 376.705 1531.6 Q376.705 1538.71 378.51 1542.27 Q380.339 1545.82 383.95 1545.82 Q387.584 1545.82 389.39 1542.27 Q391.219 1538.71 391.219 1531.6 Q391.219 1524.47 389.39 1520.93 Q387.584 1517.37 383.95 1517.37 M383.95 1513.66 Q389.76 1513.66 392.816 1518.27 Q395.894 1522.85 395.894 1531.6 Q395.894 1540.33 392.816 1544.94 Q389.76 1549.52 383.95 1549.52 Q378.14 1549.52 375.061 1544.94 Q372.006 1540.33 372.006 1531.6 Q372.006 1522.85 375.061 1518.27 Q378.14 1513.66 383.95 1513.66 Z\" fill=\"#000000\" fill-rule=\"evenodd\" fill-opacity=\"1\" /><path clip-path=\"url(#clip520)\" d=\"M926.92 1532.02 L956.595 1532.02 L956.595 1535.95 L926.92 1535.95 L926.92 1532.02 Z\" fill=\"#000000\" fill-rule=\"evenodd\" fill-opacity=\"1\" /><path clip-path=\"url(#clip520)\" d=\"M966.734 1514.29 L985.09 1514.29 L985.09 1518.22 L971.016 1518.22 L971.016 1526.7 Q972.035 1526.35 973.054 1526.19 Q974.072 1526 975.091 1526 Q980.878 1526 984.257 1529.17 Q987.637 1532.34 987.637 1537.76 Q987.637 1543.34 984.165 1546.44 Q980.692 1549.52 974.373 1549.52 Q972.197 1549.52 969.929 1549.15 Q967.683 1548.78 965.276 1548.04 L965.276 1543.34 Q967.359 1544.47 969.581 1545.03 Q971.804 1545.58 974.28 1545.58 Q978.285 1545.58 980.623 1543.48 Q982.961 1541.37 982.961 1537.76 Q982.961 1534.15 980.623 1532.04 Q978.285 1529.94 974.28 1529.94 Q972.405 1529.94 970.53 1530.35 Q968.679 1530.77 966.734 1531.65 L966.734 1514.29 Z\" fill=\"#000000\" fill-rule=\"evenodd\" fill-opacity=\"1\" /><path clip-path=\"url(#clip520)\" d=\"M1564.6 1517.37 Q1560.99 1517.37 1559.16 1520.93 Q1557.35 1524.47 1557.35 1531.6 Q1557.35 1538.71 1559.16 1542.27 Q1560.99 1545.82 1564.6 1545.82 Q1568.23 1545.82 1570.04 1542.27 Q1571.87 1538.71 1571.87 1531.6 Q1571.87 1524.47 1570.04 1520.93 Q1568.23 1517.37 1564.6 1517.37 M1564.6 1513.66 Q1570.41 1513.66 1573.46 1518.27 Q1576.54 1522.85 1576.54 1531.6 Q1576.54 1540.33 1573.46 1544.94 Q1570.41 1549.52 1564.6 1549.52 Q1558.79 1549.52 1555.71 1544.94 Q1552.65 1540.33 1552.65 1531.6 Q1552.65 1522.85 1555.71 1518.27 Q1558.79 1513.66 1564.6 1513.66 Z\" fill=\"#000000\" fill-rule=\"evenodd\" fill-opacity=\"1\" /><path clip-path=\"url(#clip520)\" d=\"M2162.2 1514.29 L2180.55 1514.29 L2180.55 1518.22 L2166.48 1518.22 L2166.48 1526.7 Q2167.5 1526.35 2168.52 1526.19 Q2169.54 1526 2170.55 1526 Q2176.34 1526 2179.72 1529.17 Q2183.1 1532.34 2183.1 1537.76 Q2183.1 1543.34 2179.63 1546.44 Q2176.16 1549.52 2169.84 1549.52 Q2167.66 1549.52 2165.39 1549.15 Q2163.15 1548.78 2160.74 1548.04 L2160.74 1543.34 Q2162.82 1544.47 2165.05 1545.03 Q2167.27 1545.58 2169.74 1545.58 Q2173.75 1545.58 2176.09 1543.48 Q2178.42 1541.37 2178.42 1537.76 Q2178.42 1534.15 2176.09 1532.04 Q2173.75 1529.94 2169.74 1529.94 Q2167.87 1529.94 2165.99 1530.35 Q2164.14 1530.77 2162.2 1531.65 L2162.2 1514.29 Z\" fill=\"#000000\" fill-rule=\"evenodd\" fill-opacity=\"1\" /><polyline clip-path=\"url(#clip522)\" style=\"stroke:#000000; stroke-linecap:round; stroke-linejoin:round; stroke-width:2; stroke-opacity:0.1; fill:none\" points=\"169.121,1445.72 2352.76,1445.72 \"/>\n",
       "<polyline clip-path=\"url(#clip522)\" style=\"stroke:#000000; stroke-linecap:round; stroke-linejoin:round; stroke-width:2; stroke-opacity:0.1; fill:none\" points=\"169.121,1099.35 2352.76,1099.35 \"/>\n",
       "<polyline clip-path=\"url(#clip522)\" style=\"stroke:#000000; stroke-linecap:round; stroke-linejoin:round; stroke-width:2; stroke-opacity:0.1; fill:none\" points=\"169.121,752.992 2352.76,752.992 \"/>\n",
       "<polyline clip-path=\"url(#clip522)\" style=\"stroke:#000000; stroke-linecap:round; stroke-linejoin:round; stroke-width:2; stroke-opacity:0.1; fill:none\" points=\"169.121,406.629 2352.76,406.629 \"/>\n",
       "<polyline clip-path=\"url(#clip522)\" style=\"stroke:#000000; stroke-linecap:round; stroke-linejoin:round; stroke-width:2; stroke-opacity:0.1; fill:none\" points=\"169.121,60.2673 2352.76,60.2673 \"/>\n",
       "<polyline clip-path=\"url(#clip520)\" style=\"stroke:#000000; stroke-linecap:round; stroke-linejoin:round; stroke-width:4; stroke-opacity:1; fill:none\" points=\"169.121,1486.45 169.121,47.2441 \"/>\n",
       "<polyline clip-path=\"url(#clip520)\" style=\"stroke:#000000; stroke-linecap:round; stroke-linejoin:round; stroke-width:4; stroke-opacity:1; fill:none\" points=\"169.121,1445.72 188.019,1445.72 \"/>\n",
       "<polyline clip-path=\"url(#clip520)\" style=\"stroke:#000000; stroke-linecap:round; stroke-linejoin:round; stroke-width:4; stroke-opacity:1; fill:none\" points=\"169.121,1099.35 188.019,1099.35 \"/>\n",
       "<polyline clip-path=\"url(#clip520)\" style=\"stroke:#000000; stroke-linecap:round; stroke-linejoin:round; stroke-width:4; stroke-opacity:1; fill:none\" points=\"169.121,752.992 188.019,752.992 \"/>\n",
       "<polyline clip-path=\"url(#clip520)\" style=\"stroke:#000000; stroke-linecap:round; stroke-linejoin:round; stroke-width:4; stroke-opacity:1; fill:none\" points=\"169.121,406.629 188.019,406.629 \"/>\n",
       "<polyline clip-path=\"url(#clip520)\" style=\"stroke:#000000; stroke-linecap:round; stroke-linejoin:round; stroke-width:4; stroke-opacity:1; fill:none\" points=\"169.121,60.2673 188.019,60.2673 \"/>\n",
       "<path clip-path=\"url(#clip520)\" d=\"M121.177 1431.51 Q117.566 1431.51 115.737 1435.08 Q113.932 1438.62 113.932 1445.75 Q113.932 1452.86 115.737 1456.42 Q117.566 1459.96 121.177 1459.96 Q124.811 1459.96 126.617 1456.42 Q128.445 1452.86 128.445 1445.75 Q128.445 1438.62 126.617 1435.08 Q124.811 1431.51 121.177 1431.51 M121.177 1427.81 Q126.987 1427.81 130.043 1432.42 Q133.121 1437 133.121 1445.75 Q133.121 1454.48 130.043 1459.08 Q126.987 1463.67 121.177 1463.67 Q115.367 1463.67 112.288 1459.08 Q109.233 1454.48 109.233 1445.75 Q109.233 1437 112.288 1432.42 Q115.367 1427.81 121.177 1427.81 Z\" fill=\"#000000\" fill-rule=\"evenodd\" fill-opacity=\"1\" /><path clip-path=\"url(#clip520)\" d=\"M86.0382 1112.7 L102.358 1112.7 L102.358 1116.63 L80.4133 1116.63 L80.4133 1112.7 Q83.0753 1109.94 87.6586 1105.31 Q92.2651 1100.66 93.4456 1099.32 Q95.691 1096.8 96.5706 1095.06 Q97.4734 1093.3 97.4734 1091.61 Q97.4734 1088.86 95.5289 1087.12 Q93.6076 1085.38 90.5058 1085.38 Q88.3067 1085.38 85.8531 1086.15 Q83.4225 1086.91 80.6447 1088.46 L80.6447 1083.74 Q83.4688 1082.61 85.9225 1082.03 Q88.3762 1081.45 90.4132 1081.45 Q95.7836 1081.45 98.978 1084.13 Q102.172 1086.82 102.172 1091.31 Q102.172 1093.44 101.362 1095.36 Q100.575 1097.26 98.4687 1099.85 Q97.89 1100.52 94.7882 1103.74 Q91.6864 1106.93 86.0382 1112.7 Z\" fill=\"#000000\" fill-rule=\"evenodd\" fill-opacity=\"1\" /><path clip-path=\"url(#clip520)\" d=\"M112.219 1082.07 L130.575 1082.07 L130.575 1086.01 L116.501 1086.01 L116.501 1094.48 Q117.52 1094.13 118.538 1093.97 Q119.557 1093.79 120.575 1093.79 Q126.362 1093.79 129.742 1096.96 Q133.121 1100.13 133.121 1105.55 Q133.121 1111.12 129.649 1114.23 Q126.177 1117.3 119.857 1117.3 Q117.682 1117.3 115.413 1116.93 Q113.168 1116.56 110.76 1115.82 L110.76 1111.12 Q112.844 1112.26 115.066 1112.81 Q117.288 1113.37 119.765 1113.37 Q123.77 1113.37 126.107 1111.26 Q128.445 1109.16 128.445 1105.55 Q128.445 1101.93 126.107 1099.83 Q123.77 1097.72 119.765 1097.72 Q117.89 1097.72 116.015 1098.14 Q114.163 1098.55 112.219 1099.43 L112.219 1082.07 Z\" fill=\"#000000\" fill-rule=\"evenodd\" fill-opacity=\"1\" /><path clip-path=\"url(#clip520)\" d=\"M81.0614 735.712 L99.4178 735.712 L99.4178 739.647 L85.3438 739.647 L85.3438 748.119 Q86.3623 747.772 87.3808 747.61 Q88.3993 747.424 89.4178 747.424 Q95.2049 747.424 98.5845 750.596 Q101.964 753.767 101.964 759.184 Q101.964 764.762 98.4919 767.864 Q95.0197 770.943 88.7003 770.943 Q86.5243 770.943 84.2558 770.572 Q82.0105 770.202 79.6031 769.461 L79.6031 764.762 Q81.6864 765.897 83.9086 766.452 Q86.1308 767.008 88.6077 767.008 Q92.6123 767.008 94.9502 764.901 Q97.2882 762.795 97.2882 759.184 Q97.2882 755.573 94.9502 753.466 Q92.6123 751.36 88.6077 751.36 Q86.7327 751.36 84.8577 751.776 Q83.0058 752.193 81.0614 753.073 L81.0614 735.712 Z\" fill=\"#000000\" fill-rule=\"evenodd\" fill-opacity=\"1\" /><path clip-path=\"url(#clip520)\" d=\"M121.177 738.79 Q117.566 738.79 115.737 742.355 Q113.932 745.897 113.932 753.026 Q113.932 760.133 115.737 763.697 Q117.566 767.239 121.177 767.239 Q124.811 767.239 126.617 763.697 Q128.445 760.133 128.445 753.026 Q128.445 745.897 126.617 742.355 Q124.811 738.79 121.177 738.79 M121.177 735.087 Q126.987 735.087 130.043 739.693 Q133.121 744.276 133.121 753.026 Q133.121 761.753 130.043 766.359 Q126.987 770.943 121.177 770.943 Q115.367 770.943 112.288 766.359 Q109.233 761.753 109.233 753.026 Q109.233 744.276 112.288 739.693 Q115.367 735.087 121.177 735.087 Z\" fill=\"#000000\" fill-rule=\"evenodd\" fill-opacity=\"1\" /><path clip-path=\"url(#clip520)\" d=\"M80.8299 389.349 L103.052 389.349 L103.052 391.34 L90.5058 423.909 L85.6216 423.909 L97.4271 393.285 L80.8299 393.285 L80.8299 389.349 Z\" fill=\"#000000\" fill-rule=\"evenodd\" fill-opacity=\"1\" /><path clip-path=\"url(#clip520)\" d=\"M112.219 389.349 L130.575 389.349 L130.575 393.285 L116.501 393.285 L116.501 401.757 Q117.52 401.41 118.538 401.247 Q119.557 401.062 120.575 401.062 Q126.362 401.062 129.742 404.234 Q133.121 407.405 133.121 412.822 Q133.121 418.4 129.649 421.502 Q126.177 424.581 119.857 424.581 Q117.682 424.581 115.413 424.21 Q113.168 423.84 110.76 423.099 L110.76 418.4 Q112.844 419.534 115.066 420.09 Q117.288 420.646 119.765 420.646 Q123.77 420.646 126.107 418.539 Q128.445 416.433 128.445 412.822 Q128.445 409.21 126.107 407.104 Q123.77 404.997 119.765 404.997 Q117.89 404.997 116.015 405.414 Q114.163 405.831 112.219 406.71 L112.219 389.349 Z\" fill=\"#000000\" fill-rule=\"evenodd\" fill-opacity=\"1\" /><path clip-path=\"url(#clip520)\" d=\"M51.6634 73.6121 L59.3023 73.6121 L59.3023 47.2465 L50.9921 48.9132 L50.9921 44.654 L59.256 42.9873 L63.9319 42.9873 L63.9319 73.6121 L71.5707 73.6121 L71.5707 77.5473 L51.6634 77.5473 L51.6634 73.6121 Z\" fill=\"#000000\" fill-rule=\"evenodd\" fill-opacity=\"1\" /><path clip-path=\"url(#clip520)\" d=\"M91.0151 46.066 Q87.404 46.066 85.5753 49.6308 Q83.7697 53.1724 83.7697 60.302 Q83.7697 67.4085 85.5753 70.9733 Q87.404 74.5149 91.0151 74.5149 Q94.6493 74.5149 96.4548 70.9733 Q98.2835 67.4085 98.2835 60.302 Q98.2835 53.1724 96.4548 49.6308 Q94.6493 46.066 91.0151 46.066 M91.0151 42.3623 Q96.8252 42.3623 99.8808 46.9688 Q102.959 51.5521 102.959 60.302 Q102.959 69.0288 99.8808 73.6353 Q96.8252 78.2186 91.0151 78.2186 Q85.2049 78.2186 82.1262 73.6353 Q79.0707 69.0288 79.0707 60.302 Q79.0707 51.5521 82.1262 46.9688 Q85.2049 42.3623 91.0151 42.3623 Z\" fill=\"#000000\" fill-rule=\"evenodd\" fill-opacity=\"1\" /><path clip-path=\"url(#clip520)\" d=\"M121.177 46.066 Q117.566 46.066 115.737 49.6308 Q113.932 53.1724 113.932 60.302 Q113.932 67.4085 115.737 70.9733 Q117.566 74.5149 121.177 74.5149 Q124.811 74.5149 126.617 70.9733 Q128.445 67.4085 128.445 60.302 Q128.445 53.1724 126.617 49.6308 Q124.811 46.066 121.177 46.066 M121.177 42.3623 Q126.987 42.3623 130.043 46.9688 Q133.121 51.5521 133.121 60.302 Q133.121 69.0288 130.043 73.6353 Q126.987 78.2186 121.177 78.2186 Q115.367 78.2186 112.288 73.6353 Q109.233 69.0288 109.233 60.302 Q109.233 51.5521 112.288 46.9688 Q115.367 42.3623 121.177 42.3623 Z\" fill=\"#000000\" fill-rule=\"evenodd\" fill-opacity=\"1\" /><path clip-path=\"url(#clip522)\" d=\"M289.225 1431.86 L289.225 1445.72 L349.957 1445.72 L349.957 1431.86 L289.225 1431.86 L289.225 1431.86  Z\" fill=\"#009af9\" fill-rule=\"evenodd\" fill-opacity=\"1\"/>\n",
       "<polyline clip-path=\"url(#clip522)\" style=\"stroke:#000000; stroke-linecap:round; stroke-linejoin:round; stroke-width:4; stroke-opacity:1; fill:none\" points=\"289.225,1431.86 289.225,1445.72 349.957,1445.72 349.957,1431.86 289.225,1431.86 \"/>\n",
       "<path clip-path=\"url(#clip522)\" d=\"M349.957 1445.72 L349.957 1445.72 L410.689 1445.72 L410.689 1445.72 L349.957 1445.72 L349.957 1445.72  Z\" fill=\"#009af9\" fill-rule=\"evenodd\" fill-opacity=\"1\"/>\n",
       "<polyline clip-path=\"url(#clip522)\" style=\"stroke:#000000; stroke-linecap:round; stroke-linejoin:round; stroke-width:4; stroke-opacity:1; fill:none\" points=\"349.957,1445.72 349.957,1445.72 410.689,1445.72 349.957,1445.72 \"/>\n",
       "<path clip-path=\"url(#clip522)\" d=\"M410.689 1445.72 L410.689 1445.72 L471.421 1445.72 L471.421 1445.72 L410.689 1445.72 L410.689 1445.72  Z\" fill=\"#009af9\" fill-rule=\"evenodd\" fill-opacity=\"1\"/>\n",
       "<polyline clip-path=\"url(#clip522)\" style=\"stroke:#000000; stroke-linecap:round; stroke-linejoin:round; stroke-width:4; stroke-opacity:1; fill:none\" points=\"410.689,1445.72 410.689,1445.72 471.421,1445.72 410.689,1445.72 \"/>\n",
       "<path clip-path=\"url(#clip522)\" d=\"M471.421 1445.72 L471.421 1445.72 L532.153 1445.72 L532.153 1445.72 L471.421 1445.72 L471.421 1445.72  Z\" fill=\"#009af9\" fill-rule=\"evenodd\" fill-opacity=\"1\"/>\n",
       "<polyline clip-path=\"url(#clip522)\" style=\"stroke:#000000; stroke-linecap:round; stroke-linejoin:round; stroke-width:4; stroke-opacity:1; fill:none\" points=\"471.421,1445.72 471.421,1445.72 532.153,1445.72 471.421,1445.72 \"/>\n",
       "<path clip-path=\"url(#clip522)\" d=\"M532.153 1445.72 L532.153 1445.72 L592.886 1445.72 L592.886 1445.72 L532.153 1445.72 L532.153 1445.72  Z\" fill=\"#009af9\" fill-rule=\"evenodd\" fill-opacity=\"1\"/>\n",
       "<polyline clip-path=\"url(#clip522)\" style=\"stroke:#000000; stroke-linecap:round; stroke-linejoin:round; stroke-width:4; stroke-opacity:1; fill:none\" points=\"532.153,1445.72 532.153,1445.72 592.886,1445.72 532.153,1445.72 \"/>\n",
       "<path clip-path=\"url(#clip522)\" d=\"M592.886 1445.72 L592.886 1445.72 L653.618 1445.72 L653.618 1445.72 L592.886 1445.72 L592.886 1445.72  Z\" fill=\"#009af9\" fill-rule=\"evenodd\" fill-opacity=\"1\"/>\n",
       "<polyline clip-path=\"url(#clip522)\" style=\"stroke:#000000; stroke-linecap:round; stroke-linejoin:round; stroke-width:4; stroke-opacity:1; fill:none\" points=\"592.886,1445.72 592.886,1445.72 653.618,1445.72 592.886,1445.72 \"/>\n",
       "<path clip-path=\"url(#clip522)\" d=\"M653.618 1445.72 L653.618 1445.72 L714.35 1445.72 L714.35 1445.72 L653.618 1445.72 L653.618 1445.72  Z\" fill=\"#009af9\" fill-rule=\"evenodd\" fill-opacity=\"1\"/>\n",
       "<polyline clip-path=\"url(#clip522)\" style=\"stroke:#000000; stroke-linecap:round; stroke-linejoin:round; stroke-width:4; stroke-opacity:1; fill:none\" points=\"653.618,1445.72 653.618,1445.72 714.35,1445.72 653.618,1445.72 \"/>\n",
       "<path clip-path=\"url(#clip522)\" d=\"M714.35 1445.72 L714.35 1445.72 L775.082 1445.72 L775.082 1445.72 L714.35 1445.72 L714.35 1445.72  Z\" fill=\"#009af9\" fill-rule=\"evenodd\" fill-opacity=\"1\"/>\n",
       "<polyline clip-path=\"url(#clip522)\" style=\"stroke:#000000; stroke-linecap:round; stroke-linejoin:round; stroke-width:4; stroke-opacity:1; fill:none\" points=\"714.35,1445.72 714.35,1445.72 775.082,1445.72 714.35,1445.72 \"/>\n",
       "<path clip-path=\"url(#clip522)\" d=\"M775.082 1431.86 L775.082 1445.72 L835.814 1445.72 L835.814 1431.86 L775.082 1431.86 L775.082 1431.86  Z\" fill=\"#009af9\" fill-rule=\"evenodd\" fill-opacity=\"1\"/>\n",
       "<polyline clip-path=\"url(#clip522)\" style=\"stroke:#000000; stroke-linecap:round; stroke-linejoin:round; stroke-width:4; stroke-opacity:1; fill:none\" points=\"775.082,1431.86 775.082,1445.72 835.814,1445.72 835.814,1431.86 775.082,1431.86 \"/>\n",
       "<path clip-path=\"url(#clip522)\" d=\"M835.814 1431.86 L835.814 1445.72 L896.546 1445.72 L896.546 1431.86 L835.814 1431.86 L835.814 1431.86  Z\" fill=\"#009af9\" fill-rule=\"evenodd\" fill-opacity=\"1\"/>\n",
       "<polyline clip-path=\"url(#clip522)\" style=\"stroke:#000000; stroke-linecap:round; stroke-linejoin:round; stroke-width:4; stroke-opacity:1; fill:none\" points=\"835.814,1431.86 835.814,1445.72 896.546,1445.72 896.546,1431.86 835.814,1431.86 \"/>\n",
       "<path clip-path=\"url(#clip522)\" d=\"M896.546 1445.72 L896.546 1445.72 L957.278 1445.72 L957.278 1445.72 L896.546 1445.72 L896.546 1445.72  Z\" fill=\"#009af9\" fill-rule=\"evenodd\" fill-opacity=\"1\"/>\n",
       "<polyline clip-path=\"url(#clip522)\" style=\"stroke:#000000; stroke-linecap:round; stroke-linejoin:round; stroke-width:4; stroke-opacity:1; fill:none\" points=\"896.546,1445.72 896.546,1445.72 957.278,1445.72 896.546,1445.72 \"/>\n",
       "<path clip-path=\"url(#clip522)\" d=\"M957.278 1431.86 L957.278 1445.72 L1018.01 1445.72 L1018.01 1431.86 L957.278 1431.86 L957.278 1431.86  Z\" fill=\"#009af9\" fill-rule=\"evenodd\" fill-opacity=\"1\"/>\n",
       "<polyline clip-path=\"url(#clip522)\" style=\"stroke:#000000; stroke-linecap:round; stroke-linejoin:round; stroke-width:4; stroke-opacity:1; fill:none\" points=\"957.278,1431.86 957.278,1445.72 1018.01,1445.72 1018.01,1431.86 957.278,1431.86 \"/>\n",
       "<path clip-path=\"url(#clip522)\" d=\"M1018.01 1445.72 L1018.01 1445.72 L1078.74 1445.72 L1078.74 1445.72 L1018.01 1445.72 L1018.01 1445.72  Z\" fill=\"#009af9\" fill-rule=\"evenodd\" fill-opacity=\"1\"/>\n",
       "<polyline clip-path=\"url(#clip522)\" style=\"stroke:#000000; stroke-linecap:round; stroke-linejoin:round; stroke-width:4; stroke-opacity:1; fill:none\" points=\"1018.01,1445.72 1018.01,1445.72 1078.74,1445.72 1018.01,1445.72 \"/>\n",
       "<path clip-path=\"url(#clip522)\" d=\"M1078.74 1418.01 L1078.74 1445.72 L1139.47 1445.72 L1139.47 1418.01 L1078.74 1418.01 L1078.74 1418.01  Z\" fill=\"#009af9\" fill-rule=\"evenodd\" fill-opacity=\"1\"/>\n",
       "<polyline clip-path=\"url(#clip522)\" style=\"stroke:#000000; stroke-linecap:round; stroke-linejoin:round; stroke-width:4; stroke-opacity:1; fill:none\" points=\"1078.74,1418.01 1078.74,1445.72 1139.47,1445.72 1139.47,1418.01 1078.74,1418.01 \"/>\n",
       "<path clip-path=\"url(#clip522)\" d=\"M1139.47 1362.59 L1139.47 1445.72 L1200.21 1445.72 L1200.21 1362.59 L1139.47 1362.59 L1139.47 1362.59  Z\" fill=\"#009af9\" fill-rule=\"evenodd\" fill-opacity=\"1\"/>\n",
       "<polyline clip-path=\"url(#clip522)\" style=\"stroke:#000000; stroke-linecap:round; stroke-linejoin:round; stroke-width:4; stroke-opacity:1; fill:none\" points=\"1139.47,1362.59 1139.47,1445.72 1200.21,1445.72 1200.21,1362.59 1139.47,1362.59 \"/>\n",
       "<path clip-path=\"url(#clip522)\" d=\"M1200.21 1362.59 L1200.21 1445.72 L1260.94 1445.72 L1260.94 1362.59 L1200.21 1362.59 L1200.21 1362.59  Z\" fill=\"#009af9\" fill-rule=\"evenodd\" fill-opacity=\"1\"/>\n",
       "<polyline clip-path=\"url(#clip522)\" style=\"stroke:#000000; stroke-linecap:round; stroke-linejoin:round; stroke-width:4; stroke-opacity:1; fill:none\" points=\"1200.21,1362.59 1200.21,1445.72 1260.94,1445.72 1260.94,1362.59 1200.21,1362.59 \"/>\n",
       "<path clip-path=\"url(#clip522)\" d=\"M1260.94 1321.03 L1260.94 1445.72 L1321.67 1445.72 L1321.67 1321.03 L1260.94 1321.03 L1260.94 1321.03  Z\" fill=\"#009af9\" fill-rule=\"evenodd\" fill-opacity=\"1\"/>\n",
       "<polyline clip-path=\"url(#clip522)\" style=\"stroke:#000000; stroke-linecap:round; stroke-linejoin:round; stroke-width:4; stroke-opacity:1; fill:none\" points=\"1260.94,1321.03 1260.94,1445.72 1321.67,1445.72 1321.67,1321.03 1260.94,1321.03 \"/>\n",
       "<path clip-path=\"url(#clip522)\" d=\"M1321.67 1127.06 L1321.67 1445.72 L1382.4 1445.72 L1382.4 1127.06 L1321.67 1127.06 L1321.67 1127.06  Z\" fill=\"#009af9\" fill-rule=\"evenodd\" fill-opacity=\"1\"/>\n",
       "<polyline clip-path=\"url(#clip522)\" style=\"stroke:#000000; stroke-linecap:round; stroke-linejoin:round; stroke-width:4; stroke-opacity:1; fill:none\" points=\"1321.67,1127.06 1321.67,1445.72 1382.4,1445.72 1382.4,1127.06 1321.67,1127.06 \"/>\n",
       "<path clip-path=\"url(#clip522)\" d=\"M1382.4 974.663 L1382.4 1445.72 L1443.13 1445.72 L1443.13 974.663 L1382.4 974.663 L1382.4 974.663  Z\" fill=\"#009af9\" fill-rule=\"evenodd\" fill-opacity=\"1\"/>\n",
       "<polyline clip-path=\"url(#clip522)\" style=\"stroke:#000000; stroke-linecap:round; stroke-linejoin:round; stroke-width:4; stroke-opacity:1; fill:none\" points=\"1382.4,974.663 1382.4,1445.72 1443.13,1445.72 1443.13,974.663 1382.4,974.663 \"/>\n",
       "<path clip-path=\"url(#clip522)\" d=\"M1443.13 489.756 L1443.13 1445.72 L1503.87 1445.72 L1503.87 489.756 L1443.13 489.756 L1443.13 489.756  Z\" fill=\"#009af9\" fill-rule=\"evenodd\" fill-opacity=\"1\"/>\n",
       "<polyline clip-path=\"url(#clip522)\" style=\"stroke:#000000; stroke-linecap:round; stroke-linejoin:round; stroke-width:4; stroke-opacity:1; fill:none\" points=\"1443.13,489.756 1443.13,1445.72 1503.87,1445.72 1503.87,489.756 1443.13,489.756 \"/>\n",
       "<path clip-path=\"url(#clip522)\" d=\"M1503.87 87.9763 L1503.87 1445.72 L1564.6 1445.72 L1564.6 87.9763 L1503.87 87.9763 L1503.87 87.9763  Z\" fill=\"#009af9\" fill-rule=\"evenodd\" fill-opacity=\"1\"/>\n",
       "<polyline clip-path=\"url(#clip522)\" style=\"stroke:#000000; stroke-linecap:round; stroke-linejoin:round; stroke-width:4; stroke-opacity:1; fill:none\" points=\"1503.87,87.9763 1503.87,1445.72 1564.6,1445.72 1564.6,87.9763 1503.87,87.9763 \"/>\n",
       "<path clip-path=\"url(#clip522)\" d=\"M1564.6 87.9763 L1564.6 1445.72 L1625.33 1445.72 L1625.33 87.9763 L1564.6 87.9763 L1564.6 87.9763  Z\" fill=\"#009af9\" fill-rule=\"evenodd\" fill-opacity=\"1\"/>\n",
       "<polyline clip-path=\"url(#clip522)\" style=\"stroke:#000000; stroke-linecap:round; stroke-linejoin:round; stroke-width:4; stroke-opacity:1; fill:none\" points=\"1564.6,87.9763 1564.6,1445.72 1625.33,1445.72 1625.33,87.9763 1564.6,87.9763 \"/>\n",
       "<path clip-path=\"url(#clip522)\" d=\"M1625.33 462.047 L1625.33 1445.72 L1686.06 1445.72 L1686.06 462.047 L1625.33 462.047 L1625.33 462.047  Z\" fill=\"#009af9\" fill-rule=\"evenodd\" fill-opacity=\"1\"/>\n",
       "<polyline clip-path=\"url(#clip522)\" style=\"stroke:#000000; stroke-linecap:round; stroke-linejoin:round; stroke-width:4; stroke-opacity:1; fill:none\" points=\"1625.33,462.047 1625.33,1445.72 1686.06,1445.72 1686.06,462.047 1625.33,462.047 \"/>\n",
       "<path clip-path=\"url(#clip522)\" d=\"M1686.06 877.682 L1686.06 1445.72 L1746.8 1445.72 L1746.8 877.682 L1686.06 877.682 L1686.06 877.682  Z\" fill=\"#009af9\" fill-rule=\"evenodd\" fill-opacity=\"1\"/>\n",
       "<polyline clip-path=\"url(#clip522)\" style=\"stroke:#000000; stroke-linecap:round; stroke-linejoin:round; stroke-width:4; stroke-opacity:1; fill:none\" points=\"1686.06,877.682 1686.06,1445.72 1746.8,1445.72 1746.8,877.682 1686.06,877.682 \"/>\n",
       "<path clip-path=\"url(#clip522)\" d=\"M1746.8 1279.46 L1746.8 1445.72 L1807.53 1445.72 L1807.53 1279.46 L1746.8 1279.46 L1746.8 1279.46  Z\" fill=\"#009af9\" fill-rule=\"evenodd\" fill-opacity=\"1\"/>\n",
       "<polyline clip-path=\"url(#clip522)\" style=\"stroke:#000000; stroke-linecap:round; stroke-linejoin:round; stroke-width:4; stroke-opacity:1; fill:none\" points=\"1746.8,1279.46 1746.8,1445.72 1807.53,1445.72 1807.53,1279.46 1746.8,1279.46 \"/>\n",
       "<path clip-path=\"url(#clip522)\" d=\"M1807.53 1307.17 L1807.53 1445.72 L1868.26 1445.72 L1868.26 1307.17 L1807.53 1307.17 L1807.53 1307.17  Z\" fill=\"#009af9\" fill-rule=\"evenodd\" fill-opacity=\"1\"/>\n",
       "<polyline clip-path=\"url(#clip522)\" style=\"stroke:#000000; stroke-linecap:round; stroke-linejoin:round; stroke-width:4; stroke-opacity:1; fill:none\" points=\"1807.53,1307.17 1807.53,1445.72 1868.26,1445.72 1868.26,1307.17 1807.53,1307.17 \"/>\n",
       "<path clip-path=\"url(#clip522)\" d=\"M1868.26 1362.59 L1868.26 1445.72 L1928.99 1445.72 L1928.99 1362.59 L1868.26 1362.59 L1868.26 1362.59  Z\" fill=\"#009af9\" fill-rule=\"evenodd\" fill-opacity=\"1\"/>\n",
       "<polyline clip-path=\"url(#clip522)\" style=\"stroke:#000000; stroke-linecap:round; stroke-linejoin:round; stroke-width:4; stroke-opacity:1; fill:none\" points=\"1868.26,1362.59 1868.26,1445.72 1928.99,1445.72 1928.99,1362.59 1868.26,1362.59 \"/>\n",
       "<path clip-path=\"url(#clip522)\" d=\"M1928.99 1334.88 L1928.99 1445.72 L1989.72 1445.72 L1989.72 1334.88 L1928.99 1334.88 L1928.99 1334.88  Z\" fill=\"#009af9\" fill-rule=\"evenodd\" fill-opacity=\"1\"/>\n",
       "<polyline clip-path=\"url(#clip522)\" style=\"stroke:#000000; stroke-linecap:round; stroke-linejoin:round; stroke-width:4; stroke-opacity:1; fill:none\" points=\"1928.99,1334.88 1928.99,1445.72 1989.72,1445.72 1989.72,1334.88 1928.99,1334.88 \"/>\n",
       "<path clip-path=\"url(#clip522)\" d=\"M1989.72 1445.72 L1989.72 1445.72 L2050.46 1445.72 L2050.46 1445.72 L1989.72 1445.72 L1989.72 1445.72  Z\" fill=\"#009af9\" fill-rule=\"evenodd\" fill-opacity=\"1\"/>\n",
       "<polyline clip-path=\"url(#clip522)\" style=\"stroke:#000000; stroke-linecap:round; stroke-linejoin:round; stroke-width:4; stroke-opacity:1; fill:none\" points=\"1989.72,1445.72 1989.72,1445.72 2050.46,1445.72 1989.72,1445.72 \"/>\n",
       "<path clip-path=\"url(#clip522)\" d=\"M2050.46 1431.86 L2050.46 1445.72 L2111.19 1445.72 L2111.19 1431.86 L2050.46 1431.86 L2050.46 1431.86  Z\" fill=\"#009af9\" fill-rule=\"evenodd\" fill-opacity=\"1\"/>\n",
       "<polyline clip-path=\"url(#clip522)\" style=\"stroke:#000000; stroke-linecap:round; stroke-linejoin:round; stroke-width:4; stroke-opacity:1; fill:none\" points=\"2050.46,1431.86 2050.46,1445.72 2111.19,1445.72 2111.19,1431.86 2050.46,1431.86 \"/>\n",
       "<path clip-path=\"url(#clip522)\" d=\"M2111.19 1431.86 L2111.19 1445.72 L2171.92 1445.72 L2171.92 1431.86 L2111.19 1431.86 L2111.19 1431.86  Z\" fill=\"#009af9\" fill-rule=\"evenodd\" fill-opacity=\"1\"/>\n",
       "<polyline clip-path=\"url(#clip522)\" style=\"stroke:#000000; stroke-linecap:round; stroke-linejoin:round; stroke-width:4; stroke-opacity:1; fill:none\" points=\"2111.19,1431.86 2111.19,1445.72 2171.92,1445.72 2171.92,1431.86 2111.19,1431.86 \"/>\n",
       "<path clip-path=\"url(#clip522)\" d=\"M2171.92 1431.86 L2171.92 1445.72 L2232.65 1445.72 L2232.65 1431.86 L2171.92 1431.86 L2171.92 1431.86  Z\" fill=\"#009af9\" fill-rule=\"evenodd\" fill-opacity=\"1\"/>\n",
       "<polyline clip-path=\"url(#clip522)\" style=\"stroke:#000000; stroke-linecap:round; stroke-linejoin:round; stroke-width:4; stroke-opacity:1; fill:none\" points=\"2171.92,1431.86 2171.92,1445.72 2232.65,1445.72 2232.65,1431.86 2171.92,1431.86 \"/>\n",
       "<circle clip-path=\"url(#clip522)\" style=\"fill:#009af9; stroke:none; fill-opacity:0\" cx=\"319.591\" cy=\"1431.86\" r=\"2\"/>\n",
       "<circle clip-path=\"url(#clip522)\" style=\"fill:#009af9; stroke:none; fill-opacity:0\" cx=\"380.323\" cy=\"1445.72\" r=\"2\"/>\n",
       "<circle clip-path=\"url(#clip522)\" style=\"fill:#009af9; stroke:none; fill-opacity:0\" cx=\"441.055\" cy=\"1445.72\" r=\"2\"/>\n",
       "<circle clip-path=\"url(#clip522)\" style=\"fill:#009af9; stroke:none; fill-opacity:0\" cx=\"501.787\" cy=\"1445.72\" r=\"2\"/>\n",
       "<circle clip-path=\"url(#clip522)\" style=\"fill:#009af9; stroke:none; fill-opacity:0\" cx=\"562.52\" cy=\"1445.72\" r=\"2\"/>\n",
       "<circle clip-path=\"url(#clip522)\" style=\"fill:#009af9; stroke:none; fill-opacity:0\" cx=\"623.252\" cy=\"1445.72\" r=\"2\"/>\n",
       "<circle clip-path=\"url(#clip522)\" style=\"fill:#009af9; stroke:none; fill-opacity:0\" cx=\"683.984\" cy=\"1445.72\" r=\"2\"/>\n",
       "<circle clip-path=\"url(#clip522)\" style=\"fill:#009af9; stroke:none; fill-opacity:0\" cx=\"744.716\" cy=\"1445.72\" r=\"2\"/>\n",
       "<circle clip-path=\"url(#clip522)\" style=\"fill:#009af9; stroke:none; fill-opacity:0\" cx=\"805.448\" cy=\"1431.86\" r=\"2\"/>\n",
       "<circle clip-path=\"url(#clip522)\" style=\"fill:#009af9; stroke:none; fill-opacity:0\" cx=\"866.18\" cy=\"1431.86\" r=\"2\"/>\n",
       "<circle clip-path=\"url(#clip522)\" style=\"fill:#009af9; stroke:none; fill-opacity:0\" cx=\"926.912\" cy=\"1445.72\" r=\"2\"/>\n",
       "<circle clip-path=\"url(#clip522)\" style=\"fill:#009af9; stroke:none; fill-opacity:0\" cx=\"987.644\" cy=\"1431.86\" r=\"2\"/>\n",
       "<circle clip-path=\"url(#clip522)\" style=\"fill:#009af9; stroke:none; fill-opacity:0\" cx=\"1048.38\" cy=\"1445.72\" r=\"2\"/>\n",
       "<circle clip-path=\"url(#clip522)\" style=\"fill:#009af9; stroke:none; fill-opacity:0\" cx=\"1109.11\" cy=\"1418.01\" r=\"2\"/>\n",
       "<circle clip-path=\"url(#clip522)\" style=\"fill:#009af9; stroke:none; fill-opacity:0\" cx=\"1169.84\" cy=\"1362.59\" r=\"2\"/>\n",
       "<circle clip-path=\"url(#clip522)\" style=\"fill:#009af9; stroke:none; fill-opacity:0\" cx=\"1230.57\" cy=\"1362.59\" r=\"2\"/>\n",
       "<circle clip-path=\"url(#clip522)\" style=\"fill:#009af9; stroke:none; fill-opacity:0\" cx=\"1291.3\" cy=\"1321.03\" r=\"2\"/>\n",
       "<circle clip-path=\"url(#clip522)\" style=\"fill:#009af9; stroke:none; fill-opacity:0\" cx=\"1352.04\" cy=\"1127.06\" r=\"2\"/>\n",
       "<circle clip-path=\"url(#clip522)\" style=\"fill:#009af9; stroke:none; fill-opacity:0\" cx=\"1412.77\" cy=\"974.663\" r=\"2\"/>\n",
       "<circle clip-path=\"url(#clip522)\" style=\"fill:#009af9; stroke:none; fill-opacity:0\" cx=\"1473.5\" cy=\"489.756\" r=\"2\"/>\n",
       "<circle clip-path=\"url(#clip522)\" style=\"fill:#009af9; stroke:none; fill-opacity:0\" cx=\"1534.23\" cy=\"87.9763\" r=\"2\"/>\n",
       "<circle clip-path=\"url(#clip522)\" style=\"fill:#009af9; stroke:none; fill-opacity:0\" cx=\"1594.97\" cy=\"87.9763\" r=\"2\"/>\n",
       "<circle clip-path=\"url(#clip522)\" style=\"fill:#009af9; stroke:none; fill-opacity:0\" cx=\"1655.7\" cy=\"462.047\" r=\"2\"/>\n",
       "<circle clip-path=\"url(#clip522)\" style=\"fill:#009af9; stroke:none; fill-opacity:0\" cx=\"1716.43\" cy=\"877.682\" r=\"2\"/>\n",
       "<circle clip-path=\"url(#clip522)\" style=\"fill:#009af9; stroke:none; fill-opacity:0\" cx=\"1777.16\" cy=\"1279.46\" r=\"2\"/>\n",
       "<circle clip-path=\"url(#clip522)\" style=\"fill:#009af9; stroke:none; fill-opacity:0\" cx=\"1837.89\" cy=\"1307.17\" r=\"2\"/>\n",
       "<circle clip-path=\"url(#clip522)\" style=\"fill:#009af9; stroke:none; fill-opacity:0\" cx=\"1898.63\" cy=\"1362.59\" r=\"2\"/>\n",
       "<circle clip-path=\"url(#clip522)\" style=\"fill:#009af9; stroke:none; fill-opacity:0\" cx=\"1959.36\" cy=\"1334.88\" r=\"2\"/>\n",
       "<circle clip-path=\"url(#clip522)\" style=\"fill:#009af9; stroke:none; fill-opacity:0\" cx=\"2020.09\" cy=\"1445.72\" r=\"2\"/>\n",
       "<circle clip-path=\"url(#clip522)\" style=\"fill:#009af9; stroke:none; fill-opacity:0\" cx=\"2080.82\" cy=\"1431.86\" r=\"2\"/>\n",
       "<circle clip-path=\"url(#clip522)\" style=\"fill:#009af9; stroke:none; fill-opacity:0\" cx=\"2141.55\" cy=\"1431.86\" r=\"2\"/>\n",
       "<circle clip-path=\"url(#clip522)\" style=\"fill:#009af9; stroke:none; fill-opacity:0\" cx=\"2202.29\" cy=\"1431.86\" r=\"2\"/>\n",
       "<path clip-path=\"url(#clip520)\" d=\"M2009.17 198.898 L2279.97 198.898 L2279.97 95.2176 L2009.17 95.2176  Z\" fill=\"#ffffff\" fill-rule=\"evenodd\" fill-opacity=\"1\"/>\n",
       "<polyline clip-path=\"url(#clip520)\" style=\"stroke:#000000; stroke-linecap:round; stroke-linejoin:round; stroke-width:4; stroke-opacity:1; fill:none\" points=\"2009.17,198.898 2279.97,198.898 2279.97,95.2176 2009.17,95.2176 2009.17,198.898 \"/>\n",
       "<path clip-path=\"url(#clip520)\" d=\"M2033.44 167.794 L2179.01 167.794 L2179.01 126.322 L2033.44 126.322 L2033.44 167.794  Z\" fill=\"#009af9\" fill-rule=\"evenodd\" fill-opacity=\"1\"/>\n",
       "<polyline clip-path=\"url(#clip520)\" style=\"stroke:#000000; stroke-linecap:round; stroke-linejoin:round; stroke-width:4; stroke-opacity:1; fill:none\" points=\"2033.44,167.794 2179.01,167.794 2179.01,126.322 2033.44,126.322 2033.44,167.794 \"/>\n",
       "<path clip-path=\"url(#clip520)\" d=\"M2217.12 166.745 Q2215.31 171.375 2213.6 172.787 Q2211.89 174.199 2209.02 174.199 L2205.61 174.199 L2205.61 170.634 L2208.11 170.634 Q2209.87 170.634 2210.84 169.8 Q2211.82 168.967 2213 165.865 L2213.76 163.921 L2203.28 138.412 L2207.79 138.412 L2215.89 158.689 L2223.99 138.412 L2228.51 138.412 L2217.12 166.745 Z\" fill=\"#000000\" fill-rule=\"evenodd\" fill-opacity=\"1\" /><path clip-path=\"url(#clip520)\" d=\"M2235.8 160.402 L2243.44 160.402 L2243.44 134.037 L2235.13 135.703 L2235.13 131.444 L2243.39 129.778 L2248.07 129.778 L2248.07 160.402 L2255.71 160.402 L2255.71 164.338 L2235.8 164.338 L2235.8 160.402 Z\" fill=\"#000000\" fill-rule=\"evenodd\" fill-opacity=\"1\" /></svg>\n"
      ]
     },
     "execution_count": 25,
     "metadata": {},
     "output_type": "execute_result"
    }
   ],
   "source": [
    "using Distributions\n",
    "\n",
    "function plothistogram(distribution, n)\n",
    "    ϵ = rand(distribution, n)\n",
    "    histogram(ϵ)\n",
    "end\n",
    "\n",
    "lp = Laplace()\n",
    "plothistogram(lp, 500)"
   ]
  },
  {
   "cell_type": "code",
   "execution_count": 26,
   "id": "b09dbf66-bca2-4344-815e-3b3b119e0f1e",
   "metadata": {
    "tags": []
   },
   "outputs": [
    {
     "name": "stdout",
     "output_type": "stream",
     "text": [
      "search: \u001b[0m\u001b[1mr\u001b[22m\u001b[0m\u001b[1ma\u001b[22m\u001b[0m\u001b[1mn\u001b[22m\u001b[0m\u001b[1md\u001b[22m \u001b[0m\u001b[1mr\u001b[22m\u001b[0m\u001b[1ma\u001b[22m\u001b[0m\u001b[1mn\u001b[22m\u001b[0m\u001b[1md\u001b[22mn \u001b[0m\u001b[1mR\u001b[22m\u001b[0m\u001b[1ma\u001b[22m\u001b[0m\u001b[1mn\u001b[22mk\u001b[0m\u001b[1mD\u001b[22meficientException low\u001b[0m\u001b[1mr\u001b[22m\u001b[0m\u001b[1ma\u001b[22m\u001b[0m\u001b[1mn\u001b[22mk\u001b[0m\u001b[1md\u001b[22mowndate low\u001b[0m\u001b[1mr\u001b[22m\u001b[0m\u001b[1ma\u001b[22m\u001b[0m\u001b[1mn\u001b[22mk\u001b[0m\u001b[1md\u001b[22mowndate!\n",
      "\n"
     ]
    },
    {
     "data": {
      "text/latex": [
       "\\begin{verbatim}\n",
       "rand([rng=GLOBAL_RNG], [S], [dims...])\n",
       "\\end{verbatim}\n",
       "Pick a random element or array of random elements from the set of values specified by \\texttt{S}; \\texttt{S} can be\n",
       "\n",
       "\\begin{itemize}\n",
       "\\item an indexable collection (for example \\texttt{1:9} or \\texttt{('x', \"y\", :z)}),\n",
       "\n",
       "\n",
       "\\item an \\texttt{AbstractDict} or \\texttt{AbstractSet} object,\n",
       "\n",
       "\n",
       "\\item a string (considered as a collection of characters), or\n",
       "\n",
       "\n",
       "\\item a type: the set of values to pick from is then equivalent to \\texttt{typemin(S):typemax(S)} for integers (this is not applicable to \\href{@ref}{\\texttt{BigInt}}), to $[0, 1)$ for floating point numbers and to $[0, 1)+i[0, 1)$ for complex floating point numbers;\n",
       "\n",
       "\\end{itemize}\n",
       "\\texttt{S} defaults to \\href{@ref}{\\texttt{Float64}}. When only one argument is passed besides the optional \\texttt{rng} and is a \\texttt{Tuple}, it is interpreted as a collection of values (\\texttt{S}) and not as \\texttt{dims}.\n",
       "\n",
       "\\begin{quote}\n",
       "\\textbf{compat}\n",
       "\n",
       "Julia 1.1\n",
       "\n",
       "Support for \\texttt{S} as a tuple requires at least Julia 1.1.\n",
       "\n",
       "\\end{quote}\n",
       "\\section{Examples}\n",
       "\\begin{verbatim}\n",
       "julia> rand(Int, 2)\n",
       "2-element Array{Int64,1}:\n",
       " 1339893410598768192\n",
       " 1575814717733606317\n",
       "\n",
       "julia> using Random\n",
       "\n",
       "julia> rand(MersenneTwister(0), Dict(1=>2, 3=>4))\n",
       "1=>2\n",
       "\n",
       "julia> rand((2, 3))\n",
       "3\n",
       "\n",
       "julia> rand(Float64, (2, 3))\n",
       "2×3 Array{Float64,2}:\n",
       " 0.999717  0.0143835  0.540787\n",
       " 0.696556  0.783855   0.938235\n",
       "\\end{verbatim}\n",
       "\\begin{quote}\n",
       "\\textbf{note}\n",
       "\n",
       "Note\n",
       "\n",
       "The complexity of \\texttt{rand(rng, s::Union\\{AbstractDict,AbstractSet\\})} is linear in the length of \\texttt{s}, unless an optimized method with constant complexity is available, which is the case for \\texttt{Dict}, \\texttt{Set} and dense \\texttt{BitSet}s. For more than a few calls, use \\texttt{rand(rng, collect(s))} instead, or either \\texttt{rand(rng, Dict(s))} or \\texttt{rand(rng, Set(s))} as appropriate.\n",
       "\n",
       "\\end{quote}\n",
       "\\rule{\\textwidth}{1pt}\n",
       "\\begin{verbatim}\n",
       "rand([rng::AbstractRNG,] s::Sampleable)\n",
       "\\end{verbatim}\n",
       "Generate one sample for \\texttt{s}.\n",
       "\n",
       "\\begin{verbatim}\n",
       "rand([rng::AbstractRNG,] s::Sampleable, n::Int)\n",
       "\\end{verbatim}\n",
       "Generate \\texttt{n} samples from \\texttt{s}. The form of the returned object depends on the variate form of \\texttt{s}:\n",
       "\n",
       "\\begin{itemize}\n",
       "\\item When \\texttt{s} is univariate, it returns a vector of length \\texttt{n}.\n",
       "\n",
       "\n",
       "\\item When \\texttt{s} is multivariate, it returns a matrix with \\texttt{n} columns.\n",
       "\n",
       "\n",
       "\\item When \\texttt{s} is matrix-variate, it returns an array, where each element is a sample matrix.\n",
       "\n",
       "rand([rng::AbstractRNG,] s::Sampleable, dim1::Int, dim2::Int...)   rand([rng::AbstractRNG,] s::Sampleable, dims::Dims)\n",
       "\n",
       "\\end{itemize}\n",
       "Generate an array of samples from \\texttt{s} whose shape is determined by the given dimensions.\n",
       "\n",
       "\\rule{\\textwidth}{1pt}\n",
       "\\begin{verbatim}\n",
       "rand(rng::AbstractRNG, d::UnivariateDistribution)\n",
       "\\end{verbatim}\n",
       "Generate a scalar sample from \\texttt{d}. The general fallback is \\texttt{quantile(d, rand())}.\n",
       "\n",
       "\\rule{\\textwidth}{1pt}\n",
       "\\begin{verbatim}\n",
       "rand(rng, d)\n",
       "\\end{verbatim}\n",
       "Extract a sample from the p-Generalized Gaussian distribution 'd'. The sampling procedure is implemented from from [1]. [1]  Gonzalez-Farias, G., Molina, J. A. D., \\& Rodríguez-Dagnino, R. M. (2009). Efficiency of the approximated shape parameter estimator in the generalized Gaussian distribution. IEEE Transactions on Vehicular Technology, 58(8), 4214-4223.\n",
       "\n",
       "\\rule{\\textwidth}{1pt}\n",
       "\\begin{verbatim}\n",
       "rand(::AbstractRNG, ::Distributions.AbstractMvNormal)\n",
       "\\end{verbatim}\n",
       "Sample a random vector from the provided multi-variate normal distribution.\n",
       "\n",
       "\\rule{\\textwidth}{1pt}\n",
       "\\begin{verbatim}\n",
       "rand(::AbstractRNG, ::Sampleable)\n",
       "\\end{verbatim}\n",
       "Samples from the sampler and returns the result.\n",
       "\n",
       "\\rule{\\textwidth}{1pt}\n",
       "\\begin{verbatim}\n",
       "rand(d::Union{UnivariateMixture, MultivariateMixture})\n",
       "\\end{verbatim}\n",
       "Draw a sample from the mixture model \\texttt{d}.\n",
       "\n",
       "\\begin{verbatim}\n",
       "rand(d::Union{UnivariateMixture, MultivariateMixture}, n)\n",
       "\\end{verbatim}\n",
       "Draw \\texttt{n} samples from \\texttt{d}.\n",
       "\n"
      ],
      "text/markdown": [
       "```\n",
       "rand([rng=GLOBAL_RNG], [S], [dims...])\n",
       "```\n",
       "\n",
       "Pick a random element or array of random elements from the set of values specified by `S`; `S` can be\n",
       "\n",
       "  * an indexable collection (for example `1:9` or `('x', \"y\", :z)`),\n",
       "  * an `AbstractDict` or `AbstractSet` object,\n",
       "  * a string (considered as a collection of characters), or\n",
       "  * a type: the set of values to pick from is then equivalent to `typemin(S):typemax(S)` for integers (this is not applicable to [`BigInt`](@ref)), to $[0, 1)$ for floating point numbers and to $[0, 1)+i[0, 1)$ for complex floating point numbers;\n",
       "\n",
       "`S` defaults to [`Float64`](@ref). When only one argument is passed besides the optional `rng` and is a `Tuple`, it is interpreted as a collection of values (`S`) and not as `dims`.\n",
       "\n",
       "!!! compat \"Julia 1.1\"\n",
       "    Support for `S` as a tuple requires at least Julia 1.1.\n",
       "\n",
       "\n",
       "# Examples\n",
       "\n",
       "```julia-repl\n",
       "julia> rand(Int, 2)\n",
       "2-element Array{Int64,1}:\n",
       " 1339893410598768192\n",
       " 1575814717733606317\n",
       "\n",
       "julia> using Random\n",
       "\n",
       "julia> rand(MersenneTwister(0), Dict(1=>2, 3=>4))\n",
       "1=>2\n",
       "\n",
       "julia> rand((2, 3))\n",
       "3\n",
       "\n",
       "julia> rand(Float64, (2, 3))\n",
       "2×3 Array{Float64,2}:\n",
       " 0.999717  0.0143835  0.540787\n",
       " 0.696556  0.783855   0.938235\n",
       "```\n",
       "\n",
       "!!! note\n",
       "    The complexity of `rand(rng, s::Union{AbstractDict,AbstractSet})` is linear in the length of `s`, unless an optimized method with constant complexity is available, which is the case for `Dict`, `Set` and dense `BitSet`s. For more than a few calls, use `rand(rng, collect(s))` instead, or either `rand(rng, Dict(s))` or `rand(rng, Set(s))` as appropriate.\n",
       "\n",
       "\n",
       "---\n",
       "\n",
       "```\n",
       "rand([rng::AbstractRNG,] s::Sampleable)\n",
       "```\n",
       "\n",
       "Generate one sample for `s`.\n",
       "\n",
       "```\n",
       "rand([rng::AbstractRNG,] s::Sampleable, n::Int)\n",
       "```\n",
       "\n",
       "Generate `n` samples from `s`. The form of the returned object depends on the variate form of `s`:\n",
       "\n",
       "  * When `s` is univariate, it returns a vector of length `n`.\n",
       "  * When `s` is multivariate, it returns a matrix with `n` columns.\n",
       "  * When `s` is matrix-variate, it returns an array, where each element is a sample matrix.\n",
       "\n",
       "    rand([rng::AbstractRNG,] s::Sampleable, dim1::Int, dim2::Int...)   rand([rng::AbstractRNG,] s::Sampleable, dims::Dims)\n",
       "\n",
       "Generate an array of samples from `s` whose shape is determined by the given dimensions.\n",
       "\n",
       "---\n",
       "\n",
       "```\n",
       "rand(rng::AbstractRNG, d::UnivariateDistribution)\n",
       "```\n",
       "\n",
       "Generate a scalar sample from `d`. The general fallback is `quantile(d, rand())`.\n",
       "\n",
       "---\n",
       "\n",
       "```\n",
       "rand(rng, d)\n",
       "```\n",
       "\n",
       "Extract a sample from the p-Generalized Gaussian distribution 'd'. The sampling procedure is implemented from from [1]. [1]  Gonzalez-Farias, G., Molina, J. A. D., & Rodríguez-Dagnino, R. M. (2009). Efficiency of the approximated shape parameter estimator in the generalized Gaussian distribution. IEEE Transactions on Vehicular Technology, 58(8), 4214-4223.\n",
       "\n",
       "---\n",
       "\n",
       "```\n",
       "rand(::AbstractRNG, ::Distributions.AbstractMvNormal)\n",
       "```\n",
       "\n",
       "Sample a random vector from the provided multi-variate normal distribution.\n",
       "\n",
       "---\n",
       "\n",
       "```\n",
       "rand(::AbstractRNG, ::Sampleable)\n",
       "```\n",
       "\n",
       "Samples from the sampler and returns the result.\n",
       "\n",
       "---\n",
       "\n",
       "```\n",
       "rand(d::Union{UnivariateMixture, MultivariateMixture})\n",
       "```\n",
       "\n",
       "Draw a sample from the mixture model `d`.\n",
       "\n",
       "```\n",
       "rand(d::Union{UnivariateMixture, MultivariateMixture}, n)\n",
       "```\n",
       "\n",
       "Draw `n` samples from `d`.\n"
      ],
      "text/plain": [
       "\u001b[36m  rand([rng=GLOBAL_RNG], [S], [dims...])\u001b[39m\n",
       "\n",
       "  Pick a random element or array of random elements from the set of values\n",
       "  specified by \u001b[36mS\u001b[39m; \u001b[36mS\u001b[39m can be\n",
       "\n",
       "    •  an indexable collection (for example \u001b[36m1:9\u001b[39m or \u001b[36m('x', \"y\", :z)\u001b[39m),\n",
       "\n",
       "    •  an \u001b[36mAbstractDict\u001b[39m or \u001b[36mAbstractSet\u001b[39m object,\n",
       "\n",
       "    •  a string (considered as a collection of characters), or\n",
       "\n",
       "    •  a type: the set of values to pick from is then equivalent to\n",
       "       \u001b[36mtypemin(S):typemax(S)\u001b[39m for integers (this is not applicable to\n",
       "       \u001b[36mBigInt\u001b[39m), to \u001b[35m[0, 1)\u001b[39m for floating point numbers and to \u001b[35m[0, 1)+i[0,\n",
       "       1)\u001b[39m for complex floating point numbers;\n",
       "\n",
       "  \u001b[36mS\u001b[39m defaults to \u001b[36mFloat64\u001b[39m. When only one argument is passed besides the optional\n",
       "  \u001b[36mrng\u001b[39m and is a \u001b[36mTuple\u001b[39m, it is interpreted as a collection of values (\u001b[36mS\u001b[39m) and not\n",
       "  as \u001b[36mdims\u001b[39m.\n",
       "\n",
       "\u001b[39m\u001b[1m  │ \u001b[22m\u001b[39m\u001b[1mJulia 1.1\u001b[22m\n",
       "\u001b[39m\u001b[1m  │\u001b[22m\n",
       "\u001b[39m\u001b[1m  │\u001b[22m  Support for \u001b[36mS\u001b[39m as a tuple requires at least Julia 1.1.\n",
       "\n",
       "\u001b[1m  Examples\u001b[22m\n",
       "\u001b[1m  ≡≡≡≡≡≡≡≡≡≡\u001b[22m\n",
       "\n",
       "\u001b[36m  julia> rand(Int, 2)\u001b[39m\n",
       "\u001b[36m  2-element Array{Int64,1}:\u001b[39m\n",
       "\u001b[36m   1339893410598768192\u001b[39m\n",
       "\u001b[36m   1575814717733606317\u001b[39m\n",
       "\u001b[36m  \u001b[39m\n",
       "\u001b[36m  julia> using Random\u001b[39m\n",
       "\u001b[36m  \u001b[39m\n",
       "\u001b[36m  julia> rand(MersenneTwister(0), Dict(1=>2, 3=>4))\u001b[39m\n",
       "\u001b[36m  1=>2\u001b[39m\n",
       "\u001b[36m  \u001b[39m\n",
       "\u001b[36m  julia> rand((2, 3))\u001b[39m\n",
       "\u001b[36m  3\u001b[39m\n",
       "\u001b[36m  \u001b[39m\n",
       "\u001b[36m  julia> rand(Float64, (2, 3))\u001b[39m\n",
       "\u001b[36m  2×3 Array{Float64,2}:\u001b[39m\n",
       "\u001b[36m   0.999717  0.0143835  0.540787\u001b[39m\n",
       "\u001b[36m   0.696556  0.783855   0.938235\u001b[39m\n",
       "\n",
       "\u001b[36m\u001b[1m  │ \u001b[22m\u001b[39m\u001b[36m\u001b[1mNote\u001b[22m\u001b[39m\n",
       "\u001b[36m\u001b[1m  │\u001b[22m\u001b[39m\n",
       "\u001b[36m\u001b[1m  │\u001b[22m\u001b[39m  The complexity of \u001b[36mrand(rng, s::Union{AbstractDict,AbstractSet})\u001b[39m is\n",
       "\u001b[36m\u001b[1m  │\u001b[22m\u001b[39m  linear in the length of \u001b[36ms\u001b[39m, unless an optimized method with\n",
       "\u001b[36m\u001b[1m  │\u001b[22m\u001b[39m  constant complexity is available, which is the case for \u001b[36mDict\u001b[39m, \u001b[36mSet\u001b[39m\n",
       "\u001b[36m\u001b[1m  │\u001b[22m\u001b[39m  and dense \u001b[36mBitSet\u001b[39ms. For more than a few calls, use \u001b[36mrand(rng,\n",
       "\u001b[36m\u001b[1m  │\u001b[22m\u001b[39m  collect(s))\u001b[39m instead, or either \u001b[36mrand(rng, Dict(s))\u001b[39m or \u001b[36mrand(rng,\n",
       "\u001b[36m\u001b[1m  │\u001b[22m\u001b[39m  Set(s))\u001b[39m as appropriate.\n",
       "\n",
       "  ────────────────────────────────────────────────────────────────────────────\n",
       "\n",
       "\u001b[36m  rand([rng::AbstractRNG,] s::Sampleable)\u001b[39m\n",
       "\n",
       "  Generate one sample for \u001b[36ms\u001b[39m.\n",
       "\n",
       "\u001b[36m  rand([rng::AbstractRNG,] s::Sampleable, n::Int)\u001b[39m\n",
       "\n",
       "  Generate \u001b[36mn\u001b[39m samples from \u001b[36ms\u001b[39m. The form of the returned object depends on the\n",
       "  variate form of \u001b[36ms\u001b[39m:\n",
       "\n",
       "    •  When \u001b[36ms\u001b[39m is univariate, it returns a vector of length \u001b[36mn\u001b[39m.\n",
       "\n",
       "    •  When \u001b[36ms\u001b[39m is multivariate, it returns a matrix with \u001b[36mn\u001b[39m columns.\n",
       "\n",
       "    •  When \u001b[36ms\u001b[39m is matrix-variate, it returns an array, where each element\n",
       "       is a sample matrix.\n",
       "       rand([rng::AbstractRNG,] s::Sampleable, dim1::Int, dim2::Int...)\n",
       "       rand([rng::AbstractRNG,] s::Sampleable, dims::Dims)\n",
       "\n",
       "  Generate an array of samples from \u001b[36ms\u001b[39m whose shape is determined by the given\n",
       "  dimensions.\n",
       "\n",
       "  ────────────────────────────────────────────────────────────────────────────\n",
       "\n",
       "\u001b[36m  rand(rng::AbstractRNG, d::UnivariateDistribution)\u001b[39m\n",
       "\n",
       "  Generate a scalar sample from \u001b[36md\u001b[39m. The general fallback is \u001b[36mquantile(d,\n",
       "  rand())\u001b[39m.\n",
       "\n",
       "  ────────────────────────────────────────────────────────────────────────────\n",
       "\n",
       "\u001b[36m  rand(rng, d)\u001b[39m\n",
       "\n",
       "  Extract a sample from the p-Generalized Gaussian distribution 'd'. The\n",
       "  sampling procedure is implemented from from [1]. [1] Gonzalez-Farias, G.,\n",
       "  Molina, J. A. D., & Rodríguez-Dagnino, R. M. (2009). Efficiency of the\n",
       "  approximated shape parameter estimator in the generalized Gaussian\n",
       "  distribution. IEEE Transactions on Vehicular Technology, 58(8), 4214-4223.\n",
       "\n",
       "  ────────────────────────────────────────────────────────────────────────────\n",
       "\n",
       "\u001b[36m  rand(::AbstractRNG, ::Distributions.AbstractMvNormal)\u001b[39m\n",
       "\n",
       "  Sample a random vector from the provided multi-variate normal distribution.\n",
       "\n",
       "  ────────────────────────────────────────────────────────────────────────────\n",
       "\n",
       "\u001b[36m  rand(::AbstractRNG, ::Sampleable)\u001b[39m\n",
       "\n",
       "  Samples from the sampler and returns the result.\n",
       "\n",
       "  ────────────────────────────────────────────────────────────────────────────\n",
       "\n",
       "\u001b[36m  rand(d::Union{UnivariateMixture, MultivariateMixture})\u001b[39m\n",
       "\n",
       "  Draw a sample from the mixture model \u001b[36md\u001b[39m.\n",
       "\n",
       "\u001b[36m  rand(d::Union{UnivariateMixture, MultivariateMixture}, n)\u001b[39m\n",
       "\n",
       "  Draw \u001b[36mn\u001b[39m samples from \u001b[36md\u001b[39m."
      ]
     },
     "execution_count": 26,
     "metadata": {},
     "output_type": "execute_result"
    }
   ],
   "source": [
    "?rand"
   ]
  },
  {
   "cell_type": "markdown",
   "id": "6abd54c3-6cae-4c25-a973-33518abe5fc4",
   "metadata": {},
   "source": [
    "## Tutorial 2. Variations on Fixed Points\n",
    "\n",
    "> Take a mapping $f : X \\to X$ for some set $X$. If there exists an $x^* \\in X$ such that $f(x^*) = x^*$, then $x^*$: is called a \"fixed point\" of $f$.\n"
   ]
  },
  {
   "cell_type": "markdown",
   "id": "a6ee4c79-faec-43c6-a9fa-358b4dd2ec15",
   "metadata": {},
   "source": [
    "### Fixed Point Maps"
   ]
  },
  {
   "cell_type": "code",
   "execution_count": 27,
   "id": "1cb4a866-2b0a-476e-b29b-cae8699aafc9",
   "metadata": {
    "tags": []
   },
   "outputs": [
    {
     "name": "stdout",
     "output_type": "stream",
     "text": [
      "Fixed point = 9.999999173706609 |f(x) - x| = 9.181037796679448e-8 in 155 iterations\n"
     ]
    }
   ],
   "source": [
    "# 반복문1\n",
    "p = 1.0\n",
    "β = 0.9\n",
    "maxiter = 1000\n",
    "tolerance = 1.0E-7\n",
    "v_iv = 0.8\n",
    "\n",
    "v_old = v_iv\n",
    "normdiff = Inf\n",
    "iter = 1\n",
    "\n",
    "while normdiff > tolerance && iter <= maxiter\n",
    "    v_new = p + β * v_old\n",
    "    normdiff = norm(v_new - v_old)    \n",
    "    v_old = v_new\n",
    "    iter = iter + 1\n",
    "end\n",
    "\n",
    "println(\"Fixed point = $v_old |f(x) - x| = $normdiff in $iter iterations\")"
   ]
  },
  {
   "cell_type": "code",
   "execution_count": 28,
   "id": "0d5c46f7-706b-4a59-b908-ce577e50bad5",
   "metadata": {
    "tags": []
   },
   "outputs": [
    {
     "name": "stdout",
     "output_type": "stream",
     "text": [
      "Fixed point = 9.999999081896231 |f(x) - x| = 9.181037796679448e-8 in 154 iterations\n"
     ]
    }
   ],
   "source": [
    "# 반복문2\n",
    "p = 1.0\n",
    "β = 0.9\n",
    "maxiter = 1000\n",
    "tolerance = 1.0E-7\n",
    "v_iv = 0.8\n",
    "\n",
    "v_old = v_iv\n",
    "normdiff = Inf\n",
    "iter = 1\n",
    "\n",
    "for i in 1:maxiter\n",
    "    v_new = p + β * v_old\n",
    "    normdiff = norm(v_new - v_old)\n",
    "    if normdiff < tolerance\n",
    "        iter = i\n",
    "        break\n",
    "    end\n",
    "    v_old = v_new\n",
    "end\n",
    "\n",
    "println(\"Fixed point = $v_old |f(x) - x| = $normdiff in $iter iterations\")"
   ]
  },
  {
   "cell_type": "code",
   "execution_count": 29,
   "id": "4759009e-9a57-4e8e-80c3-ce2f334296bf",
   "metadata": {
    "tags": []
   },
   "outputs": [
    {
     "name": "stdout",
     "output_type": "stream",
     "text": [
      "Fixed point = 9.999999173706609 |f(x) - x| = 9.181037796679448e-8 in 155 iterations\n"
     ]
    }
   ],
   "source": [
    "# 함수1\n",
    "function v_fp(β, ρ, v_iv, tolerance, maxiter)\n",
    "    v_old = v_iv\n",
    "    normdiff = Inf\n",
    "    iter = 1\n",
    "    while normdiff > tolerance && iter <= maxiter\n",
    "        v_new = p + β * v_old\n",
    "        normdiff = norm(v_new - v_old)\n",
    "        v_old = v_new\n",
    "        iter = iter + 1\n",
    "    end\n",
    "    return (v_old, normdiff, iter)\n",
    "end\n",
    "\n",
    "p = 1.0\n",
    "β = 0.9\n",
    "maxiter = 1000\n",
    "tolerance = 1.0E-7\n",
    "v_initial = 0.8\n",
    "\n",
    "v_star, normdiff, iter = v_fp(β, p, v_initial, tolerance, maxiter)\n",
    "println(\"Fixed point = $v_star |f(x) - x| = $normdiff in $iter iterations\")"
   ]
  },
  {
   "cell_type": "code",
   "execution_count": 30,
   "id": "d72e3a88-b1b0-4ba5-8dcf-107aaeb258c5",
   "metadata": {
    "tags": []
   },
   "outputs": [
    {
     "name": "stdout",
     "output_type": "stream",
     "text": [
      "Fixed point = 9.999999173706609 |f(x) - x| = 9.181037796679448e-8 in 155 iterations\n"
     ]
    }
   ],
   "source": [
    "# 함수2\n",
    "function fixedpointmap(f, iv, tolerance, maxiter)\n",
    "    x_old = iv\n",
    "    normdiff = Inf\n",
    "    iter = 1\n",
    "    while normdiff > tolerance && iter <= maxiter\n",
    "        x_new = f(x_old)\n",
    "        normdiff = norm(x_new - x_old)\n",
    "        x_old = x_new\n",
    "        iter = iter + 1\n",
    "    end\n",
    "    return (x_old, normdiff, iter)\n",
    "end\n",
    "\n",
    "p = 1.0\n",
    "β = 0.9\n",
    "f(v) = p + β * v\n",
    "\n",
    "maxiter = 1000\n",
    "tolerance = 1.0E-7\n",
    "v_initial = 0.8\n",
    "\n",
    "v_star, normdiff, iter = fixedpointmap(f, v_initial, tolerance, maxiter)\n",
    "println(\"Fixed point = $v_star |f(x) - x| = $normdiff in $iter iterations\")"
   ]
  },
  {
   "cell_type": "code",
   "execution_count": 31,
   "id": "db54d05c-de05-4f88-899f-ad1918c36b1f",
   "metadata": {
    "tags": []
   },
   "outputs": [
    {
     "name": "stdout",
     "output_type": "stream",
     "text": [
      "Fixed point = 9.999999918629035 |f(x) - x| = 9.041219328764782e-9 in 177 iterations\n"
     ]
    }
   ],
   "source": [
    "# 함수3\n",
    "function fixedpointmap(f, iv; tolerance=1E-7, maxiter=1000)\n",
    "    x_old = iv\n",
    "    normdiff = Inf\n",
    "    iter = 1\n",
    "    while normdiff > tolerance && iter <= maxiter\n",
    "        x_new = f(x_old)\n",
    "        normdiff = norm(x_new - x_old)\n",
    "        x_old = x_new\n",
    "        iter = iter + 1\n",
    "    end\n",
    "    return (;value = x_old, normdiff, iter)\n",
    "end\n",
    "\n",
    "p = 1.0\n",
    "β = 0.9\n",
    "f(v) = p + β * v\n",
    "\n",
    "sol = fixedpointmap(f, 0.8; tolerance=1.0E-8)\n",
    "println(\"Fixed point = $(sol.value) |f(x) - x| = $(sol.normdiff) in $(sol.iter) iterations\")"
   ]
  },
  {
   "cell_type": "code",
   "execution_count": 32,
   "id": "8f8105ef-f2dc-4eb3-9694-3a9060e62500",
   "metadata": {
    "tags": []
   },
   "outputs": [
    {
     "name": "stdout",
     "output_type": "stream",
     "text": [
      "Fixed point = 9.999999918629035 |f(x) - x| = 9.041219328764782e-9 in 177 iterations\n"
     ]
    }
   ],
   "source": [
    "(;value, normdiff, iter) = fixedpointmap(f, 0.8; tolerance=1.0E-8)\n",
    "println(\"Fixed point = $value |f(x) - x| = $normdiff in $iter iterations\")"
   ]
  },
  {
   "cell_type": "code",
   "execution_count": 33,
   "id": "9f82915b-e1b0-4e05-804c-6d5520039520",
   "metadata": {
    "tags": []
   },
   "outputs": [
    {
     "name": "stdout",
     "output_type": "stream",
     "text": [
      "Fixed point = 0.4999999999999968 |f(x) - x| = 3.979330237546819e-8 in 7 iterations\n"
     ]
    }
   ],
   "source": [
    "# 기존 함수 활용\n",
    "r = 2.0\n",
    "f(x) = r * x * (1 - x)\n",
    "sol = fixedpointmap(f, 0.8)\n",
    "println(\"Fixed point = $(sol.value) |f(x) - x| = $(sol.normdiff) in $(sol.iter) iterations\")"
   ]
  },
  {
   "cell_type": "markdown",
   "id": "3116cabb-eab0-4340-b493-2279b9bc1885",
   "metadata": {},
   "source": [
    "### 패키지 활용"
   ]
  },
  {
   "cell_type": "code",
   "execution_count": 34,
   "id": "f32657b2-4359-41e6-8c76-8f3b6f149df2",
   "metadata": {
    "tags": []
   },
   "outputs": [
    {
     "name": "stdout",
     "output_type": "stream",
     "text": [
      "Fixed point = [9.999999909587816] |f(x) - x| = 9.041219328764782e-9 in 176 iterations\n"
     ]
    }
   ],
   "source": [
    "using NLsolve #fixedpoint\n",
    "\n",
    "p = 1.0\n",
    "β = 0.9\n",
    "f(v) = p .+ β * v\n",
    "sol = fixedpoint(f, [0.8]; m = 0)\n",
    "normdiff = norm(f(sol.zero) - sol.zero)\n",
    "println(\"Fixed point = $(sol.zero) |f(x) - x| = $normdiff in $(sol.iterations) iterations\")"
   ]
  },
  {
   "cell_type": "code",
   "execution_count": 35,
   "id": "0c3f5be8-a8a5-4489-9529-00c73f3453cb",
   "metadata": {
    "tags": []
   },
   "outputs": [
    {
     "name": "stdout",
     "output_type": "stream",
     "text": [
      "search: \u001b[0m\u001b[1mf\u001b[22m\u001b[0m\u001b[1mi\u001b[22m\u001b[0m\u001b[1mx\u001b[22m\u001b[0m\u001b[1me\u001b[22m\u001b[0m\u001b[1md\u001b[22m\u001b[0m\u001b[1mp\u001b[22m\u001b[0m\u001b[1mo\u001b[22m\u001b[0m\u001b[1mi\u001b[22m\u001b[0m\u001b[1mn\u001b[22m\u001b[0m\u001b[1mt\u001b[22m \u001b[0m\u001b[1mf\u001b[22m\u001b[0m\u001b[1mi\u001b[22m\u001b[0m\u001b[1mx\u001b[22m\u001b[0m\u001b[1me\u001b[22m\u001b[0m\u001b[1md\u001b[22m\u001b[0m\u001b[1mp\u001b[22m\u001b[0m\u001b[1mo\u001b[22m\u001b[0m\u001b[1mi\u001b[22m\u001b[0m\u001b[1mn\u001b[22m\u001b[0m\u001b[1mt\u001b[22mmap\n",
      "\n"
     ]
    },
    {
     "data": {
      "text/latex": [
       "No documentation found.\n",
       "\n",
       "\\texttt{NLsolve.fixedpoint} is a \\texttt{Function}.\n",
       "\n",
       "\\begin{verbatim}\n",
       "# 1 method for generic function \"fixedpoint\":\n",
       "[1] fixedpoint(f, initial_x::AbstractArray{T}; method, xtol, ftol, iterations, store_trace, show_trace, extended_trace, linesearch, factor, autoscale, m, beta, droptol, autodiff, inplace) where T in NLsolve at C:\\Users\\sigma\\.julia\\packages\\NLsolve\\gJL1I\\src\\nlsolve\\fixedpoint.jl:3\n",
       "\\end{verbatim}\n"
      ],
      "text/markdown": [
       "No documentation found.\n",
       "\n",
       "`NLsolve.fixedpoint` is a `Function`.\n",
       "\n",
       "```\n",
       "# 1 method for generic function \"fixedpoint\":\n",
       "[1] fixedpoint(f, initial_x::AbstractArray{T}; method, xtol, ftol, iterations, store_trace, show_trace, extended_trace, linesearch, factor, autoscale, m, beta, droptol, autodiff, inplace) where T in NLsolve at C:\\Users\\sigma\\.julia\\packages\\NLsolve\\gJL1I\\src\\nlsolve\\fixedpoint.jl:3\n",
       "```\n"
      ],
      "text/plain": [
       "  No documentation found.\n",
       "\n",
       "  \u001b[36mNLsolve.fixedpoint\u001b[39m is a \u001b[36mFunction\u001b[39m.\n",
       "\n",
       "\u001b[36m  # 1 method for generic function \"fixedpoint\":\u001b[39m\n",
       "\u001b[36m  [1] fixedpoint(f, initial_x::AbstractArray{T}; method, xtol, ftol, iterations, store_trace, show_trace, extended_trace, linesearch, factor, autoscale, m, beta, droptol, autodiff, inplace) where T in NLsolve at C:\\Users\\sigma\\.julia\\packages\\NLsolve\\gJL1I\\src\\nlsolve\\fixedpoint.jl:3\u001b[39m"
      ]
     },
     "execution_count": 35,
     "metadata": {},
     "output_type": "execute_result"
    }
   ],
   "source": [
    "?fixedpoint"
   ]
  },
  {
   "cell_type": "code",
   "execution_count": 36,
   "id": "bac19fc5-976b-4c8b-9b5c-036ab8bbfd51",
   "metadata": {
    "tags": []
   },
   "outputs": [
    {
     "name": "stdout",
     "output_type": "stream",
     "text": [
      "Fixed point = [9.999999999999972] |f(x) - x| = 3.552713678800501e-15  in 3 iterations converged = true\n"
     ]
    }
   ],
   "source": [
    "p = 1.0\n",
    "β = 0.9\n",
    "iv = [0.8]\n",
    "sol = fixedpoint(v -> p .+ β * v, iv)\n",
    "fnorm = norm(f(sol.zero) - sol.zero)\n",
    "println(\"Fixed point = $(sol.zero) |f(x) - x| = $fnorm  in $(sol.iterations) iterations converged = $(sol.f_converged)\")"
   ]
  },
  {
   "cell_type": "code",
   "execution_count": 37,
   "id": "71faf459-c99c-4996-95ac-5b23d4b612f5",
   "metadata": {
    "tags": []
   },
   "outputs": [
    {
     "data": {
      "text/plain": [
       "2.220446049250313e-16"
      ]
     },
     "execution_count": 37,
     "metadata": {},
     "output_type": "execute_result"
    }
   ],
   "source": [
    "eps()"
   ]
  },
  {
   "cell_type": "code",
   "execution_count": 38,
   "id": "ccc78830-5d21-46d1-8c85-086a6b02cda0",
   "metadata": {
    "tags": []
   },
   "outputs": [
    {
     "name": "stdout",
     "output_type": "stream",
     "text": [
      "Fixed point = BigFloat[10.00000000000000222044604925031357388532909931412848377287867809936811555686155] |f(x) - x| = 0.0 in 3 iterations\n"
     ]
    }
   ],
   "source": [
    "p = 1.0\n",
    "β = 0.9\n",
    "iv = [BigFloat(0.8)] # higher precision\n",
    "\n",
    "sol = fixedpoint(v -> p .+ β * v, iv)\n",
    "normdiff = norm(f(sol.zero) - sol.zero)\n",
    "println(\"Fixed point = $(sol.zero) |f(x) - x| = $normdiff in $(sol.iterations) iterations\")"
   ]
  },
  {
   "cell_type": "markdown",
   "id": "a35abd67-0856-41b6-84a4-6371f492601f",
   "metadata": {},
   "source": [
    "### Multivariate Fixed Point Maps"
   ]
  },
  {
   "cell_type": "code",
   "execution_count": 39,
   "id": "3c793eda-75aa-471e-bcf1-fec84a49fec0",
   "metadata": {
    "tags": []
   },
   "outputs": [
    {
     "name": "stdout",
     "output_type": "stream",
     "text": [
      "Fixed point = [9.999999961080519, 19.999999923853192] |f(x) - x| = 9.501826248250528e-9 in 184 iterations\n"
     ]
    }
   ],
   "source": [
    "p = [1.0, 2.0]\n",
    "β = 0.9\n",
    "iv = [0.8, 2.0]\n",
    "f(v) = p .+ β * v\n",
    "\n",
    "sol = fixedpointmap(f, iv; tolerance = 1.0E-8)\n",
    "println(\"Fixed point = $(sol.value) |f(x) - x| = $(sol.normdiff) in $(sol.iter) iterations\")"
   ]
  },
  {
   "cell_type": "code",
   "execution_count": 40,
   "id": "abcfeee2-c489-4054-84a5-cac0f0c96817",
   "metadata": {
    "tags": []
   },
   "outputs": [
    {
     "name": "stdout",
     "output_type": "stream",
     "text": [
      "Fixed point = [10.0, 20.000000000000004, 0.9999999999999929] |f(x) - x| = 6.661338147750939e-16 in 3 iterations\n"
     ]
    }
   ],
   "source": [
    "using NLsolve\n",
    "\n",
    "p = [1.0, 2.0, 0.1]\n",
    "β = 0.9\n",
    "iv =[0.8, 2.0, 51.0]\n",
    "f(v) = p .+ β * v\n",
    "\n",
    "sol = fixedpoint(v -> p .+ β * v, iv)\n",
    "normdiff = norm(f(sol.zero) - sol.zero)\n",
    "println(\"Fixed point = $(sol.zero) |f(x) - x| = $normdiff in $(sol.iterations) iterations\")"
   ]
  },
  {
   "cell_type": "code",
   "execution_count": 41,
   "id": "9ed93424-a946-4e68-bd38-9b301823a3c4",
   "metadata": {
    "tags": []
   },
   "outputs": [
    {
     "name": "stdout",
     "output_type": "stream",
     "text": [
      "Fixmed point = [10.0, 20.000000000000004, 0.9999999999999929] |f(x) - x| = 6.661338147750939e-16 in 3 iterations\n"
     ]
    }
   ],
   "source": [
    "using NLsolve, StaticArrays\n",
    "\n",
    "p = @SVector [1.0, 2.0, 0.1]\n",
    "β = 0.9\n",
    "iv = [0.8, 2.0, 51.0]\n",
    "f(v) = p .+ β * v\n",
    "\n",
    "sol = fixedpoint(v -> p .+ β * v, iv)\n",
    "normdiff = norm(f(sol.zero) - sol.zero)\n",
    "println(\"Fixmed point = $(sol.zero) |f(x) - x| = $normdiff in $(sol.iterations) iterations\")"
   ]
  },
  {
   "cell_type": "code",
   "execution_count": null,
   "id": "97551e63-8e32-41c1-bb53-5acee84a3eff",
   "metadata": {},
   "outputs": [],
   "source": [
    "  "
   ]
  }
 ],
 "metadata": {
  "kernelspec": {
   "display_name": "Julia 1.8.5",
   "language": "julia",
   "name": "julia-1.8"
  },
  "language_info": {
   "file_extension": ".jl",
   "mimetype": "application/julia",
   "name": "julia",
   "version": "1.8.5"
  }
 },
 "nbformat": 4,
 "nbformat_minor": 5
}
